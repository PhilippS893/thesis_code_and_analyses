{
 "cells": [
  {
   "cell_type": "code",
   "execution_count": 12,
   "id": "718a491d-5d19-4d11-a044-f3c8d20f01f3",
   "metadata": {},
   "outputs": [],
   "source": [
    "import os\n",
    "import glob\n",
    "import pickle as pk\n",
    "import numpy as np\n",
    "import pandas as pd\n",
    "import seaborn as sns\n",
    "from numpy.random import randint\n",
    "\n",
    "from tqdm.notebook import tqdm\n",
    "from nilearn.image import load_img\n",
    "from nilearn.masking import apply_mask, unmask\n",
    "from nibabel import save\n",
    "from delphi import mni_template\n",
    "from delphi.utils.tools import z_transform_volume, z_transform\n",
    "\n",
    "from sklearn.svm import SVC\n",
    "from sklearn.multiclass import OneVsRestClassifier, OneVsOneClassifier\n",
    "from sklearn.model_selection import StratifiedShuffleSplit, StratifiedKFold\n",
    "from sklearn.decomposition import IncrementalPCA\n",
    "\n",
    "import matplotlib.pyplot as plt\n",
    "\n",
    "seed = 2020"
   ]
  },
  {
   "cell_type": "code",
   "execution_count": 2,
   "id": "29a46727-17fe-4397-b31a-3cd21f1872ac",
   "metadata": {},
   "outputs": [],
   "source": [
    "class_labels = [[\"motor-w-rest\", \"footleft\", \"footright\", \"handleft\", \"handright\", \"tongue\", \"rest_MOTOR\"],\n",
    "                [\"motor-wo-rest\", \"footleft\", \"footright\", \"handleft\", \"handright\", \"tongue\"],\n",
    "                [\"wm-w-rest\", \"body\", \"face\", \"place\", \"tool\",\"rest_WM\"],\n",
    "                [\"wm-wo-rest\", \"body\", \"face\", \"place\", \"tool\"],\n",
    "                [\"relation-w-rest\", \"match\", \"relation\", \"rest_RELATIONAL\"],\n",
    "                [\"relation-wo-rest\", \"match\", \"relation\"],\n",
    "                [\"social-w-rest\", \"mental\", \"rnd\", \"rest_SOCIAL\"],\n",
    "                [\"social-wo-rest\", \"mental\", \"rnd\"],\n",
    "                [\"multi-w-rest\", \"footleft\", \"footright\", \"handleft\", \"handright\", \"tongue\", \"rest_MOTOR\",\n",
    "                \"body\", \"face\", \"place\", \"tool\", \"rest_WM\",\n",
    "                \"match\", \"relation\", \"rest_RELATIONAL\",\n",
    "                \"mental\", \"rnd\", \"rest_SOCIAL\"],\n",
    "                [\"multi-wo-rest\", \"footleft\", \"footright\", \"handleft\", \"handright\", \"tongue\",\n",
    "                \"body\", \"face\", \"place\", \"tool\",\n",
    "                \"match\", \"relation\",\n",
    "                \"mental\", \"rnd\"]\n",
    "               ]\n"
   ]
  },
  {
   "cell_type": "code",
   "execution_count": 3,
   "id": "425286ec-574e-4bd6-b1e4-e65e048b4bc3",
   "metadata": {},
   "outputs": [],
   "source": [
    "pca_save_dir = os.path.join('./pca_models')\n",
    "if not os.path.exists(pca_save_dir):\n",
    "    os.mkdir(pca_save_dir)\n",
    "svm_save_dir = os.path.join('./svm_models')\n",
    "if not os.path.exists(svm_save_dir):\n",
    "    os.mkdir(svm_save_dir)\n",
    "svm_maps_dir = os.path.join('./svm_maps')\n",
    "if not os.path.exists(svm_maps_dir):\n",
    "    os.mkdir(svm_maps_dir)"
   ]
  },
  {
   "cell_type": "markdown",
   "id": "fb04ecc1-ca9c-4a61-9c5b-7946e8351bfa",
   "metadata": {},
   "source": [
    "# FUNCTIONS"
   ]
  },
  {
   "cell_type": "code",
   "execution_count": 4,
   "id": "a088d5df-0170-44ad-bd56-5a68eb77d2a8",
   "metadata": {},
   "outputs": [],
   "source": [
    "def load_data(n, data_dir, classes, split, brain_mask=None):\n",
    "    \n",
    "    for i, label in tqdm(enumerate(classes), desc=\"class\"):\n",
    "        file_list = glob.glob(os.path.join(data_dir, split, label, 'sub*.nii.gz'))\n",
    "        file_list = file_list[:n]\n",
    "        if i == 0:\n",
    "            data = apply_mask(load_img(file_list), brain_mask)\n",
    "        else:\n",
    "            data = np.vstack((data, apply_mask(load_img(file_list), brain_mask)))\n",
    "    \n",
    "    return data\n",
    "            \n",
    "def run_pca(data, max_components, batch_size, save_dir=\"./pca_models\", prefix=None, seed=2020):\n",
    "    \"\"\"\n",
    "    IncrementalPCA is helpful for datasets that require large amounts of memory.\n",
    "    max_components: the number of components you want to keep\n",
    "    batch_size: how many samples per batch\n",
    "    \"\"\"\n",
    "    if not os.path.exists(save_dir):\n",
    "        os.makedirs(save_dir)\n",
    "    save_name = os.path.join(save_dir, '%s_seed%d.pkl' % (prefix, seed))\n",
    "\n",
    "    if os.path.exists(save_name):\n",
    "        print('%s already exists. Loading instead' % save_name)\n",
    "        with open(save_name, 'rb') as pickle_file:\n",
    "            pca = pk.load(pickle_file)\n",
    "    else:\n",
    "        pca = IncrementalPCA(n_components=max_components, batch_size=batch_size)\n",
    "        pca.fit(data)\n",
    "        print('Saving %s for later use.' % save_name)\n",
    "        with open(save_name, 'wb') as pickle_file:\n",
    "            pk.dump(pca, pickle_file)\n",
    "            \n",
    "    return pca\n",
    "\n",
    "def run_svm(data, Y, n_classes, approach=\"ovr\", prefix=None, dims=None, save_dir=\"./svm_models\", seed=seed):\n",
    "    \"\"\"\n",
    "    Create and train a classifier.\n",
    "    \"\"\"\n",
    "\n",
    "    if not os.path.exists(save_dir):\n",
    "        os.makedirs(save_dir)\n",
    "        \n",
    "    if dims is None:\n",
    "        dims = data.shape[1]\n",
    "\n",
    "    save_name = os.path.join(save_dir, \"%s_%s_seed%d.pkl\" % (\n",
    "    prefix, approach, seed))\n",
    "\n",
    "    if os.path.exists(save_name):\n",
    "        print('%s already exists. Loading instead' % save_name)\n",
    "        with open(save_name, 'rb') as pickle_file:\n",
    "            clf = pk.load(pickle_file)\n",
    "    else:\n",
    "        # ONE-VS-ONE\n",
    "        if approach == \"ovo\":\n",
    "            clf = OneVsOneClassifier(\n",
    "                SVC(kernel=\"linear\", probability=True, break_ties=True, random_state=seed)).fit(data[:, :dims], Y)\n",
    "\n",
    "        # ONE-VS-REST\n",
    "        elif approach == \"ovr\":\n",
    "            clf = OneVsRestClassifier(\n",
    "                SVC(kernel=\"linear\", probability=True, break_ties=True, random_state=seed)).fit(data[:, :dims], Y)\n",
    "\n",
    "        with open(save_name, 'wb') as pickle_file:\n",
    "            pk.dump(clf, pickle_file)\n",
    "            \n",
    "    return clf\n",
    "\n",
    "def save_maps(clf, data, approach, nsubs, dims, prefix=None, invert_pca=False, save_dir=\"./svm_maps\", seed=seed, brain_mask=mni_template):\n",
    "    \"\"\"\n",
    "    Save the weights of the classifier as .nii.gz files. These files represent the \"most important\" features of the classifier.\n",
    "    Since the voxel values are usually quite small we first z-transform them to easier threshold the values.\n",
    "    \"\"\"\n",
    "\n",
    "    if not os.path.exists(save_dir):\n",
    "        os.makedirs(save_dir)\n",
    "        \n",
    "    save_name = os.path.join(save_dir, \"%s_%s_seed%d.nii.gz\" % (prefix, approach, seed))\n",
    "    if os.path.exists(save_name):\n",
    "        pass\n",
    "    else:\n",
    "        print(\"saving %s\" % save_name)\n",
    "        n_estimators = len(clf.estimators_)\n",
    "        to_save = np.zeros((n_estimators, data.shape[-1]))\n",
    "\n",
    "        if not os.path.exists(save_name):\n",
    "            for i in range(n_estimators):\n",
    "                if not invert_pca:\n",
    "                    to_save[i] = clf.estimators_[i].coef_\n",
    "                else:\n",
    "                    to_save[i] = np.dot(clf.estimators_[i].coef_, pca.components_[:dims])\n",
    "        \n",
    "        mu = to_save.mean(axis=1)\n",
    "        mu = mu[:, np.newaxis]\n",
    "        std = to_save.std(axis=1)\n",
    "        std = std[:, np.newaxis]\n",
    "        with np.errstate(divide='ignore'):\n",
    "            z_transformed = (to_save - mu) / std\n",
    "        img = unmask(z_transformed, brain_mask)\n",
    "        save(img, save_name)\n",
    "\n",
    "def predict(clf, data, Y, dims=None):\n",
    "    \"\"\"\n",
    "    Use the trained classifier to predict the class of the input.\n",
    "    \"\"\"\n",
    "\n",
    "    if dims is None:\n",
    "        dims = data.shape[1]\n",
    "\n",
    "    preds = clf.predict(data[:, :dims])\n",
    "    accs = (np.sum(Y == preds) / len(Y))\n",
    "\n",
    "    return preds, accs"
   ]
  },
  {
   "cell_type": "code",
   "execution_count": 5,
   "id": "620b5ac7-e716-4f03-8258-e766b539d4b6",
   "metadata": {},
   "outputs": [],
   "source": [
    "# let's use different Ns for training and see how the classification performance changes with increasing sample sizes.\n",
    "n_samples = 160 #[1, 10, 25, 50, 75, 120]\n",
    "n_folds = 8\n",
    "accs = np.zeros((n_folds, n_samples, 3))\n",
    "\n",
    "# does smoothing affect classification performance?\n",
    "data_dir = \"../v-maps/\" #[\"../v-maps/\"]# [\"../t-maps\", \"../t-smoothed\"]"
   ]
  },
  {
   "cell_type": "code",
   "execution_count": 6,
   "id": "c40e160b-919b-4384-9cb8-486c14206f2b",
   "metadata": {},
   "outputs": [
    {
     "name": "stdout",
     "output_type": "stream",
     "text": [
      "motor-w-rest ['footleft', 'footright', 'handleft', 'handright', 'tongue', 'rest_MOTOR'] 6\n",
      "motor-wo-rest ['footleft', 'footright', 'handleft', 'handright', 'tongue'] 5\n",
      "wm-w-rest ['body', 'face', 'place', 'tool', 'rest_WM'] 5\n",
      "wm-wo-rest ['body', 'face', 'place', 'tool'] 4\n",
      "relation-w-rest ['match', 'relation', 'rest_RELATIONAL'] 3\n",
      "relation-wo-rest ['match', 'relation'] 2\n",
      "social-w-rest ['mental', 'rnd', 'rest_SOCIAL'] 3\n",
      "social-wo-rest ['mental', 'rnd'] 2\n",
      "multi-w-rest ['footleft', 'footright', 'handleft', 'handright', 'tongue', 'rest_MOTOR', 'body', 'face', 'place', 'tool', 'rest_WM', 'match', 'relation', 'rest_RELATIONAL', 'mental', 'rnd', 'rest_SOCIAL'] 17\n",
      "multi-wo-rest ['footleft', 'footright', 'handleft', 'handright', 'tongue', 'body', 'face', 'place', 'tool', 'match', 'relation', 'mental', 'rnd'] 13\n"
     ]
    }
   ],
   "source": [
    "for c, part in enumerate(class_labels):\n",
    "    name = part[0]\n",
    "    lbls = part[1:]\n",
    "    print(name, lbls, len(lbls))"
   ]
  },
  {
   "cell_type": "code",
   "execution_count": 7,
   "id": "35cea88e-a430-4229-b770-5d2b9090c398",
   "metadata": {
    "tags": []
   },
   "outputs": [
    {
     "name": "stdout",
     "output_type": "stream",
     "text": [
      "motor-w-rest ['footleft', 'footright', 'handleft', 'handright', 'tongue', 'rest_MOTOR']\n"
     ]
    },
    {
     "data": {
      "application/vnd.jupyter.widget-view+json": {
       "model_id": "ef92a79c935c45588a5bb26c37cc8f7a",
       "version_major": 2,
       "version_minor": 0
      },
      "text/plain": [
       "class: 0it [00:00, ?it/s]"
      ]
     },
     "metadata": {},
     "output_type": "display_data"
    },
    {
     "data": {
      "application/vnd.jupyter.widget-view+json": {
       "model_id": "c75e1edf7bdf466ca9b7198121032b08",
       "version_major": 2,
       "version_minor": 0
      },
      "text/plain": [
       "class: 0it [00:00, ?it/s]"
      ]
     },
     "metadata": {},
     "output_type": "display_data"
    },
    {
     "name": "stdout",
     "output_type": "stream",
     "text": [
      "Running PCA on training data...\n",
      "./pca_models\\motor-w-rest_seed2020.pkl already exists. Loading instead\n",
      "Transforming the input data...\n",
      "Running SVM...\n",
      "saving ./svm_maps\\motor-w-rest_ovr_seed2020.nii.gz\n",
      "motor-wo-rest ['footleft', 'footright', 'handleft', 'handright', 'tongue']\n"
     ]
    },
    {
     "data": {
      "application/vnd.jupyter.widget-view+json": {
       "model_id": "379901ecda0b480083e5880ef7a11265",
       "version_major": 2,
       "version_minor": 0
      },
      "text/plain": [
       "class: 0it [00:00, ?it/s]"
      ]
     },
     "metadata": {},
     "output_type": "display_data"
    },
    {
     "data": {
      "application/vnd.jupyter.widget-view+json": {
       "model_id": "fb717b09fe9f4685966e096750c4a71e",
       "version_major": 2,
       "version_minor": 0
      },
      "text/plain": [
       "class: 0it [00:00, ?it/s]"
      ]
     },
     "metadata": {},
     "output_type": "display_data"
    },
    {
     "name": "stdout",
     "output_type": "stream",
     "text": [
      "Running PCA on training data...\n"
     ]
    },
    {
     "name": "stderr",
     "output_type": "stream",
     "text": [
      "C:\\Users\\Philipp\\anaconda3\\envs\\fmrideep\\lib\\site-packages\\sklearn\\decomposition\\_incremental_pca.py:348: RuntimeWarning: Mean of empty slice.\n",
      "  self.noise_variance_ = explained_variance[self.n_components_ :].mean()\n",
      "C:\\Users\\Philipp\\anaconda3\\envs\\fmrideep\\lib\\site-packages\\numpy\\core\\_methods.py:189: RuntimeWarning: invalid value encountered in true_divide\n",
      "  ret = ret.dtype.type(ret / rcount)\n"
     ]
    },
    {
     "name": "stdout",
     "output_type": "stream",
     "text": [
      "Saving ./pca_models\\motor-wo-rest_seed2020.pkl for later use.\n",
      "Transforming the input data...\n",
      "Running SVM...\n",
      "saving ./svm_maps\\motor-wo-rest_ovr_seed2020.nii.gz\n",
      "wm-w-rest ['body', 'face', 'place', 'tool', 'rest_WM']\n"
     ]
    },
    {
     "data": {
      "application/vnd.jupyter.widget-view+json": {
       "model_id": "588b9f3960e44c6ca69e14664da4d93b",
       "version_major": 2,
       "version_minor": 0
      },
      "text/plain": [
       "class: 0it [00:00, ?it/s]"
      ]
     },
     "metadata": {},
     "output_type": "display_data"
    },
    {
     "data": {
      "application/vnd.jupyter.widget-view+json": {
       "model_id": "ffaa10760f174a4aa46f0a0052be366b",
       "version_major": 2,
       "version_minor": 0
      },
      "text/plain": [
       "class: 0it [00:00, ?it/s]"
      ]
     },
     "metadata": {},
     "output_type": "display_data"
    },
    {
     "name": "stdout",
     "output_type": "stream",
     "text": [
      "Running PCA on training data...\n"
     ]
    },
    {
     "name": "stderr",
     "output_type": "stream",
     "text": [
      "C:\\Users\\Philipp\\anaconda3\\envs\\fmrideep\\lib\\site-packages\\sklearn\\decomposition\\_incremental_pca.py:348: RuntimeWarning: Mean of empty slice.\n",
      "  self.noise_variance_ = explained_variance[self.n_components_ :].mean()\n",
      "C:\\Users\\Philipp\\anaconda3\\envs\\fmrideep\\lib\\site-packages\\numpy\\core\\_methods.py:189: RuntimeWarning: invalid value encountered in true_divide\n",
      "  ret = ret.dtype.type(ret / rcount)\n"
     ]
    },
    {
     "name": "stdout",
     "output_type": "stream",
     "text": [
      "Saving ./pca_models\\wm-w-rest_seed2020.pkl for later use.\n",
      "Transforming the input data...\n",
      "Running SVM...\n",
      "saving ./svm_maps\\wm-w-rest_ovr_seed2020.nii.gz\n",
      "wm-wo-rest ['body', 'face', 'place', 'tool']\n"
     ]
    },
    {
     "data": {
      "application/vnd.jupyter.widget-view+json": {
       "model_id": "9865c446bbb641b890d19724471f5877",
       "version_major": 2,
       "version_minor": 0
      },
      "text/plain": [
       "class: 0it [00:00, ?it/s]"
      ]
     },
     "metadata": {},
     "output_type": "display_data"
    },
    {
     "data": {
      "application/vnd.jupyter.widget-view+json": {
       "model_id": "7ec2732001104eb7ba89a1a4f97d37f8",
       "version_major": 2,
       "version_minor": 0
      },
      "text/plain": [
       "class: 0it [00:00, ?it/s]"
      ]
     },
     "metadata": {},
     "output_type": "display_data"
    },
    {
     "name": "stdout",
     "output_type": "stream",
     "text": [
      "Running PCA on training data...\n"
     ]
    },
    {
     "name": "stderr",
     "output_type": "stream",
     "text": [
      "C:\\Users\\Philipp\\anaconda3\\envs\\fmrideep\\lib\\site-packages\\sklearn\\decomposition\\_incremental_pca.py:348: RuntimeWarning: Mean of empty slice.\n",
      "  self.noise_variance_ = explained_variance[self.n_components_ :].mean()\n",
      "C:\\Users\\Philipp\\anaconda3\\envs\\fmrideep\\lib\\site-packages\\numpy\\core\\_methods.py:189: RuntimeWarning: invalid value encountered in true_divide\n",
      "  ret = ret.dtype.type(ret / rcount)\n"
     ]
    },
    {
     "name": "stdout",
     "output_type": "stream",
     "text": [
      "Saving ./pca_models\\wm-wo-rest_seed2020.pkl for later use.\n",
      "Transforming the input data...\n",
      "Running SVM...\n",
      "saving ./svm_maps\\wm-wo-rest_ovr_seed2020.nii.gz\n",
      "relation-w-rest ['match', 'relation', 'rest_RELATIONAL']\n"
     ]
    },
    {
     "data": {
      "application/vnd.jupyter.widget-view+json": {
       "model_id": "f7380066b092441288bb3d3f49829363",
       "version_major": 2,
       "version_minor": 0
      },
      "text/plain": [
       "class: 0it [00:00, ?it/s]"
      ]
     },
     "metadata": {},
     "output_type": "display_data"
    },
    {
     "data": {
      "application/vnd.jupyter.widget-view+json": {
       "model_id": "b4c8d312a37c45c8812141a01c1f6194",
       "version_major": 2,
       "version_minor": 0
      },
      "text/plain": [
       "class: 0it [00:00, ?it/s]"
      ]
     },
     "metadata": {},
     "output_type": "display_data"
    },
    {
     "name": "stdout",
     "output_type": "stream",
     "text": [
      "Running PCA on training data...\n"
     ]
    },
    {
     "name": "stderr",
     "output_type": "stream",
     "text": [
      "C:\\Users\\Philipp\\anaconda3\\envs\\fmrideep\\lib\\site-packages\\sklearn\\decomposition\\_incremental_pca.py:348: RuntimeWarning: Mean of empty slice.\n",
      "  self.noise_variance_ = explained_variance[self.n_components_ :].mean()\n",
      "C:\\Users\\Philipp\\anaconda3\\envs\\fmrideep\\lib\\site-packages\\numpy\\core\\_methods.py:189: RuntimeWarning: invalid value encountered in true_divide\n",
      "  ret = ret.dtype.type(ret / rcount)\n"
     ]
    },
    {
     "name": "stdout",
     "output_type": "stream",
     "text": [
      "Saving ./pca_models\\relation-w-rest_seed2020.pkl for later use.\n",
      "Transforming the input data...\n",
      "Running SVM...\n",
      "saving ./svm_maps\\relation-w-rest_ovr_seed2020.nii.gz\n",
      "relation-wo-rest ['match', 'relation']\n"
     ]
    },
    {
     "data": {
      "application/vnd.jupyter.widget-view+json": {
       "model_id": "98594638ae994a75a195dca4c8c6a855",
       "version_major": 2,
       "version_minor": 0
      },
      "text/plain": [
       "class: 0it [00:00, ?it/s]"
      ]
     },
     "metadata": {},
     "output_type": "display_data"
    },
    {
     "data": {
      "application/vnd.jupyter.widget-view+json": {
       "model_id": "85b0229fb09d4002a13f16f9973f5605",
       "version_major": 2,
       "version_minor": 0
      },
      "text/plain": [
       "class: 0it [00:00, ?it/s]"
      ]
     },
     "metadata": {},
     "output_type": "display_data"
    },
    {
     "name": "stdout",
     "output_type": "stream",
     "text": [
      "Running PCA on training data...\n"
     ]
    },
    {
     "name": "stderr",
     "output_type": "stream",
     "text": [
      "C:\\Users\\Philipp\\anaconda3\\envs\\fmrideep\\lib\\site-packages\\sklearn\\decomposition\\_incremental_pca.py:348: RuntimeWarning: Mean of empty slice.\n",
      "  self.noise_variance_ = explained_variance[self.n_components_ :].mean()\n",
      "C:\\Users\\Philipp\\anaconda3\\envs\\fmrideep\\lib\\site-packages\\numpy\\core\\_methods.py:189: RuntimeWarning: invalid value encountered in true_divide\n",
      "  ret = ret.dtype.type(ret / rcount)\n"
     ]
    },
    {
     "name": "stdout",
     "output_type": "stream",
     "text": [
      "Saving ./pca_models\\relation-wo-rest_seed2020.pkl for later use.\n",
      "Transforming the input data...\n",
      "Running SVM...\n",
      "saving ./svm_maps\\relation-wo-rest_ovr_seed2020.nii.gz\n",
      "social-w-rest ['mental', 'rnd', 'rest_SOCIAL']\n"
     ]
    },
    {
     "data": {
      "application/vnd.jupyter.widget-view+json": {
       "model_id": "06cd031f840c475bbecd39a99c4ffb53",
       "version_major": 2,
       "version_minor": 0
      },
      "text/plain": [
       "class: 0it [00:00, ?it/s]"
      ]
     },
     "metadata": {},
     "output_type": "display_data"
    },
    {
     "data": {
      "application/vnd.jupyter.widget-view+json": {
       "model_id": "4c8752974fec4d0cb0d5a5856b9cdb52",
       "version_major": 2,
       "version_minor": 0
      },
      "text/plain": [
       "class: 0it [00:00, ?it/s]"
      ]
     },
     "metadata": {},
     "output_type": "display_data"
    },
    {
     "name": "stdout",
     "output_type": "stream",
     "text": [
      "Running PCA on training data...\n"
     ]
    },
    {
     "name": "stderr",
     "output_type": "stream",
     "text": [
      "C:\\Users\\Philipp\\anaconda3\\envs\\fmrideep\\lib\\site-packages\\sklearn\\decomposition\\_incremental_pca.py:348: RuntimeWarning: Mean of empty slice.\n",
      "  self.noise_variance_ = explained_variance[self.n_components_ :].mean()\n",
      "C:\\Users\\Philipp\\anaconda3\\envs\\fmrideep\\lib\\site-packages\\numpy\\core\\_methods.py:189: RuntimeWarning: invalid value encountered in true_divide\n",
      "  ret = ret.dtype.type(ret / rcount)\n"
     ]
    },
    {
     "name": "stdout",
     "output_type": "stream",
     "text": [
      "Saving ./pca_models\\social-w-rest_seed2020.pkl for later use.\n",
      "Transforming the input data...\n",
      "Running SVM...\n",
      "saving ./svm_maps\\social-w-rest_ovr_seed2020.nii.gz\n",
      "social-wo-rest ['mental', 'rnd']\n"
     ]
    },
    {
     "data": {
      "application/vnd.jupyter.widget-view+json": {
       "model_id": "264c4f59ba014306854fa67666c1d263",
       "version_major": 2,
       "version_minor": 0
      },
      "text/plain": [
       "class: 0it [00:00, ?it/s]"
      ]
     },
     "metadata": {},
     "output_type": "display_data"
    },
    {
     "data": {
      "application/vnd.jupyter.widget-view+json": {
       "model_id": "cab7bff230c445f2b3a282cba7e634f4",
       "version_major": 2,
       "version_minor": 0
      },
      "text/plain": [
       "class: 0it [00:00, ?it/s]"
      ]
     },
     "metadata": {},
     "output_type": "display_data"
    },
    {
     "name": "stdout",
     "output_type": "stream",
     "text": [
      "Running PCA on training data...\n"
     ]
    },
    {
     "name": "stderr",
     "output_type": "stream",
     "text": [
      "C:\\Users\\Philipp\\anaconda3\\envs\\fmrideep\\lib\\site-packages\\sklearn\\decomposition\\_incremental_pca.py:348: RuntimeWarning: Mean of empty slice.\n",
      "  self.noise_variance_ = explained_variance[self.n_components_ :].mean()\n",
      "C:\\Users\\Philipp\\anaconda3\\envs\\fmrideep\\lib\\site-packages\\numpy\\core\\_methods.py:189: RuntimeWarning: invalid value encountered in true_divide\n",
      "  ret = ret.dtype.type(ret / rcount)\n"
     ]
    },
    {
     "name": "stdout",
     "output_type": "stream",
     "text": [
      "Saving ./pca_models\\social-wo-rest_seed2020.pkl for later use.\n",
      "Transforming the input data...\n",
      "Running SVM...\n",
      "saving ./svm_maps\\social-wo-rest_ovr_seed2020.nii.gz\n",
      "multi-w-rest ['footleft', 'footright', 'handleft', 'handright', 'tongue', 'rest_MOTOR', 'body', 'face', 'place', 'tool', 'rest_WM', 'match', 'relation', 'rest_RELATIONAL', 'mental', 'rnd', 'rest_SOCIAL']\n"
     ]
    },
    {
     "data": {
      "application/vnd.jupyter.widget-view+json": {
       "model_id": "6601d48be81542a8b601c0b038acdc2c",
       "version_major": 2,
       "version_minor": 0
      },
      "text/plain": [
       "class: 0it [00:00, ?it/s]"
      ]
     },
     "metadata": {},
     "output_type": "display_data"
    },
    {
     "data": {
      "application/vnd.jupyter.widget-view+json": {
       "model_id": "7f190f83fb104961a367136285f77589",
       "version_major": 2,
       "version_minor": 0
      },
      "text/plain": [
       "class: 0it [00:00, ?it/s]"
      ]
     },
     "metadata": {},
     "output_type": "display_data"
    },
    {
     "name": "stdout",
     "output_type": "stream",
     "text": [
      "Running PCA on training data...\n"
     ]
    },
    {
     "name": "stderr",
     "output_type": "stream",
     "text": [
      "C:\\Users\\Philipp\\anaconda3\\envs\\fmrideep\\lib\\site-packages\\sklearn\\decomposition\\_incremental_pca.py:348: RuntimeWarning: Mean of empty slice.\n",
      "  self.noise_variance_ = explained_variance[self.n_components_ :].mean()\n",
      "C:\\Users\\Philipp\\anaconda3\\envs\\fmrideep\\lib\\site-packages\\numpy\\core\\_methods.py:189: RuntimeWarning: invalid value encountered in true_divide\n",
      "  ret = ret.dtype.type(ret / rcount)\n"
     ]
    },
    {
     "name": "stdout",
     "output_type": "stream",
     "text": [
      "Saving ./pca_models\\multi-w-rest_seed2020.pkl for later use.\n",
      "Transforming the input data...\n",
      "Running SVM...\n",
      "saving ./svm_maps\\multi-w-rest_ovr_seed2020.nii.gz\n",
      "multi-wo-rest ['footleft', 'footright', 'handleft', 'handright', 'tongue', 'body', 'face', 'place', 'tool', 'match', 'relation', 'mental', 'rnd']\n"
     ]
    },
    {
     "data": {
      "application/vnd.jupyter.widget-view+json": {
       "model_id": "60e15d4c3b76440d8f18ff5fa3116ba7",
       "version_major": 2,
       "version_minor": 0
      },
      "text/plain": [
       "class: 0it [00:00, ?it/s]"
      ]
     },
     "metadata": {},
     "output_type": "display_data"
    },
    {
     "data": {
      "application/vnd.jupyter.widget-view+json": {
       "model_id": "93134e852ec44884b901d8006b1843d3",
       "version_major": 2,
       "version_minor": 0
      },
      "text/plain": [
       "class: 0it [00:00, ?it/s]"
      ]
     },
     "metadata": {},
     "output_type": "display_data"
    },
    {
     "name": "stdout",
     "output_type": "stream",
     "text": [
      "Running PCA on training data...\n"
     ]
    },
    {
     "name": "stderr",
     "output_type": "stream",
     "text": [
      "C:\\Users\\Philipp\\anaconda3\\envs\\fmrideep\\lib\\site-packages\\sklearn\\decomposition\\_incremental_pca.py:348: RuntimeWarning: Mean of empty slice.\n",
      "  self.noise_variance_ = explained_variance[self.n_components_ :].mean()\n",
      "C:\\Users\\Philipp\\anaconda3\\envs\\fmrideep\\lib\\site-packages\\numpy\\core\\_methods.py:189: RuntimeWarning: invalid value encountered in true_divide\n",
      "  ret = ret.dtype.type(ret / rcount)\n"
     ]
    },
    {
     "name": "stdout",
     "output_type": "stream",
     "text": [
      "Saving ./pca_models\\multi-wo-rest_seed2020.pkl for later use.\n",
      "Transforming the input data...\n",
      "Running SVM...\n",
      "saving ./svm_maps\\multi-wo-rest_ovr_seed2020.nii.gz\n"
     ]
    }
   ],
   "source": [
    "df_train = pd.DataFrame(columns=[\"n_samples\", \"acc\", \"condition\"])\n",
    "df_valid = pd.DataFrame(columns=[\"n_samples\", \"acc\", \"condition\"])\n",
    "df_test = pd.DataFrame(columns=[\"n_samples\", \"acc\", \"condition\"])\n",
    "\n",
    "for c, part in enumerate(class_labels):\n",
    "    name = part[0]\n",
    "    lbls = part[1:]\n",
    "    n_classes = len(lbls)\n",
    "    print(name, lbls)\n",
    "        \n",
    "    train_data = load_data(n_samples, data_dir, lbls, \"train\", brain_mask=mni_template)\n",
    "    train_lbls = np.repeat(np.arange(n_classes), n_samples)\n",
    "    test_data = load_data(40, data_dir, lbls, \"test\", brain_mask=mni_template)\n",
    "    test_lbls = np.repeat(np.arange(n_classes), 40)\n",
    "\n",
    "    sss = StratifiedKFold(n_splits=n_folds)\n",
    "    idx_train, idx_valid = next(sss.split(train_data, train_lbls))\n",
    "    fold = 0\n",
    "    # train classifier for the first fold\n",
    "    # assign a unique seed for each folds pca and svm\n",
    "    this_seed = 2020 + fold\n",
    "\n",
    "    maps = os.path.join(svm_maps_dir)\n",
    "    pcas = os.path.join(pca_save_dir)\n",
    "    svms = os.path.join(svm_save_dir)\n",
    "\n",
    "    # select the respective data for the training and validation data/labels\n",
    "    this_train_data, this_valid_data = train_data[idx_train, :], train_data[idx_valid, :]\n",
    "    this_train_lbls, this_valid_lbls = train_lbls[idx_train], train_lbls[idx_valid]\n",
    "\n",
    "    # run a PCA on the training data\n",
    "    print('Running PCA on training data...')\n",
    "    max_components = min(this_train_data.shape)\n",
    "    pca = run_pca(this_train_data, max_components, batch_size=max_components//10, prefix=name, seed=this_seed, save_dir=pcas)\n",
    "\n",
    "    # transform the training and validation data data\n",
    "    print('Transforming the input data...')\n",
    "    train_transformed = pca.transform(this_train_data)\n",
    "    valid_transformed = pca.transform(this_valid_data)\n",
    "    test_transformed = pca.transform(test_data)\n",
    "\n",
    "    # run SVM\n",
    "    print('Running SVM...')\n",
    "    clf = run_svm(train_transformed, this_train_lbls, n_classes, approach=\"ovr\", prefix=name, save_dir=svms)\n",
    "\n",
    "    # performance on train set\n",
    "    train_predicted, acc = predict(clf, train_transformed, this_train_lbls, train_transformed.shape[1])\n",
    "    df_train = pd.concat([df_train, pd.DataFrame({\"n_samples\": n_samples, \"acc\": acc, \"condition\": name}, index=[fold])])\n",
    "\n",
    "    # performance on validation set\n",
    "    valid_predicted, acc = predict(clf, valid_transformed, this_valid_lbls, valid_transformed.shape[1])\n",
    "    df_valid = pd.concat([df_valid, pd.DataFrame({\"n_samples\": n_samples, \"acc\": acc, \"condition\": name}, index=[fold])])\n",
    "\n",
    "    # performance on test set\n",
    "    test_predicted, acc = predict(clf, test_transformed, test_lbls, test_transformed.shape[1])\n",
    "    df_test = pd.concat([df_test, pd.DataFrame({\"n_samples\": n_samples, \"acc\": acc, \"condition\": name}, index=[fold])])\n",
    "\n",
    "    save_maps(clf, test_data, 'ovr', n_samples, test_transformed.shape[1], invert_pca=True, prefix=name, save_dir=maps)\n",
    "    # print(\"%1.4f accuracy\" % accs[i])\n",
    "    \n",
    "df_train.to_csv(f\"./stats/svm_train_acc.csv\", index=False)\n",
    "df_valid.to_csv(f\"./stats/svm_valid_acc.csv\", index=False)\n",
    "df_test.to_csv(f\"./stats/svm_test_acc.csv\", index=False)"
   ]
  },
  {
   "cell_type": "markdown",
   "id": "1b499708-1f7e-4275-9669-48616f660d3b",
   "metadata": {},
   "source": [
    "# plot the test accuracies"
   ]
  },
  {
   "cell_type": "code",
   "execution_count": 20,
   "id": "46c14e35-f78f-4b08-b08b-74da0d17ea90",
   "metadata": {},
   "outputs": [
    {
     "data": {
      "text/plain": [
       "['w/ rest',\n",
       " 'w/o rest',\n",
       " 'w/ rest',\n",
       " 'w/o rest',\n",
       " 'w/ rest',\n",
       " 'w/o rest',\n",
       " 'w/ rest',\n",
       " 'w/o rest',\n",
       " 'w/ rest',\n",
       " 'w/o rest']"
      ]
     },
     "execution_count": 20,
     "metadata": {},
     "output_type": "execute_result"
    }
   ],
   "source": [
    "[\"w/ rest\", \"w/o rest\"]*5"
   ]
  },
  {
   "cell_type": "code",
   "execution_count": 24,
   "id": "d8579c2f-8865-4490-b86d-96e2e1bb19c1",
   "metadata": {},
   "outputs": [],
   "source": [
    "df = pd.read_csv(\"stats/svm_test_acc.csv\")\n",
    "df[\"a\"] = [\"w/ rest\", \"w/o rest\"]*5\n",
    "df[\"b\"] = [\"motor\", \"motor\", \"wm\", \"wm\", \"relation\", \"relation\", \"social\", \"social\", \"multi\", \"multi\"]"
   ]
  },
  {
   "cell_type": "code",
   "execution_count": 28,
   "id": "fc7ee87b-7512-4d23-998a-c0f3e0b5dd67",
   "metadata": {},
   "outputs": [
    {
     "data": {
      "text/plain": [
       "<matplotlib.legend.Legend at 0x1b02db4d130>"
      ]
     },
     "execution_count": 28,
     "metadata": {},
     "output_type": "execute_result"
    },
    {
     "data": {
      "image/png": "[encoded data removed]",
      "text/plain": [
       "<Figure size 1440x576 with 1 Axes>"
      ]
     },
     "metadata": {
      "needs_background": "light"
     },
     "output_type": "display_data"
    }
   ],
   "source": [
    "SMALL_SIZE = 16\n",
    "MEDIUM_SIZE = 20\n",
    "BIGGER_SIZE = 22\n",
    "\n",
    "plt.rc('font', size=SMALL_SIZE)          # controls default text sizes\n",
    "plt.rc('axes', titlesize=MEDIUM_SIZE)    # fontsize of the axes title\n",
    "plt.rc('axes', labelsize=MEDIUM_SIZE)    # fontsize of the x and y labels\n",
    "plt.rc('xtick', labelsize=SMALL_SIZE)    # fontsize of the tick labels\n",
    "plt.rc('ytick', labelsize=SMALL_SIZE)    # fontsize of the tick labels\n",
    "plt.rc('legend', fontsize=SMALL_SIZE)    # legend fontsize\n",
    "plt.rc('figure', titlesize=BIGGER_SIZE)  # fontsize of the figure title\n",
    "\n",
    "fig, axes = plt.subplots(figsize=(20, 8))\n",
    "\n",
    "# left plot is for the motor data only\n",
    "sns.barplot(ax=axes, data=df, x=\"b\", y=\"acc\", hue=\"a\", alpha=.4, zorder=1)\n",
    "\n",
    "axes.spines[[\"right\", \"top\"]].set_visible(False)\n",
    "axes.set(ylim=[0, 1.02], ylabel=\"accuracy for test vols\", xlabel=\"task\");\n",
    "axes.legend(frameon=False, fontsize=11)\n",
    "\n",
    "#plt.savefig('figures/motor-accs-across-folds-120train.pdf', facecolor=fig.get_facecolor(), transparent=True)"
   ]
  },
  {
   "cell_type": "markdown",
   "id": "14104f84-c9ad-40d3-a4b9-84b96af9ee8d",
   "metadata": {},
   "source": [
    "# ROC curves"
   ]
  },
  {
   "cell_type": "code",
   "execution_count": null,
   "id": "05b95565-b267-4e4b-afe1-dbf13988e75d",
   "metadata": {},
   "outputs": [],
   "source": [
    "from sklearn.preprocessing import LabelBinarizer\n",
    "from delphi.utils.plots import confusion_matrix\n",
    "\n",
    "train_lbls = np.repeat(np.arange(n_classes), 140)\n",
    "test_lbls = np.repeat(np.arange(n_classes), 20)\n",
    "test_data = load_data(20, \"../t-maps/\", class_labels, \"test\", brain_mask=mni_template)\n",
    "\n",
    "\n",
    "label_binarizer = LabelBinarizer().fit(train_lbls)\n",
    "y_onehot_test = label_binarizer.transform(test_lbls)\n",
    "y_onehot_test.shape  # (n_samples, n_classes)"
   ]
  },
  {
   "cell_type": "code",
   "execution_count": null,
   "id": "6ad14658-c940-4773-ae6b-f6bcdbc8756a",
   "metadata": {},
   "outputs": [],
   "source": [
    "f = 1\n",
    "\n",
    "svm_files = load_img(f\"../00_svm/svm_maps/nsubs-120/k-fold_ss-0mm_fold{f:02d}_ovr_120subs_2280dims_seed2020.nii.gz\")\n",
    "pca_file = f\"../00_svm/pca_models/nsubs-120/k-fold_ss-0mm_fold{f:02d}_2280samples_seed{2020+f}.pkl\"\n",
    "with open(pca_file, 'rb') as pickle_file:\n",
    "    pca = pk.load(pickle_file)\n",
    "\n",
    "svm_file = f\"../00_svm/svm_models/nsubs-120/k-fold_ss-0mm_fold{f:02d}_ovr_120subs_2280dims_seed2020.pkl\"\n",
    "with open(svm_file, 'rb') as pickle_file:\n",
    "    svm = pk.load(pickle_file)\n",
    "    \n",
    "test_transformed = pca.transform(test_data)\n",
    "y_predicted, acc = predict(svm, test_transformed, test_lbls, test_transformed.shape[1])\n",
    "y_score = svm.predict_proba(test_transformed)"
   ]
  },
  {
   "cell_type": "code",
   "execution_count": null,
   "id": "a546e7d8-5469-4228-b818-49f018bbc641",
   "metadata": {},
   "outputs": [],
   "source": [
    "SMALL_SIZE = 16\n",
    "MEDIUM_SIZE = 20\n",
    "BIGGER_SIZE = 22\n",
    "\n",
    "plt.rc('font', size=SMALL_SIZE)          # controls default text sizes\n",
    "plt.rc('axes', titlesize=MEDIUM_SIZE)    # fontsize of the axes title\n",
    "plt.rc('axes', labelsize=MEDIUM_SIZE)    # fontsize of the x and y labels\n",
    "plt.rc('xtick', labelsize=SMALL_SIZE)    # fontsize of the tick labels\n",
    "plt.rc('ytick', labelsize=SMALL_SIZE)    # fontsize of the tick labels\n",
    "plt.rc('legend', fontsize=SMALL_SIZE)    # legend fontsize\n",
    "plt.rc('figure', titlesize=BIGGER_SIZE)  # fontsize of the figure title\n",
    "\n",
    "fig, ax = plt.subplots(figsize=(10, 10))\n",
    "\n",
    "conf_mat, conf_ax = confusion_matrix(test_lbls, y_predicted, class_labels, normalize=False, ax=ax, **{\"vmin\": 0, \"vmax\": 20})\n",
    "fig.tight_layout()\n",
    "plt.savefig('figures/confmat-fold01-120train.pdf', facecolor=fig.get_facecolor(), transparent=True)"
   ]
  },
  {
   "cell_type": "code",
   "execution_count": null,
   "id": "71c04a67-47af-4e82-a1dc-2decf7ca68d0",
   "metadata": {},
   "outputs": [],
   "source": [
    "from sklearn.metrics import roc_curve, auc, RocCurveDisplay, f1_score\n",
    "\n",
    "# store the fpr, tpr, and roc_auc for all averaging strategies\n",
    "fpr, tpr, roc_auc  = dict(), dict(), dict()\n",
    "f1_test = np.zeros(n_classes)\n",
    "# Compute micro-average ROC curve and ROC area\n",
    "fpr[\"micro\"], tpr[\"micro\"], _ = roc_curve(y_onehot_test.ravel(), y_score.ravel())\n",
    "roc_auc[\"micro\"] = auc(fpr[\"micro\"], tpr[\"micro\"])\n",
    "\n",
    "print(f\"Micro-averaged One-vs-Rest ROC AUC score:\\n{roc_auc['micro']:.2f}\")\n",
    "\n",
    "# F1-score\n",
    "f1 = dict()\n",
    "f1['micro'] = f1_score(test_lbls, y_predicted, average=\"micro\")\n",
    "f1['macro'] = f1_score(test_lbls, y_predicted, average=\"macro\")\n",
    "\n",
    "print(f\"Micro-averaged F1: {f1['micro']}; Macro-averaged F1: {f1['macro']}\")"
   ]
  },
  {
   "cell_type": "code",
   "execution_count": null,
   "id": "e4a7451e-d6d9-4232-aacc-200e0707f4ad",
   "metadata": {},
   "outputs": [],
   "source": [
    "for i in range(n_classes):\n",
    "    fpr[i], tpr[i], _ = roc_curve(y_onehot_test[:, i], y_score[:, i])\n",
    "    idc = np.where(test_lbls==i)\n",
    "    f1_test[i] = f1_score(test_lbls[idc], y_predicted[idc], average=\"micro\")\n",
    "    #print(f\"F1 for {class_labels[i]}: {f1_test[i]}\")\n",
    "    roc_auc[i] = auc(fpr[i], tpr[i])\n",
    "\n",
    "fpr_grid = np.linspace(0.0, 1.0, 1000)\n",
    "\n",
    "# Interpolate all ROC curves at these points\n",
    "mean_tpr = np.zeros_like(fpr_grid)\n",
    "\n",
    "for i in range(n_classes):\n",
    "    mean_tpr += np.interp(fpr_grid, fpr[i], tpr[i])  # linear interpolation\n",
    "\n",
    "# Average it and compute AUC\n",
    "mean_tpr /= n_classes\n",
    "\n",
    "fpr[\"macro\"] = fpr_grid\n",
    "tpr[\"macro\"] = mean_tpr\n",
    "roc_auc[\"macro\"] = auc(fpr[\"macro\"], tpr[\"macro\"])\n",
    "\n",
    "print(f\"Macro-averaged One-vs-Rest ROC AUC score:\\n{roc_auc['macro']:.2f}\")"
   ]
  },
  {
   "cell_type": "code",
   "execution_count": null,
   "id": "5e056757-c222-43a0-86ff-390fa66fa47d",
   "metadata": {},
   "outputs": [],
   "source": [
    "SMALL_SIZE = 16\n",
    "MEDIUM_SIZE = 20\n",
    "BIGGER_SIZE = 22\n",
    "\n",
    "plt.rc('font', size=SMALL_SIZE)          # controls default text sizes\n",
    "plt.rc('axes', titlesize=MEDIUM_SIZE)    # fontsize of the axes title\n",
    "plt.rc('axes', labelsize=MEDIUM_SIZE)    # fontsize of the x and y labels\n",
    "plt.rc('xtick', labelsize=SMALL_SIZE)    # fontsize of the tick labels\n",
    "plt.rc('ytick', labelsize=SMALL_SIZE)    # fontsize of the tick labels\n",
    "plt.rc('legend', fontsize=SMALL_SIZE)    # legend fontsize\n",
    "plt.rc('figure', titlesize=BIGGER_SIZE)  # fontsize of the figure title\n",
    "\n",
    "fig, ax = plt.subplots(figsize=(15, 8))\n",
    "ax.bar(np.arange(n_classes), f1_test, color=[.6,.6,.6])\n",
    "ax.axhline(f1['micro'], linestyle=\"--\", color=\"deeppink\", label=\"micro-average\", linewidth=2)\n",
    "ax.set_xticks(np.arange(n_classes))\n",
    "ax.set_xticklabels(class_labels, rotation=45);\n",
    "ax.spines[[\"top\", \"right\"]].set_visible(False);\n",
    "ax.set_title(\"F1 score per class\");\n",
    "ax.set(ylabel=\"F1-score\")\n",
    "ax.legend(frameon=False, fontsize=11)\n",
    "\n",
    "plt.savefig('figures/F1-fold01-120train.pdf', facecolor=fig.get_facecolor(), transparent=True)"
   ]
  },
  {
   "cell_type": "code",
   "execution_count": null,
   "id": "99213135-9752-4d6b-bd21-d87310b195f4",
   "metadata": {},
   "outputs": [],
   "source": [
    "from itertools import cycle\n",
    "from matplotlib import cm\n",
    "\n",
    "SMALL_SIZE = 16\n",
    "MEDIUM_SIZE = 20\n",
    "BIGGER_SIZE = 22\n",
    "\n",
    "plt.rc('font', size=SMALL_SIZE)          # controls default text sizes\n",
    "plt.rc('axes', titlesize=MEDIUM_SIZE)    # fontsize of the axes title\n",
    "plt.rc('axes', labelsize=MEDIUM_SIZE)    # fontsize of the x and y labels\n",
    "plt.rc('xtick', labelsize=SMALL_SIZE)    # fontsize of the tick labels\n",
    "plt.rc('ytick', labelsize=SMALL_SIZE)    # fontsize of the tick labels\n",
    "plt.rc('legend', fontsize=SMALL_SIZE)    # legend fontsize\n",
    "plt.rc('figure', titlesize=BIGGER_SIZE)  # fontsize of the figure title\n",
    "\n",
    "fig, ax = plt.subplots(figsize=(12, 12))\n",
    "\n",
    "plt.plot(\n",
    "    fpr[\"micro\"],\n",
    "    tpr[\"micro\"],\n",
    "    label=f\"micro-average ROC curve (AUC = {roc_auc['micro']:.2f})\",\n",
    "    color=\"deeppink\",\n",
    "    linestyle=\":\",\n",
    "    linewidth=4,\n",
    ")\n",
    "\n",
    "plt.plot(\n",
    "    fpr[\"macro\"],\n",
    "    tpr[\"macro\"],\n",
    "    label=f\"macro-average ROC curve (AUC = {roc_auc['macro']:.2f})\",\n",
    "    color=\"navy\",\n",
    "    linestyle=\":\",\n",
    "    linewidth=4,\n",
    ")\n",
    "\n",
    "colors = cm.get_cmap(\"jet\", 19)\n",
    "for class_id in range(n_classes):\n",
    "    RocCurveDisplay.from_predictions(\n",
    "        y_onehot_test[:, class_id],\n",
    "        y_score[:, class_id],\n",
    "        name=f\"ROC curve for {class_labels[class_id]}\",\n",
    "        color=colors(class_id)[:3],\n",
    "        ax=ax,\n",
    "    )\n",
    "\n",
    "plt.plot([0, 1], [0, 1], \"k--\", label=\"ROC curve for chance level (AUC = 0.5)\")\n",
    "plt.axis(\"square\")\n",
    "plt.xlabel(\"False Positive Rate\")\n",
    "plt.ylabel(\"True Positive Rate\")\n",
    "plt.title(\"ROC One-vs-Rest\")\n",
    "ax.legend(frameon=False, fontsize=11)\n",
    "\n",
    "plt.savefig('figures/ROC-fold01-120train.pdf', facecolor=fig.get_facecolor(), transparent=True)"
   ]
  },
  {
   "cell_type": "markdown",
   "id": "bf454741-7c20-4680-9e73-9e746c6afa30",
   "metadata": {},
   "source": [
    "## Test OVO ROC"
   ]
  },
  {
   "cell_type": "code",
   "execution_count": null,
   "id": "d73a29b8-bc24-400a-925c-df6190c217f2",
   "metadata": {},
   "outputs": [],
   "source": [
    "class_labels"
   ]
  },
  {
   "cell_type": "code",
   "execution_count": null,
   "id": "8ff4fa91-0af3-4eed-aec0-e295b68417cb",
   "metadata": {},
   "outputs": [],
   "source": [
    "from itertools import combinations\n",
    "\n",
    "pair_list = list(combinations(np.unique([5, 6, 9, 12]), 2))\n",
    "#pair_list = list(combinations(np.unique(test_lbls), 2))\n",
    "print(len(pair_list))"
   ]
  },
  {
   "cell_type": "code",
   "execution_count": null,
   "id": "d1bea9a2-2c64-433c-942e-3e461ea3fd38",
   "metadata": {
    "scrolled": true,
    "tags": []
   },
   "outputs": [],
   "source": [
    "pair_scores = []\n",
    "mean_tpr = dict()\n",
    "\n",
    "for ix, (label_a, label_b) in enumerate(pair_list):\n",
    "\n",
    "    a_mask = test_lbls == label_a\n",
    "    b_mask = test_lbls == label_b\n",
    "    ab_mask = np.logical_or(a_mask, b_mask)\n",
    "\n",
    "    a_true = a_mask[ab_mask]\n",
    "    b_true = b_mask[ab_mask]\n",
    "\n",
    "    idx_a = np.flatnonzero(label_binarizer.classes_ == label_a)[0]\n",
    "    idx_b = np.flatnonzero(label_binarizer.classes_ == label_b)[0]\n",
    "\n",
    "    fpr_a, tpr_a, _ = roc_curve(a_true, y_score[ab_mask, idx_a])\n",
    "    fpr_b, tpr_b, _ = roc_curve(b_true, y_score[ab_mask, idx_b])\n",
    "\n",
    "    mean_tpr[ix] = np.zeros_like(fpr_grid)\n",
    "    mean_tpr[ix] += np.interp(fpr_grid, fpr_a, tpr_a)\n",
    "    mean_tpr[ix] += np.interp(fpr_grid, fpr_b, tpr_b)\n",
    "    mean_tpr[ix] /= 2\n",
    "    mean_score = auc(fpr_grid, mean_tpr[ix])\n",
    "    pair_scores.append(mean_score)\n",
    "\n",
    "    fig, ax = plt.subplots(figsize=(6, 6))\n",
    "    plt.plot(\n",
    "        fpr_grid,\n",
    "        mean_tpr[ix],\n",
    "        label=f\"Mean {label_a} vs {label_b} (AUC = {mean_score :.2f})\",\n",
    "        linestyle=\":\",\n",
    "        linewidth=4,\n",
    "    )\n",
    "    RocCurveDisplay.from_predictions(\n",
    "        a_true,\n",
    "        y_score[ab_mask, idx_a],\n",
    "        ax=ax,\n",
    "        name=f\"{label_a} as positive class\",\n",
    "    )\n",
    "    RocCurveDisplay.from_predictions(\n",
    "        b_true,\n",
    "        y_score[ab_mask, idx_b],\n",
    "        ax=ax,\n",
    "        name=f\"{label_b} as positive class\",\n",
    "    )\n",
    "    plt.plot([0, 1], [0, 1], \"k--\", label=\"chance level (AUC = 0.5)\")\n",
    "    plt.axis(\"square\")\n",
    "    plt.xlabel(\"False Positive Rate\")\n",
    "    plt.ylabel(\"True Positive Rate\")\n",
    "    plt.title(f\"{class_labels[idx_a]} vs {class_labels[idx_b]} ROC curves\")\n",
    "    plt.legend()\n",
    "    #plt.show()\n",
    "\n",
    "print(f\"Macro-averaged One-vs-One ROC AUC score:\\n{np.average(pair_scores):.2f}\")"
   ]
  },
  {
   "cell_type": "markdown",
   "id": "38be3b8c-38bc-47d9-9e3a-20846e23d5af",
   "metadata": {},
   "source": [
    "# PRECISION RECALL CURVE"
   ]
  },
  {
   "cell_type": "code",
   "execution_count": null,
   "id": "1f6ddea1-ab3d-4c63-a274-41672fd0b058",
   "metadata": {},
   "outputs": [],
   "source": [
    "from sklearn.metrics import precision_recall_curve\n",
    "\n",
    "task_names = [\"motor\", \"gambling\", \"social\", \"wm\", \"relational\", \"emotion\", \"language\"]\n",
    "class_per_task =[[\"footleft\", \"footright\", \"handleft\", \"handright\", \"tongue\"], \n",
    "                [\"loss\", \"reward\"], \n",
    "                [\"mental\", \"random\"], \n",
    "                [\"body\", \"face\", \"place\", \"tool\"], \n",
    "                [\"match\", \"relation\"], \n",
    "                [\"emotion\", \"neut\"], \n",
    "                [\"story\", \"math\"]]\n",
    "\n",
    "linestyle_tuple = [\n",
    "     ('solid', (0, ())),\n",
    "     ('dotted',                (0, (1, 1))),\n",
    "     ('dashed',                (0, (5, 5))),\n",
    "     ('dashdotted',            (0, (3, 5, 1, 5))),\n",
    "     ('dashdotdotted',         (0, (3, 5, 1, 5, 1, 5)))]\n",
    "\n",
    "SMALL_SIZE = 16\n",
    "MEDIUM_SIZE = 20\n",
    "BIGGER_SIZE = 22\n",
    "\n",
    "plt.rc('font', size=SMALL_SIZE)          # controls default text sizes\n",
    "plt.rc('axes', titlesize=MEDIUM_SIZE)    # fontsize of the axes title\n",
    "plt.rc('axes', labelsize=MEDIUM_SIZE)    # fontsize of the x and y labels\n",
    "plt.rc('xtick', labelsize=SMALL_SIZE)    # fontsize of the tick labels\n",
    "plt.rc('ytick', labelsize=SMALL_SIZE)    # fontsize of the tick labels\n",
    "plt.rc('legend', fontsize=SMALL_SIZE)    # legend fontsize\n",
    "plt.rc('figure', titlesize=BIGGER_SIZE)  # fontsize of the figure title\n",
    "\n",
    "fig, ax = plt.subplots(2, 4, figsize=(30, 15), sharex=True, sharey=True)\n",
    "\n",
    "ax = ax.flatten()\n",
    "ax[-1].set_visible(False)\n",
    "ctr = 0\n",
    "# precision recall curve\n",
    "for i, task in enumerate(class_per_task):\n",
    "    #print(task)\n",
    "    precision, recall = dict(), dict()\n",
    "    for j, cl in enumerate(task):\n",
    "        precision[j], recall[j], _ = precision_recall_curve(y_onehot_test[:, ctr],\n",
    "                                                            y_score[:, ctr])\n",
    "        ax[i].plot(recall[j], precision[j], lw=2, linestyle=linestyle_tuple[j][1], label='{}'.format(cl))\n",
    "        ctr += 1\n",
    "    \n",
    "    ax[i].set_xlabel(\"recall\")\n",
    "    ax[i].set_ylabel(\"precision\")\n",
    "    ax[i].set_title(task_names[i])\n",
    "    ax[i].legend(frameon=False, fontsize=14, title=\"classes\")\n",
    "    \n",
    "#plt.savefig(f'figures/PR-fold01.pdf', facecolor=fig.get_facecolor(), transparent=True)"
   ]
  },
  {
   "cell_type": "markdown",
   "id": "ccd11296-204c-4542-b7ea-b1b56741ca48",
   "metadata": {},
   "source": [
    "# MUTUAL INFORMATION WITH ORIGINAL DATA"
   ]
  },
  {
   "cell_type": "code",
   "execution_count": null,
   "id": "1be5b958-2372-48cf-aa40-c99877664e4d",
   "metadata": {},
   "outputs": [],
   "source": [
    "from sklearn.feature_selection import mutual_info_regression\n",
    "from nilearn.masking import apply_mask\n",
    "from nilearn.image import load_img\n",
    "\n",
    "from delphi import mni_template\n",
    "\n",
    "class_labels = [\"footleft\", \"footright\", \"handleft\", \"handright\", \"tongue\", \n",
    "                \"loss\", \"reward\", \n",
    "                \"mental\", \"random\", \n",
    "                \"body\", \"face\", \"place\", \"tool\", \n",
    "                \"match\", \"relation\", \n",
    "                \"emotion\", \"neut\", \n",
    "                \"story\", \"math\"]"
   ]
  },
  {
   "cell_type": "code",
   "execution_count": null,
   "id": "5ee46147-239a-4f15-a882-15133b1e8172",
   "metadata": {},
   "outputs": [],
   "source": [
    "# load the group t-statistic maps\n",
    "mask = load_img(mni_template)\n",
    "t_group = load_img(glob.glob(\"../03_full_hcp/stat-maps/orig/SS3/*.nii.gz\"))\n",
    "t_group = apply_mask(t_group, mask)\n",
    "\n",
    "svm_maps = load_img(\"svm_maps/nsubs-120/k-fold_ss-3mm_fold01_ovr_120subs_2280dims_seed2020.nii.gz\")\n",
    "svm_maps = apply_mask(svm_maps, mask)"
   ]
  },
  {
   "cell_type": "code",
   "execution_count": null,
   "id": "11f7ab19-b63b-4720-9a41-7e20f5b80375",
   "metadata": {},
   "outputs": [],
   "source": [
    "# since we use a linear svm let's see how similar the brain maps are using correlation - vs mutual information\n",
    "rho = np.zeros(19)\n",
    "for i in range(19):\n",
    "    a = svm_maps[i]\n",
    "    b = t_group[i]\n",
    "\n",
    "    rho[i] = np.corrcoef(a.squeeze(), b.squeeze())[0,1]\n",
    "    \n",
    "df_rho = pd.DataFrame({'values': rho.tolist(),'class': class_labels, 'fold': 1, 'attr_method': 'svm', 'contrast': 'grpattr-vs-grpt', 'measure': 'pearsons_r'})\n",
    "df_rho\n",
    "#df_rho.to_csv(\"stats/rho_grpattr-vs-grpt.csv\", index=False)"
   ]
  },
  {
   "cell_type": "code",
   "execution_count": null,
   "id": "7393e79d-d320-4798-b619-25999871b1c6",
   "metadata": {},
   "outputs": [],
   "source": [
    "mi = np.zeros(19)\n",
    "for i in range(19):\n",
    "    mi[i] = mutual_info_regression(X=svm_maps[i, :].reshape(-1, 1), y=t_group[i, :], discrete_features=False, random_state=2020)\n",
    "\n",
    "df_mi = pd.DataFrame({'values': mi.tolist(),'class': class_labels, 'fold': 0, 'attr_method': 'svm', 'contrast': 'grpattr-vs-grpt', 'measure': 'mi'})\n",
    "#df_mi.to_csv(\"mi_grpattr-vs-grpt.csv\", index=False)"
   ]
  },
  {
   "cell_type": "code",
   "execution_count": null,
   "id": "b6ddf4ae-1359-4138-b26f-3b4061a6c7dd",
   "metadata": {},
   "outputs": [],
   "source": [
    "df_mi = df_mi.rename(columns={'mi': 'measure'})\n",
    "df_rho = df_rho.rename(columns={'pearsons_r': 'measure'})\n",
    "\n",
    "df2 = pd.concat([df_mi, df_rho])\n",
    "\n",
    "fig, ax = plt.subplots(figsize=(20, 8))\n",
    "sns.barplot(ax=ax, data=df2, x=\"class\", y=\"values\", hue=\"measure\")\n",
    "ax.set_xticklabels(class_labels, rotation=45);\n",
    "ax.set_ylabel(\"$MI_{(SVM, GroupT)}$\")\n",
    "ax.spines[[\"top\", \"right\"]].set_visible(False)\n",
    "#plt.savefig(f'figures/shared-info.pdf', facecolor=fig.get_facecolor(), transparent=True)"
   ]
  },
  {
   "cell_type": "code",
   "execution_count": null,
   "id": "1aa02005-3ac7-4aba-83db-0559c0c08679",
   "metadata": {},
   "outputs": [],
   "source": [
    "mutual_info_regression(X=svm_maps[i, :].reshape(-1, 1), y=t_group[i, :], discrete_features=False, random_state=2020)"
   ]
  },
  {
   "cell_type": "code",
   "execution_count": null,
   "id": "65c5e08c-5763-4326-b2e7-58625d2437ba",
   "metadata": {},
   "outputs": [],
   "source": []
  }
 ],
 "metadata": {
  "kernelspec": {
   "display_name": "Python 3",
   "language": "python",
   "name": "python3"
  },
  "language_info": {
   "codemirror_mode": {
    "name": "ipython",
    "version": 3
   },
   "file_extension": ".py",
   "mimetype": "text/x-python",
   "name": "python",
   "nbconvert_exporter": "python",
   "pygments_lexer": "ipython3",
   "version": "3.8.10"
  }
 },
 "nbformat": 4,
 "nbformat_minor": 5
}
