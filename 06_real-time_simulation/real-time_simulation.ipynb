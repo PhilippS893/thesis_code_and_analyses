{
 "cells": [
  {
   "cell_type": "markdown",
   "id": "cc060a60-7c8c-4fd5-bb7a-aeed9a85a829",
   "metadata": {},
   "source": [
    "# Simulating real-time fMRI classification"
   ]
  },
  {
   "cell_type": "code",
   "execution_count": 1,
   "id": "7b2a4fb3-e536-4dd8-824d-f40c8d5712f3",
   "metadata": {},
   "outputs": [
    {
     "name": "stderr",
     "output_type": "stream",
     "text": [
      "<frozen importlib._bootstrap>:219: RuntimeWarning: scipy._lib.messagestream.MessageStream size changed, may indicate binary incompatibility. Expected 56 from C header, got 64 from PyObject\n"
     ]
    }
   ],
   "source": [
    "#from delphi.networks.ConvNets import BrainStateClassifier3d\n",
    "import nibabel as nib\n",
    "import glob\n",
    "import numpy as np\n",
    "import os\n",
    "from delphi.networks.ConvNets import BrainStateClassifier3d\n",
    "from delphi.utils.plots import classification_timecourse, confusion_matrix\n",
    "from delphi.utils.tools import z_transform, compute_accuracy, z_transform_volume\n",
    "import torch\n",
    "import pandas as pd\n",
    "from tqdm.auto import tqdm\n",
    "\n",
    "import matplotlib.patches as mpatches\n",
    "\n",
    "from captum.attr import GuidedBackprop\n",
    "from zennit.rules import Epsilon, Gamma, Pass\n",
    "from zennit.types import Convolution, Linear, Activation\n",
    "from zennit.composites import LayerMapComposite\n",
    "from delphi.utils.tools import save_in_mni\n",
    "from utils.tools import attribute_with_method\n",
    "\n",
    "composite_lrp_map = [\n",
    "    (Activation, Pass()),\n",
    "    (Convolution, Gamma(gamma=.25)),\n",
    "    (Linear, Epsilon(epsilon=0)),\n",
    "]\n",
    "\n",
    "LRP = LayerMapComposite(\n",
    "    layer_map=composite_lrp_map,\n",
    ")\n",
    "LRP.__name__ = 'LRP'"
   ]
  },
  {
   "cell_type": "code",
   "execution_count": 21,
   "id": "08bdbf70-e8c7-4243-b693-561dc9afd136",
   "metadata": {},
   "outputs": [],
   "source": [
    "def attribute_with_method(attributor_method, model, data, target):\n",
    "    data.requires_grad = True\n",
    "\n",
    "    attributor_name = str(attributor_method.__name__)\n",
    "\n",
    "    if attributor_name == 'LRP':\n",
    "        grad_dummy = torch.eye(model.config['n_classes'], device=torch.device(\"cpu\"))[target]\n",
    "        with attributor_method.context(model) as modified_model:\n",
    "            output = modified_model(data)\n",
    "            attribution, = torch.autograd.grad(output.squeeze(), data, grad_outputs=grad_dummy)\n",
    "\n",
    "    elif attributor_name == 'GuidedBackprop':\n",
    "        gbp = attributor_method(model)\n",
    "        attribution = gbp.attribute(data, target)\n",
    "\n",
    "    return attribution"
   ]
  },
  {
   "cell_type": "code",
   "execution_count": 32,
   "id": "401085af-e866-4773-80fa-b5c5cd745c9f",
   "metadata": {},
   "outputs": [
    {
     "name": "stdout",
     "output_type": "stream",
     "text": [
      "Loading from config file ../03_full_hcp/models/CV-7folds-real/seed-2020_fold-00//config.yaml\n",
      "Loading from config file ../05_volumetric_approach/models/vol-motor-classifier-withrest_fold-09/config.yaml\n"
     ]
    }
   ],
   "source": [
    "#volume_model_path = \"../04_volumetric_approach/models/vol-multitask-classifier-withrest_fold-00\"\n",
    "volume_model_path = \"../05_volumetric_approach/models/vol-motor-classifier-withrest_fold-09\"\n",
    "#volume_model_path = \"../05_volumetric_approach/models/vol-wm-classifier-withrest_fold-02\"\n",
    "\n",
    "#t_model_path = \"../01_train_classifier/models/CV-7folds-real/fold-03/\"\n",
    "t_model_path = \"../03_full_hcp/models/CV-7folds-real/seed-2020_fold-00/\"\n",
    "#t_model_path = \"../04_transfer_learning//models/from-scratch/wm_samplesize-120_seed-2020_fold-01\"\n",
    "\n",
    "t_model = BrainStateClassifier3d(t_model_path).float()\n",
    "t_model.eval();\n",
    "\n",
    "volume_model = BrainStateClassifier3d(volume_model_path).float()\n",
    "volume_model.eval();"
   ]
  },
  {
   "cell_type": "code",
   "execution_count": 3,
   "id": "b61395d3-6439-4943-a21b-45530513888b",
   "metadata": {},
   "outputs": [
    {
     "data": {
      "text/plain": [
       "['/media/philippseidel/5tb/hcp_download/MOTOR/logs/footleft_RL.txt',\n",
       " '/media/philippseidel/5tb/hcp_download/MOTOR/logs/footright_RL.txt',\n",
       " '/media/philippseidel/5tb/hcp_download/MOTOR/logs/handleft_RL.txt',\n",
       " '/media/philippseidel/5tb/hcp_download/MOTOR/logs/handright_RL.txt',\n",
       " '/media/philippseidel/5tb/hcp_download/MOTOR/logs/tongue_RL.txt']"
      ]
     },
     "execution_count": 3,
     "metadata": {},
     "output_type": "execute_result"
    }
   ],
   "source": [
    "TASKID = \"MOTOR\"\n",
    "PE = \"RL\" # RL\n",
    "\n",
    "ev_files = sorted(glob.glob(os.path.join(f\"/media/philippseidel/5tb/hcp_download/{TASKID}/logs/*_{PE}.txt\")))\n",
    "ev_files"
   ]
  },
  {
   "cell_type": "code",
   "execution_count": 9,
   "id": "847c9712-60be-4334-8b1b-e4d11cd956a1",
   "metadata": {},
   "outputs": [
    {
     "data": {
      "text/plain": [
       "[0, 1, 2, 3, 4, 5]"
      ]
     },
     "execution_count": 9,
     "metadata": {},
     "output_type": "execute_result"
    }
   ],
   "source": [
    "labels = [volume_model.config[\"class_labels\"][i].lower() for i in range(len(volume_model.config[\"class_labels\"]))]\n",
    "\n",
    "if TASKID == \"WM\":\n",
    "    labels_of_interest = sorted([\"body\", \"face\", \"place\", \"tool\", f\"rest_{TASKID.lower()}\"])\n",
    "if TASKID == \"MOTOR\":\n",
    "    labels_of_interest = sorted([\"handleft\", \"handright\", \"footright\", \"footleft\", \"tongue\", f\"rest_{TASKID.lower()}\"])\n",
    "if TASKID == \"SOCIAL\":\n",
    "    labels_of_interest = sorted([\"mental\", \"rnd\", f\"rest_{TASKID.lower()}\"])\n",
    "if TASKID == \"RELATIONAL\":\n",
    "    labels_of_interest = sorted([\"match\", \"relation\", f\"rest_{TASKID.lower()}\"])\n",
    "indices = [i for i, lbl in enumerate(labels) if lbl in labels_of_interest]\n",
    "indices"
   ]
  },
  {
   "cell_type": "code",
   "execution_count": 5,
   "id": "e4359636-1ad3-4388-8fc1-2a36c4193496",
   "metadata": {},
   "outputs": [
    {
     "data": {
      "text/plain": [
       "['sub120515',\n",
       " 'sub118124',\n",
       " 'sub155938',\n",
       " 'sub103212',\n",
       " 'sub144933',\n",
       " 'sub114823',\n",
       " 'sub140117',\n",
       " 'sub131924',\n",
       " 'sub148032',\n",
       " 'sub154936',\n",
       " 'sub123420',\n",
       " 'sub138837',\n",
       " 'sub116726',\n",
       " 'sub100206',\n",
       " 'sub143224',\n",
       " 'sub157336',\n",
       " 'sub112516',\n",
       " 'sub146937',\n",
       " 'sub102614',\n",
       " 'sub137229']"
      ]
     },
     "execution_count": 5,
     "metadata": {},
     "output_type": "execute_result"
    }
   ],
   "source": [
    "test_sub_fnames = glob.glob(\"../t-maps/test/body/sub*.nii.gz\")\n",
    "test_subs = [os.path.split(test_sub_fnames[i])[1][:9] for i in range(len(test_sub_fnames))]\n",
    "test_subs"
   ]
  },
  {
   "cell_type": "code",
   "execution_count": 6,
   "id": "5029e191-df39-4248-8698-458ca04b971f",
   "metadata": {},
   "outputs": [],
   "source": [
    "path2nifti = f\"/media/philippseidel/5tb/hcp_download/{TASKID}/{test_subs[0]}_{PE}.nii.gz\"\n",
    "# load the data\n",
    "data = nib.load(path2nifti).get_fdata()\n",
    "data = np.nan_to_num(z_transform(data))\n",
    "\n",
    "data = torch.tensor(data)"
   ]
  },
  {
   "cell_type": "code",
   "execution_count": null,
   "id": "8f5376d1-8850-494d-b9a5-f13a0ddb9e4c",
   "metadata": {},
   "outputs": [],
   "source": [
    "attr = np.zeros_like(data)\n",
    "for i in tqdm(range(data.size()[-1]), desc=\"volumes\"):\n",
    "    in_vol = data[:,:,:,i].unsqueeze(0).unsqueeze(0).float()\n",
    "    attribution = attribute_with_method(LRP, volume_model, in_vol, real[i])\n",
    "\n",
    "    attr[:,:,:,i] = attribution.squeeze().detach().numpy()\n",
    "\n"
   ]
  },
  {
   "cell_type": "code",
   "execution_count": null,
   "id": "aaabb7cc-7e68-46d8-b224-812ce8e74324",
   "metadata": {},
   "outputs": [],
   "source": [
    "attr = z_transform(attr)\n",
    "save_in_mni(attr, f\"test_{TASKID}.nii.gz\")"
   ]
  },
  {
   "cell_type": "code",
   "execution_count": null,
   "id": "fab50002-cb34-4e56-990c-af2866541937",
   "metadata": {},
   "outputs": [],
   "source": [
    "from nltools.data import Brain_Data\n",
    "from delphi impTASKIDt mni_template"
   ]
  },
  {
   "cell_type": "code",
   "execution_count": null,
   "id": "f4e66ffd-e731-4ea8-b1be-492465b07e8e",
   "metadata": {},
   "outputs": [],
   "source": [
    "test = Brain_Data(\"test.nii.gz\", mask=mni_template)"
   ]
  },
  {
   "cell_type": "code",
   "execution_count": null,
   "id": "34d21740-e113-49ee-8ea4-e73d17809d30",
   "metadata": {},
   "outputs": [],
   "source": [
    "test.iplot()"
   ]
  },
  {
   "cell_type": "markdown",
   "id": "a2f41564-1ad7-4996-bb20-18814dc7739b",
   "metadata": {
    "tags": []
   },
   "source": [
    "### generate the volume wise real labels"
   ]
  },
  {
   "cell_type": "code",
   "execution_count": 10,
   "id": "1794f8f1-33d5-44fc-ae3f-48a7bf82c90e",
   "metadata": {},
   "outputs": [],
   "source": [
    "real = np.zeros(data.shape[-1])\n",
    "bold_lag = 5\n",
    "\n",
    "ctr = 0\n",
    "for i, ax in enumerate(labels_of_interest):\n",
    "    if \"rest\" in labels_of_interest[i]:\n",
    "        pass\n",
    "    else:\n",
    "        onset = np.ceil(pd.read_table(ev_files[ctr], header=None)/.72)\n",
    "        for j, on in enumerate(onset[0].values):\n",
    "            real[int(on+bold_lag):int(on+onset[1].values[0]+bold_lag)] = indices[i]+1\n",
    "    \n",
    "        ctr+=1\n",
    "\n",
    "real[real==0] = np.squeeze(np.where(np.array(f\"rest_{TASKID.lower()}\") == np.array(labels)))+1\n",
    "real = (real-1).astype(int)"
   ]
  },
  {
   "cell_type": "code",
   "execution_count": 11,
   "id": "dbff6281-9a12-4004-a4f6-245714ed6721",
   "metadata": {},
   "outputs": [
    {
     "data": {
      "text/plain": [
       "array([4, 4, 4, 4, 4, 4, 4, 4, 4, 4, 4, 4, 4, 4, 4, 4, 4, 4, 4, 4, 4, 2,\n",
       "       2, 2, 2, 2, 2, 2, 2, 2, 2, 2, 2, 2, 2, 2, 2, 2, 4, 4, 4, 4, 1, 1,\n",
       "       1, 1, 1, 1, 1, 1, 1, 1, 1, 1, 1, 1, 1, 1, 1, 4, 4, 4, 4, 4, 4, 4,\n",
       "       4, 4, 4, 4, 4, 4, 4, 4, 4, 4, 4, 4, 4, 4, 4, 4, 4, 4, 5, 5, 5, 5,\n",
       "       5, 5, 5, 5, 5, 5, 5, 5, 5, 5, 5, 5, 5, 4, 4, 4, 4, 0, 0, 0, 0, 0,\n",
       "       0, 0, 0, 0, 0, 0, 0, 0, 0, 0, 0, 0, 4, 4, 4, 4, 3, 3, 3, 3, 3, 3,\n",
       "       3, 3, 3, 3, 3, 3, 3, 3, 3, 3, 3, 4, 4, 4, 4, 4, 4, 4, 4, 4, 4, 4,\n",
       "       4, 4, 4, 4, 4, 4, 4, 4, 4, 4, 4, 4, 4, 2, 2, 2, 2, 2, 2, 2, 2, 2,\n",
       "       2, 2, 2, 2, 2, 2, 2, 2, 4, 4, 4, 4, 5, 5, 5, 5, 5, 5, 5, 5, 5, 5,\n",
       "       5, 5, 5, 5, 5, 5, 5, 4, 4, 4, 4, 1, 1, 1, 1, 1, 1, 1, 1, 1, 1, 1,\n",
       "       1, 1, 1, 1, 1, 1, 4, 4, 4, 4, 3, 3, 3, 3, 3, 3, 3, 3, 3, 3, 3, 3,\n",
       "       3, 3, 3, 3, 3, 4, 4, 4, 4, 4, 0, 0, 0, 0, 0, 0, 0, 0, 0, 0, 0, 0,\n",
       "       0, 0, 0, 0, 0, 4, 4, 4, 4, 4, 4, 4, 4, 4, 4, 4, 4, 4, 4, 4])"
      ]
     },
     "execution_count": 11,
     "metadata": {},
     "output_type": "execute_result"
    }
   ],
   "source": [
    "real"
   ]
  },
  {
   "cell_type": "markdown",
   "id": "c32f238f-a46b-4af6-8def-accc0b7e9ec4",
   "metadata": {},
   "source": [
    "### compute the accuracy for each subject"
   ]
  },
  {
   "cell_type": "code",
   "execution_count": 27,
   "id": "130f4857-0418-46dd-9719-9c6e3b6d0ea8",
   "metadata": {
    "scrolled": true,
    "tags": []
   },
   "outputs": [
    {
     "data": {
      "application/vnd.jupyter.widget-view+json": {
       "model_id": "266f2f51e9384f0e8177ed223fbffbbf",
       "version_major": 2,
       "version_minor": 0
      },
      "text/plain": [
       "testsubs: 0it [00:00, ?it/s]"
      ]
     },
     "metadata": {},
     "output_type": "display_data"
    },
    {
     "data": {
      "application/vnd.jupyter.widget-view+json": {
       "model_id": "067af0dbacfb4c1fb1c7dbe292406498",
       "version_major": 2,
       "version_minor": 0
      },
      "text/plain": [
       "volumes:   0%|          | 0/284 [00:00<?, ?it/s]"
      ]
     },
     "metadata": {},
     "output_type": "display_data"
    },
    {
     "data": {
      "application/vnd.jupyter.widget-view+json": {
       "model_id": "969b920c61874164bdba23450fe62871",
       "version_major": 2,
       "version_minor": 0
      },
      "text/plain": [
       "volumes:   0%|          | 0/284 [00:00<?, ?it/s]"
      ]
     },
     "metadata": {},
     "output_type": "display_data"
    },
    {
     "data": {
      "application/vnd.jupyter.widget-view+json": {
       "model_id": "ef96e42ff38545699274c2d3ae2aa0c0",
       "version_major": 2,
       "version_minor": 0
      },
      "text/plain": [
       "volumes:   0%|          | 0/284 [00:00<?, ?it/s]"
      ]
     },
     "metadata": {},
     "output_type": "display_data"
    },
    {
     "data": {
      "application/vnd.jupyter.widget-view+json": {
       "model_id": "60bfa07523c04506af475beea7579750",
       "version_major": 2,
       "version_minor": 0
      },
      "text/plain": [
       "volumes:   0%|          | 0/284 [00:00<?, ?it/s]"
      ]
     },
     "metadata": {},
     "output_type": "display_data"
    },
    {
     "data": {
      "application/vnd.jupyter.widget-view+json": {
       "model_id": "6dda1e484d6942d7ad4d0209824f4536",
       "version_major": 2,
       "version_minor": 0
      },
      "text/plain": [
       "volumes:   0%|          | 0/284 [00:00<?, ?it/s]"
      ]
     },
     "metadata": {},
     "output_type": "display_data"
    },
    {
     "data": {
      "application/vnd.jupyter.widget-view+json": {
       "model_id": "5093f594826b4057ac6a79fd47018b79",
       "version_major": 2,
       "version_minor": 0
      },
      "text/plain": [
       "volumes:   0%|          | 0/284 [00:00<?, ?it/s]"
      ]
     },
     "metadata": {},
     "output_type": "display_data"
    },
    {
     "data": {
      "application/vnd.jupyter.widget-view+json": {
       "model_id": "618ea0963a4d4b0cafd386151c011738",
       "version_major": 2,
       "version_minor": 0
      },
      "text/plain": [
       "volumes:   0%|          | 0/284 [00:00<?, ?it/s]"
      ]
     },
     "metadata": {},
     "output_type": "display_data"
    },
    {
     "data": {
      "application/vnd.jupyter.widget-view+json": {
       "model_id": "be8918b884dd4723b64240dbe2fb7ae4",
       "version_major": 2,
       "version_minor": 0
      },
      "text/plain": [
       "volumes:   0%|          | 0/284 [00:00<?, ?it/s]"
      ]
     },
     "metadata": {},
     "output_type": "display_data"
    },
    {
     "data": {
      "application/vnd.jupyter.widget-view+json": {
       "model_id": "7ba0a3137aad448282d6f1651c33dd59",
       "version_major": 2,
       "version_minor": 0
      },
      "text/plain": [
       "volumes:   0%|          | 0/284 [00:00<?, ?it/s]"
      ]
     },
     "metadata": {},
     "output_type": "display_data"
    },
    {
     "data": {
      "application/vnd.jupyter.widget-view+json": {
       "model_id": "7ded079d80be4f8495fbc4a2d521f8ac",
       "version_major": 2,
       "version_minor": 0
      },
      "text/plain": [
       "volumes:   0%|          | 0/284 [00:00<?, ?it/s]"
      ]
     },
     "metadata": {},
     "output_type": "display_data"
    },
    {
     "data": {
      "application/vnd.jupyter.widget-view+json": {
       "model_id": "d7bdee7cb15b45f996019fb55954480f",
       "version_major": 2,
       "version_minor": 0
      },
      "text/plain": [
       "volumes:   0%|          | 0/284 [00:00<?, ?it/s]"
      ]
     },
     "metadata": {},
     "output_type": "display_data"
    },
    {
     "data": {
      "application/vnd.jupyter.widget-view+json": {
       "model_id": "a0e8b045e1634e0a8df0aeb218ded252",
       "version_major": 2,
       "version_minor": 0
      },
      "text/plain": [
       "volumes:   0%|          | 0/284 [00:00<?, ?it/s]"
      ]
     },
     "metadata": {},
     "output_type": "display_data"
    },
    {
     "data": {
      "application/vnd.jupyter.widget-view+json": {
       "model_id": "333ceb7ca3784e108251e8797f13f13b",
       "version_major": 2,
       "version_minor": 0
      },
      "text/plain": [
       "volumes:   0%|          | 0/284 [00:00<?, ?it/s]"
      ]
     },
     "metadata": {},
     "output_type": "display_data"
    },
    {
     "data": {
      "application/vnd.jupyter.widget-view+json": {
       "model_id": "15ac5291b13c4d97a2c1c86fdd06966a",
       "version_major": 2,
       "version_minor": 0
      },
      "text/plain": [
       "volumes:   0%|          | 0/284 [00:00<?, ?it/s]"
      ]
     },
     "metadata": {},
     "output_type": "display_data"
    },
    {
     "data": {
      "application/vnd.jupyter.widget-view+json": {
       "model_id": "90d9c826e37b44b8a658cb2b09210d8c",
       "version_major": 2,
       "version_minor": 0
      },
      "text/plain": [
       "volumes:   0%|          | 0/284 [00:00<?, ?it/s]"
      ]
     },
     "metadata": {},
     "output_type": "display_data"
    },
    {
     "data": {
      "application/vnd.jupyter.widget-view+json": {
       "model_id": "e26d8343a1b44cd4bb13e2ada49aac0a",
       "version_major": 2,
       "version_minor": 0
      },
      "text/plain": [
       "volumes:   0%|          | 0/284 [00:00<?, ?it/s]"
      ]
     },
     "metadata": {},
     "output_type": "display_data"
    },
    {
     "data": {
      "application/vnd.jupyter.widget-view+json": {
       "model_id": "40dbb1e3568f4299825b275923726f9b",
       "version_major": 2,
       "version_minor": 0
      },
      "text/plain": [
       "volumes:   0%|          | 0/284 [00:00<?, ?it/s]"
      ]
     },
     "metadata": {},
     "output_type": "display_data"
    },
    {
     "data": {
      "application/vnd.jupyter.widget-view+json": {
       "model_id": "07fd9e5ee1c1409a9a700a61efd254dd",
       "version_major": 2,
       "version_minor": 0
      },
      "text/plain": [
       "volumes:   0%|          | 0/284 [00:00<?, ?it/s]"
      ]
     },
     "metadata": {},
     "output_type": "display_data"
    },
    {
     "data": {
      "application/vnd.jupyter.widget-view+json": {
       "model_id": "1f2d59e0d4754c6196fded73c0eda6fa",
       "version_major": 2,
       "version_minor": 0
      },
      "text/plain": [
       "volumes:   0%|          | 0/284 [00:00<?, ?it/s]"
      ]
     },
     "metadata": {},
     "output_type": "display_data"
    },
    {
     "data": {
      "application/vnd.jupyter.widget-view+json": {
       "model_id": "8d89e0fca49943deb2c0c1dcf6fd2662",
       "version_major": 2,
       "version_minor": 0
      },
      "text/plain": [
       "volumes:   0%|          | 0/284 [00:00<?, ?it/s]"
      ]
     },
     "metadata": {},
     "output_type": "display_data"
    }
   ],
   "source": [
    "for s, sub in tqdm(enumerate(test_subs), desc=\"testsubs\"):\n",
    "    path2nifti = f\"/media/philippseidel/5tb/hcp_download/{TASKID}/{sub}_{PE}.nii.gz\"\n",
    "    # load the data\n",
    "    data = nib.load(path2nifti).get_fdata()\n",
    "    data = np.nan_to_num(z_transform(data))\n",
    "    \n",
    "    data = torch.tensor(data)\n",
    "    \n",
    "    if s == 0:\n",
    "        predicted_volume = np.zeros((data.size()[-1], len(test_subs)))\n",
    "        predicted_t = np.zeros_like(predicted_volume)\n",
    "        \n",
    "        probs_volume = np.zeros((data.size()[-1], volume_model.config[\"n_classes\"], len(test_subs)))\n",
    "        probs_t = np.zeros((data.size()[-1], t_model.config[\"n_classes\"], len(test_subs)))\n",
    "        \n",
    "        mu_attr_vol = np.zeros_like(data)\n",
    "        \n",
    "    for i in tqdm(range(data.size()[-1]), desc=\"volumes\"):\n",
    "        in_vol = data[:,:,:,i].unsqueeze(0).unsqueeze(0).float()\n",
    "\n",
    "        # get the predictions for the model trained on volumes\n",
    "        out = volume_model.SM(volume_model(in_vol.float()))\n",
    "        probs_volume[i,:,s] = out.detach().cpu().numpy()\n",
    "        predicted_volume[i,s] = np.argmax(probs_volume[i,:, s])\n",
    "        \n",
    "        # get the predictions for the model trained on t-maps\n",
    "        out = t_model.SM(t_model(in_vol.float()))\n",
    "        probs_t[i,:,s] = out.detach().cpu().numpy()\n",
    "        predicted_t[i,s] = np.argmax(probs_t[i,:, s])        \n",
    "        \n",
    "        # compute the attributions for each volume\n",
    "        #attribution = attribute_with_method(LRP, t_model, in_vol, real[i])\n",
    "        #print(attribution.shape)\n",
    "        #mu_attr_t[:,:,:,i] += attribution.squeeze().squeeze().detach().numpy()/len(test_subs)\n",
    "        attribution = attribute_with_method(LRP, volume_model, in_vol, real[i])\n",
    "        mu_attr_vol[:,:,:,i] += attribution.squeeze().squeeze().detach().numpy()/len(test_subs)\n",
    "\n"
   ]
  },
  {
   "cell_type": "code",
   "execution_count": 32,
   "id": "b2165c59-83bd-4735-968c-f20def6e0a92",
   "metadata": {},
   "outputs": [
    {
     "data": {
      "text/plain": [
       "torch.Size([1, 1, 91, 109, 91])"
      ]
     },
     "execution_count": 32,
     "metadata": {},
     "output_type": "execute_result"
    }
   ],
   "source": [
    "attribution.shape"
   ]
  },
  {
   "cell_type": "code",
   "execution_count": 29,
   "id": "b2efafd4-dc19-4513-9fa2-64ce2c5616a3",
   "metadata": {},
   "outputs": [
    {
     "name": "stdout",
     "output_type": "stream",
     "text": [
      "Saving test_MOTOR_avg.nii.gz\n",
      "Saving test_MOTOR_avg_z.nii.gz\n"
     ]
    }
   ],
   "source": [
    "save_in_mni(mu_attr_vol, f\"test_{TASKID}_avg.nii.gz\")\n",
    "mu_attr_vol = z_transform(mu_attr_vol)\n",
    "save_in_mni(mu_attr_vol, f\"test_{TASKID}_avg_z.nii.gz\")"
   ]
  },
  {
   "cell_type": "code",
   "execution_count": null,
   "id": "27b5d486-2843-4c5c-9c1e-970a803f8982",
   "metadata": {},
   "outputs": [],
   "source": [
    "accs = np.zeros((len(test_subs), 2))\n",
    "\n",
    "for i in range(len(test_subs)):\n",
    "    accs[i, 0] = compute_accuracy(real, predicted_volume[:, i])\n",
    "    accs[i, 1] = compute_accuracy(real, predicted_t[:, i])\n",
    "\n",
    "accs"
   ]
  },
  {
   "cell_type": "code",
   "execution_count": null,
   "id": "7997e97d-c5d9-4136-8730-1ad2b9cc3f67",
   "metadata": {},
   "outputs": [],
   "source": [
    "# let's be more fair for the t-map trained NN and remove the rest parts\n",
    "accs2 = np.zeros_like(accs)\n",
    "\n",
    "real_cropped = real\n",
    "real_cropped = np.delete(real_cropped, np.where(real==4))\n",
    "\n",
    "for i in range(len(test_subs)):\n",
    "    predicted_volume_cropped = predicted_volume[:, i]\n",
    "    predicted_volume_cropped = np.delete(predicted_volume_cropped, np.where(real==4))\n",
    "    predicted_t_cropped = predicted_t[:, i]\n",
    "    predicted_t_cropped = np.delete(predicted_t_cropped, np.where(real==4))\n",
    "    \n",
    "    accs2[i, 0] = compute_accuracy(real_cropped, predicted_volume_cropped)\n",
    "    accs2[i, 1] = compute_accuracy(real_cropped, predicted_t_cropped)\n",
    "\n",
    "accs2"
   ]
  },
  {
   "cell_type": "code",
   "execution_count": null,
   "id": "fcdcf4e2-56a9-4489-9553-fc350cb1cee7",
   "metadata": {},
   "outputs": [],
   "source": [
    "print(f\"Across subjects average classification accuracy over whole-time course for {TASKID} task trained on volumes:\", accs2[:,0].mean(), \"+/-\", accs2[:,0].std()/np.sqrt(len(test_subs)), \"(s.e.m)\")\n",
    "print(f\"Across subjects average classification accuracy over whole-time course for {TASKID} task trained on tmaps:\", accs2[:,1].mean(), \"+/-\", accs2[:,1].std()/np.sqrt(len(test_subs)), \"(s.e.m)\")"
   ]
  },
  {
   "cell_type": "markdown",
   "id": "f17567cf-52ad-44ca-b9c8-15976090feff",
   "metadata": {},
   "source": [
    "### conf-mat across all subjects"
   ]
  },
  {
   "cell_type": "code",
   "execution_count": null,
   "id": "7b78c6cd-3e34-418e-b6b5-6f372a53fe7d",
   "metadata": {},
   "outputs": [],
   "source": [
    "real_vec = np.tile(real, len(test_subs))\n",
    "pred_vec = predicted.flatten('F')\n",
    "\n",
    "fig, ax = plt.subplots()\n",
    "mat, _ = confusion_matrix(real_vec, pred_vec, model.config[\"class_labels\"], ax=ax)"
   ]
  },
  {
   "cell_type": "markdown",
   "id": "d4b782f7-5c87-49da-af38-bc6f94690b55",
   "metadata": {},
   "source": [
    "### show some classification time-course (average across all test-subjects)"
   ]
  },
  {
   "cell_type": "code",
   "execution_count": null,
   "id": "a69a04c8-bb00-44b9-896f-836ef2aab294",
   "metadata": {},
   "outputs": [],
   "source": [
    "import matplotlib.pyplot as plt\n",
    "\n",
    "fig, axes = plt.subplots(len(labels_of_interest),1, figsize=(20,10), sharex=True, sharey=True)\n",
    "\n",
    "x = np.arange(len(predicted_t))*.72\n",
    "\n",
    "# the HRF peaks at about 4-6 seconds after the stimulus onset.\n",
    "bold_lag = 5\n",
    "\n",
    "mu_t = probs_t.mean(axis=2)\n",
    "sem_t = probs_t.std(axis=2)/np.sqrt(len(test_subs))\n",
    "\n",
    "mu_vol = probs_volume.mean(axis=2)\n",
    "sem_vol = probs_volume.std(axis=2)/np.sqrt(len(test_subs))\n",
    "\n",
    "ctr = 0\n",
    "for i, ax in enumerate(axes):\n",
    "    #ax.plot(predicted==indices[i], linewidth=2)\n",
    "    if i < 4:\n",
    "        ax.errorbar(np.arange(len(mu_t)), mu_t[:, i], sem_t[:,i], color='blue', zorder=1)\n",
    "    if i == 5:\n",
    "        ax.errorbar(np.arange(len(mu_t)), mu_t[:, i-1], sem_t[:,i-1], color='blue', zorder=1)\n",
    "    ax.errorbar(np.arange(len(mu_vol)), mu_vol[:, i], sem_vol[:,i], color='red', zorder=1)\n",
    "    if \"rest\" in labels_of_interest[i]:\n",
    "        pass\n",
    "    else:\n",
    "        onset = np.ceil(pd.read_table(ev_files[ctr], header=None)/.72)\n",
    "        for j, on in enumerate(onset[0].values):\n",
    "            rect=mpatches.Rectangle((on+bold_lag, -.05),onset[1].values[0], 1.05, \n",
    "                        fill = True, alpha=.2,\n",
    "                        color = \"red\",\n",
    "                        linewidth = 1)\n",
    "            ax.add_patch(rect)\n",
    "            #ax.axvline(on+bold_lag, color='r')\n",
    "            #ax.axvline(on+onset[1].values[0]+bold_lag, color='r', linestyle=\"--\")\n",
    "        ctr+=1\n",
    "    ax.set_title(labels_of_interest[i])\n",
    "\n",
    "fig.tight_layout()"
   ]
  },
  {
   "cell_type": "code",
   "execution_count": null,
   "id": "1d5a4425-c7f5-47fd-bf77-66ae00267692",
   "metadata": {},
   "outputs": [],
   "source": [
    "probs"
   ]
  },
  {
   "cell_type": "code",
   "execution_count": null,
   "id": "f987e3e7-c8ff-4b92-9174-c4d9ca5bd97f",
   "metadata": {},
   "outputs": [],
   "source": []
  }
 ],
 "metadata": {
  "kernelspec": {
   "display_name": "Python 3",
   "language": "python",
   "name": "python3"
  },
  "language_info": {
   "codemirror_mode": {
    "name": "ipython",
    "version": 3
   },
   "file_extension": ".py",
   "mimetype": "text/x-python",
   "name": "python",
   "nbconvert_exporter": "python",
   "pygments_lexer": "ipython3",
   "version": "3.8.10"
  }
 },
 "nbformat": 4,
 "nbformat_minor": 5
}
