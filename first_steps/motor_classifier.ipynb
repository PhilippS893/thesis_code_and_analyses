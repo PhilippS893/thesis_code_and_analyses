{
 "cells": [
  {
   "cell_type": "markdown",
   "id": "199f3688-c4a4-4652-865c-740ab265e6aa",
   "metadata": {},
   "source": [
    "# Train a 3D Convolutional Neural Network (3dCNN) to classify motor tasks"
   ]
  },
  {
   "cell_type": "code",
   "execution_count": 1,
   "id": "5d87eac6-0be1-4c62-b097-753fc82f131a",
   "metadata": {},
   "outputs": [],
   "source": [
    "import os\n",
    "import wandb\n",
    "import torch\n",
    "import pandas as pd\n",
    "import numpy as np\n",
    "import time\n",
    "from glob import glob\n",
    "from torch.utils.data import DataLoader\n",
    "from torchinfo import summary\n",
    "\n",
    "from delphi.networks.ConvNets import BrainStateClassifier3d\n",
    "from delphi.utils.datasets import NiftiDataset\n",
    "from delphi.utils.tools import ToTensor, compute_accuracy, convert_wandb_config, read_config\n",
    "from sklearn.model_selection import StratifiedShuffleSplit\n",
    "\n",
    "DEVICE = torch.device(\"cuda:0\" if torch.cuda.is_available() else \"cpu\")"
   ]
  },
  {
   "cell_type": "code",
   "execution_count": 2,
   "id": "fe5ca42e-df0c-46ef-a1cf-771b1fa3d88c",
   "metadata": {},
   "outputs": [],
   "source": [
    "def set_random_seed(seed):\n",
    "    import random\n",
    "    torch.backends.cudnn.benchmark = False\n",
    "    torch.manual_seed(seed)\n",
    "    random.seed(seed)\n",
    "    np.random.seed(seed)\n",
    "    g = torch.Generator()  # can be used in pytorch dataloaders for reproducible sample selection when shuffle=True\n",
    "    g.manual_seed(seed)\n",
    "\n",
    "    return g\n",
    "\n",
    "g = set_random_seed(2020)"
   ]
  },
  {
   "cell_type": "code",
   "execution_count": 3,
   "id": "eaf46778-196b-4de0-a1a8-095a5224be86",
   "metadata": {},
   "outputs": [],
   "source": [
    "def wandb_plots(y_true, y_pred, y_prob, class_labels, dataset):\n",
    "    wandb.log({\n",
    "        f\"{dataset}-ROC\": wandb.plot.roc_curve(y_true=y_true, y_probas=y_prob, labels=class_labels),\n",
    "        f\"{dataset}-PR\": wandb.plot.pr_curve(y_true=y_true, y_probas=y_prob, labels=class_labels, ),\n",
    "        f\"{dataset}-ConfMat\": wandb.plot.confusion_matrix(y_true=y_true, preds=y_pred, class_names=class_labels)\n",
    "    })"
   ]
  },
  {
   "cell_type": "code",
   "execution_count": 4,
   "id": "acec5605-27f4-452f-88d1-07a0f54d69b8",
   "metadata": {},
   "outputs": [],
   "source": [
    "class_labels = sorted([\"handleft\", \"handright\", \"footleft\", \"footright\", \"tongue\"])\n",
    "\n",
    "data_test = NiftiDataset(\"../t-maps/test\", class_labels, 0, device=DEVICE, transform=ToTensor())\n",
    "\n",
    "# we will split the train dataset into a train (80%) and validation (20%) set.\n",
    "data_train_full = NiftiDataset(\"../t-maps/train\", class_labels, 0, device=DEVICE, transform=ToTensor())\n",
    "\n",
    "# we want one stratified shuffled split\n",
    "sss = StratifiedShuffleSplit(n_splits=1, test_size=0.2, random_state=2020)\n",
    "idx_train, idx_valid = next(sss.split(data_train_full.data, data_train_full.labels))\n",
    "\n",
    "data_train = torch.utils.data.Subset(data_train_full, idx_train)\n",
    "data_valid = torch.utils.data.Subset(data_train_full, idx_valid)"
   ]
  },
  {
   "cell_type": "code",
   "execution_count": 5,
   "id": "a63a7c20-7699-406a-bbb2-84ef316ea5ee",
   "metadata": {},
   "outputs": [
    {
     "name": "stdout",
     "output_type": "stream",
     "text": [
      "==========================================================================================\n",
      "Layer (type:depth-idx)                   Output Shape              Param #\n",
      "==========================================================================================\n",
      "BrainStateClassifier3d                   [1, 5]                    --\n",
      "├─Sequential: 1-1                        --                        --\n",
      "│    └─Sequential: 2-1                   [1, 8, 45, 54, 45]        --\n",
      "│    │    └─Conv3d: 3-1                  [1, 8, 91, 109, 91]       1,008\n",
      "│    │    └─ReLU: 3-2                    [1, 8, 91, 109, 91]       --\n",
      "│    │    └─MaxPool3d: 3-3               [1, 8, 45, 54, 45]        --\n",
      "│    └─Sequential: 2-2                   [1, 16, 22, 27, 22]       --\n",
      "│    │    └─Conv3d: 3-4                  [1, 16, 45, 54, 45]       16,016\n",
      "│    │    └─ReLU: 3-5                    [1, 16, 45, 54, 45]       --\n",
      "│    │    └─MaxPool3d: 3-6               [1, 16, 22, 27, 22]       --\n",
      "│    └─Sequential: 2-3                   [1, 32, 11, 13, 11]       --\n",
      "│    │    └─Conv3d: 3-7                  [1, 32, 22, 27, 22]       64,032\n",
      "│    │    └─ReLU: 3-8                    [1, 32, 22, 27, 22]       --\n",
      "│    │    └─MaxPool3d: 3-9               [1, 32, 11, 13, 11]       --\n",
      "│    └─Sequential: 2-4                   [1, 64, 5, 6, 5]          --\n",
      "│    │    └─Conv3d: 3-10                 [1, 64, 11, 13, 11]       256,064\n",
      "│    │    └─ReLU: 3-11                   [1, 64, 11, 13, 11]       --\n",
      "│    │    └─MaxPool3d: 3-12              [1, 64, 5, 6, 5]          --\n",
      "├─Dropout: 1-2                           [1, 9600]                 --\n",
      "├─Sequential: 1-5                        --                        (recursive)\n",
      "│    └─Sequential: 2-5                   [1, 128]                  --\n",
      "│    │    └─Linear: 3-13                 [1, 128]                  1,228,928\n",
      "│    │    └─ReLU: 3-14                   [1, 128]                  --\n",
      "├─Dropout: 1-4                           [1, 128]                  --\n",
      "├─Sequential: 1-5                        --                        (recursive)\n",
      "│    └─Sequential: 2-6                   [1, 64]                   --\n",
      "│    │    └─Linear: 3-15                 [1, 64]                   8,256\n",
      "│    │    └─ReLU: 3-16                   [1, 64]                   --\n",
      "├─Linear: 1-6                            [1, 5]                    325\n",
      "==========================================================================================\n",
      "Total params: 1,574,629\n",
      "Trainable params: 1,574,629\n",
      "Non-trainable params: 0\n",
      "Total mult-adds (G): 3.90\n",
      "==========================================================================================\n",
      "Input size (MB): 3.61\n",
      "Forward/backward pass size (MB): 75.92\n",
      "Params size (MB): 6.30\n",
      "Estimated Total Size (MB): 85.83\n",
      "==========================================================================================\n"
     ]
    }
   ],
   "source": [
    "model_cfg = {\n",
    "    \"channels\": [1, 8, 16, 32, 64],\n",
    "    \"lin_neurons\": [128, 64],\n",
    "    \"pooling_kernel\": 2,\n",
    "    \"kernel_size\": 5,\n",
    "    \"dropout\": .5,\n",
    "}\n",
    "input_dims = (91, 109, 91)\n",
    "model = BrainStateClassifier3d(input_dims, len(class_labels), model_cfg)\n",
    "print(summary(model, (1,1,91,109,91)))"
   ]
  },
  {
   "cell_type": "code",
   "execution_count": 6,
   "id": "b2c0b297-b18d-4e6d-b965-8f32551c649c",
   "metadata": {},
   "outputs": [],
   "source": [
    "# set the wandb sweep config\n",
    "# os.environ['WANDB_MODE'] = 'offline'\n",
    "os.environ['WANDB_ENTITY'] = \"philis893\" # this is my wandb account name. This can also be a group name, for example\n",
    "os.environ['WANDB_PROJECT'] = \"thesis\" # this is simply the project name where we want to store the sweep logs and plots"
   ]
  },
  {
   "cell_type": "code",
   "execution_count": 7,
   "id": "b2b8cc5c-121f-40b0-92f2-15a4df670785",
   "metadata": {},
   "outputs": [
    {
     "name": "stderr",
     "output_type": "stream",
     "text": [
      "\u001b[34m\u001b[1mwandb\u001b[0m: Currently logged in as: \u001b[33mphilis893\u001b[0m. Use \u001b[1m`wandb login --relogin`\u001b[0m to force relogin\n"
     ]
    },
    {
     "data": {
      "text/html": [
       "wandb version 0.13.4 is available!  To upgrade, please run:\n",
       " $ pip install wandb --upgrade"
      ],
      "text/plain": [
       "<IPython.core.display.HTML object>"
      ]
     },
     "metadata": {},
     "output_type": "display_data"
    },
    {
     "data": {
      "text/html": [
       "Tracking run with wandb version 0.12.21"
      ],
      "text/plain": [
       "<IPython.core.display.HTML object>"
      ]
     },
     "metadata": {},
     "output_type": "display_data"
    },
    {
     "data": {
      "text/html": [
       "Run data is saved locally in <code>/Users/phisei/Documents/phd/thesis_code_and_analyses/first_steps/wandb/run-20221010_110941-2klz1d9h</code>"
      ],
      "text/plain": [
       "<IPython.core.display.HTML object>"
      ]
     },
     "metadata": {},
     "output_type": "display_data"
    },
    {
     "data": {
      "text/html": [
       "Syncing run <strong><a href=\"https://wandb.ai/philis893/thesis/runs/2klz1d9h\" target=\"_blank\">motor-classifier</a></strong> to <a href=\"https://wandb.ai/philis893/thesis\" target=\"_blank\">Weights & Biases</a> (<a href=\"https://wandb.me/run\" target=\"_blank\">docs</a>)<br/>"
      ],
      "text/plain": [
       "<IPython.core.display.HTML object>"
      ]
     },
     "metadata": {},
     "output_type": "display_data"
    },
    {
     "data": {
      "application/json": {
       "ascii": false,
       "bar_format": null,
       "colour": null,
       "elapsed": 0.012559890747070312,
       "initial": 0,
       "n": 0,
       "ncols": null,
       "nrows": null,
       "postfix": null,
       "prefix": "",
       "rate": null,
       "total": null,
       "unit": "it",
       "unit_divisor": 1000,
       "unit_scale": false
      },
      "application/vnd.jupyter.widget-view+json": {
       "model_id": "e6a4cbbb93bc47ebb7c071bed769254d",
       "version_major": 2,
       "version_minor": 0
      },
      "text/plain": [
       "0it [00:00, ?it/s]"
      ]
     },
     "metadata": {},
     "output_type": "display_data"
    },
    {
     "data": {
      "application/json": {
       "ascii": false,
       "bar_format": null,
       "colour": null,
       "elapsed": 0.010521888732910156,
       "initial": 0,
       "n": 0,
       "ncols": null,
       "nrows": null,
       "postfix": null,
       "prefix": "",
       "rate": null,
       "total": null,
       "unit": "it",
       "unit_divisor": 1000,
       "unit_scale": false
      },
      "application/vnd.jupyter.widget-view+json": {
       "model_id": "32d3b43f710941068d72d157dc30fc6e",
       "version_major": 2,
       "version_minor": 0
      },
      "text/plain": [
       "0it [00:00, ?it/s]"
      ]
     },
     "metadata": {},
     "output_type": "display_data"
    },
    {
     "data": {
      "application/json": {
       "ascii": false,
       "bar_format": null,
       "colour": null,
       "elapsed": 0.010275125503540039,
       "initial": 0,
       "n": 0,
       "ncols": null,
       "nrows": null,
       "postfix": null,
       "prefix": "",
       "rate": null,
       "total": null,
       "unit": "it",
       "unit_divisor": 1000,
       "unit_scale": false
      },
      "application/vnd.jupyter.widget-view+json": {
       "model_id": "36d3424d2c084a40bd407c453ce23e57",
       "version_major": 2,
       "version_minor": 0
      },
      "text/plain": [
       "0it [00:00, ?it/s]"
      ]
     },
     "metadata": {},
     "output_type": "display_data"
    },
    {
     "name": "stdout",
     "output_type": "stream",
     "text": [
      "Epoch=000, train_loss=1.601, train_acc=0.348, valid_loss=1.602, valid_acc=0.314\n",
      "Saving motor-classifier/state_dict.pth\n"
     ]
    },
    {
     "data": {
      "application/json": {
       "ascii": false,
       "bar_format": null,
       "colour": null,
       "elapsed": 0.02039504051208496,
       "initial": 0,
       "n": 0,
       "ncols": null,
       "nrows": null,
       "postfix": null,
       "prefix": "",
       "rate": null,
       "total": null,
       "unit": "it",
       "unit_divisor": 1000,
       "unit_scale": false
      },
      "application/vnd.jupyter.widget-view+json": {
       "model_id": "8cb73f57f9304907b23bb88c7877eb88",
       "version_major": 2,
       "version_minor": 0
      },
      "text/plain": [
       "0it [00:00, ?it/s]"
      ]
     },
     "metadata": {},
     "output_type": "display_data"
    },
    {
     "data": {
      "application/json": {
       "ascii": false,
       "bar_format": null,
       "colour": null,
       "elapsed": 0.011433124542236328,
       "initial": 0,
       "n": 0,
       "ncols": null,
       "nrows": null,
       "postfix": null,
       "prefix": "",
       "rate": null,
       "total": null,
       "unit": "it",
       "unit_divisor": 1000,
       "unit_scale": false
      },
      "application/vnd.jupyter.widget-view+json": {
       "model_id": "80c275c9538e4ee6a8fdd1df14fc0f0a",
       "version_major": 2,
       "version_minor": 0
      },
      "text/plain": [
       "0it [00:00, ?it/s]"
      ]
     },
     "metadata": {},
     "output_type": "display_data"
    },
    {
     "data": {
      "application/json": {
       "ascii": false,
       "bar_format": null,
       "colour": null,
       "elapsed": 0.011820077896118164,
       "initial": 0,
       "n": 0,
       "ncols": null,
       "nrows": null,
       "postfix": null,
       "prefix": "",
       "rate": null,
       "total": null,
       "unit": "it",
       "unit_divisor": 1000,
       "unit_scale": false
      },
      "application/vnd.jupyter.widget-view+json": {
       "model_id": "c0c6e2a400ff4657ba1b4f9bb3f3d29d",
       "version_major": 2,
       "version_minor": 0
      },
      "text/plain": [
       "0it [00:00, ?it/s]"
      ]
     },
     "metadata": {},
     "output_type": "display_data"
    },
    {
     "name": "stdout",
     "output_type": "stream",
     "text": [
      "Epoch=001, train_loss=1.591, train_acc=0.200, valid_loss=1.594, valid_acc=0.200\n"
     ]
    },
    {
     "data": {
      "application/json": {
       "ascii": false,
       "bar_format": null,
       "colour": null,
       "elapsed": 0.012590169906616211,
       "initial": 0,
       "n": 0,
       "ncols": null,
       "nrows": null,
       "postfix": null,
       "prefix": "",
       "rate": null,
       "total": null,
       "unit": "it",
       "unit_divisor": 1000,
       "unit_scale": false
      },
      "application/vnd.jupyter.widget-view+json": {
       "model_id": "016de4bcc5734313b758e6a7cdebf977",
       "version_major": 2,
       "version_minor": 0
      },
      "text/plain": [
       "0it [00:00, ?it/s]"
      ]
     },
     "metadata": {},
     "output_type": "display_data"
    },
    {
     "data": {
      "application/json": {
       "ascii": false,
       "bar_format": null,
       "colour": null,
       "elapsed": 0.010141134262084961,
       "initial": 0,
       "n": 0,
       "ncols": null,
       "nrows": null,
       "postfix": null,
       "prefix": "",
       "rate": null,
       "total": null,
       "unit": "it",
       "unit_divisor": 1000,
       "unit_scale": false
      },
      "application/vnd.jupyter.widget-view+json": {
       "model_id": "f2f9d360e8bf4df4a771cac00e6e188c",
       "version_major": 2,
       "version_minor": 0
      },
      "text/plain": [
       "0it [00:00, ?it/s]"
      ]
     },
     "metadata": {},
     "output_type": "display_data"
    },
    {
     "data": {
      "application/json": {
       "ascii": false,
       "bar_format": null,
       "colour": null,
       "elapsed": 0.010133981704711914,
       "initial": 0,
       "n": 0,
       "ncols": null,
       "nrows": null,
       "postfix": null,
       "prefix": "",
       "rate": null,
       "total": null,
       "unit": "it",
       "unit_divisor": 1000,
       "unit_scale": false
      },
      "application/vnd.jupyter.widget-view+json": {
       "model_id": "738c9ca5c9fd438199232285c3d534eb",
       "version_major": 2,
       "version_minor": 0
      },
      "text/plain": [
       "0it [00:00, ?it/s]"
      ]
     },
     "metadata": {},
     "output_type": "display_data"
    },
    {
     "name": "stdout",
     "output_type": "stream",
     "text": [
      "Epoch=002, train_loss=1.579, train_acc=0.200, valid_loss=1.585, valid_acc=0.200\n"
     ]
    },
    {
     "data": {
      "application/json": {
       "ascii": false,
       "bar_format": null,
       "colour": null,
       "elapsed": 0.010439872741699219,
       "initial": 0,
       "n": 0,
       "ncols": null,
       "nrows": null,
       "postfix": null,
       "prefix": "",
       "rate": null,
       "total": null,
       "unit": "it",
       "unit_divisor": 1000,
       "unit_scale": false
      },
      "application/vnd.jupyter.widget-view+json": {
       "model_id": "edf5b06c666744ca80f0f1ec68ddaf88",
       "version_major": 2,
       "version_minor": 0
      },
      "text/plain": [
       "0it [00:00, ?it/s]"
      ]
     },
     "metadata": {},
     "output_type": "display_data"
    },
    {
     "data": {
      "application/json": {
       "ascii": false,
       "bar_format": null,
       "colour": null,
       "elapsed": 0.010223865509033203,
       "initial": 0,
       "n": 0,
       "ncols": null,
       "nrows": null,
       "postfix": null,
       "prefix": "",
       "rate": null,
       "total": null,
       "unit": "it",
       "unit_divisor": 1000,
       "unit_scale": false
      },
      "application/vnd.jupyter.widget-view+json": {
       "model_id": "02947f1daf1d474096ffc427aff95b6d",
       "version_major": 2,
       "version_minor": 0
      },
      "text/plain": [
       "0it [00:00, ?it/s]"
      ]
     },
     "metadata": {},
     "output_type": "display_data"
    },
    {
     "data": {
      "text/html": [
       "Waiting for W&B process to finish... <strong style=\"color:red\">(failed 1).</strong> Press Control-C to abort syncing."
      ],
      "text/plain": [
       "<IPython.core.display.HTML object>"
      ]
     },
     "metadata": {},
     "output_type": "display_data"
    },
    {
     "data": {
      "application/vnd.jupyter.widget-view+json": {
       "model_id": "",
       "version_major": 2,
       "version_minor": 0
      },
      "text/plain": [
       "VBox(children=(Label(value='0.085 MB of 0.085 MB uploaded (0.000 MB deduped)\\r'), FloatProgress(value=1.0, max…"
      ]
     },
     "metadata": {},
     "output_type": "display_data"
    },
    {
     "data": {
      "text/html": [
       "<style>\n",
       "    table.wandb td:nth-child(1) { padding: 0 10px; text-align: left ; width: auto;} td:nth-child(2) {text-align: left ; width: 100%}\n",
       "    .wandb-row { display: flex; flex-direction: row; flex-wrap: wrap; justify-content: flex-start; width: 100% }\n",
       "    .wandb-col { display: flex; flex-direction: column; flex-basis: 100%; flex: 1; padding: 10px; }\n",
       "    </style>\n",
       "<div class=\"wandb-row\"><div class=\"wandb-col\"><h3>Run history:</h3><br/><table class=\"wandb\"><tr><td>train_acc</td><td>█▁▁</td></tr><tr><td>train_loss</td><td>█▅▁</td></tr><tr><td>valid_acc</td><td>█▁▁</td></tr><tr><td>valid_loss</td><td>█▅▁</td></tr></table><br/></div><div class=\"wandb-col\"><h3>Run summary:</h3><br/><table class=\"wandb\"><tr><td>best_valid_accuracy</td><td>0.31429</td></tr><tr><td>best_valid_epoch</td><td>0</td></tr><tr><td>train_acc</td><td>0.2</td></tr><tr><td>train_loss</td><td>1.5792</td></tr><tr><td>valid_acc</td><td>0.2</td></tr><tr><td>valid_loss</td><td>1.58547</td></tr></table><br/></div></div>"
      ],
      "text/plain": [
       "<IPython.core.display.HTML object>"
      ]
     },
     "metadata": {},
     "output_type": "display_data"
    },
    {
     "data": {
      "text/html": [
       "Synced <strong style=\"color:#cdcd00\">motor-classifier</strong>: <a href=\"https://wandb.ai/philis893/thesis/runs/2klz1d9h\" target=\"_blank\">https://wandb.ai/philis893/thesis/runs/2klz1d9h</a><br/>Synced 7 W&B file(s), 3 media file(s), 5 artifact file(s) and 1 other file(s)"
      ],
      "text/plain": [
       "<IPython.core.display.HTML object>"
      ]
     },
     "metadata": {},
     "output_type": "display_data"
    },
    {
     "data": {
      "text/html": [
       "Find logs at: <code>./wandb/run-20221010_110941-2klz1d9h/logs</code>"
      ],
      "text/plain": [
       "<IPython.core.display.HTML object>"
      ]
     },
     "metadata": {},
     "output_type": "display_data"
    },
    {
     "ename": "KeyboardInterrupt",
     "evalue": "",
     "output_type": "error",
     "traceback": [
      "\u001b[0;31m---------------------------------------------------------------------------\u001b[0m",
      "\u001b[0;31mKeyboardInterrupt\u001b[0m                         Traceback (most recent call last)",
      "Input \u001b[0;32mIn [7]\u001b[0m, in \u001b[0;36m<cell line: 2>\u001b[0;34m()\u001b[0m\n\u001b[1;32m     19\u001b[0m \u001b[38;5;66;03m# for validating or testing set the network into evaluation mode such that layers like dropout are not active\u001b[39;00m\n\u001b[1;32m     20\u001b[0m \u001b[38;5;28;01mwith\u001b[39;00m torch\u001b[38;5;241m.\u001b[39mno_grad():\n\u001b[0;32m---> 21\u001b[0m     tloss, tstats \u001b[38;5;241m=\u001b[39m \u001b[43mmodel\u001b[49m\u001b[38;5;241;43m.\u001b[39;49m\u001b[43mfit\u001b[49m\u001b[43m(\u001b[49m\u001b[43mdl_train\u001b[49m\u001b[43m,\u001b[49m\u001b[43m \u001b[49m\u001b[43mdevice\u001b[49m\u001b[38;5;241;43m=\u001b[39;49m\u001b[43mDEVICE\u001b[49m\u001b[43m,\u001b[49m\u001b[43m \u001b[49m\u001b[43mtrain\u001b[49m\u001b[38;5;241;43m=\u001b[39;49m\u001b[38;5;28;43;01mFalse\u001b[39;49;00m\u001b[43m)\u001b[49m\n\u001b[1;32m     22\u001b[0m     vloss, vstats \u001b[38;5;241m=\u001b[39m model\u001b[38;5;241m.\u001b[39mfit(dl_valid, device\u001b[38;5;241m=\u001b[39mDEVICE, train\u001b[38;5;241m=\u001b[39m\u001b[38;5;28;01mFalse\u001b[39;00m)\n\u001b[1;32m     24\u001b[0m \u001b[38;5;66;03m# the model.fit() method has 2 output parameters: loss, stats = model.fit()\u001b[39;00m\n\u001b[1;32m     25\u001b[0m \u001b[38;5;66;03m# the first parameter is simply the loss for each sample\u001b[39;00m\n\u001b[1;32m     26\u001b[0m \u001b[38;5;66;03m# the second parameter is a matrix of n_classes+2-by-n_samples\u001b[39;00m\n\u001b[1;32m     27\u001b[0m \u001b[38;5;66;03m# the first n_classes columns are the output probabilities of the model per class\u001b[39;00m\n\u001b[1;32m     28\u001b[0m \u001b[38;5;66;03m# the second to last column (i.e., [:, -2]) represents the real labels\u001b[39;00m\n\u001b[1;32m     29\u001b[0m \u001b[38;5;66;03m# the last column (i.e., [:, -1]) represents the predicted labels\u001b[39;00m\n",
      "File \u001b[0;32m~/Documents/phd/delphi/delphi/networks/Base.py:131\u001b[0m, in \u001b[0;36mTemplateModel.fit\u001b[0;34m(self, train_data, **kwargs)\u001b[0m\n\u001b[1;32m    130\u001b[0m \u001b[38;5;28;01mdef\u001b[39;00m \u001b[38;5;21mfit\u001b[39m(\u001b[38;5;28mself\u001b[39m, train_data: DataLoader, \u001b[38;5;241m*\u001b[39m\u001b[38;5;241m*\u001b[39mkwargs):\n\u001b[0;32m--> 131\u001b[0m     \u001b[38;5;28;01mreturn\u001b[39;00m \u001b[38;5;28;43mself\u001b[39;49m\u001b[38;5;241;43m.\u001b[39;49m\u001b[43mtrain_fn\u001b[49m\u001b[43m(\u001b[49m\n\u001b[1;32m    132\u001b[0m \u001b[43m        \u001b[49m\u001b[38;5;28;43mself\u001b[39;49m\u001b[43m,\u001b[49m\n\u001b[1;32m    133\u001b[0m \u001b[43m        \u001b[49m\u001b[43mtrain_data\u001b[49m\u001b[43m,\u001b[49m\n\u001b[1;32m    134\u001b[0m \u001b[43m        \u001b[49m\u001b[38;5;241;43m*\u001b[39;49m\u001b[38;5;241;43m*\u001b[39;49m\u001b[43mkwargs\u001b[49m\n\u001b[1;32m    135\u001b[0m \u001b[43m    \u001b[49m\u001b[43m)\u001b[49m\n",
      "File \u001b[0;32m~/Documents/phd/delphi/delphi/utils/train_fns.py:76\u001b[0m, in \u001b[0;36mstandard_train\u001b[0;34m(model, train_data, loss_fn, optimizer, lr, device, train, **optimizer_kwargs)\u001b[0m\n\u001b[1;32m     73\u001b[0m     \u001b[38;5;28;01mfor\u001b[39;00m p \u001b[38;5;129;01min\u001b[39;00m model\u001b[38;5;241m.\u001b[39mparameters():\n\u001b[1;32m     74\u001b[0m         p\u001b[38;5;241m.\u001b[39mgrad \u001b[38;5;241m=\u001b[39m \u001b[38;5;28;01mNone\u001b[39;00m\n\u001b[0;32m---> 76\u001b[0m outputs \u001b[38;5;241m=\u001b[39m \u001b[43mmodel\u001b[49m\u001b[43m(\u001b[49m\u001b[43minputs\u001b[49m\u001b[38;5;241;43m.\u001b[39;49m\u001b[43mfloat\u001b[49m\u001b[43m(\u001b[49m\u001b[43m)\u001b[49m\u001b[43m)\u001b[49m  \u001b[38;5;66;03m# forward pass through model\u001b[39;00m\n\u001b[1;32m     78\u001b[0m loss \u001b[38;5;241m=\u001b[39m loss_fn(outputs\u001b[38;5;241m.\u001b[39msqueeze(), labels\u001b[38;5;241m.\u001b[39msqueeze())  \u001b[38;5;66;03m# calculate loss\u001b[39;00m\n\u001b[1;32m     80\u001b[0m \u001b[38;5;66;03m# in this statement we check if the network is currently in training mode,\u001b[39;00m\n\u001b[1;32m     81\u001b[0m \u001b[38;5;66;03m# which means, that every layer in the network has the required_grad flag set\u001b[39;00m\n\u001b[1;32m     82\u001b[0m \u001b[38;5;66;03m# to True. This in turn means that the backpropagation algorithm is executed.\u001b[39;00m\n\u001b[1;32m     83\u001b[0m \u001b[38;5;66;03m# If the model, however, is not in training mode we do not want to exectue\u001b[39;00m\n\u001b[1;32m     84\u001b[0m \u001b[38;5;66;03m# the backward pass and we also do not want to store the so-called pytorch graph.\u001b[39;00m\n",
      "File \u001b[0;32m~/opt/anaconda3/envs/delphi/lib/python3.8/site-packages/torch/nn/modules/module.py:1130\u001b[0m, in \u001b[0;36mModule._call_impl\u001b[0;34m(self, *input, **kwargs)\u001b[0m\n\u001b[1;32m   1126\u001b[0m \u001b[38;5;66;03m# If we don't have any hooks, we want to skip the rest of the logic in\u001b[39;00m\n\u001b[1;32m   1127\u001b[0m \u001b[38;5;66;03m# this function, and just call forward.\u001b[39;00m\n\u001b[1;32m   1128\u001b[0m \u001b[38;5;28;01mif\u001b[39;00m \u001b[38;5;129;01mnot\u001b[39;00m (\u001b[38;5;28mself\u001b[39m\u001b[38;5;241m.\u001b[39m_backward_hooks \u001b[38;5;129;01mor\u001b[39;00m \u001b[38;5;28mself\u001b[39m\u001b[38;5;241m.\u001b[39m_forward_hooks \u001b[38;5;129;01mor\u001b[39;00m \u001b[38;5;28mself\u001b[39m\u001b[38;5;241m.\u001b[39m_forward_pre_hooks \u001b[38;5;129;01mor\u001b[39;00m _global_backward_hooks\n\u001b[1;32m   1129\u001b[0m         \u001b[38;5;129;01mor\u001b[39;00m _global_forward_hooks \u001b[38;5;129;01mor\u001b[39;00m _global_forward_pre_hooks):\n\u001b[0;32m-> 1130\u001b[0m     \u001b[38;5;28;01mreturn\u001b[39;00m \u001b[43mforward_call\u001b[49m\u001b[43m(\u001b[49m\u001b[38;5;241;43m*\u001b[39;49m\u001b[38;5;28;43minput\u001b[39;49m\u001b[43m,\u001b[49m\u001b[43m \u001b[49m\u001b[38;5;241;43m*\u001b[39;49m\u001b[38;5;241;43m*\u001b[39;49m\u001b[43mkwargs\u001b[49m\u001b[43m)\u001b[49m\n\u001b[1;32m   1131\u001b[0m \u001b[38;5;66;03m# Do not call functions when jit is used\u001b[39;00m\n\u001b[1;32m   1132\u001b[0m full_backward_hooks, non_full_backward_hooks \u001b[38;5;241m=\u001b[39m [], []\n",
      "File \u001b[0;32m~/Documents/phd/delphi/delphi/networks/ConvNets.py:121\u001b[0m, in \u001b[0;36mBrainStateClassifier3d.forward\u001b[0;34m(self, x)\u001b[0m\n\u001b[1;32m    119\u001b[0m \u001b[38;5;66;03m# pass the input sequentially through all convlayers first\u001b[39;00m\n\u001b[1;32m    120\u001b[0m \u001b[38;5;28;01mfor\u001b[39;00m i, convlayer \u001b[38;5;129;01min\u001b[39;00m \u001b[38;5;28menumerate\u001b[39m(\u001b[38;5;28mself\u001b[39m\u001b[38;5;241m.\u001b[39mconv):\n\u001b[0;32m--> 121\u001b[0m     x \u001b[38;5;241m=\u001b[39m \u001b[43mconvlayer\u001b[49m\u001b[43m(\u001b[49m\u001b[43mx\u001b[49m\u001b[43m)\u001b[49m\n\u001b[1;32m    123\u001b[0m \u001b[38;5;66;03m# flatten the output of the last convlayer (linlayers want a 1D input)\u001b[39;00m\n\u001b[1;32m    124\u001b[0m x \u001b[38;5;241m=\u001b[39m x\u001b[38;5;241m.\u001b[39mview(x\u001b[38;5;241m.\u001b[39msize(\u001b[38;5;241m0\u001b[39m), \u001b[38;5;241m-\u001b[39m\u001b[38;5;241m1\u001b[39m)\n",
      "File \u001b[0;32m~/opt/anaconda3/envs/delphi/lib/python3.8/site-packages/torch/nn/modules/module.py:1130\u001b[0m, in \u001b[0;36mModule._call_impl\u001b[0;34m(self, *input, **kwargs)\u001b[0m\n\u001b[1;32m   1126\u001b[0m \u001b[38;5;66;03m# If we don't have any hooks, we want to skip the rest of the logic in\u001b[39;00m\n\u001b[1;32m   1127\u001b[0m \u001b[38;5;66;03m# this function, and just call forward.\u001b[39;00m\n\u001b[1;32m   1128\u001b[0m \u001b[38;5;28;01mif\u001b[39;00m \u001b[38;5;129;01mnot\u001b[39;00m (\u001b[38;5;28mself\u001b[39m\u001b[38;5;241m.\u001b[39m_backward_hooks \u001b[38;5;129;01mor\u001b[39;00m \u001b[38;5;28mself\u001b[39m\u001b[38;5;241m.\u001b[39m_forward_hooks \u001b[38;5;129;01mor\u001b[39;00m \u001b[38;5;28mself\u001b[39m\u001b[38;5;241m.\u001b[39m_forward_pre_hooks \u001b[38;5;129;01mor\u001b[39;00m _global_backward_hooks\n\u001b[1;32m   1129\u001b[0m         \u001b[38;5;129;01mor\u001b[39;00m _global_forward_hooks \u001b[38;5;129;01mor\u001b[39;00m _global_forward_pre_hooks):\n\u001b[0;32m-> 1130\u001b[0m     \u001b[38;5;28;01mreturn\u001b[39;00m \u001b[43mforward_call\u001b[49m\u001b[43m(\u001b[49m\u001b[38;5;241;43m*\u001b[39;49m\u001b[38;5;28;43minput\u001b[39;49m\u001b[43m,\u001b[49m\u001b[43m \u001b[49m\u001b[38;5;241;43m*\u001b[39;49m\u001b[38;5;241;43m*\u001b[39;49m\u001b[43mkwargs\u001b[49m\u001b[43m)\u001b[49m\n\u001b[1;32m   1131\u001b[0m \u001b[38;5;66;03m# Do not call functions when jit is used\u001b[39;00m\n\u001b[1;32m   1132\u001b[0m full_backward_hooks, non_full_backward_hooks \u001b[38;5;241m=\u001b[39m [], []\n",
      "File \u001b[0;32m~/opt/anaconda3/envs/delphi/lib/python3.8/site-packages/torch/nn/modules/container.py:139\u001b[0m, in \u001b[0;36mSequential.forward\u001b[0;34m(self, input)\u001b[0m\n\u001b[1;32m    137\u001b[0m \u001b[38;5;28;01mdef\u001b[39;00m \u001b[38;5;21mforward\u001b[39m(\u001b[38;5;28mself\u001b[39m, \u001b[38;5;28minput\u001b[39m):\n\u001b[1;32m    138\u001b[0m     \u001b[38;5;28;01mfor\u001b[39;00m module \u001b[38;5;129;01min\u001b[39;00m \u001b[38;5;28mself\u001b[39m:\n\u001b[0;32m--> 139\u001b[0m         \u001b[38;5;28minput\u001b[39m \u001b[38;5;241m=\u001b[39m \u001b[43mmodule\u001b[49m\u001b[43m(\u001b[49m\u001b[38;5;28;43minput\u001b[39;49m\u001b[43m)\u001b[49m\n\u001b[1;32m    140\u001b[0m     \u001b[38;5;28;01mreturn\u001b[39;00m \u001b[38;5;28minput\u001b[39m\n",
      "File \u001b[0;32m~/opt/anaconda3/envs/delphi/lib/python3.8/site-packages/torch/nn/modules/module.py:1130\u001b[0m, in \u001b[0;36mModule._call_impl\u001b[0;34m(self, *input, **kwargs)\u001b[0m\n\u001b[1;32m   1126\u001b[0m \u001b[38;5;66;03m# If we don't have any hooks, we want to skip the rest of the logic in\u001b[39;00m\n\u001b[1;32m   1127\u001b[0m \u001b[38;5;66;03m# this function, and just call forward.\u001b[39;00m\n\u001b[1;32m   1128\u001b[0m \u001b[38;5;28;01mif\u001b[39;00m \u001b[38;5;129;01mnot\u001b[39;00m (\u001b[38;5;28mself\u001b[39m\u001b[38;5;241m.\u001b[39m_backward_hooks \u001b[38;5;129;01mor\u001b[39;00m \u001b[38;5;28mself\u001b[39m\u001b[38;5;241m.\u001b[39m_forward_hooks \u001b[38;5;129;01mor\u001b[39;00m \u001b[38;5;28mself\u001b[39m\u001b[38;5;241m.\u001b[39m_forward_pre_hooks \u001b[38;5;129;01mor\u001b[39;00m _global_backward_hooks\n\u001b[1;32m   1129\u001b[0m         \u001b[38;5;129;01mor\u001b[39;00m _global_forward_hooks \u001b[38;5;129;01mor\u001b[39;00m _global_forward_pre_hooks):\n\u001b[0;32m-> 1130\u001b[0m     \u001b[38;5;28;01mreturn\u001b[39;00m \u001b[43mforward_call\u001b[49m\u001b[43m(\u001b[49m\u001b[38;5;241;43m*\u001b[39;49m\u001b[38;5;28;43minput\u001b[39;49m\u001b[43m,\u001b[49m\u001b[43m \u001b[49m\u001b[38;5;241;43m*\u001b[39;49m\u001b[38;5;241;43m*\u001b[39;49m\u001b[43mkwargs\u001b[49m\u001b[43m)\u001b[49m\n\u001b[1;32m   1131\u001b[0m \u001b[38;5;66;03m# Do not call functions when jit is used\u001b[39;00m\n\u001b[1;32m   1132\u001b[0m full_backward_hooks, non_full_backward_hooks \u001b[38;5;241m=\u001b[39m [], []\n",
      "File \u001b[0;32m~/opt/anaconda3/envs/delphi/lib/python3.8/site-packages/torch/nn/modules/conv.py:607\u001b[0m, in \u001b[0;36mConv3d.forward\u001b[0;34m(self, input)\u001b[0m\n\u001b[1;32m    606\u001b[0m \u001b[38;5;28;01mdef\u001b[39;00m \u001b[38;5;21mforward\u001b[39m(\u001b[38;5;28mself\u001b[39m, \u001b[38;5;28minput\u001b[39m: Tensor) \u001b[38;5;241m-\u001b[39m\u001b[38;5;241m>\u001b[39m Tensor:\n\u001b[0;32m--> 607\u001b[0m     \u001b[38;5;28;01mreturn\u001b[39;00m \u001b[38;5;28;43mself\u001b[39;49m\u001b[38;5;241;43m.\u001b[39;49m\u001b[43m_conv_forward\u001b[49m\u001b[43m(\u001b[49m\u001b[38;5;28;43minput\u001b[39;49m\u001b[43m,\u001b[49m\u001b[43m \u001b[49m\u001b[38;5;28;43mself\u001b[39;49m\u001b[38;5;241;43m.\u001b[39;49m\u001b[43mweight\u001b[49m\u001b[43m,\u001b[49m\u001b[43m \u001b[49m\u001b[38;5;28;43mself\u001b[39;49m\u001b[38;5;241;43m.\u001b[39;49m\u001b[43mbias\u001b[49m\u001b[43m)\u001b[49m\n",
      "File \u001b[0;32m~/opt/anaconda3/envs/delphi/lib/python3.8/site-packages/torch/nn/modules/conv.py:602\u001b[0m, in \u001b[0;36mConv3d._conv_forward\u001b[0;34m(self, input, weight, bias)\u001b[0m\n\u001b[1;32m    590\u001b[0m \u001b[38;5;28;01mif\u001b[39;00m \u001b[38;5;28mself\u001b[39m\u001b[38;5;241m.\u001b[39mpadding_mode \u001b[38;5;241m!=\u001b[39m \u001b[38;5;124m\"\u001b[39m\u001b[38;5;124mzeros\u001b[39m\u001b[38;5;124m\"\u001b[39m:\n\u001b[1;32m    591\u001b[0m     \u001b[38;5;28;01mreturn\u001b[39;00m F\u001b[38;5;241m.\u001b[39mconv3d(\n\u001b[1;32m    592\u001b[0m         F\u001b[38;5;241m.\u001b[39mpad(\n\u001b[1;32m    593\u001b[0m             \u001b[38;5;28minput\u001b[39m, \u001b[38;5;28mself\u001b[39m\u001b[38;5;241m.\u001b[39m_reversed_padding_repeated_twice, mode\u001b[38;5;241m=\u001b[39m\u001b[38;5;28mself\u001b[39m\u001b[38;5;241m.\u001b[39mpadding_mode\n\u001b[0;32m   (...)\u001b[0m\n\u001b[1;32m    600\u001b[0m         \u001b[38;5;28mself\u001b[39m\u001b[38;5;241m.\u001b[39mgroups,\n\u001b[1;32m    601\u001b[0m     )\n\u001b[0;32m--> 602\u001b[0m \u001b[38;5;28;01mreturn\u001b[39;00m \u001b[43mF\u001b[49m\u001b[38;5;241;43m.\u001b[39;49m\u001b[43mconv3d\u001b[49m\u001b[43m(\u001b[49m\n\u001b[1;32m    603\u001b[0m \u001b[43m    \u001b[49m\u001b[38;5;28;43minput\u001b[39;49m\u001b[43m,\u001b[49m\u001b[43m \u001b[49m\u001b[43mweight\u001b[49m\u001b[43m,\u001b[49m\u001b[43m \u001b[49m\u001b[43mbias\u001b[49m\u001b[43m,\u001b[49m\u001b[43m \u001b[49m\u001b[38;5;28;43mself\u001b[39;49m\u001b[38;5;241;43m.\u001b[39;49m\u001b[43mstride\u001b[49m\u001b[43m,\u001b[49m\u001b[43m \u001b[49m\u001b[38;5;28;43mself\u001b[39;49m\u001b[38;5;241;43m.\u001b[39;49m\u001b[43mpadding\u001b[49m\u001b[43m,\u001b[49m\u001b[43m \u001b[49m\u001b[38;5;28;43mself\u001b[39;49m\u001b[38;5;241;43m.\u001b[39;49m\u001b[43mdilation\u001b[49m\u001b[43m,\u001b[49m\u001b[43m \u001b[49m\u001b[38;5;28;43mself\u001b[39;49m\u001b[38;5;241;43m.\u001b[39;49m\u001b[43mgroups\u001b[49m\n\u001b[1;32m    604\u001b[0m \u001b[43m\u001b[49m\u001b[43m)\u001b[49m\n",
      "\u001b[0;31mKeyboardInterrupt\u001b[0m: "
     ]
    }
   ],
   "source": [
    "hp = read_config(\"hyperparameter.yaml\")\n",
    "with wandb.init(config=hp, name=hp[\"name\"], group=\"first_steps\") as run:\n",
    "    \n",
    "    save_name = run.config.name\n",
    "    \n",
    "    dl_test = DataLoader(data_test, batch_size=run.config.batch_size, shuffle=True, generator=g)\n",
    "    dl_train = DataLoader(data_train, batch_size=run.config.batch_size, shuffle=True, generator=g)\n",
    "    dl_valid = DataLoader(data_valid, batch_size=run.config.batch_size, shuffle=True, generator=g)\n",
    "    \n",
    "    best_loss, best_acc = 100, 0\n",
    "    loss_acc = []\n",
    "    train_stats, valid_stats = [], []\n",
    "    # patience, patience_ctr = 9, 0\n",
    "    \n",
    "    # loop for the above set number of epochs\n",
    "    for epoch in range(run.config.epochs):\n",
    "        _, _ = model.fit(dl_train, lr=run.config.learning_rate, device=DEVICE)\n",
    "\n",
    "        # for validating or testing set the network into evaluation mode such that layers like dropout are not active\n",
    "        with torch.no_grad():\n",
    "            tloss, tstats = model.fit(dl_train, device=DEVICE, train=False)\n",
    "            vloss, vstats = model.fit(dl_valid, device=DEVICE, train=False)\n",
    "        \n",
    "        # the model.fit() method has 2 output parameters: loss, stats = model.fit()\n",
    "        # the first parameter is simply the loss for each sample\n",
    "        # the second parameter is a matrix of n_classes+2-by-n_samples\n",
    "        # the first n_classes columns are the output probabilities of the model per class\n",
    "        # the second to last column (i.e., [:, -2]) represents the real labels\n",
    "        # the last column (i.e., [:, -1]) represents the predicted labels\n",
    "        tacc = compute_accuracy(tstats[:, -2], tstats[:, -1])\n",
    "        vacc = compute_accuracy(vstats[:, -2], vstats[:, -1])\n",
    "\n",
    "        loss_acc.append(pd.DataFrame([[tloss, vloss, tacc, vacc]],\n",
    "                                     columns=[\"train_loss\", \"valid_loss\", \"train_acc\", \"valid_acc\"]))\n",
    "        \n",
    "        train_stats.append(pd.DataFrame(tstats.tolist(), columns=[*class_labels, *[\"real\", \"predicted\"]]))\n",
    "        train_stats[epoch][\"epoch\"] = epoch\n",
    "        valid_stats.append(pd.DataFrame(vstats.tolist(), columns=[*class_labels, *[\"real\", \"predicted\"]]))\n",
    "        valid_stats[epoch][\"epoch\"] = epoch\n",
    "        \n",
    "        wandb.log({\n",
    "            \"train_acc\": tacc, \"train_loss\": tloss,\n",
    "            \"valid_acc\": vacc, \"valid_loss\": vloss\n",
    "        })\n",
    "        \n",
    "        print('Epoch=%03d, train_loss=%2.3f, train_acc=%1.3f, valid_loss=%2.3f, valid_acc=%1.3f' % \n",
    "             (epoch, tloss, tacc, vloss, vacc))\n",
    "        \n",
    "        if (vacc >= best_acc) and (vloss <= best_loss):\n",
    "            # assign the new best values\n",
    "            best_acc, best_loss = vacc, vloss\n",
    "            wandb.run.summary[\"best_valid_accuracy\"] = best_acc\n",
    "            wandb.run.summary[\"best_valid_epoch\"] = epoch\n",
    "            # save the current best model\n",
    "            model.save(save_name)\n",
    "            # plot some graphs for the validation data\n",
    "            wandb_plots(vstats[:, -2], vstats[:, -1], vstats[:, :-2], class_labels, \"valid\")\n",
    "            \n",
    "            # reset the patience counter\n",
    "            #patience_ctr=0\n",
    "            \n",
    "        #else:\n",
    "        #    patience_ctr+=1\n",
    "        #\n",
    "        #if patience_ctr > patience:\n",
    "        #    print('Reached patience. Stopping training and continuing with test set.')\n",
    "        #    break\n",
    "\n",
    "    # save the files\n",
    "    full_df = pd.concat(loss_acc)\n",
    "    full_df.to_csv(os.path.join(save_name, \"loss_acc_curves.csv\"), index=False)\n",
    "    full_df = pd.concat(train_stats)\n",
    "    full_df.to_csv(os.path.join(save_name, \"train_stats.csv\"), index=False)\n",
    "    full_df = pd.concat(valid_stats)\n",
    "    full_df.to_csv(os.path.join(save_name, \"valid_stats.csv\"), index=False)\n",
    "    \n",
    "    # EVALUATE THE MODEL ON THE TEST DATA\n",
    "    with torch.no_grad():\n",
    "        testloss, teststats = model.fit(dl_test, train=False)\n",
    "    testacc = compute_accuracy(teststats[:, -2], teststats[:, -1])\n",
    "    wandb.run.summary[\"test_accuracy\"] = testacc\n",
    "\n",
    "    wandb.log({\"test_accuraccy\": testacc, \"test_loss\": testloss})\n",
    "    wandb_plots(teststats[:, -2], teststats[:, -1], teststats[:, :-2], class_labels, \"test\")\n",
    "\n",
    "    wandb.finish()"
   ]
  },
  {
   "cell_type": "code",
   "execution_count": null,
   "id": "72bf655d-1ebd-4935-b5f7-8f9fe4376bc2",
   "metadata": {},
   "outputs": [],
   "source": []
  }
 ],
 "metadata": {
  "kernelspec": {
   "display_name": "Python 3",
   "language": "python",
   "name": "python3"
  },
  "language_info": {
   "codemirror_mode": {
    "name": "ipython",
    "version": 3
   },
   "file_extension": ".py",
   "mimetype": "text/x-python",
   "name": "python",
   "nbconvert_exporter": "python",
   "pygments_lexer": "ipython3",
   "version": "3.8.13"
  }
 },
 "nbformat": 4,
 "nbformat_minor": 5
}
