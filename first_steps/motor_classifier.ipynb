{
 "cells": [
  {
   "cell_type": "markdown",
   "id": "199f3688-c4a4-4652-865c-740ab265e6aa",
   "metadata": {},
   "source": [
    "# Train a 3D Convolutional Neural Network (3dCNN) to classify motor tasks"
   ]
  },
  {
   "cell_type": "code",
   "execution_count": 1,
   "id": "5d87eac6-0be1-4c62-b097-753fc82f131a",
   "metadata": {},
   "outputs": [],
   "source": [
    "import os\n",
    "import wandb\n",
    "import torch\n",
    "import pandas as pd\n",
    "import numpy as np\n",
    "import time\n",
    "from delphi import mni_template\n",
    "from glob import glob\n",
    "from torch.utils.data import DataLoader\n",
    "from torchinfo import summary\n",
    "\n",
    "from delphi.networks.ConvNets import BrainStateClassifier3d\n",
    "from delphi.utils.datasets import NiftiDataset\n",
    "from delphi.utils.tools import ToTensor, compute_accuracy, convert_wandb_config, read_config\n",
    "from sklearn.model_selection import StratifiedShuffleSplit\n",
    "\n",
    "DEVICE = torch.device(\"cuda:0\" if torch.cuda.is_available() else \"cpu\")"
   ]
  },
  {
   "cell_type": "code",
   "execution_count": 2,
   "id": "fe5ca42e-df0c-46ef-a1cf-771b1fa3d88c",
   "metadata": {},
   "outputs": [],
   "source": [
    "def set_random_seed(seed):\n",
    "    import random\n",
    "    torch.backends.cudnn.benchmark = False\n",
    "    torch.manual_seed(seed)\n",
    "    random.seed(seed)\n",
    "    np.random.seed(seed)\n",
    "    g = torch.Generator()  # can be used in pytorch dataloaders for reproducible sample selection when shuffle=True\n",
    "    g.manual_seed(seed)\n",
    "\n",
    "    return g\n",
    "\n",
    "g = set_random_seed(2020)"
   ]
  },
  {
   "cell_type": "code",
   "execution_count": 3,
   "id": "eaf46778-196b-4de0-a1a8-095a5224be86",
   "metadata": {},
   "outputs": [],
   "source": [
    "def wandb_plots(y_true, y_pred, y_prob, class_labels, dataset):\n",
    "    wandb.log({\n",
    "        f\"{dataset}-ROC\": wandb.plot.roc_curve(y_true=y_true, y_probas=y_prob, labels=class_labels),\n",
    "        f\"{dataset}-PR\": wandb.plot.pr_curve(y_true=y_true, y_probas=y_prob, labels=class_labels, ),\n",
    "        f\"{dataset}-ConfMat\": wandb.plot.confusion_matrix(y_true=y_true, preds=y_pred, class_names=class_labels)\n",
    "    })"
   ]
  },
  {
   "cell_type": "code",
   "execution_count": 4,
   "id": "acec5605-27f4-452f-88d1-07a0f54d69b8",
   "metadata": {},
   "outputs": [],
   "source": [
    "class_labels = sorted([\"handleft\", \"handright\", \"footleft\", \"footright\", \"tongue\"])\n",
    "\n",
    "data_test = NiftiDataset(\"../t-maps/test\", class_labels, 0, device=DEVICE, transform=ToTensor())\n",
    "\n",
    "# we will split the train dataset into a train (80%) and validation (20%) set.\n",
    "data_train_full = NiftiDataset(\"../t-maps/train\", class_labels, 0, device=DEVICE, transform=ToTensor())\n",
    "\n",
    "# we want one stratified shuffled split\n",
    "sss = StratifiedShuffleSplit(n_splits=1, test_size=0.2, random_state=2020)\n",
    "idx_train, idx_valid = next(sss.split(data_train_full.data, data_train_full.labels))\n",
    "\n",
    "data_train = torch.utils.data.Subset(data_train_full, idx_train)\n",
    "data_valid = torch.utils.data.Subset(data_train_full, idx_valid)"
   ]
  },
  {
   "cell_type": "code",
   "execution_count": 7,
   "id": "a63a7c20-7699-406a-bbb2-84ef316ea5ee",
   "metadata": {
    "tags": []
   },
   "outputs": [
    {
     "name": "stdout",
     "output_type": "stream",
     "text": [
      "==========================================================================================\n",
      "Layer (type:depth-idx)                   Output Shape              Param #\n",
      "==========================================================================================\n",
      "BrainStateClassifier3d                   [100, 5]                  --\n",
      "├─Dropout: 1-6                           [100, 128]                --\n",
      "├─ReLU: 1-2                              --                        --\n",
      "├─Softmax: 1-3                           --                        --\n",
      "├─Sequential: 1-4                        --                        --\n",
      "│    └─Sequential: 2-1                   [100, 8, 45, 54, 45]      --\n",
      "│    │    └─Conv3d: 3-1                  [100, 8, 91, 109, 91]     2,752\n",
      "│    │    └─ReLU: 3-2                    [100, 8, 91, 109, 91]     --\n",
      "│    │    └─MaxPool3d: 3-3               [100, 8, 45, 54, 45]      --\n",
      "│    └─Sequential: 2-2                   [100, 16, 22, 27, 22]     --\n",
      "│    │    └─Conv3d: 3-4                  [100, 16, 45, 54, 45]     43,920\n",
      "│    │    └─ReLU: 3-5                    [100, 16, 45, 54, 45]     --\n",
      "│    │    └─MaxPool3d: 3-6               [100, 16, 22, 27, 22]     --\n",
      "│    └─Sequential: 2-3                   [100, 32, 11, 13, 11]     --\n",
      "│    │    └─Conv3d: 3-7                  [100, 32, 22, 27, 22]     175,648\n",
      "│    │    └─ReLU: 3-8                    [100, 32, 22, 27, 22]     --\n",
      "│    │    └─MaxPool3d: 3-9               [100, 32, 11, 13, 11]     --\n",
      "│    └─Sequential: 2-4                   [100, 64, 5, 6, 5]        --\n",
      "│    │    └─Conv3d: 3-10                 [100, 64, 11, 13, 11]     702,528\n",
      "│    │    └─ReLU: 3-11                   [100, 64, 11, 13, 11]     --\n",
      "│    │    └─MaxPool3d: 3-12              [100, 64, 5, 6, 5]        --\n",
      "├─Dropout: 1-5                           [100, 9600]               --\n",
      "├─Sequential: 1                          --                        --\n",
      "│    └─Sequential: 2-5                   [100, 128]                --\n",
      "│    │    └─Linear: 3-13                 [100, 128]                1,228,928\n",
      "│    │    └─ReLU: 3-14                   [100, 128]                --\n",
      "├─Dropout: 1-6                           [100, 128]                --\n",
      "├─Sequential: 1                          --                        --\n",
      "│    └─Sequential: 2-6                   [100, 64]                 --\n",
      "│    │    └─Linear: 3-15                 [100, 64]                 8,256\n",
      "│    │    └─ReLU: 3-16                   [100, 64]                 --\n",
      "├─Linear: 1-7                            [100, 5]                  325\n",
      "==========================================================================================\n",
      "Total params: 2,162,357\n",
      "Trainable params: 2,162,357\n",
      "Non-trainable params: 0\n",
      "Total mult-adds (T): 1.07\n",
      "==========================================================================================\n",
      "Input size (MB): 361.05\n",
      "Forward/backward pass size (MB): 7591.74\n",
      "Params size (MB): 8.65\n",
      "Estimated Total Size (MB): 7961.44\n",
      "==========================================================================================\n"
     ]
    }
   ],
   "source": [
    "model_cfg = {\n",
    "    \"channels\": [1, 8, 16, 32, 64],\n",
    "    \"lin_neurons\": [128, 64],\n",
    "    \"pooling_kernel\": 2,\n",
    "    \"kernel_size\": 7,\n",
    "    \"dropout\": .5,\n",
    "}\n",
    "input_dims = (91, 109, 91)\n",
    "model = BrainStateClassifier3d(input_dims, len(class_labels), model_cfg)\n",
    "print(summary(model, (1,1,91,109,91)))\n",
    "model.to(DEVICE);"
   ]
  },
  {
   "cell_type": "code",
   "execution_count": 6,
   "id": "b2c0b297-b18d-4e6d-b965-8f32551c649c",
   "metadata": {},
   "outputs": [],
   "source": [
    "# set the wandb sweep config\n",
    "# os.environ['WANDB_MODE'] = 'offline'\n",
    "os.environ['WANDB_ENTITY'] = \"philis893\" # this is my wandb account name. This can also be a group name, for example\n",
    "os.environ['WANDB_PROJECT'] = \"thesis\" # this is simply the project name where we want to store the sweep logs and plots"
   ]
  },
  {
   "cell_type": "code",
   "execution_count": null,
   "id": "b2b8cc5c-121f-40b0-92f2-15a4df670785",
   "metadata": {},
   "outputs": [],
   "source": [
    "hp = read_config(\"hyperparameter.yaml\")\n",
    "\n",
    "if os.path.exists(os.path.join(hp[\"name\"], \"state_dict.pth\")):\n",
    "    print(\"Already trained the network.\")\n",
    "else:\n",
    "    with wandb.init(config=hp, name=hp[\"name\"], group=\"first_steps\") as run:\n",
    "\n",
    "        save_name = run.config.name\n",
    "\n",
    "        dl_test = DataLoader(data_test, batch_size=run.config.batch_size, shuffle=True, generator=g)\n",
    "        dl_train = DataLoader(data_train, batch_size=run.config.batch_size, shuffle=True, generator=g)\n",
    "        dl_valid = DataLoader(data_valid, batch_size=run.config.batch_size, shuffle=True, generator=g)\n",
    "\n",
    "        best_loss, best_acc = 100, 0\n",
    "        loss_acc = []\n",
    "        train_stats, valid_stats = [], []\n",
    "        # patience, patience_ctr = 9, 0\n",
    "\n",
    "        # loop for the above set number of epochs\n",
    "        for epoch in range(run.config.epochs):\n",
    "            _, _ = model.fit(dl_train, lr=run.config.learning_rate, device=DEVICE)\n",
    "\n",
    "            # for validating or testing set the network into evaluation mode such that layers like dropout are not active\n",
    "            with torch.no_grad():\n",
    "                tloss, tstats = model.fit(dl_train, device=DEVICE, train=False)\n",
    "                vloss, vstats = model.fit(dl_valid, device=DEVICE, train=False)\n",
    "\n",
    "            # the model.fit() method has 2 output parameters: loss, stats = model.fit()\n",
    "            # the first parameter is simply the loss for each sample\n",
    "            # the second parameter is a matrix of n_classes+2-by-n_samples\n",
    "            # the first n_classes columns are the output probabilities of the model per class\n",
    "            # the second to last column (i.e., [:, -2]) represents the real labels\n",
    "            # the last column (i.e., [:, -1]) represents the predicted labels\n",
    "            tacc = compute_accuracy(tstats[:, -2], tstats[:, -1])\n",
    "            vacc = compute_accuracy(vstats[:, -2], vstats[:, -1])\n",
    "\n",
    "            loss_acc.append(pd.DataFrame([[tloss, vloss, tacc, vacc]],\n",
    "                                         columns=[\"train_loss\", \"valid_loss\", \"train_acc\", \"valid_acc\"]))\n",
    "\n",
    "            train_stats.append(pd.DataFrame(tstats.tolist(), columns=[*class_labels, *[\"real\", \"predicted\"]]))\n",
    "            train_stats[epoch][\"epoch\"] = epoch\n",
    "            valid_stats.append(pd.DataFrame(vstats.tolist(), columns=[*class_labels, *[\"real\", \"predicted\"]]))\n",
    "            valid_stats[epoch][\"epoch\"] = epoch\n",
    "\n",
    "            wandb.log({\n",
    "                \"train_acc\": tacc, \"train_loss\": tloss,\n",
    "                \"valid_acc\": vacc, \"valid_loss\": vloss\n",
    "            })\n",
    "\n",
    "            print('Epoch=%03d, train_loss=%2.3f, train_acc=%1.3f, valid_loss=%2.3f, valid_acc=%1.3f' % \n",
    "                 (epoch, tloss, tacc, vloss, vacc))\n",
    "\n",
    "            if (vacc >= best_acc) and (vloss <= best_loss):\n",
    "                # assign the new best values\n",
    "                best_acc, best_loss = vacc, vloss\n",
    "                wandb.run.summary[\"best_valid_accuracy\"] = best_acc\n",
    "                wandb.run.summary[\"best_valid_epoch\"] = epoch\n",
    "                # save the current best model\n",
    "                model.save(save_name)\n",
    "                # plot some graphs for the validation data\n",
    "                wandb_plots(vstats[:, -2], vstats[:, -1], vstats[:, :-2], class_labels, \"valid\")\n",
    "\n",
    "                # reset the patience counter\n",
    "                #patience_ctr=0\n",
    "\n",
    "            #else:\n",
    "            #    patience_ctr+=1\n",
    "            #\n",
    "            #if patience_ctr > patience:\n",
    "            #    print('Reached patience. Stopping training and continuing with test set.')\n",
    "            #    break\n",
    "\n",
    "        # save the files\n",
    "        full_df = pd.concat(loss_acc)\n",
    "        full_df.to_csv(os.path.join(save_name, \"loss_acc_curves.csv\"), index=False)\n",
    "        full_df = pd.concat(train_stats)\n",
    "        full_df.to_csv(os.path.join(save_name, \"train_stats.csv\"), index=False)\n",
    "        full_df = pd.concat(valid_stats)\n",
    "        full_df.to_csv(os.path.join(save_name, \"valid_stats.csv\"), index=False)\n",
    "\n",
    "        # EVALUATE THE MODEL ON THE TEST DATA\n",
    "        with torch.no_grad():\n",
    "            testloss, teststats = model.fit(dl_test, train=False)\n",
    "        testacc = compute_accuracy(teststats[:, -2], teststats[:, -1])\n",
    "        wandb.run.summary[\"test_accuracy\"] = testacc\n",
    "\n",
    "        wandb.log({\"test_accuraccy\": testacc, \"test_loss\": testloss})\n",
    "        wandb_plots(teststats[:, -2], teststats[:, -1], teststats[:, :-2], class_labels, \"test\")\n",
    "\n",
    "        wandb.finish()"
   ]
  },
  {
   "cell_type": "markdown",
   "id": "da7f0bd8-c7d2-4bce-8466-3fb18dc9e612",
   "metadata": {},
   "source": [
    "# Run the Layer-wise Relevance Propagation (LRP) algorithm"
   ]
  },
  {
   "cell_type": "code",
   "execution_count": null,
   "id": "cc4ae3f4-8253-4905-86e6-2f32ad8c08d9",
   "metadata": {},
   "outputs": [],
   "source": [
    "def mask_voxels(data, prct_highest=.3):\n",
    "    \n",
    "    mask = 0\n",
    "    \n",
    "    return mask"
   ]
  },
  {
   "cell_type": "code",
   "execution_count": null,
   "id": "b1b71458-d3aa-44ae-8f3b-7b3e771988ec",
   "metadata": {},
   "outputs": [],
   "source": [
    "from zennit import composites\n",
    "from delphi.utils.tools import save_in_mni"
   ]
  },
  {
   "cell_type": "code",
   "execution_count": 5,
   "id": "aa2eaa52-ceb3-4918-bd56-6d3aefe45a83",
   "metadata": {},
   "outputs": [
    {
     "name": "stdout",
     "output_type": "stream",
     "text": [
      "Loading from config file motor-classifier/config.yaml\n"
     ]
    }
   ],
   "source": [
    "# load the trained network\n",
    "model = BrainStateClassifier3d(\"motor-classifier\")\n",
    "model.eval()\n",
    "model.to(torch.device(\"cpu\"));\n",
    "\n",
    "data_test = NiftiDataset(\"../t-maps/test\", class_labels, 0, device=torch.device(\"cpu\"), transform=ToTensor())\n",
    "dl_test = DataLoader(data_test, batch_size=1, shuffle=False)"
   ]
  },
  {
   "cell_type": "code",
   "execution_count": null,
   "id": "878bc2b4-f68e-4e04-8c49-a39ab6a0aa54",
   "metadata": {},
   "outputs": [],
   "source": [
    "# Execute the LRP algorithm and save the resulting LRP maps somewhere.\n",
    "shape = (1, 1, 91, 109, 91)\n",
    "\n",
    "composite_kwargs = {\n",
    "    'low': -1 * torch.ones(*shape, device=torch.device(\"cpu\")),  # the lowest and ...\n",
    "    'high': 1 * torch.ones(*shape, device=torch.device(\"cpu\")),  # the highest pixel value for ZBox\n",
    "}\n",
    "\n",
    "attributor = composites.COMPOSITES['epsilon_gamma_box'](**composite_kwargs)\n",
    "\n",
    "for param in model.parameters():\n",
    "    param.requires_grad = False\n",
    "\n",
    "out_dir_name = \"motor-mapper-lrp\"\n",
    "if not os.path.exists(out_dir_name):\n",
    "    os.mkdir(out_dir_name)\n",
    "    \n",
    "# create the composite context outside the main loop, such that the canonizers and hooks do not\n",
    "# need to be registered and removed for each step.\n",
    "with attributor.context(model) as modified_model:\n",
    "    for j in range(len(class_labels)):\n",
    "        dl = DataLoader(\n",
    "            NiftiDataset('../t-maps/test', [class_labels[j]], 20, device=torch.device(\"cpu\"), transform=ToTensor()),\n",
    "            batch_size=20, shuffle=False, num_workers=0\n",
    "        )\n",
    "        \n",
    "        print(f\"Running LRP on {class_labels[j]}\")\n",
    "        \n",
    "        for i, (volume, target) in enumerate(dl):\n",
    "            data_norm = (volume.float())\n",
    "            data_norm.requires_grad_()\n",
    "\n",
    "            # one-hot encoding of the target labels\n",
    "            output_relevance = torch.eye(model.config['n_classes'], device=torch.device(\"cpu\"))[target]\n",
    "            out = modified_model(data_norm)\n",
    "            # a simple backward pass will accumulate the relevance in data_norm.grad\n",
    "            torch.autograd.backward((out,), (output_relevance,))\n",
    "            indi_lrp = np.moveaxis(data_norm.grad.squeeze().detach().numpy(), 0, -1)\n",
    "            avg_lrp = indi_lrp.mean(axis=-1)\n",
    "\n",
    "        save_in_mni(indi_lrp, os.path.join(out_dir_name, '%s.nii.gz' % class_labels[j]))\n",
    "        save_in_mni(avg_lrp, os.path.join(out_dir_name, 'avg_%s.nii.gz' % class_labels[j]))\n",
    "        "
   ]
  },
  {
   "cell_type": "code",
   "execution_count": null,
   "id": "08888549-a2c2-498b-86ce-01654820747e",
   "metadata": {},
   "outputs": [],
   "source": [
    "# let us visualize the average LRP maps\n",
    "# Brain_Data from the nltools toolbox allows us to visualize brain maps quit nicely\n",
    "from nltools.data import Brain_Data\n",
    "\n",
    "files = sorted(glob(\"motor-mapper-lrp/avg*.nii.gz\"))\n",
    "dat = Brain_Data(files)\n",
    "dat.iplot(threshold=\"95%\")"
   ]
  },
  {
   "cell_type": "markdown",
   "id": "0ccf3b64-a9c7-4abe-aefd-6554513271b1",
   "metadata": {},
   "source": [
    "# Use different XAI algorithm"
   ]
  },
  {
   "cell_type": "code",
   "execution_count": null,
   "id": "409873b3-88ca-469f-8f12-2aea6ce21054",
   "metadata": {},
   "outputs": [],
   "source": [
    "# load the trained network\n",
    "model = BrainStateClassifier3d(\"motor-classifier\")\n",
    "model.eval()\n",
    "model.to(torch.device(\"cpu\"));"
   ]
  },
  {
   "cell_type": "code",
   "execution_count": null,
   "id": "d61cbf79-d1d8-4da5-9581-4b587feee215",
   "metadata": {},
   "outputs": [],
   "source": [
    "from zennit.attribution import Gradient, SmoothGrad\n",
    "\n",
    "# Execute the LRP algorithm and save the resulting LRP maps somewhere.\n",
    "shape = (1, 1, 91, 109, 91)\n",
    "\n",
    "out_dir_name = \"motor-mapper-smoothgrad\"\n",
    "if not os.path.exists(out_dir_name):\n",
    "    os.mkdir(out_dir_name)\n",
    "    \n",
    "# create the composite context outside the main loop, such that the canonizers and hooks do not\n",
    "# need to be registered and removed for each step.\n",
    "with SmoothGrad(model=model, noise_level=.1, n_iter=20) as modified_model:\n",
    "    for j in range(len(class_labels)):\n",
    "        dl = DataLoader(\n",
    "            NiftiDataset('../t-maps/test', [class_labels[j]], 20, device=torch.device(\"cpu\"), transform=ToTensor()),\n",
    "            batch_size=20, shuffle=False, num_workers=0\n",
    "        )\n",
    "        \n",
    "        print(f\"Running Gradient on {class_labels[j]}\")\n",
    "        \n",
    "        for i, (volume, target) in enumerate(dl):\n",
    "                \n",
    "            # one-hot encoding of the target labels\n",
    "            output_relevance = torch.eye(model.config['n_classes'], device=torch.device(\"cpu\"))[target]\n",
    "            out, attribution = modified_model(volume, output_relevance)\n",
    "            # a simple backward pass will accumulate the relevance in data_norm.grad\n",
    "            indi_lrp = np.moveaxis(attribution.squeeze().detach().numpy(), 0, -1)\n",
    "            avg_lrp = indi_lrp.mean(axis=-1)\n",
    "\n",
    "        save_in_mni(indi_lrp, os.path.join(out_dir_name, '%s.nii.gz' % class_labels[j]))\n",
    "        save_in_mni(avg_lrp, os.path.join(out_dir_name, 'avg_%s.nii.gz' % class_labels[j]))"
   ]
  },
  {
   "cell_type": "code",
   "execution_count": null,
   "id": "2bff5a52-021a-48f9-9f9f-0e1bb20394d7",
   "metadata": {},
   "outputs": [],
   "source": [
    "files = sorted(glob(\"motor-mapper-smoothgrad/avg*.nii.gz\"))\n",
    "dat = Brain_Data(files)\n",
    "dat.iplot(threshold=\"99%\")"
   ]
  },
  {
   "cell_type": "markdown",
   "id": "b810f293-3d70-4cc4-aead-056f505036da",
   "metadata": {},
   "source": [
    "# TEST OCCLUSION"
   ]
  },
  {
   "cell_type": "code",
   "execution_count": 8,
   "id": "699befd0-426b-4fc5-8f24-245d66e98e77",
   "metadata": {},
   "outputs": [],
   "source": [
    "vol, target = data_test.__getitem__(0)"
   ]
  },
  {
   "cell_type": "code",
   "execution_count": 162,
   "id": "cb6378c1-f59a-4d67-b77b-9b9628ffbe03",
   "metadata": {},
   "outputs": [],
   "source": [
    "import nibabel as nib\n",
    "\n",
    "brain_mask = nib.load(mni_template).get_fdata()\n",
    "attribution = nib.load('motor-mapper-lrp/avg_handleft.nii.gz').get_fdata()\n",
    "attribution_masked = np.multiply(attribution, brain_mask)\n",
    "#below_zero = attribution<=0\n",
    "#attribution[below_zero]=0"
   ]
  },
  {
   "cell_type": "code",
   "execution_count": 164,
   "id": "ec0d30f6-7746-4642-b9cb-0f9f48b968bb",
   "metadata": {},
   "outputs": [
    {
     "data": {
      "text/plain": [
       "228483"
      ]
     },
     "execution_count": 164,
     "metadata": {},
     "output_type": "execute_result"
    }
   ],
   "source": [
    "non_zero_vals = np.sum(attribution_masked!=0)\n",
    "non_zero_vals"
   ]
  },
  {
   "cell_type": "code",
   "execution_count": 191,
   "id": "2f85273a-8565-4a21-967a-e0c4a652fc5d",
   "metadata": {},
   "outputs": [],
   "source": [
    "attribution_flat = np.multiply(np.ones(attribution.shape), brain_mask).flatten()\n",
    "\n",
    "occlusion_idx = np.argsort(a=attribution_masked.flatten())[:int(.2*non_zero_vals)]\n",
    "attribution_flat[occlusion_idx] = 0"
   ]
  },
  {
   "cell_type": "code",
   "execution_count": 192,
   "id": "b2d6d065-7e38-42ce-b5fe-4e8ee69faf00",
   "metadata": {},
   "outputs": [
    {
     "data": {
      "text/plain": [
       "[<matplotlib.lines.Line2D at 0x7f56f3ab42e0>]"
      ]
     },
     "execution_count": 192,
     "metadata": {},
     "output_type": "execute_result"
    },
    {
     "data": {
      "image/png": "[encoded data removed]",
      "text/plain": [
       "<Figure size 432x288 with 1 Axes>"
      ]
     },
     "metadata": {
      "needs_background": "light"
     },
     "output_type": "display_data"
    }
   ],
   "source": [
    "plt.plot(attribution.flatten()[occlusion_idx])"
   ]
  },
  {
   "cell_type": "code",
   "execution_count": 193,
   "id": "8bb3cce8-3ec6-4e20-8976-21099ad7c244",
   "metadata": {},
   "outputs": [],
   "source": [
    "attribution_mask = np.reshape(attribution_flat, (1, 91, 109, 91))"
   ]
  },
  {
   "cell_type": "code",
   "execution_count": 194,
   "id": "b5a30048-218a-4b06-8164-cb6e1d4acfea",
   "metadata": {},
   "outputs": [],
   "source": [
    "test = np.multiply(vol, attribution_mask)"
   ]
  },
  {
   "cell_type": "code",
   "execution_count": 195,
   "id": "285b2ee3-1eb1-413d-882c-79440ab0006e",
   "metadata": {},
   "outputs": [
    {
     "data": {
      "text/plain": [
       "<matplotlib.image.AxesImage at 0x7f56f3a65a90>"
      ]
     },
     "execution_count": 195,
     "metadata": {},
     "output_type": "execute_result"
    },
    {
     "data": {
      "image/png": "[encoded data removed]",
      "text/plain": [
       "<Figure size 864x432 with 2 Axes>"
      ]
     },
     "metadata": {
      "needs_background": "light"
     },
     "output_type": "display_data"
    }
   ],
   "source": [
    "this_slice = 65\n",
    "fig, axes = plt.subplots(1, 2, figsize=(12, 6))\n",
    "axes[0].imshow(vol[0,:,:,this_slice])\n",
    "axes[1].imshow(test[0,:,:,this_slice])"
   ]
  },
  {
   "cell_type": "code",
   "execution_count": 25,
   "id": "a893905a-fd3b-430d-bc2d-52e32474274a",
   "metadata": {},
   "outputs": [
    {
     "ename": "ValueError",
     "evalue": "At least one stride in the given numpy array is negative, and tensors with negative strides are not currently supported. (You can probably work around this by making a copy of your array  with array.copy().) ",
     "output_type": "error",
     "traceback": [
      "\u001b[0;31m---------------------------------------------------------------------------\u001b[0m",
      "\u001b[0;31mValueError\u001b[0m                                Traceback (most recent call last)",
      "Input \u001b[0;32mIn [25]\u001b[0m, in \u001b[0;36m<cell line: 1>\u001b[0;34m()\u001b[0m\n\u001b[0;32m----> 1\u001b[0m vol[:,occlusion_idx] \u001b[38;5;241m=\u001b[39m \u001b[38;5;241m0\u001b[39m\n",
      "\u001b[0;31mValueError\u001b[0m: At least one stride in the given numpy array is negative, and tensors with negative strides are not currently supported. (You can probably work around this by making a copy of your array  with array.copy().) "
     ]
    }
   ],
   "source": [
    "vol[:,occlusion_idx] = 0"
   ]
  },
  {
   "cell_type": "code",
   "execution_count": null,
   "id": "b99bdf7a-4e76-4b11-bcbf-ac2d76047a58",
   "metadata": {},
   "outputs": [],
   "source": []
  }
 ],
 "metadata": {
  "kernelspec": {
   "display_name": "Python 3",
   "language": "python",
   "name": "python3"
  },
  "language_info": {
   "codemirror_mode": {
    "name": "ipython",
    "version": 3
   },
   "file_extension": ".py",
   "mimetype": "text/x-python",
   "name": "python",
   "nbconvert_exporter": "python",
   "pygments_lexer": "ipython3",
   "version": "3.8.10"
  }
 },
 "nbformat": 4,
 "nbformat_minor": 5
}
