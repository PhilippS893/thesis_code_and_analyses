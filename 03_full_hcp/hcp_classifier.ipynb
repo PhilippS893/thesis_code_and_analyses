{
 "cells": [
  {
   "cell_type": "markdown",
   "id": "199f3688-c4a4-4652-865c-740ab265e6aa",
   "metadata": {},
   "source": [
    "# Evaluate a 3D Convolutional Neural Network (3dCNN) to classify the entire HCP task spectrum"
   ]
  },
  {
   "cell_type": "markdown",
   "id": "f512daf9-457e-4fb1-8f7d-b02a17edddca",
   "metadata": {},
   "source": [
    "<p style='text-align: justify;'>In this notebook I evaluated a neural network whose parameters appear to be optimal to discriminate between all classes of the HCP dataset.\n",
    "\n",
    "</p>"
   ]
  },
  {
   "cell_type": "code",
   "execution_count": 1,
   "id": "7ed4397e-7b43-4598-9e27-a6f09fdc2d44",
   "metadata": {},
   "outputs": [],
   "source": [
    "import os\n",
    "import sys\n",
    "module_path = os.path.abspath(os.path.join('..'))\n",
    "if module_path not in sys.path:\n",
    "    sys.path.append(module_path)"
   ]
  },
  {
   "cell_type": "code",
   "execution_count": 2,
   "id": "5d87eac6-0be1-4c62-b097-753fc82f131a",
   "metadata": {},
   "outputs": [
    {
     "name": "stderr",
     "output_type": "stream",
     "text": [
      "<frozen importlib._bootstrap>:219: RuntimeWarning: scipy._lib.messagestream.MessageStream size changed, may indicate binary incompatibility. Expected 56 from C header, got 64 from PyObject\n"
     ]
    }
   ],
   "source": [
    "import os, wandb, torch, time\n",
    "import pandas as pd\n",
    "import numpy as np\n",
    "from glob import glob\n",
    "from torch.utils.data import DataLoader\n",
    "from torchinfo import summary\n",
    "import seaborn as sns\n",
    "import matplotlib.pyplot as plt\n",
    "\n",
    "from delphi import mni_template\n",
    "from delphi.networks.ConvNets import BrainStateClassifier3d\n",
    "from delphi.utils.datasets import NiftiDataset\n",
    "from delphi.utils.tools import ToTensor, compute_accuracy, convert_wandb_config, read_config, z_transform_volume\n",
    "from delphi.utils.plots import confusion_matrix\n",
    "\n",
    "from sklearn.model_selection import StratifiedShuffleSplit\n",
    "\n",
    "# you can find all these files in ../utils\n",
    "from utils.tools import attribute_with_method, concat_stat_files, compute_mi\n",
    "from utils.wandb_funcs import reset_wandb_env, wandb_plots, get_wandb_csv\n",
    "from utils.random import set_random_seed\n",
    "\n",
    "from tqdm.notebook import tqdm\n",
    "\n",
    "DEVICE = torch.device(\"cuda:0\" if torch.cuda.is_available() else \"cpu\")"
   ]
  },
  {
   "cell_type": "markdown",
   "id": "f85b2335-28be-41c8-addf-9b9788f39cb2",
   "metadata": {},
   "source": [
    "<p style='text-align: justify;'>To make sure that we obtain (almost) the same results for each execution we set the random seed of multiple different librabries (i.e., torch, random, numpy)</p>"
   ]
  },
  {
   "cell_type": "code",
   "execution_count": 3,
   "id": "fe5ca42e-df0c-46ef-a1cf-771b1fa3d88c",
   "metadata": {},
   "outputs": [],
   "source": [
    "g = set_random_seed(2020) # the project started in the year 2020, hence the seed"
   ]
  },
  {
   "cell_type": "markdown",
   "id": "d8df7fee-a2ef-47fc-a91f-b28d6670b434",
   "metadata": {},
   "source": [
    "## Initializations"
   ]
  },
  {
   "cell_type": "markdown",
   "id": "b73ca8fb-a9c1-424a-beeb-c91ddfd1b0be",
   "metadata": {},
   "source": [
    "In this section, we define and initialize our required variables. We first need to define which classes we want to predict, i.e., the conditions of the motor mapper. We then define a PyTorch dataset; in this case `NiftiDataset` is a custom written Dataset-Class (see https://github.com/PhilippS893/delphi). As is common practice in machine learning projects, we split our data into a training and validation dataset (ratio=80 to 20, respectively).\n",
    "\n",
    "Note: In case it is necessary to create a null-model, i.e., a neural network that is trained on data where the labels are randomized, one can set the parameter `shuffe_labels=False` to `True`. This is usually done to have a baseline for the null hypothesis that \"everything is random\".\n",
    "\n",
    "Also, we first check which of the network in the hyperparameter optimization performs best. We will then use this network for the rest of the analyses."
   ]
  },
  {
   "cell_type": "code",
   "execution_count": 4,
   "id": "eec902a7-0683-4bef-bf77-81ccedd14e45",
   "metadata": {},
   "outputs": [
    {
     "name": "stdout",
     "output_type": "stream",
     "text": [
      "File already exist. Loading instead\n"
     ]
    },
    {
     "data": {
      "text/html": [
       "<div>\n",
       "<style scoped>\n",
       "    .dataframe tbody tr th:only-of-type {\n",
       "        vertical-align: middle;\n",
       "    }\n",
       "\n",
       "    .dataframe tbody tr th {\n",
       "        vertical-align: top;\n",
       "    }\n",
       "\n",
       "    .dataframe thead th {\n",
       "        text-align: right;\n",
       "    }\n",
       "</style>\n",
       "<table border=\"1\" class=\"dataframe\">\n",
       "  <thead>\n",
       "    <tr style=\"text-align: right;\">\n",
       "      <th></th>\n",
       "      <th>group</th>\n",
       "      <th>job_type</th>\n",
       "      <th>run_name</th>\n",
       "      <th>test_accuracy</th>\n",
       "      <th>train_acc</th>\n",
       "      <th>valid_acc</th>\n",
       "      <th>valid_loss</th>\n",
       "      <th>best_valid_epoch</th>\n",
       "      <th>best_valid_accuracy</th>\n",
       "      <th>test_loss</th>\n",
       "      <th>train_loss</th>\n",
       "    </tr>\n",
       "  </thead>\n",
       "  <tbody>\n",
       "    <tr>\n",
       "      <th>31</th>\n",
       "      <td>hp-optimization</td>\n",
       "      <td>hcp-explo</td>\n",
       "      <td>batchsize-8_kernelsize-3_lr-0.001_dropout-0.5_...</td>\n",
       "      <td>0.905263</td>\n",
       "      <td>0.924812</td>\n",
       "      <td>0.868421</td>\n",
       "      <td>0.308107</td>\n",
       "      <td>19</td>\n",
       "      <td>0.889098</td>\n",
       "      <td>0.296990</td>\n",
       "      <td>0.177660</td>\n",
       "    </tr>\n",
       "    <tr>\n",
       "      <th>48</th>\n",
       "      <td>hp-optimization</td>\n",
       "      <td>hcp-explo</td>\n",
       "      <td>batchsize-16_kernelsize-3_lr-0.001_dropout-0.3...</td>\n",
       "      <td>0.884211</td>\n",
       "      <td>0.953477</td>\n",
       "      <td>0.849624</td>\n",
       "      <td>0.460952</td>\n",
       "      <td>15</td>\n",
       "      <td>0.889098</td>\n",
       "      <td>0.280536</td>\n",
       "      <td>0.146973</td>\n",
       "    </tr>\n",
       "  </tbody>\n",
       "</table>\n",
       "</div>"
      ],
      "text/plain": [
       "              group   job_type  \\\n",
       "31  hp-optimization  hcp-explo   \n",
       "48  hp-optimization  hcp-explo   \n",
       "\n",
       "                                             run_name  test_accuracy  \\\n",
       "31  batchsize-8_kernelsize-3_lr-0.001_dropout-0.5_...       0.905263   \n",
       "48  batchsize-16_kernelsize-3_lr-0.001_dropout-0.3...       0.884211   \n",
       "\n",
       "    train_acc  valid_acc  valid_loss  best_valid_epoch  best_valid_accuracy  \\\n",
       "31   0.924812   0.868421    0.308107                19             0.889098   \n",
       "48   0.953477   0.849624    0.460952                15             0.889098   \n",
       "\n",
       "    test_loss  train_loss  \n",
       "31   0.296990    0.177660  \n",
       "48   0.280536    0.146973  "
      ]
     },
     "execution_count": 4,
     "metadata": {},
     "output_type": "execute_result"
    }
   ],
   "source": [
    "entity = \"philis893\"\n",
    "project = \"thesis\"\n",
    "group_name = \"hp-optimization\"\n",
    "\n",
    "important_keys = ['group', 'job_type', 'run_name', 'best_valid_accuracy', 'test_accuracy', 'test_loss', 'train_acc', 'valid_acc',\n",
    "                  'valid_loss', 'best_valid_epoch', \n",
    "                  'train_loss']\n",
    "\n",
    "tbl = get_wandb_csv(entity, project, group_name, important_keys)\n",
    "\n",
    "# which is the best model\n",
    "tbl_sorted = tbl.sort_values([\"best_valid_accuracy\", \"test_accuracy\", \"test_loss\"], ascending=[False, False, True])\n",
    "tbl_sorted.head(2)\n"
   ]
  },
  {
   "cell_type": "code",
   "execution_count": 5,
   "id": "7eac0239-c712-4cee-8c58-cf0a0e58e1d7",
   "metadata": {},
   "outputs": [
    {
     "data": {
      "text/plain": [
       "'batchsize-8_kernelsize-3_lr-0.001_dropout-0.5_weightdecay-0.0001'"
      ]
     },
     "execution_count": 5,
     "metadata": {},
     "output_type": "execute_result"
    }
   ],
   "source": [
    "tbl_sorted[\"run_name\"].iloc[0]"
   ]
  },
  {
   "cell_type": "code",
   "execution_count": 6,
   "id": "13faf9c1-f280-4016-a07a-0091b19c15c5",
   "metadata": {},
   "outputs": [
    {
     "name": "stdout",
     "output_type": "stream",
     "text": [
      "Loading from config file ../02_hp_exploration/models/batchsize-8_kernelsize-3_lr-0.001_dropout-0.5_weightdecay-0.0001/config.yaml\n"
     ]
    }
   ],
   "source": [
    "best_model_name = os.path.join(\"../02_hp_exploration/models/\", tbl_sorted[\"run_name\"].iloc[0])\n",
    "model = BrainStateClassifier3d(best_model_name)\n",
    "model.eval();"
   ]
  },
  {
   "cell_type": "code",
   "execution_count": 7,
   "id": "acec5605-27f4-452f-88d1-07a0f54d69b8",
   "metadata": {},
   "outputs": [],
   "source": [
    "data_test = NiftiDataset(\"../t-maps/test\", model.config[\"class_labels\"], 0, device=DEVICE, transform=ToTensor())\n",
    "#data_test = NiftiDataset(\"../t-smoothed//test\", model.config[\"class_labels\"], 0, device=DEVICE, transform=ToTensor())"
   ]
  },
  {
   "cell_type": "markdown",
   "id": "34364974-90ec-4926-b384-297fd4b0a1b5",
   "metadata": {},
   "source": [
    "<p style='text-align: justify;'>Since we already trained the network, we can directly jump into the analysis</p>"
   ]
  },
  {
   "cell_type": "markdown",
   "id": "3eb2236e-a9b5-41e9-b409-014fe5aa31b4",
   "metadata": {},
   "source": [
    "## Analyzing the network performances"
   ]
  },
  {
   "cell_type": "markdown",
   "id": "7de90685-ac8e-4809-922d-fbd7306df991",
   "metadata": {
    "tags": []
   },
   "source": [
    "## Loss and accuracy curves for the real and shuffled labels"
   ]
  },
  {
   "cell_type": "code",
   "execution_count": null,
   "id": "01663ae8-ec96-411f-9241-d5c9ca59db4e",
   "metadata": {},
   "outputs": [],
   "source": [
    "SMALL_SIZE = 18\n",
    "MEDIUM_SIZE = 22\n",
    "BIGGER_SIZE = 26\n",
    "\n",
    "plt.rc('font', size=SMALL_SIZE)          # controls default text sizes\n",
    "plt.rc('axes', titlesize=MEDIUM_SIZE)    # fontsize of the axes title\n",
    "plt.rc('axes', labelsize=MEDIUM_SIZE)    # fontsize of the x and y labels\n",
    "plt.rc('xtick', labelsize=SMALL_SIZE)    # fontsize of the tick labels\n",
    "plt.rc('ytick', labelsize=SMALL_SIZE)    # fontsize of the tick labels\n",
    "plt.rc('legend', fontsize=SMALL_SIZE)    # legend fontsize\n",
    "plt.rc('figure', titlesize=BIGGER_SIZE)  # fontsize of the figure title"
   ]
  },
  {
   "cell_type": "code",
   "execution_count": null,
   "id": "aeb3d158-369e-47a9-b48f-8be643014622",
   "metadata": {},
   "outputs": [],
   "source": [
    "# plot the train and valiation losses and accuracies\n",
    "fig, axes = plt.subplots(1, 2, figsize=(20, 8), sharex=True)\n",
    "label_order = [\"real\"]#, \"shuffled\"]\n",
    "\n",
    "dfs = []\n",
    "for i, order in enumerate(label_order):\n",
    "    #folds_real = sorted(glob(os.path.join(f\"models/hcp-train-{order}/*fold*\"))) \n",
    "    folds_real = sorted(glob(os.path.join(f\"models/CV-7folds-{order}/*fold*\"))) \n",
    "    dfs.append(concat_stat_files(folds_real, \"loss_acc_curves.csv\"))\n",
    "    dfs[i][\"label_order\"] = order\n",
    "\n",
    "curves = pd.concat(dfs)\n",
    "curves[\"epoch\"] = curves.index\n",
    "\n",
    "sns.lineplot(ax=axes[0], data=curves.melt(value_vars=[\"train_loss\", \"valid_loss\"], id_vars=[\"epoch\", \"label_order\"], var_name=\"loss\", value_name=\"CrossEntropyLoss\"), \n",
    "             x=\"epoch\", y=\"CrossEntropyLoss\", hue=\"label_order\", style=\"loss\", \n",
    "             linewidth=2, errorbar=(\"ci\", 95), n_boot=5000)\n",
    "sns.lineplot(ax=axes[1], data=curves.melt(value_vars=[\"train_acc\", \"valid_acc\"], id_vars=[\"epoch\", \"label_order\"], var_name=\"accuracy\", value_name=\"acc\"), \n",
    "             x=\"epoch\", y=\"acc\", hue=\"label_order\", style=\"accuracy\", \n",
    "             linewidth=2, errorbar=(\"ci\", 95), n_boot=5000)\n",
    "\n",
    "for i in range(2):\n",
    "    axes[i].spines[[\"top\", \"right\"]].set_visible(False);\n",
    "    axes[i].legend(frameon=False, loc=\"center right\", fontsize=18)\n",
    "    \n",
    "fig.tight_layout()\n",
    "\n",
    "#plt.savefig('figures/loss-acc-curves-across-folds.pdf', facecolor=fig.get_facecolor(), transparent=True)"
   ]
  },
  {
   "cell_type": "code",
   "execution_count": null,
   "id": "016a9b7d-b8df-4d2b-a94c-293d2251b568",
   "metadata": {},
   "outputs": [],
   "source": [
    "# compute the test classification accuracy of the folds\n",
    "label_condition = [\"real\", \"shuffled\"]\n",
    "stat_mats = {\n",
    "    \"real\": [],\n",
    "    \"shuffled\": [],\n",
    "}\n",
    "\n",
    "test_loader = DataLoader(data_test, batch_size=4, shuffle=False)\n",
    "\n",
    "accs = np.zeros((10, 2))\n",
    "\n",
    "for i, c in enumerate(label_condition):\n",
    "    \n",
    "    # get the folds\n",
    "    folds = sorted(glob(os.path.join(f\"models/hcp-train-{c}\", \"*fold*\")))\n",
    "    \n",
    "    for j, fold in enumerate(folds):\n",
    "        \n",
    "        if not os.path.isfile(os.path.join(fold, \"test_stats.csv\")):\n",
    "            model = BrainStateClassifier3d(fold)\n",
    "            model.to(DEVICE)\n",
    "\n",
    "            with torch.no_grad():\n",
    "                _ , stats = model.fit(test_loader, train=False)\n",
    "\n",
    "            df_test = pd.DataFrame(stats.tolist(), columns=[*class_labels, *[\"real\", \"predicted\"]])\n",
    "            df_test.to_csv(os.path.join(fold, \"test_stats.csv\"), index=False)\n",
    "            stat_mats[c].append(df_test)\n",
    "            accs[j, i] = compute_accuracy(stats[:, -2], stats[:, -1])\n",
    "        else:\n",
    "            stat_mats[c].append(pd.read_csv(os.path.join(fold, \"test_stats.csv\")))\n",
    "            accs[j, i] = compute_accuracy(stat_mats[c][j][\"real\"], stat_mats[c][j][\"predicted\"])\n",
    "        \n",
    "\n",
    "df_accs = pd.DataFrame(accs.tolist(), columns=label_condition)\n",
    "df_accs.to_csv(\"stats/hcp-accs.csv\", index=False)\n",
    "\n",
    "df_acc_transformed = np.arcsin(df_accs)\n",
    "df_acc_transformed.to_csv(\"stats/hcp-accs-transformed.csv\", index=False)"
   ]
  },
  {
   "cell_type": "markdown",
   "id": "0895e3d6-ee7d-4d25-9240-ee2d32bf622b",
   "metadata": {},
   "source": [
    "<p style='text-align: justify;'>The resulting graph of the code below consists of 3 panels. The panel on the left shows the average test classification performance across all folds for the 3D CNNs trained with real and shuffled input-label mappings. The blue and violet dots represent the individual test accuracies for a given fold. The dashed line at 0.2 represents the chance level. <br>\n",
    "We clearly see that the networks trained with real input-label mappings perform reliably above the chance level, whereas the networks trained with shuffled input-label mappings perform at chance level.\n",
    "<br><br>\n",
    "The other two panels show the confusion matrices for the real (left) and shuffled (right) input-label mappings. This is just another representation that the input-label mapping indeed matters for the network to learn to distinguish between the conditions of the motor mapper.\n",
    "</p>"
   ]
  },
  {
   "cell_type": "code",
   "execution_count": null,
   "id": "fe7041a9-0de3-447f-a4e8-80e23ad3cbd1",
   "metadata": {},
   "outputs": [],
   "source": [
    "fig, ax = plt.subplots(1, 3, figsize=(20,6), gridspec_kw={'width_ratios': [.5, 1, 1]})\n",
    "\n",
    "# plot the average test accuracy \n",
    "sns.barplot(ax=ax[0], data=df_accs, color=[.5,.5,.5], alpha=.2, errorbar=(\"ci\", 95), n_boot=5000, capsize=.1, width=.4)\n",
    "sns.stripplot(ax=ax[0], data=df_accs, zorder=1, alpha=.7, size=8, legend=False, palette=\"cool\")\n",
    "ax[0].axhline(1/19, linestyle=\"--\", color=\"black\", zorder=0, label=\"chance level\")\n",
    "ax[0].set(ylabel=\"accuracy\", xlabel=\"label order\", title=\"average classification performance\");\n",
    "ax[0].legend(frameon=False)\n",
    "ax[0].spines[[\"top\", \"right\"]].set_visible(False);\n",
    "\n",
    "# plot the confusion matrix across all folds for the \"real\" label order\n",
    "df = pd.concat(stat_mats[\"real\"])\n",
    "conf_mat, conf_ax = confusion_matrix(df[\"real\"], df[\"predicted\"], df.columns[:-2], normalize=False, ax=ax[1], **{\"vmin\": 0, \"vmax\": 200})\n",
    "ax[1].set_title(\"real label order\");\n",
    "\n",
    "# plot the confusion matrix across all folds for the \"shuffled\" label order\n",
    "df = pd.concat(stat_mats[\"shuffled\"])\n",
    "conf_mat, conf_ax = confusion_matrix(df[\"real\"], df[\"predicted\"], df.columns[:-2], normalize=False, ax=ax[2], **{\"vmin\": 0, \"vmax\": 200})\n",
    "ax[2].set_title(\"shuffled label order\");\n",
    "fig.colorbar(conf_ax, ax=ax[2], )\n",
    "\n",
    "fig.tight_layout()\n",
    "\n",
    "plt.savefig('figures/test-performance-across-folds.pdf', facecolor=fig.get_facecolor(), transparent=True)"
   ]
  },
  {
   "cell_type": "markdown",
   "id": "da7f0bd8-c7d2-4bce-8466-3fb18dc9e612",
   "metadata": {},
   "source": [
    "## Investigate what information was deemed relevant (XAI)\n"
   ]
  },
  {
   "cell_type": "code",
   "execution_count": 8,
   "id": "134dbc4e-01bd-4e95-b639-c046d0dcca9e",
   "metadata": {},
   "outputs": [],
   "source": [
    "from captum.attr import GuidedBackprop\n",
    "from zennit.rules import Epsilon, Gamma, Pass\n",
    "from zennit.types import Convolution, Linear, Activation\n",
    "from zennit.composites import LayerMapComposite\n",
    "from delphi.utils.tools import save_in_mni\n",
    "\n",
    "composite_lrp_map = [\n",
    "    (Activation, Pass()),\n",
    "    (Convolution, Gamma(gamma=.25)),\n",
    "    (Linear, Epsilon(epsilon=0)),\n",
    "]\n",
    "\n",
    "LRP = LayerMapComposite(\n",
    "    layer_map=composite_lrp_map,\n",
    ")\n",
    "LRP.__name__ = 'LRP'"
   ]
  },
  {
   "cell_type": "code",
   "execution_count": 47,
   "id": "6266b243-b8bb-450b-87e0-2cbb3032043a",
   "metadata": {
    "scrolled": true,
    "tags": []
   },
   "outputs": [
    {
     "name": "stdout",
     "output_type": "stream",
     "text": [
      "Loading from config file models/CV-7folds-real/seed-2020_fold-00/config.yaml\n",
      "Running lrp on footleft\n",
      "lrp/real/seed-2020_fold-00/footleft.nii.gz already exists. Skipping\n",
      "Running lrp on footright\n",
      "lrp/real/seed-2020_fold-00/footright.nii.gz already exists. Skipping\n",
      "Running lrp on handleft\n",
      "lrp/real/seed-2020_fold-00/handleft.nii.gz already exists. Skipping\n",
      "Running lrp on handright\n",
      "lrp/real/seed-2020_fold-00/handright.nii.gz already exists. Skipping\n",
      "Running lrp on tongue\n",
      "lrp/real/seed-2020_fold-00/tongue.nii.gz already exists. Skipping\n",
      "Running lrp on loss\n",
      "lrp/real/seed-2020_fold-00/loss.nii.gz already exists. Skipping\n",
      "Running lrp on reward\n",
      "lrp/real/seed-2020_fold-00/reward.nii.gz already exists. Skipping\n",
      "Running lrp on mental\n",
      "lrp/real/seed-2020_fold-00/mental.nii.gz already exists. Skipping\n",
      "Running lrp on random\n",
      "lrp/real/seed-2020_fold-00/random.nii.gz already exists. Skipping\n",
      "Running lrp on body\n",
      "lrp/real/seed-2020_fold-00/body.nii.gz already exists. Skipping\n",
      "Running lrp on face\n",
      "lrp/real/seed-2020_fold-00/face.nii.gz already exists. Skipping\n",
      "Running lrp on place\n",
      "lrp/real/seed-2020_fold-00/place.nii.gz already exists. Skipping\n",
      "Running lrp on tool\n",
      "lrp/real/seed-2020_fold-00/tool.nii.gz already exists. Skipping\n",
      "Running lrp on match\n",
      "lrp/real/seed-2020_fold-00/match.nii.gz already exists. Skipping\n",
      "Running lrp on relation\n",
      "lrp/real/seed-2020_fold-00/relation.nii.gz already exists. Skipping\n",
      "Running lrp on emotion\n",
      "lrp/real/seed-2020_fold-00/emotion.nii.gz already exists. Skipping\n",
      "Running lrp on neut\n",
      "lrp/real/seed-2020_fold-00/neut.nii.gz already exists. Skipping\n",
      "Running lrp on story\n",
      "lrp/real/seed-2020_fold-00/story.nii.gz already exists. Skipping\n",
      "Running lrp on math\n",
      "lrp/real/seed-2020_fold-00/math.nii.gz already exists. Skipping\n",
      "Loading from config file models/CV-7folds-real/seed-2020_fold-01/config.yaml\n",
      "Running lrp on footleft\n",
      "Saving lrp/real/seed-2020_fold-01/footleft.nii.gz\n",
      "Saving lrp/real/seed-2020_fold-01/avg/footleft.nii.gz\n",
      "Running lrp on footright\n",
      "Saving lrp/real/seed-2020_fold-01/footright.nii.gz\n",
      "Saving lrp/real/seed-2020_fold-01/avg/footright.nii.gz\n",
      "Running lrp on handleft\n",
      "Saving lrp/real/seed-2020_fold-01/handleft.nii.gz\n",
      "Saving lrp/real/seed-2020_fold-01/avg/handleft.nii.gz\n",
      "Running lrp on handright\n",
      "Saving lrp/real/seed-2020_fold-01/handright.nii.gz\n",
      "Saving lrp/real/seed-2020_fold-01/avg/handright.nii.gz\n",
      "Running lrp on tongue\n",
      "Saving lrp/real/seed-2020_fold-01/tongue.nii.gz\n",
      "Saving lrp/real/seed-2020_fold-01/avg/tongue.nii.gz\n",
      "Running lrp on loss\n",
      "Saving lrp/real/seed-2020_fold-01/loss.nii.gz\n",
      "Saving lrp/real/seed-2020_fold-01/avg/loss.nii.gz\n",
      "Running lrp on reward\n",
      "Saving lrp/real/seed-2020_fold-01/reward.nii.gz\n",
      "Saving lrp/real/seed-2020_fold-01/avg/reward.nii.gz\n",
      "Running lrp on mental\n",
      "Saving lrp/real/seed-2020_fold-01/mental.nii.gz\n",
      "Saving lrp/real/seed-2020_fold-01/avg/mental.nii.gz\n",
      "Running lrp on random\n",
      "Saving lrp/real/seed-2020_fold-01/random.nii.gz\n",
      "Saving lrp/real/seed-2020_fold-01/avg/random.nii.gz\n",
      "Running lrp on body\n",
      "Saving lrp/real/seed-2020_fold-01/body.nii.gz\n",
      "Saving lrp/real/seed-2020_fold-01/avg/body.nii.gz\n",
      "Running lrp on face\n",
      "Saving lrp/real/seed-2020_fold-01/face.nii.gz\n",
      "Saving lrp/real/seed-2020_fold-01/avg/face.nii.gz\n",
      "Running lrp on place\n",
      "Saving lrp/real/seed-2020_fold-01/place.nii.gz\n",
      "Saving lrp/real/seed-2020_fold-01/avg/place.nii.gz\n",
      "Running lrp on tool\n",
      "Saving lrp/real/seed-2020_fold-01/tool.nii.gz\n",
      "Saving lrp/real/seed-2020_fold-01/avg/tool.nii.gz\n",
      "Running lrp on match\n",
      "Saving lrp/real/seed-2020_fold-01/match.nii.gz\n",
      "Saving lrp/real/seed-2020_fold-01/avg/match.nii.gz\n",
      "Running lrp on relation\n",
      "Saving lrp/real/seed-2020_fold-01/relation.nii.gz\n",
      "Saving lrp/real/seed-2020_fold-01/avg/relation.nii.gz\n",
      "Running lrp on emotion\n",
      "Saving lrp/real/seed-2020_fold-01/emotion.nii.gz\n",
      "Saving lrp/real/seed-2020_fold-01/avg/emotion.nii.gz\n",
      "Running lrp on neut\n",
      "Saving lrp/real/seed-2020_fold-01/neut.nii.gz\n",
      "Saving lrp/real/seed-2020_fold-01/avg/neut.nii.gz\n",
      "Running lrp on story\n",
      "Saving lrp/real/seed-2020_fold-01/story.nii.gz\n",
      "Saving lrp/real/seed-2020_fold-01/avg/story.nii.gz\n",
      "Running lrp on math\n",
      "Saving lrp/real/seed-2020_fold-01/math.nii.gz\n",
      "Saving lrp/real/seed-2020_fold-01/avg/math.nii.gz\n",
      "Loading from config file models/CV-7folds-real/seed-2020_fold-02/config.yaml\n",
      "Running lrp on footleft\n",
      "Saving lrp/real/seed-2020_fold-02/footleft.nii.gz\n",
      "Saving lrp/real/seed-2020_fold-02/avg/footleft.nii.gz\n",
      "Running lrp on footright\n",
      "Saving lrp/real/seed-2020_fold-02/footright.nii.gz\n",
      "Saving lrp/real/seed-2020_fold-02/avg/footright.nii.gz\n",
      "Running lrp on handleft\n",
      "Saving lrp/real/seed-2020_fold-02/handleft.nii.gz\n",
      "Saving lrp/real/seed-2020_fold-02/avg/handleft.nii.gz\n",
      "Running lrp on handright\n",
      "Saving lrp/real/seed-2020_fold-02/handright.nii.gz\n",
      "Saving lrp/real/seed-2020_fold-02/avg/handright.nii.gz\n",
      "Running lrp on tongue\n",
      "Saving lrp/real/seed-2020_fold-02/tongue.nii.gz\n",
      "Saving lrp/real/seed-2020_fold-02/avg/tongue.nii.gz\n",
      "Running lrp on loss\n",
      "Saving lrp/real/seed-2020_fold-02/loss.nii.gz\n",
      "Saving lrp/real/seed-2020_fold-02/avg/loss.nii.gz\n",
      "Running lrp on reward\n",
      "Saving lrp/real/seed-2020_fold-02/reward.nii.gz\n",
      "Saving lrp/real/seed-2020_fold-02/avg/reward.nii.gz\n",
      "Running lrp on mental\n",
      "Saving lrp/real/seed-2020_fold-02/mental.nii.gz\n",
      "Saving lrp/real/seed-2020_fold-02/avg/mental.nii.gz\n",
      "Running lrp on random\n",
      "Saving lrp/real/seed-2020_fold-02/random.nii.gz\n",
      "Saving lrp/real/seed-2020_fold-02/avg/random.nii.gz\n",
      "Running lrp on body\n",
      "Saving lrp/real/seed-2020_fold-02/body.nii.gz\n",
      "Saving lrp/real/seed-2020_fold-02/avg/body.nii.gz\n",
      "Running lrp on face\n",
      "Saving lrp/real/seed-2020_fold-02/face.nii.gz\n",
      "Saving lrp/real/seed-2020_fold-02/avg/face.nii.gz\n",
      "Running lrp on place\n",
      "Saving lrp/real/seed-2020_fold-02/place.nii.gz\n",
      "Saving lrp/real/seed-2020_fold-02/avg/place.nii.gz\n",
      "Running lrp on tool\n",
      "Saving lrp/real/seed-2020_fold-02/tool.nii.gz\n",
      "Saving lrp/real/seed-2020_fold-02/avg/tool.nii.gz\n",
      "Running lrp on match\n",
      "Saving lrp/real/seed-2020_fold-02/match.nii.gz\n",
      "Saving lrp/real/seed-2020_fold-02/avg/match.nii.gz\n",
      "Running lrp on relation\n",
      "Saving lrp/real/seed-2020_fold-02/relation.nii.gz\n",
      "Saving lrp/real/seed-2020_fold-02/avg/relation.nii.gz\n",
      "Running lrp on emotion\n",
      "Saving lrp/real/seed-2020_fold-02/emotion.nii.gz\n",
      "Saving lrp/real/seed-2020_fold-02/avg/emotion.nii.gz\n",
      "Running lrp on neut\n",
      "Saving lrp/real/seed-2020_fold-02/neut.nii.gz\n",
      "Saving lrp/real/seed-2020_fold-02/avg/neut.nii.gz\n",
      "Running lrp on story\n",
      "Saving lrp/real/seed-2020_fold-02/story.nii.gz\n",
      "Saving lrp/real/seed-2020_fold-02/avg/story.nii.gz\n",
      "Running lrp on math\n",
      "Saving lrp/real/seed-2020_fold-02/math.nii.gz\n",
      "Saving lrp/real/seed-2020_fold-02/avg/math.nii.gz\n",
      "Loading from config file models/CV-7folds-real/seed-2020_fold-03/config.yaml\n",
      "Running lrp on footleft\n",
      "Saving lrp/real/seed-2020_fold-03/footleft.nii.gz\n",
      "Saving lrp/real/seed-2020_fold-03/avg/footleft.nii.gz\n",
      "Running lrp on footright\n",
      "Saving lrp/real/seed-2020_fold-03/footright.nii.gz\n",
      "Saving lrp/real/seed-2020_fold-03/avg/footright.nii.gz\n",
      "Running lrp on handleft\n",
      "Saving lrp/real/seed-2020_fold-03/handleft.nii.gz\n",
      "Saving lrp/real/seed-2020_fold-03/avg/handleft.nii.gz\n",
      "Running lrp on handright\n",
      "Saving lrp/real/seed-2020_fold-03/handright.nii.gz\n",
      "Saving lrp/real/seed-2020_fold-03/avg/handright.nii.gz\n",
      "Running lrp on tongue\n",
      "Saving lrp/real/seed-2020_fold-03/tongue.nii.gz\n",
      "Saving lrp/real/seed-2020_fold-03/avg/tongue.nii.gz\n",
      "Running lrp on loss\n",
      "Saving lrp/real/seed-2020_fold-03/loss.nii.gz\n",
      "Saving lrp/real/seed-2020_fold-03/avg/loss.nii.gz\n",
      "Running lrp on reward\n",
      "Saving lrp/real/seed-2020_fold-03/reward.nii.gz\n",
      "Saving lrp/real/seed-2020_fold-03/avg/reward.nii.gz\n",
      "Running lrp on mental\n",
      "Saving lrp/real/seed-2020_fold-03/mental.nii.gz\n",
      "Saving lrp/real/seed-2020_fold-03/avg/mental.nii.gz\n",
      "Running lrp on random\n",
      "Saving lrp/real/seed-2020_fold-03/random.nii.gz\n",
      "Saving lrp/real/seed-2020_fold-03/avg/random.nii.gz\n",
      "Running lrp on body\n",
      "Saving lrp/real/seed-2020_fold-03/body.nii.gz\n",
      "Saving lrp/real/seed-2020_fold-03/avg/body.nii.gz\n",
      "Running lrp on face\n",
      "Saving lrp/real/seed-2020_fold-03/face.nii.gz\n",
      "Saving lrp/real/seed-2020_fold-03/avg/face.nii.gz\n",
      "Running lrp on place\n",
      "Saving lrp/real/seed-2020_fold-03/place.nii.gz\n",
      "Saving lrp/real/seed-2020_fold-03/avg/place.nii.gz\n",
      "Running lrp on tool\n",
      "Saving lrp/real/seed-2020_fold-03/tool.nii.gz\n",
      "Saving lrp/real/seed-2020_fold-03/avg/tool.nii.gz\n",
      "Running lrp on match\n",
      "Saving lrp/real/seed-2020_fold-03/match.nii.gz\n",
      "Saving lrp/real/seed-2020_fold-03/avg/match.nii.gz\n",
      "Running lrp on relation\n",
      "Saving lrp/real/seed-2020_fold-03/relation.nii.gz\n",
      "Saving lrp/real/seed-2020_fold-03/avg/relation.nii.gz\n",
      "Running lrp on emotion\n",
      "Saving lrp/real/seed-2020_fold-03/emotion.nii.gz\n",
      "Saving lrp/real/seed-2020_fold-03/avg/emotion.nii.gz\n",
      "Running lrp on neut\n",
      "Saving lrp/real/seed-2020_fold-03/neut.nii.gz\n",
      "Saving lrp/real/seed-2020_fold-03/avg/neut.nii.gz\n",
      "Running lrp on story\n",
      "Saving lrp/real/seed-2020_fold-03/story.nii.gz\n",
      "Saving lrp/real/seed-2020_fold-03/avg/story.nii.gz\n",
      "Running lrp on math\n",
      "Saving lrp/real/seed-2020_fold-03/math.nii.gz\n",
      "Saving lrp/real/seed-2020_fold-03/avg/math.nii.gz\n",
      "Loading from config file models/CV-7folds-real/seed-2020_fold-04/config.yaml\n",
      "Running lrp on footleft\n",
      "Saving lrp/real/seed-2020_fold-04/footleft.nii.gz\n",
      "Saving lrp/real/seed-2020_fold-04/avg/footleft.nii.gz\n",
      "Running lrp on footright\n",
      "Saving lrp/real/seed-2020_fold-04/footright.nii.gz\n",
      "Saving lrp/real/seed-2020_fold-04/avg/footright.nii.gz\n",
      "Running lrp on handleft\n",
      "Saving lrp/real/seed-2020_fold-04/handleft.nii.gz\n",
      "Saving lrp/real/seed-2020_fold-04/avg/handleft.nii.gz\n",
      "Running lrp on handright\n",
      "Saving lrp/real/seed-2020_fold-04/handright.nii.gz\n",
      "Saving lrp/real/seed-2020_fold-04/avg/handright.nii.gz\n",
      "Running lrp on tongue\n",
      "Saving lrp/real/seed-2020_fold-04/tongue.nii.gz\n",
      "Saving lrp/real/seed-2020_fold-04/avg/tongue.nii.gz\n",
      "Running lrp on loss\n",
      "Saving lrp/real/seed-2020_fold-04/loss.nii.gz\n",
      "Saving lrp/real/seed-2020_fold-04/avg/loss.nii.gz\n",
      "Running lrp on reward\n",
      "Saving lrp/real/seed-2020_fold-04/reward.nii.gz\n",
      "Saving lrp/real/seed-2020_fold-04/avg/reward.nii.gz\n",
      "Running lrp on mental\n",
      "Saving lrp/real/seed-2020_fold-04/mental.nii.gz\n",
      "Saving lrp/real/seed-2020_fold-04/avg/mental.nii.gz\n",
      "Running lrp on random\n",
      "Saving lrp/real/seed-2020_fold-04/random.nii.gz\n",
      "Saving lrp/real/seed-2020_fold-04/avg/random.nii.gz\n",
      "Running lrp on body\n",
      "Saving lrp/real/seed-2020_fold-04/body.nii.gz\n",
      "Saving lrp/real/seed-2020_fold-04/avg/body.nii.gz\n",
      "Running lrp on face\n",
      "Saving lrp/real/seed-2020_fold-04/face.nii.gz\n",
      "Saving lrp/real/seed-2020_fold-04/avg/face.nii.gz\n",
      "Running lrp on place\n",
      "Saving lrp/real/seed-2020_fold-04/place.nii.gz\n",
      "Saving lrp/real/seed-2020_fold-04/avg/place.nii.gz\n",
      "Running lrp on tool\n",
      "Saving lrp/real/seed-2020_fold-04/tool.nii.gz\n",
      "Saving lrp/real/seed-2020_fold-04/avg/tool.nii.gz\n",
      "Running lrp on match\n",
      "Saving lrp/real/seed-2020_fold-04/match.nii.gz\n",
      "Saving lrp/real/seed-2020_fold-04/avg/match.nii.gz\n",
      "Running lrp on relation\n",
      "Saving lrp/real/seed-2020_fold-04/relation.nii.gz\n",
      "Saving lrp/real/seed-2020_fold-04/avg/relation.nii.gz\n",
      "Running lrp on emotion\n",
      "Saving lrp/real/seed-2020_fold-04/emotion.nii.gz\n",
      "Saving lrp/real/seed-2020_fold-04/avg/emotion.nii.gz\n",
      "Running lrp on neut\n",
      "Saving lrp/real/seed-2020_fold-04/neut.nii.gz\n",
      "Saving lrp/real/seed-2020_fold-04/avg/neut.nii.gz\n",
      "Running lrp on story\n",
      "Saving lrp/real/seed-2020_fold-04/story.nii.gz\n",
      "Saving lrp/real/seed-2020_fold-04/avg/story.nii.gz\n",
      "Running lrp on math\n",
      "Saving lrp/real/seed-2020_fold-04/math.nii.gz\n",
      "Saving lrp/real/seed-2020_fold-04/avg/math.nii.gz\n",
      "Loading from config file models/CV-7folds-real/seed-2020_fold-05/config.yaml\n",
      "Running lrp on footleft\n",
      "Saving lrp/real/seed-2020_fold-05/footleft.nii.gz\n",
      "Saving lrp/real/seed-2020_fold-05/avg/footleft.nii.gz\n",
      "Running lrp on footright\n",
      "Saving lrp/real/seed-2020_fold-05/footright.nii.gz\n",
      "Saving lrp/real/seed-2020_fold-05/avg/footright.nii.gz\n",
      "Running lrp on handleft\n",
      "Saving lrp/real/seed-2020_fold-05/handleft.nii.gz\n",
      "Saving lrp/real/seed-2020_fold-05/avg/handleft.nii.gz\n",
      "Running lrp on handright\n",
      "Saving lrp/real/seed-2020_fold-05/handright.nii.gz\n",
      "Saving lrp/real/seed-2020_fold-05/avg/handright.nii.gz\n",
      "Running lrp on tongue\n",
      "Saving lrp/real/seed-2020_fold-05/tongue.nii.gz\n",
      "Saving lrp/real/seed-2020_fold-05/avg/tongue.nii.gz\n",
      "Running lrp on loss\n",
      "Saving lrp/real/seed-2020_fold-05/loss.nii.gz\n",
      "Saving lrp/real/seed-2020_fold-05/avg/loss.nii.gz\n",
      "Running lrp on reward\n",
      "Saving lrp/real/seed-2020_fold-05/reward.nii.gz\n",
      "Saving lrp/real/seed-2020_fold-05/avg/reward.nii.gz\n",
      "Running lrp on mental\n",
      "Saving lrp/real/seed-2020_fold-05/mental.nii.gz\n",
      "Saving lrp/real/seed-2020_fold-05/avg/mental.nii.gz\n",
      "Running lrp on random\n",
      "Saving lrp/real/seed-2020_fold-05/random.nii.gz\n",
      "Saving lrp/real/seed-2020_fold-05/avg/random.nii.gz\n",
      "Running lrp on body\n",
      "Saving lrp/real/seed-2020_fold-05/body.nii.gz\n",
      "Saving lrp/real/seed-2020_fold-05/avg/body.nii.gz\n",
      "Running lrp on face\n",
      "Saving lrp/real/seed-2020_fold-05/face.nii.gz\n",
      "Saving lrp/real/seed-2020_fold-05/avg/face.nii.gz\n",
      "Running lrp on place\n",
      "Saving lrp/real/seed-2020_fold-05/place.nii.gz\n",
      "Saving lrp/real/seed-2020_fold-05/avg/place.nii.gz\n",
      "Running lrp on tool\n",
      "Saving lrp/real/seed-2020_fold-05/tool.nii.gz\n",
      "Saving lrp/real/seed-2020_fold-05/avg/tool.nii.gz\n",
      "Running lrp on match\n",
      "Saving lrp/real/seed-2020_fold-05/match.nii.gz\n",
      "Saving lrp/real/seed-2020_fold-05/avg/match.nii.gz\n",
      "Running lrp on relation\n",
      "Saving lrp/real/seed-2020_fold-05/relation.nii.gz\n",
      "Saving lrp/real/seed-2020_fold-05/avg/relation.nii.gz\n",
      "Running lrp on emotion\n",
      "Saving lrp/real/seed-2020_fold-05/emotion.nii.gz\n",
      "Saving lrp/real/seed-2020_fold-05/avg/emotion.nii.gz\n",
      "Running lrp on neut\n",
      "Saving lrp/real/seed-2020_fold-05/neut.nii.gz\n",
      "Saving lrp/real/seed-2020_fold-05/avg/neut.nii.gz\n",
      "Running lrp on story\n",
      "Saving lrp/real/seed-2020_fold-05/story.nii.gz\n",
      "Saving lrp/real/seed-2020_fold-05/avg/story.nii.gz\n",
      "Running lrp on math\n",
      "Saving lrp/real/seed-2020_fold-05/math.nii.gz\n",
      "Saving lrp/real/seed-2020_fold-05/avg/math.nii.gz\n",
      "Loading from config file models/CV-7folds-real/seed-2020_fold-06/config.yaml\n",
      "Running lrp on footleft\n",
      "Saving lrp/real/seed-2020_fold-06/footleft.nii.gz\n",
      "Saving lrp/real/seed-2020_fold-06/avg/footleft.nii.gz\n",
      "Running lrp on footright\n",
      "Saving lrp/real/seed-2020_fold-06/footright.nii.gz\n",
      "Saving lrp/real/seed-2020_fold-06/avg/footright.nii.gz\n",
      "Running lrp on handleft\n",
      "Saving lrp/real/seed-2020_fold-06/handleft.nii.gz\n",
      "Saving lrp/real/seed-2020_fold-06/avg/handleft.nii.gz\n",
      "Running lrp on handright\n",
      "Saving lrp/real/seed-2020_fold-06/handright.nii.gz\n",
      "Saving lrp/real/seed-2020_fold-06/avg/handright.nii.gz\n",
      "Running lrp on tongue\n",
      "Saving lrp/real/seed-2020_fold-06/tongue.nii.gz\n",
      "Saving lrp/real/seed-2020_fold-06/avg/tongue.nii.gz\n",
      "Running lrp on loss\n",
      "Saving lrp/real/seed-2020_fold-06/loss.nii.gz\n",
      "Saving lrp/real/seed-2020_fold-06/avg/loss.nii.gz\n",
      "Running lrp on reward\n",
      "Saving lrp/real/seed-2020_fold-06/reward.nii.gz\n",
      "Saving lrp/real/seed-2020_fold-06/avg/reward.nii.gz\n",
      "Running lrp on mental\n",
      "Saving lrp/real/seed-2020_fold-06/mental.nii.gz\n",
      "Saving lrp/real/seed-2020_fold-06/avg/mental.nii.gz\n",
      "Running lrp on random\n",
      "Saving lrp/real/seed-2020_fold-06/random.nii.gz\n",
      "Saving lrp/real/seed-2020_fold-06/avg/random.nii.gz\n",
      "Running lrp on body\n",
      "Saving lrp/real/seed-2020_fold-06/body.nii.gz\n",
      "Saving lrp/real/seed-2020_fold-06/avg/body.nii.gz\n",
      "Running lrp on face\n",
      "Saving lrp/real/seed-2020_fold-06/face.nii.gz\n",
      "Saving lrp/real/seed-2020_fold-06/avg/face.nii.gz\n",
      "Running lrp on place\n",
      "Saving lrp/real/seed-2020_fold-06/place.nii.gz\n",
      "Saving lrp/real/seed-2020_fold-06/avg/place.nii.gz\n",
      "Running lrp on tool\n",
      "Saving lrp/real/seed-2020_fold-06/tool.nii.gz\n",
      "Saving lrp/real/seed-2020_fold-06/avg/tool.nii.gz\n",
      "Running lrp on match\n",
      "Saving lrp/real/seed-2020_fold-06/match.nii.gz\n",
      "Saving lrp/real/seed-2020_fold-06/avg/match.nii.gz\n",
      "Running lrp on relation\n",
      "Saving lrp/real/seed-2020_fold-06/relation.nii.gz\n",
      "Saving lrp/real/seed-2020_fold-06/avg/relation.nii.gz\n",
      "Running lrp on emotion\n",
      "Saving lrp/real/seed-2020_fold-06/emotion.nii.gz\n",
      "Saving lrp/real/seed-2020_fold-06/avg/emotion.nii.gz\n",
      "Running lrp on neut\n",
      "Saving lrp/real/seed-2020_fold-06/neut.nii.gz\n",
      "Saving lrp/real/seed-2020_fold-06/avg/neut.nii.gz\n",
      "Running lrp on story\n",
      "Saving lrp/real/seed-2020_fold-06/story.nii.gz\n",
      "Saving lrp/real/seed-2020_fold-06/avg/story.nii.gz\n",
      "Running lrp on math\n",
      "Saving lrp/real/seed-2020_fold-06/math.nii.gz\n",
      "Saving lrp/real/seed-2020_fold-06/avg/math.nii.gz\n",
      "Loading from config file models/CV-7folds-real/seed-2020_fold-00/config.yaml\n",
      "Running guidedbackprop on footleft\n",
      "guidedbackprop/real/seed-2020_fold-00/footleft.nii.gz already exists. Skipping\n",
      "Running guidedbackprop on footright\n",
      "guidedbackprop/real/seed-2020_fold-00/footright.nii.gz already exists. Skipping\n",
      "Running guidedbackprop on handleft\n",
      "guidedbackprop/real/seed-2020_fold-00/handleft.nii.gz already exists. Skipping\n",
      "Running guidedbackprop on handright\n",
      "guidedbackprop/real/seed-2020_fold-00/handright.nii.gz already exists. Skipping\n",
      "Running guidedbackprop on tongue\n",
      "guidedbackprop/real/seed-2020_fold-00/tongue.nii.gz already exists. Skipping\n",
      "Running guidedbackprop on loss\n",
      "guidedbackprop/real/seed-2020_fold-00/loss.nii.gz already exists. Skipping\n",
      "Running guidedbackprop on reward\n",
      "guidedbackprop/real/seed-2020_fold-00/reward.nii.gz already exists. Skipping\n",
      "Running guidedbackprop on mental\n",
      "guidedbackprop/real/seed-2020_fold-00/mental.nii.gz already exists. Skipping\n",
      "Running guidedbackprop on random\n",
      "guidedbackprop/real/seed-2020_fold-00/random.nii.gz already exists. Skipping\n",
      "Running guidedbackprop on body\n",
      "guidedbackprop/real/seed-2020_fold-00/body.nii.gz already exists. Skipping\n",
      "Running guidedbackprop on face\n",
      "guidedbackprop/real/seed-2020_fold-00/face.nii.gz already exists. Skipping\n",
      "Running guidedbackprop on place\n",
      "guidedbackprop/real/seed-2020_fold-00/place.nii.gz already exists. Skipping\n",
      "Running guidedbackprop on tool\n",
      "guidedbackprop/real/seed-2020_fold-00/tool.nii.gz already exists. Skipping\n",
      "Running guidedbackprop on match\n",
      "guidedbackprop/real/seed-2020_fold-00/match.nii.gz already exists. Skipping\n",
      "Running guidedbackprop on relation\n",
      "guidedbackprop/real/seed-2020_fold-00/relation.nii.gz already exists. Skipping\n",
      "Running guidedbackprop on emotion\n",
      "guidedbackprop/real/seed-2020_fold-00/emotion.nii.gz already exists. Skipping\n",
      "Running guidedbackprop on neut\n",
      "guidedbackprop/real/seed-2020_fold-00/neut.nii.gz already exists. Skipping\n",
      "Running guidedbackprop on story\n",
      "guidedbackprop/real/seed-2020_fold-00/story.nii.gz already exists. Skipping\n",
      "Running guidedbackprop on math\n",
      "guidedbackprop/real/seed-2020_fold-00/math.nii.gz already exists. Skipping\n",
      "Loading from config file models/CV-7folds-real/seed-2020_fold-01/config.yaml\n",
      "Running guidedbackprop on footleft\n"
     ]
    },
    {
     "name": "stderr",
     "output_type": "stream",
     "text": [
      "/home/philippseidel/anaconda3/envs/thesis-env/lib/python3.8/site-packages/captum/attr/_core/guided_backprop_deconvnet.py:64: UserWarning: Setting backward hooks on ReLU activations.The hooks will be removed after the attribution is finished\n",
      "  warnings.warn(\n"
     ]
    },
    {
     "name": "stdout",
     "output_type": "stream",
     "text": [
      "Saving guidedbackprop/real/seed-2020_fold-01/footleft.nii.gz\n",
      "Saving guidedbackprop/real/seed-2020_fold-01/avg/footleft.nii.gz\n",
      "Running guidedbackprop on footright\n",
      "Saving guidedbackprop/real/seed-2020_fold-01/footright.nii.gz\n",
      "Saving guidedbackprop/real/seed-2020_fold-01/avg/footright.nii.gz\n",
      "Running guidedbackprop on handleft\n",
      "Saving guidedbackprop/real/seed-2020_fold-01/handleft.nii.gz\n",
      "Saving guidedbackprop/real/seed-2020_fold-01/avg/handleft.nii.gz\n",
      "Running guidedbackprop on handright\n",
      "Saving guidedbackprop/real/seed-2020_fold-01/handright.nii.gz\n",
      "Saving guidedbackprop/real/seed-2020_fold-01/avg/handright.nii.gz\n",
      "Running guidedbackprop on tongue\n",
      "Saving guidedbackprop/real/seed-2020_fold-01/tongue.nii.gz\n",
      "Saving guidedbackprop/real/seed-2020_fold-01/avg/tongue.nii.gz\n",
      "Running guidedbackprop on loss\n",
      "Saving guidedbackprop/real/seed-2020_fold-01/loss.nii.gz\n",
      "Saving guidedbackprop/real/seed-2020_fold-01/avg/loss.nii.gz\n",
      "Running guidedbackprop on reward\n",
      "Saving guidedbackprop/real/seed-2020_fold-01/reward.nii.gz\n",
      "Saving guidedbackprop/real/seed-2020_fold-01/avg/reward.nii.gz\n",
      "Running guidedbackprop on mental\n",
      "Saving guidedbackprop/real/seed-2020_fold-01/mental.nii.gz\n",
      "Saving guidedbackprop/real/seed-2020_fold-01/avg/mental.nii.gz\n",
      "Running guidedbackprop on random\n",
      "Saving guidedbackprop/real/seed-2020_fold-01/random.nii.gz\n",
      "Saving guidedbackprop/real/seed-2020_fold-01/avg/random.nii.gz\n",
      "Running guidedbackprop on body\n",
      "Saving guidedbackprop/real/seed-2020_fold-01/body.nii.gz\n",
      "Saving guidedbackprop/real/seed-2020_fold-01/avg/body.nii.gz\n",
      "Running guidedbackprop on face\n",
      "Saving guidedbackprop/real/seed-2020_fold-01/face.nii.gz\n",
      "Saving guidedbackprop/real/seed-2020_fold-01/avg/face.nii.gz\n",
      "Running guidedbackprop on place\n",
      "Saving guidedbackprop/real/seed-2020_fold-01/place.nii.gz\n",
      "Saving guidedbackprop/real/seed-2020_fold-01/avg/place.nii.gz\n",
      "Running guidedbackprop on tool\n",
      "Saving guidedbackprop/real/seed-2020_fold-01/tool.nii.gz\n",
      "Saving guidedbackprop/real/seed-2020_fold-01/avg/tool.nii.gz\n",
      "Running guidedbackprop on match\n",
      "Saving guidedbackprop/real/seed-2020_fold-01/match.nii.gz\n",
      "Saving guidedbackprop/real/seed-2020_fold-01/avg/match.nii.gz\n",
      "Running guidedbackprop on relation\n",
      "Saving guidedbackprop/real/seed-2020_fold-01/relation.nii.gz\n",
      "Saving guidedbackprop/real/seed-2020_fold-01/avg/relation.nii.gz\n",
      "Running guidedbackprop on emotion\n",
      "Saving guidedbackprop/real/seed-2020_fold-01/emotion.nii.gz\n",
      "Saving guidedbackprop/real/seed-2020_fold-01/avg/emotion.nii.gz\n",
      "Running guidedbackprop on neut\n",
      "Saving guidedbackprop/real/seed-2020_fold-01/neut.nii.gz\n",
      "Saving guidedbackprop/real/seed-2020_fold-01/avg/neut.nii.gz\n",
      "Running guidedbackprop on story\n",
      "Saving guidedbackprop/real/seed-2020_fold-01/story.nii.gz\n",
      "Saving guidedbackprop/real/seed-2020_fold-01/avg/story.nii.gz\n",
      "Running guidedbackprop on math\n",
      "Saving guidedbackprop/real/seed-2020_fold-01/math.nii.gz\n",
      "Saving guidedbackprop/real/seed-2020_fold-01/avg/math.nii.gz\n",
      "Loading from config file models/CV-7folds-real/seed-2020_fold-02/config.yaml\n",
      "Running guidedbackprop on footleft\n",
      "Saving guidedbackprop/real/seed-2020_fold-02/footleft.nii.gz\n",
      "Saving guidedbackprop/real/seed-2020_fold-02/avg/footleft.nii.gz\n",
      "Running guidedbackprop on footright\n",
      "Saving guidedbackprop/real/seed-2020_fold-02/footright.nii.gz\n",
      "Saving guidedbackprop/real/seed-2020_fold-02/avg/footright.nii.gz\n",
      "Running guidedbackprop on handleft\n",
      "Saving guidedbackprop/real/seed-2020_fold-02/handleft.nii.gz\n",
      "Saving guidedbackprop/real/seed-2020_fold-02/avg/handleft.nii.gz\n",
      "Running guidedbackprop on handright\n",
      "Saving guidedbackprop/real/seed-2020_fold-02/handright.nii.gz\n",
      "Saving guidedbackprop/real/seed-2020_fold-02/avg/handright.nii.gz\n",
      "Running guidedbackprop on tongue\n",
      "Saving guidedbackprop/real/seed-2020_fold-02/tongue.nii.gz\n",
      "Saving guidedbackprop/real/seed-2020_fold-02/avg/tongue.nii.gz\n",
      "Running guidedbackprop on loss\n",
      "Saving guidedbackprop/real/seed-2020_fold-02/loss.nii.gz\n",
      "Saving guidedbackprop/real/seed-2020_fold-02/avg/loss.nii.gz\n",
      "Running guidedbackprop on reward\n",
      "Saving guidedbackprop/real/seed-2020_fold-02/reward.nii.gz\n",
      "Saving guidedbackprop/real/seed-2020_fold-02/avg/reward.nii.gz\n",
      "Running guidedbackprop on mental\n",
      "Saving guidedbackprop/real/seed-2020_fold-02/mental.nii.gz\n",
      "Saving guidedbackprop/real/seed-2020_fold-02/avg/mental.nii.gz\n",
      "Running guidedbackprop on random\n",
      "Saving guidedbackprop/real/seed-2020_fold-02/random.nii.gz\n",
      "Saving guidedbackprop/real/seed-2020_fold-02/avg/random.nii.gz\n",
      "Running guidedbackprop on body\n",
      "Saving guidedbackprop/real/seed-2020_fold-02/body.nii.gz\n",
      "Saving guidedbackprop/real/seed-2020_fold-02/avg/body.nii.gz\n",
      "Running guidedbackprop on face\n",
      "Saving guidedbackprop/real/seed-2020_fold-02/face.nii.gz\n",
      "Saving guidedbackprop/real/seed-2020_fold-02/avg/face.nii.gz\n",
      "Running guidedbackprop on place\n",
      "Saving guidedbackprop/real/seed-2020_fold-02/place.nii.gz\n",
      "Saving guidedbackprop/real/seed-2020_fold-02/avg/place.nii.gz\n",
      "Running guidedbackprop on tool\n",
      "Saving guidedbackprop/real/seed-2020_fold-02/tool.nii.gz\n",
      "Saving guidedbackprop/real/seed-2020_fold-02/avg/tool.nii.gz\n",
      "Running guidedbackprop on match\n",
      "Saving guidedbackprop/real/seed-2020_fold-02/match.nii.gz\n",
      "Saving guidedbackprop/real/seed-2020_fold-02/avg/match.nii.gz\n",
      "Running guidedbackprop on relation\n",
      "Saving guidedbackprop/real/seed-2020_fold-02/relation.nii.gz\n",
      "Saving guidedbackprop/real/seed-2020_fold-02/avg/relation.nii.gz\n",
      "Running guidedbackprop on emotion\n",
      "Saving guidedbackprop/real/seed-2020_fold-02/emotion.nii.gz\n",
      "Saving guidedbackprop/real/seed-2020_fold-02/avg/emotion.nii.gz\n",
      "Running guidedbackprop on neut\n",
      "Saving guidedbackprop/real/seed-2020_fold-02/neut.nii.gz\n",
      "Saving guidedbackprop/real/seed-2020_fold-02/avg/neut.nii.gz\n",
      "Running guidedbackprop on story\n",
      "Saving guidedbackprop/real/seed-2020_fold-02/story.nii.gz\n",
      "Saving guidedbackprop/real/seed-2020_fold-02/avg/story.nii.gz\n",
      "Running guidedbackprop on math\n",
      "Saving guidedbackprop/real/seed-2020_fold-02/math.nii.gz\n",
      "Saving guidedbackprop/real/seed-2020_fold-02/avg/math.nii.gz\n",
      "Loading from config file models/CV-7folds-real/seed-2020_fold-03/config.yaml\n",
      "Running guidedbackprop on footleft\n",
      "Saving guidedbackprop/real/seed-2020_fold-03/footleft.nii.gz\n",
      "Saving guidedbackprop/real/seed-2020_fold-03/avg/footleft.nii.gz\n",
      "Running guidedbackprop on footright\n",
      "Saving guidedbackprop/real/seed-2020_fold-03/footright.nii.gz\n",
      "Saving guidedbackprop/real/seed-2020_fold-03/avg/footright.nii.gz\n",
      "Running guidedbackprop on handleft\n",
      "Saving guidedbackprop/real/seed-2020_fold-03/handleft.nii.gz\n",
      "Saving guidedbackprop/real/seed-2020_fold-03/avg/handleft.nii.gz\n",
      "Running guidedbackprop on handright\n",
      "Saving guidedbackprop/real/seed-2020_fold-03/handright.nii.gz\n",
      "Saving guidedbackprop/real/seed-2020_fold-03/avg/handright.nii.gz\n",
      "Running guidedbackprop on tongue\n",
      "Saving guidedbackprop/real/seed-2020_fold-03/tongue.nii.gz\n",
      "Saving guidedbackprop/real/seed-2020_fold-03/avg/tongue.nii.gz\n",
      "Running guidedbackprop on loss\n",
      "Saving guidedbackprop/real/seed-2020_fold-03/loss.nii.gz\n",
      "Saving guidedbackprop/real/seed-2020_fold-03/avg/loss.nii.gz\n",
      "Running guidedbackprop on reward\n",
      "Saving guidedbackprop/real/seed-2020_fold-03/reward.nii.gz\n",
      "Saving guidedbackprop/real/seed-2020_fold-03/avg/reward.nii.gz\n",
      "Running guidedbackprop on mental\n",
      "Saving guidedbackprop/real/seed-2020_fold-03/mental.nii.gz\n",
      "Saving guidedbackprop/real/seed-2020_fold-03/avg/mental.nii.gz\n",
      "Running guidedbackprop on random\n",
      "Saving guidedbackprop/real/seed-2020_fold-03/random.nii.gz\n",
      "Saving guidedbackprop/real/seed-2020_fold-03/avg/random.nii.gz\n",
      "Running guidedbackprop on body\n",
      "Saving guidedbackprop/real/seed-2020_fold-03/body.nii.gz\n",
      "Saving guidedbackprop/real/seed-2020_fold-03/avg/body.nii.gz\n",
      "Running guidedbackprop on face\n",
      "Saving guidedbackprop/real/seed-2020_fold-03/face.nii.gz\n",
      "Saving guidedbackprop/real/seed-2020_fold-03/avg/face.nii.gz\n",
      "Running guidedbackprop on place\n",
      "Saving guidedbackprop/real/seed-2020_fold-03/place.nii.gz\n",
      "Saving guidedbackprop/real/seed-2020_fold-03/avg/place.nii.gz\n",
      "Running guidedbackprop on tool\n",
      "Saving guidedbackprop/real/seed-2020_fold-03/tool.nii.gz\n",
      "Saving guidedbackprop/real/seed-2020_fold-03/avg/tool.nii.gz\n",
      "Running guidedbackprop on match\n",
      "Saving guidedbackprop/real/seed-2020_fold-03/match.nii.gz\n",
      "Saving guidedbackprop/real/seed-2020_fold-03/avg/match.nii.gz\n",
      "Running guidedbackprop on relation\n",
      "Saving guidedbackprop/real/seed-2020_fold-03/relation.nii.gz\n",
      "Saving guidedbackprop/real/seed-2020_fold-03/avg/relation.nii.gz\n",
      "Running guidedbackprop on emotion\n",
      "Saving guidedbackprop/real/seed-2020_fold-03/emotion.nii.gz\n",
      "Saving guidedbackprop/real/seed-2020_fold-03/avg/emotion.nii.gz\n",
      "Running guidedbackprop on neut\n",
      "Saving guidedbackprop/real/seed-2020_fold-03/neut.nii.gz\n",
      "Saving guidedbackprop/real/seed-2020_fold-03/avg/neut.nii.gz\n",
      "Running guidedbackprop on story\n",
      "Saving guidedbackprop/real/seed-2020_fold-03/story.nii.gz\n",
      "Saving guidedbackprop/real/seed-2020_fold-03/avg/story.nii.gz\n",
      "Running guidedbackprop on math\n",
      "Saving guidedbackprop/real/seed-2020_fold-03/math.nii.gz\n",
      "Saving guidedbackprop/real/seed-2020_fold-03/avg/math.nii.gz\n",
      "Loading from config file models/CV-7folds-real/seed-2020_fold-04/config.yaml\n",
      "Running guidedbackprop on footleft\n",
      "Saving guidedbackprop/real/seed-2020_fold-04/footleft.nii.gz\n",
      "Saving guidedbackprop/real/seed-2020_fold-04/avg/footleft.nii.gz\n",
      "Running guidedbackprop on footright\n",
      "Saving guidedbackprop/real/seed-2020_fold-04/footright.nii.gz\n",
      "Saving guidedbackprop/real/seed-2020_fold-04/avg/footright.nii.gz\n",
      "Running guidedbackprop on handleft\n",
      "Saving guidedbackprop/real/seed-2020_fold-04/handleft.nii.gz\n",
      "Saving guidedbackprop/real/seed-2020_fold-04/avg/handleft.nii.gz\n",
      "Running guidedbackprop on handright\n",
      "Saving guidedbackprop/real/seed-2020_fold-04/handright.nii.gz\n",
      "Saving guidedbackprop/real/seed-2020_fold-04/avg/handright.nii.gz\n",
      "Running guidedbackprop on tongue\n",
      "Saving guidedbackprop/real/seed-2020_fold-04/tongue.nii.gz\n",
      "Saving guidedbackprop/real/seed-2020_fold-04/avg/tongue.nii.gz\n",
      "Running guidedbackprop on loss\n",
      "Saving guidedbackprop/real/seed-2020_fold-04/loss.nii.gz\n",
      "Saving guidedbackprop/real/seed-2020_fold-04/avg/loss.nii.gz\n",
      "Running guidedbackprop on reward\n",
      "Saving guidedbackprop/real/seed-2020_fold-04/reward.nii.gz\n",
      "Saving guidedbackprop/real/seed-2020_fold-04/avg/reward.nii.gz\n",
      "Running guidedbackprop on mental\n",
      "Saving guidedbackprop/real/seed-2020_fold-04/mental.nii.gz\n",
      "Saving guidedbackprop/real/seed-2020_fold-04/avg/mental.nii.gz\n",
      "Running guidedbackprop on random\n",
      "Saving guidedbackprop/real/seed-2020_fold-04/random.nii.gz\n",
      "Saving guidedbackprop/real/seed-2020_fold-04/avg/random.nii.gz\n",
      "Running guidedbackprop on body\n",
      "Saving guidedbackprop/real/seed-2020_fold-04/body.nii.gz\n",
      "Saving guidedbackprop/real/seed-2020_fold-04/avg/body.nii.gz\n",
      "Running guidedbackprop on face\n",
      "Saving guidedbackprop/real/seed-2020_fold-04/face.nii.gz\n",
      "Saving guidedbackprop/real/seed-2020_fold-04/avg/face.nii.gz\n",
      "Running guidedbackprop on place\n",
      "Saving guidedbackprop/real/seed-2020_fold-04/place.nii.gz\n",
      "Saving guidedbackprop/real/seed-2020_fold-04/avg/place.nii.gz\n",
      "Running guidedbackprop on tool\n",
      "Saving guidedbackprop/real/seed-2020_fold-04/tool.nii.gz\n",
      "Saving guidedbackprop/real/seed-2020_fold-04/avg/tool.nii.gz\n",
      "Running guidedbackprop on match\n",
      "Saving guidedbackprop/real/seed-2020_fold-04/match.nii.gz\n",
      "Saving guidedbackprop/real/seed-2020_fold-04/avg/match.nii.gz\n",
      "Running guidedbackprop on relation\n",
      "Saving guidedbackprop/real/seed-2020_fold-04/relation.nii.gz\n",
      "Saving guidedbackprop/real/seed-2020_fold-04/avg/relation.nii.gz\n",
      "Running guidedbackprop on emotion\n",
      "Saving guidedbackprop/real/seed-2020_fold-04/emotion.nii.gz\n",
      "Saving guidedbackprop/real/seed-2020_fold-04/avg/emotion.nii.gz\n",
      "Running guidedbackprop on neut\n",
      "Saving guidedbackprop/real/seed-2020_fold-04/neut.nii.gz\n",
      "Saving guidedbackprop/real/seed-2020_fold-04/avg/neut.nii.gz\n",
      "Running guidedbackprop on story\n",
      "Saving guidedbackprop/real/seed-2020_fold-04/story.nii.gz\n",
      "Saving guidedbackprop/real/seed-2020_fold-04/avg/story.nii.gz\n",
      "Running guidedbackprop on math\n",
      "Saving guidedbackprop/real/seed-2020_fold-04/math.nii.gz\n",
      "Saving guidedbackprop/real/seed-2020_fold-04/avg/math.nii.gz\n",
      "Loading from config file models/CV-7folds-real/seed-2020_fold-05/config.yaml\n",
      "Running guidedbackprop on footleft\n",
      "Saving guidedbackprop/real/seed-2020_fold-05/footleft.nii.gz\n",
      "Saving guidedbackprop/real/seed-2020_fold-05/avg/footleft.nii.gz\n",
      "Running guidedbackprop on footright\n",
      "Saving guidedbackprop/real/seed-2020_fold-05/footright.nii.gz\n",
      "Saving guidedbackprop/real/seed-2020_fold-05/avg/footright.nii.gz\n",
      "Running guidedbackprop on handleft\n",
      "Saving guidedbackprop/real/seed-2020_fold-05/handleft.nii.gz\n",
      "Saving guidedbackprop/real/seed-2020_fold-05/avg/handleft.nii.gz\n",
      "Running guidedbackprop on handright\n",
      "Saving guidedbackprop/real/seed-2020_fold-05/handright.nii.gz\n",
      "Saving guidedbackprop/real/seed-2020_fold-05/avg/handright.nii.gz\n",
      "Running guidedbackprop on tongue\n",
      "Saving guidedbackprop/real/seed-2020_fold-05/tongue.nii.gz\n",
      "Saving guidedbackprop/real/seed-2020_fold-05/avg/tongue.nii.gz\n",
      "Running guidedbackprop on loss\n"
     ]
    },
    {
     "name": "stderr",
     "output_type": "stream",
     "text": [
      "/home/philippseidel/Documents/phd/delphi/delphi/utils/tools.py:208: RuntimeWarning: invalid value encountered in true_divide\n",
      "  return (volume - mu) / std\n"
     ]
    },
    {
     "name": "stdout",
     "output_type": "stream",
     "text": [
      "Saving guidedbackprop/real/seed-2020_fold-05/loss.nii.gz\n",
      "Saving guidedbackprop/real/seed-2020_fold-05/avg/loss.nii.gz\n",
      "Running guidedbackprop on reward\n",
      "Saving guidedbackprop/real/seed-2020_fold-05/reward.nii.gz\n",
      "Saving guidedbackprop/real/seed-2020_fold-05/avg/reward.nii.gz\n",
      "Running guidedbackprop on mental\n",
      "Saving guidedbackprop/real/seed-2020_fold-05/mental.nii.gz\n",
      "Saving guidedbackprop/real/seed-2020_fold-05/avg/mental.nii.gz\n",
      "Running guidedbackprop on random\n",
      "Saving guidedbackprop/real/seed-2020_fold-05/random.nii.gz\n",
      "Saving guidedbackprop/real/seed-2020_fold-05/avg/random.nii.gz\n",
      "Running guidedbackprop on body\n",
      "Saving guidedbackprop/real/seed-2020_fold-05/body.nii.gz\n",
      "Saving guidedbackprop/real/seed-2020_fold-05/avg/body.nii.gz\n",
      "Running guidedbackprop on face\n",
      "Saving guidedbackprop/real/seed-2020_fold-05/face.nii.gz\n",
      "Saving guidedbackprop/real/seed-2020_fold-05/avg/face.nii.gz\n",
      "Running guidedbackprop on place\n",
      "Saving guidedbackprop/real/seed-2020_fold-05/place.nii.gz\n",
      "Saving guidedbackprop/real/seed-2020_fold-05/avg/place.nii.gz\n",
      "Running guidedbackprop on tool\n",
      "Saving guidedbackprop/real/seed-2020_fold-05/tool.nii.gz\n",
      "Saving guidedbackprop/real/seed-2020_fold-05/avg/tool.nii.gz\n",
      "Running guidedbackprop on match\n",
      "Saving guidedbackprop/real/seed-2020_fold-05/match.nii.gz\n",
      "Saving guidedbackprop/real/seed-2020_fold-05/avg/match.nii.gz\n",
      "Running guidedbackprop on relation\n",
      "Saving guidedbackprop/real/seed-2020_fold-05/relation.nii.gz\n",
      "Saving guidedbackprop/real/seed-2020_fold-05/avg/relation.nii.gz\n",
      "Running guidedbackprop on emotion\n",
      "Saving guidedbackprop/real/seed-2020_fold-05/emotion.nii.gz\n",
      "Saving guidedbackprop/real/seed-2020_fold-05/avg/emotion.nii.gz\n",
      "Running guidedbackprop on neut\n",
      "Saving guidedbackprop/real/seed-2020_fold-05/neut.nii.gz\n",
      "Saving guidedbackprop/real/seed-2020_fold-05/avg/neut.nii.gz\n",
      "Running guidedbackprop on story\n",
      "Saving guidedbackprop/real/seed-2020_fold-05/story.nii.gz\n",
      "Saving guidedbackprop/real/seed-2020_fold-05/avg/story.nii.gz\n",
      "Running guidedbackprop on math\n",
      "Saving guidedbackprop/real/seed-2020_fold-05/math.nii.gz\n",
      "Saving guidedbackprop/real/seed-2020_fold-05/avg/math.nii.gz\n",
      "Loading from config file models/CV-7folds-real/seed-2020_fold-06/config.yaml\n",
      "Running guidedbackprop on footleft\n",
      "Saving guidedbackprop/real/seed-2020_fold-06/footleft.nii.gz\n",
      "Saving guidedbackprop/real/seed-2020_fold-06/avg/footleft.nii.gz\n",
      "Running guidedbackprop on footright\n",
      "Saving guidedbackprop/real/seed-2020_fold-06/footright.nii.gz\n",
      "Saving guidedbackprop/real/seed-2020_fold-06/avg/footright.nii.gz\n",
      "Running guidedbackprop on handleft\n",
      "Saving guidedbackprop/real/seed-2020_fold-06/handleft.nii.gz\n",
      "Saving guidedbackprop/real/seed-2020_fold-06/avg/handleft.nii.gz\n",
      "Running guidedbackprop on handright\n",
      "Saving guidedbackprop/real/seed-2020_fold-06/handright.nii.gz\n",
      "Saving guidedbackprop/real/seed-2020_fold-06/avg/handright.nii.gz\n",
      "Running guidedbackprop on tongue\n",
      "Saving guidedbackprop/real/seed-2020_fold-06/tongue.nii.gz\n",
      "Saving guidedbackprop/real/seed-2020_fold-06/avg/tongue.nii.gz\n",
      "Running guidedbackprop on loss\n",
      "Saving guidedbackprop/real/seed-2020_fold-06/loss.nii.gz\n",
      "Saving guidedbackprop/real/seed-2020_fold-06/avg/loss.nii.gz\n",
      "Running guidedbackprop on reward\n",
      "Saving guidedbackprop/real/seed-2020_fold-06/reward.nii.gz\n",
      "Saving guidedbackprop/real/seed-2020_fold-06/avg/reward.nii.gz\n",
      "Running guidedbackprop on mental\n",
      "Saving guidedbackprop/real/seed-2020_fold-06/mental.nii.gz\n",
      "Saving guidedbackprop/real/seed-2020_fold-06/avg/mental.nii.gz\n",
      "Running guidedbackprop on random\n",
      "Saving guidedbackprop/real/seed-2020_fold-06/random.nii.gz\n",
      "Saving guidedbackprop/real/seed-2020_fold-06/avg/random.nii.gz\n",
      "Running guidedbackprop on body\n",
      "Saving guidedbackprop/real/seed-2020_fold-06/body.nii.gz\n",
      "Saving guidedbackprop/real/seed-2020_fold-06/avg/body.nii.gz\n",
      "Running guidedbackprop on face\n",
      "Saving guidedbackprop/real/seed-2020_fold-06/face.nii.gz\n",
      "Saving guidedbackprop/real/seed-2020_fold-06/avg/face.nii.gz\n",
      "Running guidedbackprop on place\n",
      "Saving guidedbackprop/real/seed-2020_fold-06/place.nii.gz\n",
      "Saving guidedbackprop/real/seed-2020_fold-06/avg/place.nii.gz\n",
      "Running guidedbackprop on tool\n",
      "Saving guidedbackprop/real/seed-2020_fold-06/tool.nii.gz\n",
      "Saving guidedbackprop/real/seed-2020_fold-06/avg/tool.nii.gz\n",
      "Running guidedbackprop on match\n",
      "Saving guidedbackprop/real/seed-2020_fold-06/match.nii.gz\n",
      "Saving guidedbackprop/real/seed-2020_fold-06/avg/match.nii.gz\n",
      "Running guidedbackprop on relation\n",
      "Saving guidedbackprop/real/seed-2020_fold-06/relation.nii.gz\n",
      "Saving guidedbackprop/real/seed-2020_fold-06/avg/relation.nii.gz\n",
      "Running guidedbackprop on emotion\n",
      "Saving guidedbackprop/real/seed-2020_fold-06/emotion.nii.gz\n",
      "Saving guidedbackprop/real/seed-2020_fold-06/avg/emotion.nii.gz\n",
      "Running guidedbackprop on neut\n",
      "Saving guidedbackprop/real/seed-2020_fold-06/neut.nii.gz\n",
      "Saving guidedbackprop/real/seed-2020_fold-06/avg/neut.nii.gz\n",
      "Running guidedbackprop on story\n",
      "Saving guidedbackprop/real/seed-2020_fold-06/story.nii.gz\n",
      "Saving guidedbackprop/real/seed-2020_fold-06/avg/story.nii.gz\n",
      "Running guidedbackprop on math\n",
      "Saving guidedbackprop/real/seed-2020_fold-06/math.nii.gz\n",
      "Saving guidedbackprop/real/seed-2020_fold-06/avg/math.nii.gz\n"
     ]
    }
   ],
   "source": [
    "label_order = \"real\"\n",
    "\n",
    "n_folds = 7\n",
    "\n",
    "attributor_method = [LRP, GuidedBackprop]\n",
    "\n",
    "for i, method in enumerate(attributor_method):\n",
    "\n",
    "    method_name = str(method.__name__).lower()\n",
    "\n",
    "    for fold in range(n_folds):\n",
    "        # load the trained network\n",
    "        #model = BrainStateClassifier3d(f\"models/hcp-train-{label_order}/seed-2020_fold-{fold:02d}\")\n",
    "        #model = BrainStateClassifier3d(f\"models/smoothed-4mm-{label_order}/seed-2020_fold-{fold:02d}\")\n",
    "        model = BrainStateClassifier3d(f\"models/CV-7folds-{label_order}/seed-2020_fold-{fold:02d}\")\n",
    "        model.to(torch.device(\"cpu\"));\n",
    "        model.eval()\n",
    "        \n",
    "        out_dir_name = f\"{method_name}/{label_order}/seed-2020_fold-{fold:02d}\"\n",
    "        if not os.path.exists(out_dir_name):\n",
    "            os.makedirs(out_dir_name)\n",
    "\n",
    "        class_labels = model.config[\"class_labels\"]\n",
    "            \n",
    "        for j in range(len(class_labels)):\n",
    "\n",
    "            print(f\"Running {method_name} on {class_labels[j]}\")\n",
    "\n",
    "            out_fname = os.path.join(out_dir_name, '%s.nii.gz' % class_labels[j])\n",
    "            if os.path.isfile(out_fname):\n",
    "                print(f\"{out_fname} already exists. Skipping\")\n",
    "                continue\n",
    "\n",
    "            dl = DataLoader(\n",
    "                NiftiDataset('../t-maps/test', [class_labels[j]], 0, device=torch.device(\"cpu\"), transform=ToTensor()),\n",
    "                batch_size=20, shuffle=False, num_workers=0\n",
    "            )\n",
    "\n",
    "            for i, (volume, target) in enumerate(dl):\n",
    "\n",
    "                attribution = attribute_with_method(method, model, volume, target)\n",
    "\n",
    "                subject_attr = np.moveaxis(attribution.squeeze().detach().numpy(), 0, -1)\n",
    "                subject_attr = z_transform_volume(subject_attr)\n",
    "                avg_attr = subject_attr.mean(axis=-1)\n",
    "\n",
    "            save_in_mni(subject_attr, out_fname)\n",
    "\n",
    "            avg_out_name = os.path.join(out_dir_name, \"avg\")\n",
    "            if not os.path.exists(avg_out_name):\n",
    "                os.makedirs(avg_out_name)\n",
    "            save_in_mni(avg_attr, os.path.join(avg_out_name, '%s.nii.gz' % class_labels[j]))"
   ]
  },
  {
   "cell_type": "markdown",
   "id": "60b843b7-2370-4e21-bd69-a744286fea57",
   "metadata": {},
   "source": [
    "Another sanity check for attribution methods put forth by Adebayo and colleagues is to test the similarity between attribution maps of trained networks with those of randomly initialized weights.\n",
    "If they were to be similar, we can say that the attribution map is insensitive to the model parameters, which would reduce confidence in the attribution maps of trained networks."
   ]
  },
  {
   "cell_type": "code",
   "execution_count": null,
   "id": "f2206fad-8af2-4e09-9ee9-c50067eb9049",
   "metadata": {
    "scrolled": true,
    "tags": []
   },
   "outputs": [],
   "source": [
    "n_folds = 1\n",
    "\n",
    "attributor_method = [LRP, GuidedBackprop]\n",
    "\n",
    "model_config = read_config(\"hyperparameter.yaml\")\n",
    "\n",
    "seed = 1337\n",
    "ctr = 0\n",
    "\n",
    "for i, method in enumerate(attributor_method):\n",
    "\n",
    "    method_name = str(method.__name__).lower()\n",
    "\n",
    "    for fold in range(n_folds):\n",
    "        # load the trained network\n",
    "        \n",
    "        g = set_random_seed(seed + ctr)\n",
    "        \n",
    "        model = BrainStateClassifier3d((91, 109, 91), len(class_labels), model_config)\n",
    "        model.to(torch.device(\"cpu\"));\n",
    "        model.eval()\n",
    "        \n",
    "        out_dir_name = f\"{method_name}/model-random/seed-1337_fold-{fold:02d}\"\n",
    "        if not os.path.exists(out_dir_name):\n",
    "            os.makedirs(out_dir_name)\n",
    "\n",
    "        for j in range(len(class_labels)):\n",
    "\n",
    "            print(f\"Running {method_name} on {class_labels[j]}\")\n",
    "\n",
    "            out_fname = os.path.join(out_dir_name, '%s.nii.gz' % class_labels[j])\n",
    "            if os.path.isfile(out_fname):\n",
    "                print(f\"{out_fname} already exists. Skipping\")\n",
    "                continue\n",
    "\n",
    "            dl = DataLoader(\n",
    "                NiftiDataset('../t-maps/test', [class_labels[j]], 0, device=torch.device(\"cpu\"), transform=ToTensor()),\n",
    "                batch_size=20, shuffle=False, num_workers=0\n",
    "            )\n",
    "\n",
    "            for i, (volume, target) in enumerate(dl):\n",
    "\n",
    "                attribution = attribute_with_method(method, model, volume, target)\n",
    "\n",
    "                subject_attr = np.moveaxis(attribution.squeeze().detach().numpy(), 0, -1)\n",
    "                subject_attr = z_transform_volume(subject_attr)\n",
    "                avg_attr = subject_attr.mean(axis=-1)\n",
    "\n",
    "            save_in_mni(subject_attr, out_fname)\n",
    "\n",
    "            avg_out_name = os.path.join(out_dir_name, \"avg\")\n",
    "            if not os.path.exists(avg_out_name):\n",
    "                os.makedirs(avg_out_name)\n",
    "            save_in_mni(avg_attr, os.path.join(avg_out_name, '%s.nii.gz' % class_labels[j]))\n",
    "            \n",
    "        ctr+=1"
   ]
  },
  {
   "cell_type": "code",
   "execution_count": null,
   "id": "2b4fd315-8d0a-4829-926c-517f791bb0b1",
   "metadata": {},
   "outputs": [],
   "source": [
    "real_runs = wandb_df[wandb_df.job_type == \"CV-7folds-real\"]\n",
    "# sort according to best_valid_accuracy (desc), test_accuracy (desc), and test_loss (asc). Take the first entry => best fold\n",
    "real_runs_sorted = real_runs.sort_values([\"best_valid_accuracy\", \"test_accuracy\", \"test_loss\"], ascending=[False, False, True])\n",
    "real_runs_sorted.head(1)"
   ]
  },
  {
   "cell_type": "markdown",
   "id": "038645d5-cc5d-4acb-9f9f-504de6e123f8",
   "metadata": {},
   "source": [
    "# SecondLevel GLM analyses"
   ]
  },
  {
   "cell_type": "markdown",
   "id": "67d8075d-c6fb-424f-bb54-9ece453aa3a3",
   "metadata": {},
   "source": [
    "We need some way to compare the attribution maps from LRP and GBP to the original t-maps. To do this, we first compute a group level analysis across the subjects in the left-out test dataset.\n",
    "That is, we compute a group level \n",
    "* t-map, \n",
    "* LRP-map, and \n",
    "* GBP-map.\n",
    "\n",
    "In a later stage we can then use, for example, mutual information to quantify the similarity in a whithin subject and subject-vs-grpmap fashion. \n",
    "With such comparisons we can check whether mutual information of LRP/GBP maps with their respective group map is larger than, e.g., the mutual information between single subjects' t-maps (i.e., the original input data) with their respective group map.\n",
    "\n",
    "We therefore will perform the following comparisons:\n",
    "\n",
    "* subattr vs grpattr (grp attr is a map computed by leaving the subject out of the GLM whos map we want to compare to the grp, e.g., leave-out subject-01 in computing the grp map but use its attribution map to compute mutual information)\n",
    "* subt vs grpt (same as above)\n",
    "* subattr vs subt\n",
    "* grpattr vs grpt"
   ]
  },
  {
   "cell_type": "code",
   "execution_count": 59,
   "id": "a9a2d620-0cc0-42f6-9fef-02248702da9f",
   "metadata": {},
   "outputs": [],
   "source": [
    "import matplotlib.pyplot as plt\n",
    "import nilearn\n",
    "from nilearn.image import load_img\n",
    "from nilearn.glm.second_level import SecondLevelModel\n",
    "import nibabel as nib\n",
    "\n",
    "def save_stat_maps(data, prefix, save_loc='stat-maps', maps_of_interest=[\"z_score\"]):\n",
    "    \n",
    "    if not os.path.exists(save_loc):\n",
    "        os.makedirs(save_loc)\n",
    "    \n",
    "    for i, key in enumerate(maps_of_interest):\n",
    "        path2save = os.path.join(save_loc, f\"{prefix}_{key}.nii.gz\")\n",
    "        nib.save(data[key], path2save)"
   ]
  },
  {
   "cell_type": "code",
   "execution_count": 60,
   "id": "d3a0e240-af56-47c3-90bd-a8b75a2713f2",
   "metadata": {},
   "outputs": [],
   "source": [
    "# load the real images\n",
    "class_labels = [\"footleft\", \"footright\", \"handleft\", \"handright\", \"tongue\", \"loss\", \"reward\", \"mental\", \"random\", \"body\", \"face\", \"place\", \"tool\", \"match\", \"relation\", \"emotion\", \"neut\", \"story\", \"math\"]\n",
    "#class_labels = [\"footleft\", \"footright\", \"handleft\", \"handright\", \"tongue\"]\n",
    "\n",
    "test_img_files = []\n",
    "[test_img_files.extend(glob(f\"../copes/test/{class_labels[i]}/*.nii.gz\")) for i in range(len(class_labels))]\n",
    "images = load_img(test_img_files)\n",
    "# assign the correct labels to each file\n",
    "real = np.repeat(np.arange(len(class_labels)), 20)\n",
    "\n",
    "# a whole brain mask\n",
    "mask = load_img(mni_template)"
   ]
  },
  {
   "cell_type": "markdown",
   "id": "ca2a12b7-77e8-4ab0-821a-87c1bb9fbc1c",
   "metadata": {},
   "source": [
    "In this group level analysis we are interested in computing the average t-map for each condition: footleft, footright, handleft, handright, and tongue. \n",
    "Just due to curiousity we will also compute an average t-map across all conditions.\n",
    "\n",
    "The code cell below produces and plots the design matrix for our GLM analysis.\n",
    "\n",
    "The data and matrix are setup in a way that the all files of the same condition are grouped together, hence we can see 20 '1's for each condition (first 5 columns). The \"average\" contrast simply contains \"1\"s for all input volumes.\n",
    "As this is a paired design we need to assign the subjects to their respective volumes. You can see this by the sub-XX columns."
   ]
  },
  {
   "cell_type": "code",
   "execution_count": 61,
   "id": "f869feb8-e91f-4211-8a7b-6f66082e6fa7",
   "metadata": {},
   "outputs": [
    {
     "data": {
      "image/png": "[encoded data removed]",
      "text/plain": [
       "<Figure size 576x720 with 1 Axes>"
      ]
     },
     "metadata": {
      "needs_background": "light"
     },
     "output_type": "display_data"
    }
   ],
   "source": [
    "# set up the 2nd-level contrast matrix\n",
    "from nilearn.plotting import plot_design_matrix, plot_contrast_matrix\n",
    "n_subs = 20\n",
    "n = len(test_img_files)\n",
    "design_matrix = {}\n",
    "\n",
    "for label in range(len(class_labels)):\n",
    "    regressor = np.repeat(np.eye(len(class_labels))[label], n_subs)\n",
    "    #regressor[np.where(regressor==0)] = -1/len(class_labels)\n",
    "    design_matrix[f'{class_labels[label]}'] = regressor\n",
    "\n",
    "#design_matrix['average'] = np.ones(n) # the average across al conditions simply takes all files as input\n",
    "    \n",
    "for sub in range(n_subs):\n",
    "    regressor = np.tile(np.eye(n_subs)[sub], len(class_labels))\n",
    "    design_matrix[f'sub-{sub:02d}'] = regressor\n",
    "\n",
    "df_design_matrix = pd.DataFrame(design_matrix)\n",
    "fig, ax = plt.subplots(figsize=(8, 10))\n",
    "plot_design_matrix(df_design_matrix, rescale=False, ax=ax);\n",
    "ax.set_xticklabels(df_design_matrix.columns, fontsize=15, rotation=90, ha=\"center\");\n",
    "ax.set_ylabel(\"sample\", fontsize=15);\n",
    "ax.xaxis.set_label_position('top') \n",
    "ax.set_title(\"2nd-level contrasts\", fontsize=20);\n",
    "\n",
    "#plt.savefig('figures/2nd-level-matrix-nilearn.svg', facecolor=fig.get_facecolor(), transparent=True)"
   ]
  },
  {
   "cell_type": "code",
   "execution_count": 62,
   "id": "2f8890f3-4510-43bb-a212-a0b8c9824ce4",
   "metadata": {},
   "outputs": [],
   "source": [
    "# create the glm\n",
    "glm = SecondLevelModel(smoothing_fwhm=None, mask_img=mask)"
   ]
  },
  {
   "cell_type": "code",
   "execution_count": 63,
   "id": "aa69c971-2440-4572-b80b-38da9efe6d1f",
   "metadata": {},
   "outputs": [
    {
     "name": "stderr",
     "output_type": "stream",
     "text": [
      "/home/philippseidel/anaconda3/envs/thesis-env/lib/python3.8/site-packages/nilearn/_utils/glm.py:335: RuntimeWarning: divide by zero encountered in true_divide\n",
      "  return np.where(X <= 0, 0, 1. / X)\n"
     ]
    }
   ],
   "source": [
    "# perform the GLM once on the original beta maps\n",
    "glm.fit([nilearn.image.index_img(images, i) for i in range(n)], design_matrix=df_design_matrix)\n",
    "\n",
    "contrasts = class_labels\n",
    "\n",
    "for c, contrast in enumerate(contrasts):\n",
    "    maps_orig = glm.compute_contrast(contrast, output_type=\"all\")\n",
    "    save_stat_maps(maps_orig, f\"{contrast}\", save_loc=\"stat-maps/orig\")"
   ]
  },
  {
   "cell_type": "code",
   "execution_count": 64,
   "id": "3f0fad1a-7624-443d-8885-0b5206e15da0",
   "metadata": {
    "scrolled": true,
    "tags": []
   },
   "outputs": [
    {
     "name": "stdout",
     "output_type": "stream",
     "text": [
      "lrp real 1\n",
      "guidedbackprop real 1\n"
     ]
    }
   ],
   "source": [
    "# perform the GLM on the relevance maps for each individual fold\n",
    "# load the relevance images\n",
    "contrasts = class_labels\n",
    "\n",
    "attr_types = [\"lrp\", \"guidedbackprop\"] #\"lrp\" \"guidedbackprop\"\n",
    "\n",
    "label_order = \"real\" #, \"shuffled\"\n",
    "\n",
    "overwrite = False\n",
    "\n",
    "BEST_FOLD = 1\n",
    "fold = BEST_FOLD\n",
    "\n",
    "for a, attr_type in enumerate(attr_types):\n",
    "\n",
    "    print(attr_type, label_order, fold)\n",
    "\n",
    "    save_loc = os.path.join(\"stat-maps\", attr_type, label_order, f\"seed-2020_fold-{fold:02d}\")\n",
    "\n",
    "    if not os.path.isdir(save_loc) or overwrite:\n",
    "\n",
    "        relevance_files = glob(os.path.join(f\"{attr_type}\", label_order, f\"seed-2020_fold-{fold:02d}/*.nii.gz\"))\n",
    "        relevance_maps = load_img(relevance_files)\n",
    "\n",
    "        # set up the GLM for the current fold\n",
    "        glm.fit([nilearn.image.index_img(relevance_maps , i) for i in range(n)], design_matrix=df_design_matrix)\n",
    "\n",
    "        for c, contrast in enumerate(contrasts):\n",
    "            maps_attr = glm.compute_contrast(contrast, output_type=\"all\")\n",
    "            save_stat_maps(maps_attr, f\"{contrast}\", save_loc=save_loc)\n"
   ]
  },
  {
   "cell_type": "markdown",
   "id": "59c870f8-f3d3-4c08-9513-b96c434321d3",
   "metadata": {},
   "source": [
    "### Leave-one-subject-out grp maps"
   ]
  },
  {
   "cell_type": "markdown",
   "id": "149a3857-fef6-47bc-a47a-1763e0e05c9c",
   "metadata": {},
   "source": [
    "Now that we have the group LRP, GBP, and t-maps, we can turn to the leave-one-subject-out tests. We need these group statistics as well to be unbiased in computing the sub(attr/t) vs group(attr/t) mutual information. "
   ]
  },
  {
   "cell_type": "code",
   "execution_count": 65,
   "id": "2b2b599e-5099-4ea8-9861-8cd7a51e3173",
   "metadata": {},
   "outputs": [
    {
     "data": {
      "application/vnd.jupyter.widget-view+json": {
       "model_id": "40540e61a2c44f93a7be83f5796e062e",
       "version_major": 2,
       "version_minor": 0
      },
      "text/plain": [
       "  0%|          | 0/20 [00:00<?, ?it/s]"
      ]
     },
     "metadata": {},
     "output_type": "display_data"
    },
    {
     "name": "stderr",
     "output_type": "stream",
     "text": [
      "/home/philippseidel/anaconda3/envs/thesis-env/lib/python3.8/site-packages/nilearn/_utils/glm.py:335: RuntimeWarning: divide by zero encountered in true_divide\n",
      "  return np.where(X <= 0, 0, 1. / X)\n",
      "/home/philippseidel/anaconda3/envs/thesis-env/lib/python3.8/site-packages/nilearn/_utils/glm.py:335: RuntimeWarning: divide by zero encountered in true_divide\n",
      "  return np.where(X <= 0, 0, 1. / X)\n",
      "/home/philippseidel/anaconda3/envs/thesis-env/lib/python3.8/site-packages/nilearn/_utils/glm.py:335: RuntimeWarning: divide by zero encountered in true_divide\n",
      "  return np.where(X <= 0, 0, 1. / X)\n",
      "/home/philippseidel/anaconda3/envs/thesis-env/lib/python3.8/site-packages/nilearn/_utils/glm.py:335: RuntimeWarning: divide by zero encountered in true_divide\n",
      "  return np.where(X <= 0, 0, 1. / X)\n",
      "/home/philippseidel/anaconda3/envs/thesis-env/lib/python3.8/site-packages/nilearn/_utils/glm.py:335: RuntimeWarning: divide by zero encountered in true_divide\n",
      "  return np.where(X <= 0, 0, 1. / X)\n",
      "/home/philippseidel/anaconda3/envs/thesis-env/lib/python3.8/site-packages/nilearn/_utils/glm.py:335: RuntimeWarning: divide by zero encountered in true_divide\n",
      "  return np.where(X <= 0, 0, 1. / X)\n",
      "/home/philippseidel/anaconda3/envs/thesis-env/lib/python3.8/site-packages/nilearn/_utils/glm.py:335: RuntimeWarning: divide by zero encountered in true_divide\n",
      "  return np.where(X <= 0, 0, 1. / X)\n",
      "/home/philippseidel/anaconda3/envs/thesis-env/lib/python3.8/site-packages/nilearn/_utils/glm.py:335: RuntimeWarning: divide by zero encountered in true_divide\n",
      "  return np.where(X <= 0, 0, 1. / X)\n",
      "/home/philippseidel/anaconda3/envs/thesis-env/lib/python3.8/site-packages/nilearn/_utils/glm.py:335: RuntimeWarning: divide by zero encountered in true_divide\n",
      "  return np.where(X <= 0, 0, 1. / X)\n",
      "/home/philippseidel/anaconda3/envs/thesis-env/lib/python3.8/site-packages/nilearn/_utils/glm.py:335: RuntimeWarning: divide by zero encountered in true_divide\n",
      "  return np.where(X <= 0, 0, 1. / X)\n",
      "/home/philippseidel/anaconda3/envs/thesis-env/lib/python3.8/site-packages/nilearn/_utils/glm.py:335: RuntimeWarning: divide by zero encountered in true_divide\n",
      "  return np.where(X <= 0, 0, 1. / X)\n",
      "/home/philippseidel/anaconda3/envs/thesis-env/lib/python3.8/site-packages/nilearn/_utils/glm.py:335: RuntimeWarning: divide by zero encountered in true_divide\n",
      "  return np.where(X <= 0, 0, 1. / X)\n",
      "/home/philippseidel/anaconda3/envs/thesis-env/lib/python3.8/site-packages/nilearn/_utils/glm.py:335: RuntimeWarning: divide by zero encountered in true_divide\n",
      "  return np.where(X <= 0, 0, 1. / X)\n",
      "/home/philippseidel/anaconda3/envs/thesis-env/lib/python3.8/site-packages/nilearn/_utils/glm.py:335: RuntimeWarning: divide by zero encountered in true_divide\n",
      "  return np.where(X <= 0, 0, 1. / X)\n",
      "/home/philippseidel/anaconda3/envs/thesis-env/lib/python3.8/site-packages/nilearn/_utils/glm.py:335: RuntimeWarning: divide by zero encountered in true_divide\n",
      "  return np.where(X <= 0, 0, 1. / X)\n",
      "/home/philippseidel/anaconda3/envs/thesis-env/lib/python3.8/site-packages/nilearn/_utils/glm.py:335: RuntimeWarning: divide by zero encountered in true_divide\n",
      "  return np.where(X <= 0, 0, 1. / X)\n",
      "/home/philippseidel/anaconda3/envs/thesis-env/lib/python3.8/site-packages/nilearn/_utils/glm.py:335: RuntimeWarning: divide by zero encountered in true_divide\n",
      "  return np.where(X <= 0, 0, 1. / X)\n",
      "/home/philippseidel/anaconda3/envs/thesis-env/lib/python3.8/site-packages/nilearn/_utils/glm.py:335: RuntimeWarning: divide by zero encountered in true_divide\n",
      "  return np.where(X <= 0, 0, 1. / X)\n",
      "/home/philippseidel/anaconda3/envs/thesis-env/lib/python3.8/site-packages/nilearn/_utils/glm.py:335: RuntimeWarning: divide by zero encountered in true_divide\n",
      "  return np.where(X <= 0, 0, 1. / X)\n",
      "/home/philippseidel/anaconda3/envs/thesis-env/lib/python3.8/site-packages/nilearn/_utils/glm.py:335: RuntimeWarning: divide by zero encountered in true_divide\n",
      "  return np.where(X <= 0, 0, 1. / X)\n"
     ]
    }
   ],
   "source": [
    "contrasts = class_labels\n",
    "\n",
    "sub_list = np.tile(np.arange(n_subs), len(contrasts))\n",
    "\n",
    "for s in tqdm(range(n_subs)):\n",
    "    \n",
    "    # copy the original design matrix\n",
    "    this_dm = df_design_matrix.copy()\n",
    "    \n",
    "    # now drop the respective subject\n",
    "    this_dm = this_dm.drop(labels=np.squeeze(np.where(sub_list == s)), axis=\"index\")\n",
    "    this_dm = this_dm.drop(columns=[f\"sub-{s:02d}\"])\n",
    "    #plot_design_matrix(this_dm)\n",
    "    \n",
    "    idcs = np.arange(n)\n",
    "    idcs = np.delete(idcs, np.where(sub_list == s))\n",
    "    \n",
    "    # perform the GLM on the all subs except s\n",
    "    glm.fit([nilearn.image.index_img(images, i) for i in idcs], design_matrix=this_dm)\n",
    "\n",
    "    for c, contrast in enumerate(contrasts):\n",
    "        maps_orig = glm.compute_contrast(contrast, output_type=\"all\")\n",
    "        save_stat_maps(maps_orig, f\"{contrast}_wo-sub{s:02d}\", save_loc=\"stat-maps/orig/left-out\", maps_of_interest=[\"z_score\"])"
   ]
  },
  {
   "cell_type": "markdown",
   "id": "7943109c-6f29-4045-9207-ee58cea83db4",
   "metadata": {},
   "source": [
    "# compute a GLM for the test data set by leaving 1-subject out. We will need this for the mutual information analysis later\n"
   ]
  },
  {
   "cell_type": "code",
   "execution_count": 66,
   "id": "83478a37-b850-4550-8ea4-7b77eb0c9113",
   "metadata": {},
   "outputs": [
    {
     "name": "stdout",
     "output_type": "stream",
     "text": [
      "lrp real\n"
     ]
    },
    {
     "data": {
      "application/vnd.jupyter.widget-view+json": {
       "model_id": "",
       "version_major": 2,
       "version_minor": 0
      },
      "text/plain": [
       "subs:   0%|          | 0/20 [00:00<?, ?it/s]"
      ]
     },
     "metadata": {},
     "output_type": "display_data"
    },
    {
     "data": {
      "application/vnd.jupyter.widget-view+json": {
       "model_id": "",
       "version_major": 2,
       "version_minor": 0
      },
      "text/plain": [
       "subs:   0%|          | 0/20 [00:00<?, ?it/s]"
      ]
     },
     "metadata": {},
     "output_type": "display_data"
    },
    {
     "data": {
      "application/vnd.jupyter.widget-view+json": {
       "model_id": "",
       "version_major": 2,
       "version_minor": 0
      },
      "text/plain": [
       "subs:   0%|          | 0/20 [00:00<?, ?it/s]"
      ]
     },
     "metadata": {},
     "output_type": "display_data"
    },
    {
     "data": {
      "application/vnd.jupyter.widget-view+json": {
       "model_id": "",
       "version_major": 2,
       "version_minor": 0
      },
      "text/plain": [
       "subs:   0%|          | 0/20 [00:00<?, ?it/s]"
      ]
     },
     "metadata": {},
     "output_type": "display_data"
    },
    {
     "data": {
      "application/vnd.jupyter.widget-view+json": {
       "model_id": "",
       "version_major": 2,
       "version_minor": 0
      },
      "text/plain": [
       "subs:   0%|          | 0/20 [00:00<?, ?it/s]"
      ]
     },
     "metadata": {},
     "output_type": "display_data"
    },
    {
     "data": {
      "application/vnd.jupyter.widget-view+json": {
       "model_id": "",
       "version_major": 2,
       "version_minor": 0
      },
      "text/plain": [
       "subs:   0%|          | 0/20 [00:00<?, ?it/s]"
      ]
     },
     "metadata": {},
     "output_type": "display_data"
    },
    {
     "data": {
      "application/vnd.jupyter.widget-view+json": {
       "model_id": "",
       "version_major": 2,
       "version_minor": 0
      },
      "text/plain": [
       "subs:   0%|          | 0/20 [00:00<?, ?it/s]"
      ]
     },
     "metadata": {},
     "output_type": "display_data"
    },
    {
     "data": {
      "application/vnd.jupyter.widget-view+json": {
       "model_id": "",
       "version_major": 2,
       "version_minor": 0
      },
      "text/plain": [
       "subs:   0%|          | 0/20 [00:00<?, ?it/s]"
      ]
     },
     "metadata": {},
     "output_type": "display_data"
    },
    {
     "data": {
      "application/vnd.jupyter.widget-view+json": {
       "model_id": "",
       "version_major": 2,
       "version_minor": 0
      },
      "text/plain": [
       "subs:   0%|          | 0/20 [00:00<?, ?it/s]"
      ]
     },
     "metadata": {},
     "output_type": "display_data"
    },
    {
     "data": {
      "application/vnd.jupyter.widget-view+json": {
       "model_id": "",
       "version_major": 2,
       "version_minor": 0
      },
      "text/plain": [
       "subs:   0%|          | 0/20 [00:00<?, ?it/s]"
      ]
     },
     "metadata": {},
     "output_type": "display_data"
    },
    {
     "data": {
      "application/vnd.jupyter.widget-view+json": {
       "model_id": "",
       "version_major": 2,
       "version_minor": 0
      },
      "text/plain": [
       "subs:   0%|          | 0/20 [00:00<?, ?it/s]"
      ]
     },
     "metadata": {},
     "output_type": "display_data"
    },
    {
     "data": {
      "application/vnd.jupyter.widget-view+json": {
       "model_id": "",
       "version_major": 2,
       "version_minor": 0
      },
      "text/plain": [
       "subs:   0%|          | 0/20 [00:00<?, ?it/s]"
      ]
     },
     "metadata": {},
     "output_type": "display_data"
    },
    {
     "data": {
      "application/vnd.jupyter.widget-view+json": {
       "model_id": "",
       "version_major": 2,
       "version_minor": 0
      },
      "text/plain": [
       "subs:   0%|          | 0/20 [00:00<?, ?it/s]"
      ]
     },
     "metadata": {},
     "output_type": "display_data"
    },
    {
     "data": {
      "application/vnd.jupyter.widget-view+json": {
       "model_id": "",
       "version_major": 2,
       "version_minor": 0
      },
      "text/plain": [
       "subs:   0%|          | 0/20 [00:00<?, ?it/s]"
      ]
     },
     "metadata": {},
     "output_type": "display_data"
    },
    {
     "data": {
      "application/vnd.jupyter.widget-view+json": {
       "model_id": "",
       "version_major": 2,
       "version_minor": 0
      },
      "text/plain": [
       "subs:   0%|          | 0/20 [00:00<?, ?it/s]"
      ]
     },
     "metadata": {},
     "output_type": "display_data"
    },
    {
     "data": {
      "application/vnd.jupyter.widget-view+json": {
       "model_id": "",
       "version_major": 2,
       "version_minor": 0
      },
      "text/plain": [
       "subs:   0%|          | 0/20 [00:00<?, ?it/s]"
      ]
     },
     "metadata": {},
     "output_type": "display_data"
    },
    {
     "data": {
      "application/vnd.jupyter.widget-view+json": {
       "model_id": "c39817c912a846c0a7e574dbb64a3d9c",
       "version_major": 2,
       "version_minor": 0
      },
      "text/plain": [
       "subs:   0%|          | 0/20 [00:00<?, ?it/s]"
      ]
     },
     "metadata": {},
     "output_type": "display_data"
    },
    {
     "ename": "KeyboardInterrupt",
     "evalue": "",
     "output_type": "error",
     "traceback": [
      "\u001b[0;31m---------------------------------------------------------------------------\u001b[0m",
      "\u001b[0;31mKeyboardInterrupt\u001b[0m                         Traceback (most recent call last)",
      "Input \u001b[0;32mIn [66]\u001b[0m, in \u001b[0;36m<cell line: 17>\u001b[0;34m()\u001b[0m\n\u001b[1;32m     44\u001b[0m glm\u001b[38;5;241m.\u001b[39mfit([nilearn\u001b[38;5;241m.\u001b[39mimage\u001b[38;5;241m.\u001b[39mindex_img(relevance_maps, i) \u001b[38;5;28;01mfor\u001b[39;00m i \u001b[38;5;129;01min\u001b[39;00m idcs], design_matrix\u001b[38;5;241m=\u001b[39mthis_dm)\n\u001b[1;32m     46\u001b[0m \u001b[38;5;28;01mfor\u001b[39;00m c, contrast \u001b[38;5;129;01min\u001b[39;00m \u001b[38;5;28menumerate\u001b[39m(contrasts):\n\u001b[0;32m---> 47\u001b[0m     maps_orig \u001b[38;5;241m=\u001b[39m \u001b[43mglm\u001b[49m\u001b[38;5;241;43m.\u001b[39;49m\u001b[43mcompute_contrast\u001b[49m\u001b[43m(\u001b[49m\u001b[43mcontrast\u001b[49m\u001b[43m,\u001b[49m\u001b[43m \u001b[49m\u001b[43moutput_type\u001b[49m\u001b[38;5;241;43m=\u001b[39;49m\u001b[38;5;124;43m\"\u001b[39;49m\u001b[38;5;124;43mall\u001b[39;49m\u001b[38;5;124;43m\"\u001b[39;49m\u001b[43m)\u001b[49m\n\u001b[1;32m     48\u001b[0m     save_stat_maps(maps_orig, \u001b[38;5;124mf\u001b[39m\u001b[38;5;124m\"\u001b[39m\u001b[38;5;132;01m{\u001b[39;00mcontrast\u001b[38;5;132;01m}\u001b[39;00m\u001b[38;5;124m_wo-sub\u001b[39m\u001b[38;5;132;01m{\u001b[39;00ms\u001b[38;5;132;01m:\u001b[39;00m\u001b[38;5;124m02d\u001b[39m\u001b[38;5;132;01m}\u001b[39;00m\u001b[38;5;124m\"\u001b[39m, save_loc\u001b[38;5;241m=\u001b[39msave_loc, maps_of_interest\u001b[38;5;241m=\u001b[39m[\u001b[38;5;124m\"\u001b[39m\u001b[38;5;124mz_score\u001b[39m\u001b[38;5;124m\"\u001b[39m])\n",
      "File \u001b[0;32m~/anaconda3/envs/thesis-env/lib/python3.8/site-packages/nilearn/glm/second_level/second_level.py:500\u001b[0m, in \u001b[0;36mSecondLevelModel.compute_contrast\u001b[0;34m(self, second_level_contrast, first_level_contrast, second_level_stat_type, output_type)\u001b[0m\n\u001b[1;32m    497\u001b[0m _check_effect_maps(effect_maps, \u001b[38;5;28mself\u001b[39m\u001b[38;5;241m.\u001b[39mdesign_matrix_)\n\u001b[1;32m    499\u001b[0m \u001b[38;5;66;03m# Fit an Ordinary Least Squares regression for parametric statistics\u001b[39;00m\n\u001b[0;32m--> 500\u001b[0m Y \u001b[38;5;241m=\u001b[39m \u001b[38;5;28;43mself\u001b[39;49m\u001b[38;5;241;43m.\u001b[39;49m\u001b[43mmasker_\u001b[49m\u001b[38;5;241;43m.\u001b[39;49m\u001b[43mtransform\u001b[49m\u001b[43m(\u001b[49m\u001b[43meffect_maps\u001b[49m\u001b[43m)\u001b[49m\n\u001b[1;32m    501\u001b[0m \u001b[38;5;28;01mif\u001b[39;00m \u001b[38;5;28mself\u001b[39m\u001b[38;5;241m.\u001b[39mmemory:\n\u001b[1;32m    502\u001b[0m     mem_glm \u001b[38;5;241m=\u001b[39m \u001b[38;5;28mself\u001b[39m\u001b[38;5;241m.\u001b[39mmemory\u001b[38;5;241m.\u001b[39mcache(run_glm, ignore\u001b[38;5;241m=\u001b[39m[\u001b[38;5;124m'\u001b[39m\u001b[38;5;124mn_jobs\u001b[39m\u001b[38;5;124m'\u001b[39m])\n",
      "File \u001b[0;32m~/anaconda3/envs/thesis-env/lib/python3.8/site-packages/sklearn/utils/_set_output.py:140\u001b[0m, in \u001b[0;36m_wrap_method_output.<locals>.wrapped\u001b[0;34m(self, X, *args, **kwargs)\u001b[0m\n\u001b[1;32m    138\u001b[0m \u001b[38;5;129m@wraps\u001b[39m(f)\n\u001b[1;32m    139\u001b[0m \u001b[38;5;28;01mdef\u001b[39;00m \u001b[38;5;21mwrapped\u001b[39m(\u001b[38;5;28mself\u001b[39m, X, \u001b[38;5;241m*\u001b[39margs, \u001b[38;5;241m*\u001b[39m\u001b[38;5;241m*\u001b[39mkwargs):\n\u001b[0;32m--> 140\u001b[0m     data_to_wrap \u001b[38;5;241m=\u001b[39m \u001b[43mf\u001b[49m\u001b[43m(\u001b[49m\u001b[38;5;28;43mself\u001b[39;49m\u001b[43m,\u001b[49m\u001b[43m \u001b[49m\u001b[43mX\u001b[49m\u001b[43m,\u001b[49m\u001b[43m \u001b[49m\u001b[38;5;241;43m*\u001b[39;49m\u001b[43margs\u001b[49m\u001b[43m,\u001b[49m\u001b[43m \u001b[49m\u001b[38;5;241;43m*\u001b[39;49m\u001b[38;5;241;43m*\u001b[39;49m\u001b[43mkwargs\u001b[49m\u001b[43m)\u001b[49m\n\u001b[1;32m    141\u001b[0m     \u001b[38;5;28;01mif\u001b[39;00m \u001b[38;5;28misinstance\u001b[39m(data_to_wrap, \u001b[38;5;28mtuple\u001b[39m):\n\u001b[1;32m    142\u001b[0m         \u001b[38;5;66;03m# only wrap the first output for cross decomposition\u001b[39;00m\n\u001b[1;32m    143\u001b[0m         \u001b[38;5;28;01mreturn\u001b[39;00m (\n\u001b[1;32m    144\u001b[0m             _wrap_data_with_container(method, data_to_wrap[\u001b[38;5;241m0\u001b[39m], X, \u001b[38;5;28mself\u001b[39m),\n\u001b[1;32m    145\u001b[0m             \u001b[38;5;241m*\u001b[39mdata_to_wrap[\u001b[38;5;241m1\u001b[39m:],\n\u001b[1;32m    146\u001b[0m         )\n",
      "File \u001b[0;32m~/anaconda3/envs/thesis-env/lib/python3.8/site-packages/nilearn/input_data/base_masker.py:185\u001b[0m, in \u001b[0;36mBaseMasker.transform\u001b[0;34m(self, imgs, confounds)\u001b[0m\n\u001b[1;32m    182\u001b[0m \u001b[38;5;28mself\u001b[39m\u001b[38;5;241m.\u001b[39m_check_fitted()\n\u001b[1;32m    184\u001b[0m \u001b[38;5;28;01mif\u001b[39;00m confounds \u001b[38;5;129;01mis\u001b[39;00m \u001b[38;5;28;01mNone\u001b[39;00m \u001b[38;5;129;01mand\u001b[39;00m \u001b[38;5;129;01mnot\u001b[39;00m \u001b[38;5;28mself\u001b[39m\u001b[38;5;241m.\u001b[39mhigh_variance_confounds:\n\u001b[0;32m--> 185\u001b[0m     \u001b[38;5;28;01mreturn\u001b[39;00m \u001b[38;5;28;43mself\u001b[39;49m\u001b[38;5;241;43m.\u001b[39;49m\u001b[43mtransform_single_imgs\u001b[49m\u001b[43m(\u001b[49m\u001b[43mimgs\u001b[49m\u001b[43m,\u001b[49m\u001b[43m \u001b[49m\u001b[43mconfounds\u001b[49m\u001b[43m)\u001b[49m\n\u001b[1;32m    187\u001b[0m \u001b[38;5;66;03m# Compute high variance confounds if requested\u001b[39;00m\n\u001b[1;32m    188\u001b[0m all_confounds \u001b[38;5;241m=\u001b[39m []\n",
      "File \u001b[0;32m~/anaconda3/envs/thesis-env/lib/python3.8/site-packages/nilearn/input_data/nifti_masker.py:443\u001b[0m, in \u001b[0;36mNiftiMasker.transform_single_imgs\u001b[0;34m(self, imgs, confounds, copy)\u001b[0m\n\u001b[1;32m    437\u001b[0m \u001b[38;5;66;03m# Ignore the mask-computing params: they are not useful and will\u001b[39;00m\n\u001b[1;32m    438\u001b[0m \u001b[38;5;66;03m# just invalid the cache for no good reason\u001b[39;00m\n\u001b[1;32m    439\u001b[0m \u001b[38;5;66;03m# target_shape and target_affine are conveyed implicitly in mask_img\u001b[39;00m\n\u001b[1;32m    440\u001b[0m params \u001b[38;5;241m=\u001b[39m get_params(\u001b[38;5;28mself\u001b[39m\u001b[38;5;241m.\u001b[39m\u001b[38;5;18m__class__\u001b[39m, \u001b[38;5;28mself\u001b[39m,\n\u001b[1;32m    441\u001b[0m                     ignore\u001b[38;5;241m=\u001b[39m[\u001b[38;5;124m'\u001b[39m\u001b[38;5;124mmask_img\u001b[39m\u001b[38;5;124m'\u001b[39m, \u001b[38;5;124m'\u001b[39m\u001b[38;5;124mmask_args\u001b[39m\u001b[38;5;124m'\u001b[39m, \u001b[38;5;124m'\u001b[39m\u001b[38;5;124mmask_strategy\u001b[39m\u001b[38;5;124m'\u001b[39m])\n\u001b[0;32m--> 443\u001b[0m data \u001b[38;5;241m=\u001b[39m \u001b[38;5;28;43mself\u001b[39;49m\u001b[38;5;241;43m.\u001b[39;49m\u001b[43m_cache\u001b[49m\u001b[43m(\u001b[49m\u001b[43mfilter_and_mask\u001b[49m\u001b[43m,\u001b[49m\n\u001b[1;32m    444\u001b[0m \u001b[43m                   \u001b[49m\u001b[43mignore\u001b[49m\u001b[38;5;241;43m=\u001b[39;49m\u001b[43m[\u001b[49m\u001b[38;5;124;43m'\u001b[39;49m\u001b[38;5;124;43mverbose\u001b[39;49m\u001b[38;5;124;43m'\u001b[39;49m\u001b[43m,\u001b[49m\u001b[43m \u001b[49m\u001b[38;5;124;43m'\u001b[39;49m\u001b[38;5;124;43mmemory\u001b[39;49m\u001b[38;5;124;43m'\u001b[39;49m\u001b[43m,\u001b[49m\u001b[43m \u001b[49m\u001b[38;5;124;43m'\u001b[39;49m\u001b[38;5;124;43mmemory_level\u001b[39;49m\u001b[38;5;124;43m'\u001b[39;49m\u001b[43m,\u001b[49m\n\u001b[1;32m    445\u001b[0m \u001b[43m                           \u001b[49m\u001b[38;5;124;43m'\u001b[39;49m\u001b[38;5;124;43mcopy\u001b[39;49m\u001b[38;5;124;43m'\u001b[39;49m\u001b[43m]\u001b[49m\u001b[43m,\u001b[49m\n\u001b[1;32m    446\u001b[0m \u001b[43m                   \u001b[49m\u001b[43mshelve\u001b[49m\u001b[38;5;241;43m=\u001b[39;49m\u001b[38;5;28;43mself\u001b[39;49m\u001b[38;5;241;43m.\u001b[39;49m\u001b[43m_shelving\u001b[49m\u001b[43m)\u001b[49m\u001b[43m(\u001b[49m\n\u001b[1;32m    447\u001b[0m \u001b[43m    \u001b[49m\u001b[43mimgs\u001b[49m\u001b[43m,\u001b[49m\u001b[43m \u001b[49m\u001b[38;5;28;43mself\u001b[39;49m\u001b[38;5;241;43m.\u001b[39;49m\u001b[43mmask_img_\u001b[49m\u001b[43m,\u001b[49m\u001b[43m \u001b[49m\u001b[43mparams\u001b[49m\u001b[43m,\u001b[49m\n\u001b[1;32m    448\u001b[0m \u001b[43m    \u001b[49m\u001b[43mmemory_level\u001b[49m\u001b[38;5;241;43m=\u001b[39;49m\u001b[38;5;28;43mself\u001b[39;49m\u001b[38;5;241;43m.\u001b[39;49m\u001b[43mmemory_level\u001b[49m\u001b[43m,\u001b[49m\n\u001b[1;32m    449\u001b[0m \u001b[43m    \u001b[49m\u001b[43mmemory\u001b[49m\u001b[38;5;241;43m=\u001b[39;49m\u001b[38;5;28;43mself\u001b[39;49m\u001b[38;5;241;43m.\u001b[39;49m\u001b[43mmemory\u001b[49m\u001b[43m,\u001b[49m\n\u001b[1;32m    450\u001b[0m \u001b[43m    \u001b[49m\u001b[43mverbose\u001b[49m\u001b[38;5;241;43m=\u001b[39;49m\u001b[38;5;28;43mself\u001b[39;49m\u001b[38;5;241;43m.\u001b[39;49m\u001b[43mverbose\u001b[49m\u001b[43m,\u001b[49m\n\u001b[1;32m    451\u001b[0m \u001b[43m    \u001b[49m\u001b[43mconfounds\u001b[49m\u001b[38;5;241;43m=\u001b[39;49m\u001b[43mconfounds\u001b[49m\u001b[43m,\u001b[49m\n\u001b[1;32m    452\u001b[0m \u001b[43m    \u001b[49m\u001b[43mcopy\u001b[49m\u001b[38;5;241;43m=\u001b[39;49m\u001b[43mcopy\u001b[49m\u001b[43m,\u001b[49m\n\u001b[1;32m    453\u001b[0m \u001b[43m    \u001b[49m\u001b[43mdtype\u001b[49m\u001b[38;5;241;43m=\u001b[39;49m\u001b[38;5;28;43mself\u001b[39;49m\u001b[38;5;241;43m.\u001b[39;49m\u001b[43mdtype\u001b[49m\n\u001b[1;32m    454\u001b[0m \u001b[43m\u001b[49m\u001b[43m)\u001b[49m\n\u001b[1;32m    456\u001b[0m \u001b[38;5;28;01mreturn\u001b[39;00m data\n",
      "File \u001b[0;32m~/anaconda3/envs/thesis-env/lib/python3.8/site-packages/joblib/memory.py:349\u001b[0m, in \u001b[0;36mNotMemorizedFunc.__call__\u001b[0;34m(self, *args, **kwargs)\u001b[0m\n\u001b[1;32m    348\u001b[0m \u001b[38;5;28;01mdef\u001b[39;00m \u001b[38;5;21m__call__\u001b[39m(\u001b[38;5;28mself\u001b[39m, \u001b[38;5;241m*\u001b[39margs, \u001b[38;5;241m*\u001b[39m\u001b[38;5;241m*\u001b[39mkwargs):\n\u001b[0;32m--> 349\u001b[0m     \u001b[38;5;28;01mreturn\u001b[39;00m \u001b[38;5;28;43mself\u001b[39;49m\u001b[38;5;241;43m.\u001b[39;49m\u001b[43mfunc\u001b[49m\u001b[43m(\u001b[49m\u001b[38;5;241;43m*\u001b[39;49m\u001b[43margs\u001b[49m\u001b[43m,\u001b[49m\u001b[43m \u001b[49m\u001b[38;5;241;43m*\u001b[39;49m\u001b[38;5;241;43m*\u001b[39;49m\u001b[43mkwargs\u001b[49m\u001b[43m)\u001b[49m\n",
      "File \u001b[0;32m~/anaconda3/envs/thesis-env/lib/python3.8/site-packages/nilearn/input_data/nifti_masker.py:68\u001b[0m, in \u001b[0;36mfilter_and_mask\u001b[0;34m(imgs, mask_img_, parameters, memory_level, memory, verbose, confounds, copy, dtype)\u001b[0m\n\u001b[1;32m     65\u001b[0m     parameters[\u001b[38;5;124m'\u001b[39m\u001b[38;5;124mtarget_shape\u001b[39m\u001b[38;5;124m'\u001b[39m] \u001b[38;5;241m=\u001b[39m mask_img_\u001b[38;5;241m.\u001b[39mshape\n\u001b[1;32m     66\u001b[0m     parameters[\u001b[38;5;124m'\u001b[39m\u001b[38;5;124mtarget_affine\u001b[39m\u001b[38;5;124m'\u001b[39m] \u001b[38;5;241m=\u001b[39m mask_img_\u001b[38;5;241m.\u001b[39maffine\n\u001b[0;32m---> 68\u001b[0m data, affine \u001b[38;5;241m=\u001b[39m \u001b[43mfilter_and_extract\u001b[49m\u001b[43m(\u001b[49m\u001b[43mimgs\u001b[49m\u001b[43m,\u001b[49m\u001b[43m \u001b[49m\u001b[43m_ExtractionFunctor\u001b[49m\u001b[43m(\u001b[49m\u001b[43mmask_img_\u001b[49m\u001b[43m)\u001b[49m\u001b[43m,\u001b[49m\n\u001b[1;32m     69\u001b[0m \u001b[43m                                  \u001b[49m\u001b[43mparameters\u001b[49m\u001b[43m,\u001b[49m\n\u001b[1;32m     70\u001b[0m \u001b[43m                                  \u001b[49m\u001b[43mmemory_level\u001b[49m\u001b[38;5;241;43m=\u001b[39;49m\u001b[43mmemory_level\u001b[49m\u001b[43m,\u001b[49m\n\u001b[1;32m     71\u001b[0m \u001b[43m                                  \u001b[49m\u001b[43mmemory\u001b[49m\u001b[38;5;241;43m=\u001b[39;49m\u001b[43mmemory\u001b[49m\u001b[43m,\u001b[49m\n\u001b[1;32m     72\u001b[0m \u001b[43m                                  \u001b[49m\u001b[43mverbose\u001b[49m\u001b[38;5;241;43m=\u001b[39;49m\u001b[43mverbose\u001b[49m\u001b[43m,\u001b[49m\n\u001b[1;32m     73\u001b[0m \u001b[43m                                  \u001b[49m\u001b[43mconfounds\u001b[49m\u001b[38;5;241;43m=\u001b[39;49m\u001b[43mconfounds\u001b[49m\u001b[43m,\u001b[49m\u001b[43m \u001b[49m\u001b[43mcopy\u001b[49m\u001b[38;5;241;43m=\u001b[39;49m\u001b[43mcopy\u001b[49m\u001b[43m,\u001b[49m\n\u001b[1;32m     74\u001b[0m \u001b[43m                                  \u001b[49m\u001b[43mdtype\u001b[49m\u001b[38;5;241;43m=\u001b[39;49m\u001b[43mdtype\u001b[49m\u001b[43m)\u001b[49m\n\u001b[1;32m     76\u001b[0m \u001b[38;5;66;03m# For _later_: missing value removal or imputing of missing data\u001b[39;00m\n\u001b[1;32m     77\u001b[0m \u001b[38;5;66;03m# (i.e. we want to get rid of NaNs, if smoothing must be done\u001b[39;00m\n\u001b[1;32m     78\u001b[0m \u001b[38;5;66;03m# earlier)\u001b[39;00m\n\u001b[1;32m     79\u001b[0m \u001b[38;5;66;03m# Optionally: 'doctor_nan', remove voxels with NaNs, other option\u001b[39;00m\n\u001b[1;32m     80\u001b[0m \u001b[38;5;66;03m# for later: some form of imputation\u001b[39;00m\n\u001b[1;32m     81\u001b[0m \u001b[38;5;28;01mreturn\u001b[39;00m data\n",
      "File \u001b[0;32m~/anaconda3/envs/thesis-env/lib/python3.8/site-packages/nilearn/input_data/base_masker.py:99\u001b[0m, in \u001b[0;36mfilter_and_extract\u001b[0;34m(imgs, extraction_function, parameters, memory_level, memory, verbose, confounds, copy, dtype)\u001b[0m\n\u001b[1;32m     97\u001b[0m \u001b[38;5;28;01mif\u001b[39;00m verbose \u001b[38;5;241m>\u001b[39m \u001b[38;5;241m0\u001b[39m:\n\u001b[1;32m     98\u001b[0m     \u001b[38;5;28mprint\u001b[39m(\u001b[38;5;124m\"\u001b[39m\u001b[38;5;124m[\u001b[39m\u001b[38;5;132;01m%s\u001b[39;00m\u001b[38;5;124m] Extracting region signals\u001b[39m\u001b[38;5;124m\"\u001b[39m \u001b[38;5;241m%\u001b[39m class_name)\n\u001b[0;32m---> 99\u001b[0m region_signals, aux \u001b[38;5;241m=\u001b[39m \u001b[43mcache\u001b[49m\u001b[43m(\u001b[49m\u001b[43mextraction_function\u001b[49m\u001b[43m,\u001b[49m\u001b[43m \u001b[49m\u001b[43mmemory\u001b[49m\u001b[43m,\u001b[49m\n\u001b[1;32m    100\u001b[0m \u001b[43m                            \u001b[49m\u001b[43mfunc_memory_level\u001b[49m\u001b[38;5;241;43m=\u001b[39;49m\u001b[38;5;241;43m2\u001b[39;49m\u001b[43m,\u001b[49m\n\u001b[1;32m    101\u001b[0m \u001b[43m                            \u001b[49m\u001b[43mmemory_level\u001b[49m\u001b[38;5;241;43m=\u001b[39;49m\u001b[43mmemory_level\u001b[49m\u001b[43m)\u001b[49m\u001b[43m(\u001b[49m\u001b[43mimgs\u001b[49m\u001b[43m)\u001b[49m\n\u001b[1;32m    103\u001b[0m \u001b[38;5;66;03m# Temporal\u001b[39;00m\n\u001b[1;32m    104\u001b[0m \u001b[38;5;66;03m# --------\u001b[39;00m\n\u001b[1;32m    105\u001b[0m \u001b[38;5;66;03m# Detrending (optional)\u001b[39;00m\n\u001b[1;32m    106\u001b[0m \u001b[38;5;66;03m# Filtering\u001b[39;00m\n\u001b[1;32m    107\u001b[0m \u001b[38;5;66;03m# Confounds removing (from csv file or numpy array)\u001b[39;00m\n\u001b[1;32m    108\u001b[0m \u001b[38;5;66;03m# Normalizing\u001b[39;00m\n\u001b[1;32m    109\u001b[0m \u001b[38;5;28;01mif\u001b[39;00m verbose \u001b[38;5;241m>\u001b[39m \u001b[38;5;241m0\u001b[39m:\n",
      "File \u001b[0;32m~/anaconda3/envs/thesis-env/lib/python3.8/site-packages/joblib/memory.py:349\u001b[0m, in \u001b[0;36mNotMemorizedFunc.__call__\u001b[0;34m(self, *args, **kwargs)\u001b[0m\n\u001b[1;32m    348\u001b[0m \u001b[38;5;28;01mdef\u001b[39;00m \u001b[38;5;21m__call__\u001b[39m(\u001b[38;5;28mself\u001b[39m, \u001b[38;5;241m*\u001b[39margs, \u001b[38;5;241m*\u001b[39m\u001b[38;5;241m*\u001b[39mkwargs):\n\u001b[0;32m--> 349\u001b[0m     \u001b[38;5;28;01mreturn\u001b[39;00m \u001b[38;5;28;43mself\u001b[39;49m\u001b[38;5;241;43m.\u001b[39;49m\u001b[43mfunc\u001b[49m\u001b[43m(\u001b[49m\u001b[38;5;241;43m*\u001b[39;49m\u001b[43margs\u001b[49m\u001b[43m,\u001b[49m\u001b[43m \u001b[49m\u001b[38;5;241;43m*\u001b[39;49m\u001b[38;5;241;43m*\u001b[39;49m\u001b[43mkwargs\u001b[49m\u001b[43m)\u001b[49m\n",
      "File \u001b[0;32m~/anaconda3/envs/thesis-env/lib/python3.8/site-packages/nilearn/input_data/nifti_masker.py:30\u001b[0m, in \u001b[0;36m_ExtractionFunctor.__call__\u001b[0;34m(self, imgs)\u001b[0m\n\u001b[1;32m     29\u001b[0m \u001b[38;5;28;01mdef\u001b[39;00m \u001b[38;5;21m__call__\u001b[39m(\u001b[38;5;28mself\u001b[39m, imgs):\n\u001b[0;32m---> 30\u001b[0m     \u001b[38;5;28;01mreturn\u001b[39;00m(\u001b[43mmasking\u001b[49m\u001b[38;5;241;43m.\u001b[39;49m\u001b[43mapply_mask\u001b[49m\u001b[43m(\u001b[49m\u001b[43mimgs\u001b[49m\u001b[43m,\u001b[49m\u001b[43m \u001b[49m\u001b[38;5;28;43mself\u001b[39;49m\u001b[38;5;241;43m.\u001b[39;49m\u001b[43mmask_img_\u001b[49m\u001b[43m,\u001b[49m\n\u001b[1;32m     31\u001b[0m \u001b[43m                              \u001b[49m\u001b[43mdtype\u001b[49m\u001b[38;5;241;43m=\u001b[39;49m\u001b[43mimg_data_dtype\u001b[49m\u001b[43m(\u001b[49m\u001b[43mimgs\u001b[49m\u001b[43m)\u001b[49m\u001b[43m)\u001b[49m, imgs\u001b[38;5;241m.\u001b[39maffine)\n",
      "File \u001b[0;32m~/anaconda3/envs/thesis-env/lib/python3.8/site-packages/nilearn/masking.py:759\u001b[0m, in \u001b[0;36mapply_mask\u001b[0;34m(imgs, mask_img, dtype, smoothing_fwhm, ensure_finite)\u001b[0m\n\u001b[1;32m    757\u001b[0m mask, mask_affine \u001b[38;5;241m=\u001b[39m _load_mask_img(mask_img)\n\u001b[1;32m    758\u001b[0m mask_img \u001b[38;5;241m=\u001b[39m new_img_like(mask_img, mask, mask_affine)\n\u001b[0;32m--> 759\u001b[0m \u001b[38;5;28;01mreturn\u001b[39;00m \u001b[43m_apply_mask_fmri\u001b[49m\u001b[43m(\u001b[49m\u001b[43mimgs\u001b[49m\u001b[43m,\u001b[49m\u001b[43m \u001b[49m\u001b[43mmask_img\u001b[49m\u001b[43m,\u001b[49m\u001b[43m \u001b[49m\u001b[43mdtype\u001b[49m\u001b[38;5;241;43m=\u001b[39;49m\u001b[43mdtype\u001b[49m\u001b[43m,\u001b[49m\n\u001b[1;32m    760\u001b[0m \u001b[43m                        \u001b[49m\u001b[43msmoothing_fwhm\u001b[49m\u001b[38;5;241;43m=\u001b[39;49m\u001b[43msmoothing_fwhm\u001b[49m\u001b[43m,\u001b[49m\n\u001b[1;32m    761\u001b[0m \u001b[43m                        \u001b[49m\u001b[43mensure_finite\u001b[49m\u001b[38;5;241;43m=\u001b[39;49m\u001b[43mensure_finite\u001b[49m\u001b[43m)\u001b[49m\n",
      "File \u001b[0;32m~/anaconda3/envs/thesis-env/lib/python3.8/site-packages/nilearn/masking.py:796\u001b[0m, in \u001b[0;36m_apply_mask_fmri\u001b[0;34m(imgs, mask_img, dtype, smoothing_fwhm, ensure_finite)\u001b[0m\n\u001b[1;32m    790\u001b[0m     \u001b[38;5;28;01mraise\u001b[39;00m \u001b[38;5;167;01mValueError\u001b[39;00m(\u001b[38;5;124m'\u001b[39m\u001b[38;5;124mMask shape: \u001b[39m\u001b[38;5;132;01m%s\u001b[39;00m\u001b[38;5;124m is different from img shape:\u001b[39m\u001b[38;5;132;01m%s\u001b[39;00m\u001b[38;5;124m'\u001b[39m\n\u001b[1;32m    791\u001b[0m                      \u001b[38;5;241m%\u001b[39m (\u001b[38;5;28mstr\u001b[39m(mask_data\u001b[38;5;241m.\u001b[39mshape), \u001b[38;5;28mstr\u001b[39m(imgs_img\u001b[38;5;241m.\u001b[39mshape[:\u001b[38;5;241m3\u001b[39m])))\n\u001b[1;32m    793\u001b[0m \u001b[38;5;66;03m# All the following has been optimized for C order.\u001b[39;00m\n\u001b[1;32m    794\u001b[0m \u001b[38;5;66;03m# Time that may be lost in conversion here is regained multiple times\u001b[39;00m\n\u001b[1;32m    795\u001b[0m \u001b[38;5;66;03m# afterward, especially if smoothing is applied.\u001b[39;00m\n\u001b[0;32m--> 796\u001b[0m series \u001b[38;5;241m=\u001b[39m \u001b[43m_safe_get_data\u001b[49m\u001b[43m(\u001b[49m\u001b[43mimgs_img\u001b[49m\u001b[43m)\u001b[49m\n\u001b[1;32m    798\u001b[0m \u001b[38;5;28;01mif\u001b[39;00m dtype \u001b[38;5;241m==\u001b[39m \u001b[38;5;124m'\u001b[39m\u001b[38;5;124mf\u001b[39m\u001b[38;5;124m'\u001b[39m:\n\u001b[1;32m    799\u001b[0m     \u001b[38;5;28;01mif\u001b[39;00m series\u001b[38;5;241m.\u001b[39mdtype\u001b[38;5;241m.\u001b[39mkind \u001b[38;5;241m==\u001b[39m \u001b[38;5;124m'\u001b[39m\u001b[38;5;124mf\u001b[39m\u001b[38;5;124m'\u001b[39m:\n",
      "File \u001b[0;32m~/anaconda3/envs/thesis-env/lib/python3.8/site-packages/nilearn/_utils/niimg.py:55\u001b[0m, in \u001b[0;36m_safe_get_data\u001b[0;34m(img, ensure_finite, copy_data)\u001b[0m\n\u001b[1;32m     51\u001b[0m     img \u001b[38;5;241m=\u001b[39m copy\u001b[38;5;241m.\u001b[39mdeepcopy(img)\n\u001b[1;32m     53\u001b[0m \u001b[38;5;66;03m# typically the line below can double memory usage\u001b[39;00m\n\u001b[1;32m     54\u001b[0m \u001b[38;5;66;03m# that's why we invoke a forced call to the garbage collector\u001b[39;00m\n\u001b[0;32m---> 55\u001b[0m \u001b[43mgc\u001b[49m\u001b[38;5;241;43m.\u001b[39;49m\u001b[43mcollect\u001b[49m\u001b[43m(\u001b[49m\u001b[43m)\u001b[49m\n\u001b[1;32m     57\u001b[0m data \u001b[38;5;241m=\u001b[39m _get_data(img)\n\u001b[1;32m     58\u001b[0m \u001b[38;5;28;01mif\u001b[39;00m ensure_finite:\n",
      "\u001b[0;31mKeyboardInterrupt\u001b[0m: "
     ]
    }
   ],
   "source": [
    "# COMPUTE THE GLM FOR EACH FOLD BUT LEAVE OUT ONE SUBJECT AT A TIME\n",
    "# perform the GLM on the relevance maps for each individual fold\n",
    "# load the relevance images\n",
    "contrasts = class_labels\n",
    "\n",
    "attr_types = [\"lrp\", \"guidedbackprop\"] #\"lrp\" \"guidedbackprop\"\n",
    "\n",
    "label_orders = \"real\" #, \"shuffled\"\n",
    "\n",
    "overwrite = False\n",
    "\n",
    "# we just want to do it for the best performing fold, which is number 6 in this case\n",
    "fold = BEST_FOLD\n",
    "\n",
    "sub_list = np.tile(np.arange(n_subs), len(class_labels))\n",
    "\n",
    "for a, attr_type in enumerate(attr_types):\n",
    "        \n",
    "    print(attr_type, label_order)\n",
    "            \n",
    "    save_loc = os.path.join(\"stat-maps\", attr_type, label_order, f\"seed-2020_fold-{fold:02d}\", \"left-out\")\n",
    "\n",
    "    if not os.path.isdir(save_loc) or overwrite:\n",
    "\n",
    "        # load the files for a given fold\n",
    "        relevance_files = glob(os.path.join(attr_type, label_order, f\"seed-2020_fold-{fold:02d}/*.nii.gz\"))\n",
    "        relevance_maps = load_img(relevance_files)\n",
    "\n",
    "        for s in tqdm(range(n_subs), leave=False, desc=\"subs\"):\n",
    "\n",
    "            # copy the original design matrix\n",
    "            this_dm = df_design_matrix.copy()\n",
    "\n",
    "            # now drop subject s from the design matrix\n",
    "            this_dm = this_dm.drop(labels=np.squeeze(np.where(sub_list == s)), axis=\"index\")\n",
    "            this_dm = this_dm.drop(columns=[f\"sub-{s:02d}\"])\n",
    "\n",
    "            # remove the subject s' indices from the data list\n",
    "            idcs = np.arange(n)\n",
    "            idcs = np.delete(idcs, np.where(sub_list == s))\n",
    "\n",
    "            # perform the GLM on the all subs except s\n",
    "            glm.fit([nilearn.image.index_img(relevance_maps, i) for i in idcs], design_matrix=this_dm)\n",
    "\n",
    "            for c, contrast in enumerate(contrasts):\n",
    "                maps_orig = glm.compute_contrast(contrast, output_type=\"all\")\n",
    "                save_stat_maps(maps_orig, f\"{contrast}_wo-sub{s:02d}\", save_loc=save_loc, maps_of_interest=[\"z_score\"])"
   ]
  },
  {
   "cell_type": "markdown",
   "id": "b810f293-3d70-4cc4-aead-056f505036da",
   "metadata": {
    "tags": []
   },
   "source": [
    "## SANITY CHECKS FOR RELEVANCE/XAI\n",
    "### OCCLUSION (faithfulness test)"
   ]
  },
  {
   "cell_type": "markdown",
   "id": "62f6a4ad-4991-4f96-8431-0614a1bb75c5",
   "metadata": {},
   "source": [
    "Let us first establish a baseline by removing the most important voxels, as deemed by a linear SVM. \n",
    "We can then compare the faitfhulness of a the SVM, e.g., LRP and GuidedBackPropagation.\n"
   ]
  },
  {
   "cell_type": "code",
   "execution_count": 16,
   "id": "febe0ee9-d5da-4246-b34d-3f56c7899a4d",
   "metadata": {},
   "outputs": [],
   "source": [
    "from delphi.utils.tools import occlude_images\n",
    "from utils.tools import run_pca, run_svm, predict\n",
    "import pickle as pk\n",
    "from nilearn.masking import apply_mask"
   ]
  },
  {
   "cell_type": "code",
   "execution_count": 17,
   "id": "062ff3ab-5af3-4776-96a1-cc6b4c90d0f3",
   "metadata": {},
   "outputs": [],
   "source": [
    "def occlude_images(images, attributions, mask, fraction=1, get_fdata=False) -> nib.Nifti1Image:\n",
    "    \"\"\"\n",
    "\n",
    "    Args:\n",
    "        images:\n",
    "        attributions:\n",
    "        mask:\n",
    "        fraction:   voxel percentage to occlude (default=1%)\n",
    "        get_fdata:  in case one wants to get the numpy arrays already.\n",
    "\n",
    "    Returns:\n",
    "\n",
    "    \"\"\"\n",
    "    from nilearn.masking import apply_mask, unmask\n",
    "\n",
    "    fraction = fraction / 100\n",
    "\n",
    "    # mask the images such that we only really consider brain voxels\n",
    "    images_masked = apply_mask(images, mask)\n",
    "    attributions_masked = apply_mask(attributions, mask)\n",
    "\n",
    "    # find the indices of the largest n voxels for each attribution image (number depends on fraction)\n",
    "    if len(attributions_masked.shape) < 2:\n",
    "        occlusion_indices = np.argsort(a=attributions_masked)[::-1]  # this means we find the largest.\n",
    "        occlusion_indices = occlusion_indices[:int(fraction * occlusion_indices.shape[-1])]\n",
    "    else:\n",
    "        occlusion_indices = np.argsort(a=attributions_masked, axis=1)[:, ::-1]  # this means we find the largest.\n",
    "        occlusion_indices = occlusion_indices[:, :int(fraction * occlusion_indices.shape[-1])]\n",
    "\n",
    "    # dummy for occluded images\n",
    "    occluded_images = np.array(images_masked)\n",
    "    occluded_images[:, occlusion_indices] = 0\n",
    "\n",
    "    # convert the occluded_images back into 3d nibabel format\n",
    "    if not get_fdata:\n",
    "        return unmask(occluded_images, mask), occlusion_indices.shape[-1]\n",
    "    else:\n",
    "        return unmask(occluded_images, mask).get_fdata(), occlusion_indices.shape[-1]"
   ]
  },
  {
   "cell_type": "code",
   "execution_count": 36,
   "id": "37dd5eb6-6c2c-4ad3-89d1-846767ce1d7a",
   "metadata": {},
   "outputs": [],
   "source": [
    "class_labels = [\"footleft\", \"footright\", \"handleft\", \"handright\", \"tongue\", \n",
    "                \"loss\", \"reward\", \n",
    "                \"mental\", \"random\", \n",
    "                \"body\", \"face\", \"place\", \"tool\", \n",
    "                \"match\", \"relation\", \n",
    "                \"emotion\", \"neut\", \n",
    "                \"story\", \"math\"]\n",
    "\n",
    "percentages = np.concatenate([\n",
    "    np.arange(0, 2, .2),\n",
    "    np.arange(2, 5, .5),\n",
    "    np.arange(5, 10, 1),\n",
    "    np.arange(10, 32, 2)\n",
    "])\n",
    "\n",
    "mask = mni_template"
   ]
  },
  {
   "cell_type": "code",
   "execution_count": 37,
   "id": "71db9329-8575-4a93-9dd0-5a0ea5760e87",
   "metadata": {},
   "outputs": [
    {
     "data": {
      "application/vnd.jupyter.widget-view+json": {
       "model_id": "",
       "version_major": 2,
       "version_minor": 0
      },
      "text/plain": [
       "class: 0it [00:00, ?it/s]"
      ]
     },
     "metadata": {},
     "output_type": "display_data"
    }
   ],
   "source": [
    "images = []\n",
    "for c, label in tqdm(enumerate(class_labels), leave=False, desc=\"class\"):\n",
    "    images.append(load_img(glob(f\"../t-maps/test/{label}/*.nii.gz\")))"
   ]
  },
  {
   "cell_type": "code",
   "execution_count": 38,
   "id": "98554bd4-3caa-4e37-8a63-a3657961af62",
   "metadata": {},
   "outputs": [
    {
     "data": {
      "application/vnd.jupyter.widget-view+json": {
       "model_id": "",
       "version_major": 2,
       "version_minor": 0
      },
      "text/plain": [
       "fractions: 0it [00:00, ?it/s]"
      ]
     },
     "metadata": {},
     "output_type": "display_data"
    },
    {
     "data": {
      "application/vnd.jupyter.widget-view+json": {
       "model_id": "",
       "version_major": 2,
       "version_minor": 0
      },
      "text/plain": [
       "class: 0it [00:00, ?it/s]"
      ]
     },
     "metadata": {},
     "output_type": "display_data"
    },
    {
     "data": {
      "application/vnd.jupyter.widget-view+json": {
       "model_id": "",
       "version_major": 2,
       "version_minor": 0
      },
      "text/plain": [
       "class: 0it [00:00, ?it/s]"
      ]
     },
     "metadata": {},
     "output_type": "display_data"
    },
    {
     "data": {
      "application/vnd.jupyter.widget-view+json": {
       "model_id": "",
       "version_major": 2,
       "version_minor": 0
      },
      "text/plain": [
       "class: 0it [00:00, ?it/s]"
      ]
     },
     "metadata": {},
     "output_type": "display_data"
    },
    {
     "data": {
      "application/vnd.jupyter.widget-view+json": {
       "model_id": "",
       "version_major": 2,
       "version_minor": 0
      },
      "text/plain": [
       "class: 0it [00:00, ?it/s]"
      ]
     },
     "metadata": {},
     "output_type": "display_data"
    },
    {
     "data": {
      "application/vnd.jupyter.widget-view+json": {
       "model_id": "",
       "version_major": 2,
       "version_minor": 0
      },
      "text/plain": [
       "class: 0it [00:00, ?it/s]"
      ]
     },
     "metadata": {},
     "output_type": "display_data"
    },
    {
     "data": {
      "application/vnd.jupyter.widget-view+json": {
       "model_id": "",
       "version_major": 2,
       "version_minor": 0
      },
      "text/plain": [
       "class: 0it [00:00, ?it/s]"
      ]
     },
     "metadata": {},
     "output_type": "display_data"
    },
    {
     "data": {
      "application/vnd.jupyter.widget-view+json": {
       "model_id": "",
       "version_major": 2,
       "version_minor": 0
      },
      "text/plain": [
       "class: 0it [00:00, ?it/s]"
      ]
     },
     "metadata": {},
     "output_type": "display_data"
    },
    {
     "data": {
      "application/vnd.jupyter.widget-view+json": {
       "model_id": "",
       "version_major": 2,
       "version_minor": 0
      },
      "text/plain": [
       "class: 0it [00:00, ?it/s]"
      ]
     },
     "metadata": {},
     "output_type": "display_data"
    },
    {
     "data": {
      "application/vnd.jupyter.widget-view+json": {
       "model_id": "",
       "version_major": 2,
       "version_minor": 0
      },
      "text/plain": [
       "class: 0it [00:00, ?it/s]"
      ]
     },
     "metadata": {},
     "output_type": "display_data"
    },
    {
     "data": {
      "application/vnd.jupyter.widget-view+json": {
       "model_id": "",
       "version_major": 2,
       "version_minor": 0
      },
      "text/plain": [
       "class: 0it [00:00, ?it/s]"
      ]
     },
     "metadata": {},
     "output_type": "display_data"
    },
    {
     "data": {
      "application/vnd.jupyter.widget-view+json": {
       "model_id": "",
       "version_major": 2,
       "version_minor": 0
      },
      "text/plain": [
       "class: 0it [00:00, ?it/s]"
      ]
     },
     "metadata": {},
     "output_type": "display_data"
    },
    {
     "data": {
      "application/vnd.jupyter.widget-view+json": {
       "model_id": "",
       "version_major": 2,
       "version_minor": 0
      },
      "text/plain": [
       "class: 0it [00:00, ?it/s]"
      ]
     },
     "metadata": {},
     "output_type": "display_data"
    },
    {
     "data": {
      "application/vnd.jupyter.widget-view+json": {
       "model_id": "",
       "version_major": 2,
       "version_minor": 0
      },
      "text/plain": [
       "class: 0it [00:00, ?it/s]"
      ]
     },
     "metadata": {},
     "output_type": "display_data"
    },
    {
     "data": {
      "application/vnd.jupyter.widget-view+json": {
       "model_id": "",
       "version_major": 2,
       "version_minor": 0
      },
      "text/plain": [
       "class: 0it [00:00, ?it/s]"
      ]
     },
     "metadata": {},
     "output_type": "display_data"
    },
    {
     "data": {
      "application/vnd.jupyter.widget-view+json": {
       "model_id": "",
       "version_major": 2,
       "version_minor": 0
      },
      "text/plain": [
       "class: 0it [00:00, ?it/s]"
      ]
     },
     "metadata": {},
     "output_type": "display_data"
    },
    {
     "data": {
      "application/vnd.jupyter.widget-view+json": {
       "model_id": "",
       "version_major": 2,
       "version_minor": 0
      },
      "text/plain": [
       "class: 0it [00:00, ?it/s]"
      ]
     },
     "metadata": {},
     "output_type": "display_data"
    },
    {
     "data": {
      "application/vnd.jupyter.widget-view+json": {
       "model_id": "",
       "version_major": 2,
       "version_minor": 0
      },
      "text/plain": [
       "class: 0it [00:00, ?it/s]"
      ]
     },
     "metadata": {},
     "output_type": "display_data"
    },
    {
     "data": {
      "application/vnd.jupyter.widget-view+json": {
       "model_id": "",
       "version_major": 2,
       "version_minor": 0
      },
      "text/plain": [
       "class: 0it [00:00, ?it/s]"
      ]
     },
     "metadata": {},
     "output_type": "display_data"
    },
    {
     "data": {
      "application/vnd.jupyter.widget-view+json": {
       "model_id": "",
       "version_major": 2,
       "version_minor": 0
      },
      "text/plain": [
       "class: 0it [00:00, ?it/s]"
      ]
     },
     "metadata": {},
     "output_type": "display_data"
    },
    {
     "data": {
      "application/vnd.jupyter.widget-view+json": {
       "model_id": "",
       "version_major": 2,
       "version_minor": 0
      },
      "text/plain": [
       "class: 0it [00:00, ?it/s]"
      ]
     },
     "metadata": {},
     "output_type": "display_data"
    },
    {
     "data": {
      "application/vnd.jupyter.widget-view+json": {
       "model_id": "",
       "version_major": 2,
       "version_minor": 0
      },
      "text/plain": [
       "class: 0it [00:00, ?it/s]"
      ]
     },
     "metadata": {},
     "output_type": "display_data"
    },
    {
     "data": {
      "application/vnd.jupyter.widget-view+json": {
       "model_id": "",
       "version_major": 2,
       "version_minor": 0
      },
      "text/plain": [
       "class: 0it [00:00, ?it/s]"
      ]
     },
     "metadata": {},
     "output_type": "display_data"
    },
    {
     "data": {
      "application/vnd.jupyter.widget-view+json": {
       "model_id": "",
       "version_major": 2,
       "version_minor": 0
      },
      "text/plain": [
       "class: 0it [00:00, ?it/s]"
      ]
     },
     "metadata": {},
     "output_type": "display_data"
    },
    {
     "data": {
      "application/vnd.jupyter.widget-view+json": {
       "model_id": "",
       "version_major": 2,
       "version_minor": 0
      },
      "text/plain": [
       "class: 0it [00:00, ?it/s]"
      ]
     },
     "metadata": {},
     "output_type": "display_data"
    },
    {
     "data": {
      "application/vnd.jupyter.widget-view+json": {
       "model_id": "",
       "version_major": 2,
       "version_minor": 0
      },
      "text/plain": [
       "class: 0it [00:00, ?it/s]"
      ]
     },
     "metadata": {},
     "output_type": "display_data"
    },
    {
     "data": {
      "application/vnd.jupyter.widget-view+json": {
       "model_id": "",
       "version_major": 2,
       "version_minor": 0
      },
      "text/plain": [
       "class: 0it [00:00, ?it/s]"
      ]
     },
     "metadata": {},
     "output_type": "display_data"
    },
    {
     "data": {
      "application/vnd.jupyter.widget-view+json": {
       "model_id": "",
       "version_major": 2,
       "version_minor": 0
      },
      "text/plain": [
       "class: 0it [00:00, ?it/s]"
      ]
     },
     "metadata": {},
     "output_type": "display_data"
    },
    {
     "data": {
      "application/vnd.jupyter.widget-view+json": {
       "model_id": "",
       "version_major": 2,
       "version_minor": 0
      },
      "text/plain": [
       "class: 0it [00:00, ?it/s]"
      ]
     },
     "metadata": {},
     "output_type": "display_data"
    },
    {
     "data": {
      "application/vnd.jupyter.widget-view+json": {
       "model_id": "",
       "version_major": 2,
       "version_minor": 0
      },
      "text/plain": [
       "class: 0it [00:00, ?it/s]"
      ]
     },
     "metadata": {},
     "output_type": "display_data"
    },
    {
     "data": {
      "application/vnd.jupyter.widget-view+json": {
       "model_id": "",
       "version_major": 2,
       "version_minor": 0
      },
      "text/plain": [
       "class: 0it [00:00, ?it/s]"
      ]
     },
     "metadata": {},
     "output_type": "display_data"
    },
    {
     "data": {
      "application/vnd.jupyter.widget-view+json": {
       "model_id": "",
       "version_major": 2,
       "version_minor": 0
      },
      "text/plain": [
       "class: 0it [00:00, ?it/s]"
      ]
     },
     "metadata": {},
     "output_type": "display_data"
    },
    {
     "data": {
      "application/vnd.jupyter.widget-view+json": {
       "model_id": "",
       "version_major": 2,
       "version_minor": 0
      },
      "text/plain": [
       "class: 0it [00:00, ?it/s]"
      ]
     },
     "metadata": {},
     "output_type": "display_data"
    },
    {
     "data": {
      "application/vnd.jupyter.widget-view+json": {
       "model_id": "",
       "version_major": 2,
       "version_minor": 0
      },
      "text/plain": [
       "fractions: 0it [00:00, ?it/s]"
      ]
     },
     "metadata": {},
     "output_type": "display_data"
    },
    {
     "data": {
      "application/vnd.jupyter.widget-view+json": {
       "model_id": "",
       "version_major": 2,
       "version_minor": 0
      },
      "text/plain": [
       "class: 0it [00:00, ?it/s]"
      ]
     },
     "metadata": {},
     "output_type": "display_data"
    },
    {
     "data": {
      "application/vnd.jupyter.widget-view+json": {
       "model_id": "",
       "version_major": 2,
       "version_minor": 0
      },
      "text/plain": [
       "class: 0it [00:00, ?it/s]"
      ]
     },
     "metadata": {},
     "output_type": "display_data"
    },
    {
     "data": {
      "application/vnd.jupyter.widget-view+json": {
       "model_id": "",
       "version_major": 2,
       "version_minor": 0
      },
      "text/plain": [
       "class: 0it [00:00, ?it/s]"
      ]
     },
     "metadata": {},
     "output_type": "display_data"
    },
    {
     "data": {
      "application/vnd.jupyter.widget-view+json": {
       "model_id": "",
       "version_major": 2,
       "version_minor": 0
      },
      "text/plain": [
       "class: 0it [00:00, ?it/s]"
      ]
     },
     "metadata": {},
     "output_type": "display_data"
    },
    {
     "data": {
      "application/vnd.jupyter.widget-view+json": {
       "model_id": "",
       "version_major": 2,
       "version_minor": 0
      },
      "text/plain": [
       "class: 0it [00:00, ?it/s]"
      ]
     },
     "metadata": {},
     "output_type": "display_data"
    },
    {
     "data": {
      "application/vnd.jupyter.widget-view+json": {
       "model_id": "",
       "version_major": 2,
       "version_minor": 0
      },
      "text/plain": [
       "class: 0it [00:00, ?it/s]"
      ]
     },
     "metadata": {},
     "output_type": "display_data"
    },
    {
     "data": {
      "application/vnd.jupyter.widget-view+json": {
       "model_id": "",
       "version_major": 2,
       "version_minor": 0
      },
      "text/plain": [
       "class: 0it [00:00, ?it/s]"
      ]
     },
     "metadata": {},
     "output_type": "display_data"
    },
    {
     "data": {
      "application/vnd.jupyter.widget-view+json": {
       "model_id": "",
       "version_major": 2,
       "version_minor": 0
      },
      "text/plain": [
       "class: 0it [00:00, ?it/s]"
      ]
     },
     "metadata": {},
     "output_type": "display_data"
    },
    {
     "data": {
      "application/vnd.jupyter.widget-view+json": {
       "model_id": "",
       "version_major": 2,
       "version_minor": 0
      },
      "text/plain": [
       "class: 0it [00:00, ?it/s]"
      ]
     },
     "metadata": {},
     "output_type": "display_data"
    },
    {
     "data": {
      "application/vnd.jupyter.widget-view+json": {
       "model_id": "",
       "version_major": 2,
       "version_minor": 0
      },
      "text/plain": [
       "class: 0it [00:00, ?it/s]"
      ]
     },
     "metadata": {},
     "output_type": "display_data"
    },
    {
     "data": {
      "application/vnd.jupyter.widget-view+json": {
       "model_id": "",
       "version_major": 2,
       "version_minor": 0
      },
      "text/plain": [
       "class: 0it [00:00, ?it/s]"
      ]
     },
     "metadata": {},
     "output_type": "display_data"
    },
    {
     "data": {
      "application/vnd.jupyter.widget-view+json": {
       "model_id": "",
       "version_major": 2,
       "version_minor": 0
      },
      "text/plain": [
       "class: 0it [00:00, ?it/s]"
      ]
     },
     "metadata": {},
     "output_type": "display_data"
    },
    {
     "data": {
      "application/vnd.jupyter.widget-view+json": {
       "model_id": "",
       "version_major": 2,
       "version_minor": 0
      },
      "text/plain": [
       "class: 0it [00:00, ?it/s]"
      ]
     },
     "metadata": {},
     "output_type": "display_data"
    },
    {
     "data": {
      "application/vnd.jupyter.widget-view+json": {
       "model_id": "",
       "version_major": 2,
       "version_minor": 0
      },
      "text/plain": [
       "class: 0it [00:00, ?it/s]"
      ]
     },
     "metadata": {},
     "output_type": "display_data"
    },
    {
     "data": {
      "application/vnd.jupyter.widget-view+json": {
       "model_id": "",
       "version_major": 2,
       "version_minor": 0
      },
      "text/plain": [
       "class: 0it [00:00, ?it/s]"
      ]
     },
     "metadata": {},
     "output_type": "display_data"
    },
    {
     "data": {
      "application/vnd.jupyter.widget-view+json": {
       "model_id": "",
       "version_major": 2,
       "version_minor": 0
      },
      "text/plain": [
       "class: 0it [00:00, ?it/s]"
      ]
     },
     "metadata": {},
     "output_type": "display_data"
    },
    {
     "data": {
      "application/vnd.jupyter.widget-view+json": {
       "model_id": "1d83be05426e4a19b3c6e19ef419a309",
       "version_major": 2,
       "version_minor": 0
      },
      "text/plain": [
       "class: 0it [00:00, ?it/s]"
      ]
     },
     "metadata": {},
     "output_type": "display_data"
    },
    {
     "data": {
      "application/vnd.jupyter.widget-view+json": {
       "model_id": "964f50676ed24ddaa6f572c30e2b48df",
       "version_major": 2,
       "version_minor": 0
      },
      "text/plain": [
       "class: 0it [00:00, ?it/s]"
      ]
     },
     "metadata": {},
     "output_type": "display_data"
    },
    {
     "data": {
      "application/vnd.jupyter.widget-view+json": {
       "model_id": "dae93a6711a6434d82adc8f2d7a10f76",
       "version_major": 2,
       "version_minor": 0
      },
      "text/plain": [
       "class: 0it [00:00, ?it/s]"
      ]
     },
     "metadata": {},
     "output_type": "display_data"
    },
    {
     "data": {
      "application/vnd.jupyter.widget-view+json": {
       "model_id": "404dc3d0da55427b8a02a7ec2fca6533",
       "version_major": 2,
       "version_minor": 0
      },
      "text/plain": [
       "class: 0it [00:00, ?it/s]"
      ]
     },
     "metadata": {},
     "output_type": "display_data"
    },
    {
     "data": {
      "application/vnd.jupyter.widget-view+json": {
       "model_id": "85e3490bd0c04d809671b8b9514561c8",
       "version_major": 2,
       "version_minor": 0
      },
      "text/plain": [
       "class: 0it [00:00, ?it/s]"
      ]
     },
     "metadata": {},
     "output_type": "display_data"
    },
    {
     "data": {
      "application/vnd.jupyter.widget-view+json": {
       "model_id": "15554f84847741708a7ba83f7763ecd4",
       "version_major": 2,
       "version_minor": 0
      },
      "text/plain": [
       "class: 0it [00:00, ?it/s]"
      ]
     },
     "metadata": {},
     "output_type": "display_data"
    },
    {
     "data": {
      "application/vnd.jupyter.widget-view+json": {
       "model_id": "2cdf48e171824554b5b6f0d36b6337a1",
       "version_major": 2,
       "version_minor": 0
      },
      "text/plain": [
       "class: 0it [00:00, ?it/s]"
      ]
     },
     "metadata": {},
     "output_type": "display_data"
    },
    {
     "data": {
      "application/vnd.jupyter.widget-view+json": {
       "model_id": "cce9abb5951f46eebff94775175288ea",
       "version_major": 2,
       "version_minor": 0
      },
      "text/plain": [
       "class: 0it [00:00, ?it/s]"
      ]
     },
     "metadata": {},
     "output_type": "display_data"
    },
    {
     "data": {
      "application/vnd.jupyter.widget-view+json": {
       "model_id": "3c1ad844848d4af0b6658394ab520ff5",
       "version_major": 2,
       "version_minor": 0
      },
      "text/plain": [
       "class: 0it [00:00, ?it/s]"
      ]
     },
     "metadata": {},
     "output_type": "display_data"
    },
    {
     "data": {
      "application/vnd.jupyter.widget-view+json": {
       "model_id": "632f3b0b456145fe8160a8235e752c94",
       "version_major": 2,
       "version_minor": 0
      },
      "text/plain": [
       "class: 0it [00:00, ?it/s]"
      ]
     },
     "metadata": {},
     "output_type": "display_data"
    },
    {
     "data": {
      "application/vnd.jupyter.widget-view+json": {
       "model_id": "c6e4aa485eda4a5f84c0dbf6bf44a832",
       "version_major": 2,
       "version_minor": 0
      },
      "text/plain": [
       "class: 0it [00:00, ?it/s]"
      ]
     },
     "metadata": {},
     "output_type": "display_data"
    },
    {
     "data": {
      "application/vnd.jupyter.widget-view+json": {
       "model_id": "1a969a5a0710459480214c784b0458b2",
       "version_major": 2,
       "version_minor": 0
      },
      "text/plain": [
       "class: 0it [00:00, ?it/s]"
      ]
     },
     "metadata": {},
     "output_type": "display_data"
    },
    {
     "data": {
      "application/vnd.jupyter.widget-view+json": {
       "model_id": "ad8bc63da4794ab9a6a4bc3899b0baaf",
       "version_major": 2,
       "version_minor": 0
      },
      "text/plain": [
       "class: 0it [00:00, ?it/s]"
      ]
     },
     "metadata": {},
     "output_type": "display_data"
    },
    {
     "data": {
      "application/vnd.jupyter.widget-view+json": {
       "model_id": "977b1a585ca04e81b35e7e0223b74112",
       "version_major": 2,
       "version_minor": 0
      },
      "text/plain": [
       "class: 0it [00:00, ?it/s]"
      ]
     },
     "metadata": {},
     "output_type": "display_data"
    },
    {
     "data": {
      "application/vnd.jupyter.widget-view+json": {
       "model_id": "818cf99f535240a8a60177ec0ff44ad7",
       "version_major": 2,
       "version_minor": 0
      },
      "text/plain": [
       "class: 0it [00:00, ?it/s]"
      ]
     },
     "metadata": {},
     "output_type": "display_data"
    },
    {
     "data": {
      "application/vnd.jupyter.widget-view+json": {
       "model_id": "8002c4fae3764676b3ceb04687ad7813",
       "version_major": 2,
       "version_minor": 0
      },
      "text/plain": [
       "class: 0it [00:00, ?it/s]"
      ]
     },
     "metadata": {},
     "output_type": "display_data"
    },
    {
     "data": {
      "application/vnd.jupyter.widget-view+json": {
       "model_id": "4ebf9b86499c47ecad1070af21600428",
       "version_major": 2,
       "version_minor": 0
      },
      "text/plain": [
       "fractions: 0it [00:00, ?it/s]"
      ]
     },
     "metadata": {},
     "output_type": "display_data"
    },
    {
     "data": {
      "application/vnd.jupyter.widget-view+json": {
       "model_id": "ec555e33704548378cbaf6cbb4170491",
       "version_major": 2,
       "version_minor": 0
      },
      "text/plain": [
       "class: 0it [00:00, ?it/s]"
      ]
     },
     "metadata": {},
     "output_type": "display_data"
    },
    {
     "data": {
      "application/vnd.jupyter.widget-view+json": {
       "model_id": "b954ae46f3664ea3abdec4344b348a00",
       "version_major": 2,
       "version_minor": 0
      },
      "text/plain": [
       "class: 0it [00:00, ?it/s]"
      ]
     },
     "metadata": {},
     "output_type": "display_data"
    },
    {
     "data": {
      "application/vnd.jupyter.widget-view+json": {
       "model_id": "274b0d1def524ca6b891361eb6facdbe",
       "version_major": 2,
       "version_minor": 0
      },
      "text/plain": [
       "class: 0it [00:00, ?it/s]"
      ]
     },
     "metadata": {},
     "output_type": "display_data"
    },
    {
     "data": {
      "application/vnd.jupyter.widget-view+json": {
       "model_id": "6f8c7f97e2fd47d7b078e2bb49360de9",
       "version_major": 2,
       "version_minor": 0
      },
      "text/plain": [
       "class: 0it [00:00, ?it/s]"
      ]
     },
     "metadata": {},
     "output_type": "display_data"
    },
    {
     "data": {
      "application/vnd.jupyter.widget-view+json": {
       "model_id": "c3f886a2583a4f3cb114559072be3a34",
       "version_major": 2,
       "version_minor": 0
      },
      "text/plain": [
       "class: 0it [00:00, ?it/s]"
      ]
     },
     "metadata": {},
     "output_type": "display_data"
    },
    {
     "data": {
      "application/vnd.jupyter.widget-view+json": {
       "model_id": "39edda7373ef42a0bc2a519449f5cf21",
       "version_major": 2,
       "version_minor": 0
      },
      "text/plain": [
       "class: 0it [00:00, ?it/s]"
      ]
     },
     "metadata": {},
     "output_type": "display_data"
    },
    {
     "data": {
      "application/vnd.jupyter.widget-view+json": {
       "model_id": "9491d0b9fdd74fcd991ab5e99129e77c",
       "version_major": 2,
       "version_minor": 0
      },
      "text/plain": [
       "class: 0it [00:00, ?it/s]"
      ]
     },
     "metadata": {},
     "output_type": "display_data"
    },
    {
     "data": {
      "application/vnd.jupyter.widget-view+json": {
       "model_id": "6630ccfdfc2d4da596d1ee70ddc3b351",
       "version_major": 2,
       "version_minor": 0
      },
      "text/plain": [
       "class: 0it [00:00, ?it/s]"
      ]
     },
     "metadata": {},
     "output_type": "display_data"
    },
    {
     "data": {
      "application/vnd.jupyter.widget-view+json": {
       "model_id": "11c462175e1f400f96f2c47e4ae2052f",
       "version_major": 2,
       "version_minor": 0
      },
      "text/plain": [
       "class: 0it [00:00, ?it/s]"
      ]
     },
     "metadata": {},
     "output_type": "display_data"
    },
    {
     "data": {
      "application/vnd.jupyter.widget-view+json": {
       "model_id": "bf377b792ae54e5f8d5f6a9645a7f483",
       "version_major": 2,
       "version_minor": 0
      },
      "text/plain": [
       "class: 0it [00:00, ?it/s]"
      ]
     },
     "metadata": {},
     "output_type": "display_data"
    },
    {
     "data": {
      "application/vnd.jupyter.widget-view+json": {
       "model_id": "a7e2a053a6d648dda075d3466304d6e6",
       "version_major": 2,
       "version_minor": 0
      },
      "text/plain": [
       "class: 0it [00:00, ?it/s]"
      ]
     },
     "metadata": {},
     "output_type": "display_data"
    },
    {
     "data": {
      "application/vnd.jupyter.widget-view+json": {
       "model_id": "501d7cfafdca4ad080a20e95e27593cc",
       "version_major": 2,
       "version_minor": 0
      },
      "text/plain": [
       "class: 0it [00:00, ?it/s]"
      ]
     },
     "metadata": {},
     "output_type": "display_data"
    },
    {
     "data": {
      "application/vnd.jupyter.widget-view+json": {
       "model_id": "96a072e14f2b417daa972bcb22ba0d72",
       "version_major": 2,
       "version_minor": 0
      },
      "text/plain": [
       "class: 0it [00:00, ?it/s]"
      ]
     },
     "metadata": {},
     "output_type": "display_data"
    },
    {
     "data": {
      "application/vnd.jupyter.widget-view+json": {
       "model_id": "b5e53dbd20e74e839f4b197166e973d0",
       "version_major": 2,
       "version_minor": 0
      },
      "text/plain": [
       "class: 0it [00:00, ?it/s]"
      ]
     },
     "metadata": {},
     "output_type": "display_data"
    },
    {
     "data": {
      "application/vnd.jupyter.widget-view+json": {
       "model_id": "ea78cddf955e45b89d286b4ce8c88571",
       "version_major": 2,
       "version_minor": 0
      },
      "text/plain": [
       "class: 0it [00:00, ?it/s]"
      ]
     },
     "metadata": {},
     "output_type": "display_data"
    },
    {
     "data": {
      "application/vnd.jupyter.widget-view+json": {
       "model_id": "69aa8b4e9e40428da497c080f3ce5852",
       "version_major": 2,
       "version_minor": 0
      },
      "text/plain": [
       "class: 0it [00:00, ?it/s]"
      ]
     },
     "metadata": {},
     "output_type": "display_data"
    },
    {
     "data": {
      "application/vnd.jupyter.widget-view+json": {
       "model_id": "33c3b9cdf3ea4b858597f146c82b5bf0",
       "version_major": 2,
       "version_minor": 0
      },
      "text/plain": [
       "class: 0it [00:00, ?it/s]"
      ]
     },
     "metadata": {},
     "output_type": "display_data"
    },
    {
     "data": {
      "application/vnd.jupyter.widget-view+json": {
       "model_id": "6ef8359bc04e44a8831717f5aa4e0f22",
       "version_major": 2,
       "version_minor": 0
      },
      "text/plain": [
       "class: 0it [00:00, ?it/s]"
      ]
     },
     "metadata": {},
     "output_type": "display_data"
    },
    {
     "data": {
      "application/vnd.jupyter.widget-view+json": {
       "model_id": "35416fdf077347d1aeffa9d558947dac",
       "version_major": 2,
       "version_minor": 0
      },
      "text/plain": [
       "class: 0it [00:00, ?it/s]"
      ]
     },
     "metadata": {},
     "output_type": "display_data"
    },
    {
     "data": {
      "application/vnd.jupyter.widget-view+json": {
       "model_id": "62032708f96c4c84943ab8ad976dafd0",
       "version_major": 2,
       "version_minor": 0
      },
      "text/plain": [
       "class: 0it [00:00, ?it/s]"
      ]
     },
     "metadata": {},
     "output_type": "display_data"
    },
    {
     "data": {
      "application/vnd.jupyter.widget-view+json": {
       "model_id": "2f385aedc8fe45698d43da5658215e1e",
       "version_major": 2,
       "version_minor": 0
      },
      "text/plain": [
       "class: 0it [00:00, ?it/s]"
      ]
     },
     "metadata": {},
     "output_type": "display_data"
    },
    {
     "data": {
      "application/vnd.jupyter.widget-view+json": {
       "model_id": "33b4e1297b444d29b6c9d3b0aa023657",
       "version_major": 2,
       "version_minor": 0
      },
      "text/plain": [
       "class: 0it [00:00, ?it/s]"
      ]
     },
     "metadata": {},
     "output_type": "display_data"
    },
    {
     "data": {
      "application/vnd.jupyter.widget-view+json": {
       "model_id": "fa01055a814b45a8b03a4ab34cf90468",
       "version_major": 2,
       "version_minor": 0
      },
      "text/plain": [
       "class: 0it [00:00, ?it/s]"
      ]
     },
     "metadata": {},
     "output_type": "display_data"
    },
    {
     "data": {
      "application/vnd.jupyter.widget-view+json": {
       "model_id": "9e44dd9022b8423d902a12c2fd5c55d9",
       "version_major": 2,
       "version_minor": 0
      },
      "text/plain": [
       "class: 0it [00:00, ?it/s]"
      ]
     },
     "metadata": {},
     "output_type": "display_data"
    },
    {
     "data": {
      "application/vnd.jupyter.widget-view+json": {
       "model_id": "7541058111284a0cb45a149dbb30534c",
       "version_major": 2,
       "version_minor": 0
      },
      "text/plain": [
       "class: 0it [00:00, ?it/s]"
      ]
     },
     "metadata": {},
     "output_type": "display_data"
    },
    {
     "data": {
      "application/vnd.jupyter.widget-view+json": {
       "model_id": "5a5d2f98e91c4df98d91683a8495b3c3",
       "version_major": 2,
       "version_minor": 0
      },
      "text/plain": [
       "class: 0it [00:00, ?it/s]"
      ]
     },
     "metadata": {},
     "output_type": "display_data"
    },
    {
     "data": {
      "application/vnd.jupyter.widget-view+json": {
       "model_id": "6b286140f445484b943e64893e1c4f0d",
       "version_major": 2,
       "version_minor": 0
      },
      "text/plain": [
       "class: 0it [00:00, ?it/s]"
      ]
     },
     "metadata": {},
     "output_type": "display_data"
    },
    {
     "data": {
      "application/vnd.jupyter.widget-view+json": {
       "model_id": "0c8de38c5e344489be560a97a0c7d45a",
       "version_major": 2,
       "version_minor": 0
      },
      "text/plain": [
       "class: 0it [00:00, ?it/s]"
      ]
     },
     "metadata": {},
     "output_type": "display_data"
    },
    {
     "data": {
      "application/vnd.jupyter.widget-view+json": {
       "model_id": "f8570b6750a546db813ca79e3c89f846",
       "version_major": 2,
       "version_minor": 0
      },
      "text/plain": [
       "class: 0it [00:00, ?it/s]"
      ]
     },
     "metadata": {},
     "output_type": "display_data"
    },
    {
     "data": {
      "application/vnd.jupyter.widget-view+json": {
       "model_id": "8a497163e4fa41269206d00ce7029aa0",
       "version_major": 2,
       "version_minor": 0
      },
      "text/plain": [
       "class: 0it [00:00, ?it/s]"
      ]
     },
     "metadata": {},
     "output_type": "display_data"
    },
    {
     "data": {
      "application/vnd.jupyter.widget-view+json": {
       "model_id": "0c70520473c34ecd9ac43384ca718500",
       "version_major": 2,
       "version_minor": 0
      },
      "text/plain": [
       "class: 0it [00:00, ?it/s]"
      ]
     },
     "metadata": {},
     "output_type": "display_data"
    },
    {
     "data": {
      "application/vnd.jupyter.widget-view+json": {
       "model_id": "dde7ca10e9bb4fdcb1bf412655d05740",
       "version_major": 2,
       "version_minor": 0
      },
      "text/plain": [
       "class: 0it [00:00, ?it/s]"
      ]
     },
     "metadata": {},
     "output_type": "display_data"
    },
    {
     "data": {
      "application/vnd.jupyter.widget-view+json": {
       "model_id": "dc6dc2d2eef141bb85873b879cc0d4a4",
       "version_major": 2,
       "version_minor": 0
      },
      "text/plain": [
       "fractions: 0it [00:00, ?it/s]"
      ]
     },
     "metadata": {},
     "output_type": "display_data"
    },
    {
     "data": {
      "application/vnd.jupyter.widget-view+json": {
       "model_id": "f5422e98ba5a48e6a3aafd880fcacc73",
       "version_major": 2,
       "version_minor": 0
      },
      "text/plain": [
       "class: 0it [00:00, ?it/s]"
      ]
     },
     "metadata": {},
     "output_type": "display_data"
    },
    {
     "data": {
      "application/vnd.jupyter.widget-view+json": {
       "model_id": "110b166a62c2407192b2ce109f62770b",
       "version_major": 2,
       "version_minor": 0
      },
      "text/plain": [
       "class: 0it [00:00, ?it/s]"
      ]
     },
     "metadata": {},
     "output_type": "display_data"
    },
    {
     "data": {
      "application/vnd.jupyter.widget-view+json": {
       "model_id": "dfde5e903fcd4980950c5947d173a341",
       "version_major": 2,
       "version_minor": 0
      },
      "text/plain": [
       "class: 0it [00:00, ?it/s]"
      ]
     },
     "metadata": {},
     "output_type": "display_data"
    },
    {
     "data": {
      "application/vnd.jupyter.widget-view+json": {
       "model_id": "dee805573c4746c692c2d9d35a5d90f8",
       "version_major": 2,
       "version_minor": 0
      },
      "text/plain": [
       "class: 0it [00:00, ?it/s]"
      ]
     },
     "metadata": {},
     "output_type": "display_data"
    },
    {
     "data": {
      "application/vnd.jupyter.widget-view+json": {
       "model_id": "672789840e8b47b8b2787e0c86ff6ef2",
       "version_major": 2,
       "version_minor": 0
      },
      "text/plain": [
       "class: 0it [00:00, ?it/s]"
      ]
     },
     "metadata": {},
     "output_type": "display_data"
    },
    {
     "data": {
      "application/vnd.jupyter.widget-view+json": {
       "model_id": "dbf50fdf50d44d32843182cda8f70980",
       "version_major": 2,
       "version_minor": 0
      },
      "text/plain": [
       "class: 0it [00:00, ?it/s]"
      ]
     },
     "metadata": {},
     "output_type": "display_data"
    },
    {
     "data": {
      "application/vnd.jupyter.widget-view+json": {
       "model_id": "46fd85cdabbe4e9e9c59b4e5ddac6b8b",
       "version_major": 2,
       "version_minor": 0
      },
      "text/plain": [
       "class: 0it [00:00, ?it/s]"
      ]
     },
     "metadata": {},
     "output_type": "display_data"
    },
    {
     "data": {
      "application/vnd.jupyter.widget-view+json": {
       "model_id": "83a7eda4ae2d4b428d45a9d17e1b87f4",
       "version_major": 2,
       "version_minor": 0
      },
      "text/plain": [
       "class: 0it [00:00, ?it/s]"
      ]
     },
     "metadata": {},
     "output_type": "display_data"
    },
    {
     "data": {
      "application/vnd.jupyter.widget-view+json": {
       "model_id": "0a4a3b32bf684e679b60e5b73460e074",
       "version_major": 2,
       "version_minor": 0
      },
      "text/plain": [
       "class: 0it [00:00, ?it/s]"
      ]
     },
     "metadata": {},
     "output_type": "display_data"
    },
    {
     "data": {
      "application/vnd.jupyter.widget-view+json": {
       "model_id": "ed1ee944199a419c87e40be43b4f5a86",
       "version_major": 2,
       "version_minor": 0
      },
      "text/plain": [
       "class: 0it [00:00, ?it/s]"
      ]
     },
     "metadata": {},
     "output_type": "display_data"
    },
    {
     "data": {
      "application/vnd.jupyter.widget-view+json": {
       "model_id": "cb1349950a284e47a562363279c1ca1b",
       "version_major": 2,
       "version_minor": 0
      },
      "text/plain": [
       "class: 0it [00:00, ?it/s]"
      ]
     },
     "metadata": {},
     "output_type": "display_data"
    },
    {
     "data": {
      "application/vnd.jupyter.widget-view+json": {
       "model_id": "efbf707c692e4de1b37efb632a900ac0",
       "version_major": 2,
       "version_minor": 0
      },
      "text/plain": [
       "class: 0it [00:00, ?it/s]"
      ]
     },
     "metadata": {},
     "output_type": "display_data"
    },
    {
     "data": {
      "application/vnd.jupyter.widget-view+json": {
       "model_id": "b7a208b815174ecab1522d9fd666b3af",
       "version_major": 2,
       "version_minor": 0
      },
      "text/plain": [
       "class: 0it [00:00, ?it/s]"
      ]
     },
     "metadata": {},
     "output_type": "display_data"
    },
    {
     "data": {
      "application/vnd.jupyter.widget-view+json": {
       "model_id": "a4a7300d85a0498a9e80dd420d9971b2",
       "version_major": 2,
       "version_minor": 0
      },
      "text/plain": [
       "class: 0it [00:00, ?it/s]"
      ]
     },
     "metadata": {},
     "output_type": "display_data"
    },
    {
     "data": {
      "application/vnd.jupyter.widget-view+json": {
       "model_id": "f83da6eb3e7f482898ee14cb71f3a372",
       "version_major": 2,
       "version_minor": 0
      },
      "text/plain": [
       "class: 0it [00:00, ?it/s]"
      ]
     },
     "metadata": {},
     "output_type": "display_data"
    },
    {
     "data": {
      "application/vnd.jupyter.widget-view+json": {
       "model_id": "6eddd4f7edc34aec9b13055497f33fa1",
       "version_major": 2,
       "version_minor": 0
      },
      "text/plain": [
       "class: 0it [00:00, ?it/s]"
      ]
     },
     "metadata": {},
     "output_type": "display_data"
    },
    {
     "data": {
      "application/vnd.jupyter.widget-view+json": {
       "model_id": "93c5894ea4124c1f99e8d28c0ad5eff2",
       "version_major": 2,
       "version_minor": 0
      },
      "text/plain": [
       "class: 0it [00:00, ?it/s]"
      ]
     },
     "metadata": {},
     "output_type": "display_data"
    },
    {
     "data": {
      "application/vnd.jupyter.widget-view+json": {
       "model_id": "f68f3740ddf3440fb9ce944f40d0d2e9",
       "version_major": 2,
       "version_minor": 0
      },
      "text/plain": [
       "class: 0it [00:00, ?it/s]"
      ]
     },
     "metadata": {},
     "output_type": "display_data"
    },
    {
     "data": {
      "application/vnd.jupyter.widget-view+json": {
       "model_id": "36cbf1f7bb184c00b1c5a83bc1549282",
       "version_major": 2,
       "version_minor": 0
      },
      "text/plain": [
       "class: 0it [00:00, ?it/s]"
      ]
     },
     "metadata": {},
     "output_type": "display_data"
    },
    {
     "data": {
      "application/vnd.jupyter.widget-view+json": {
       "model_id": "95fba1b762c2442d941557dfb6b1c3f8",
       "version_major": 2,
       "version_minor": 0
      },
      "text/plain": [
       "class: 0it [00:00, ?it/s]"
      ]
     },
     "metadata": {},
     "output_type": "display_data"
    },
    {
     "data": {
      "application/vnd.jupyter.widget-view+json": {
       "model_id": "95b17f45a1f84e9983817e583961f597",
       "version_major": 2,
       "version_minor": 0
      },
      "text/plain": [
       "class: 0it [00:00, ?it/s]"
      ]
     },
     "metadata": {},
     "output_type": "display_data"
    },
    {
     "data": {
      "application/vnd.jupyter.widget-view+json": {
       "model_id": "d6886b57bf3f429296f58df76cf30090",
       "version_major": 2,
       "version_minor": 0
      },
      "text/plain": [
       "class: 0it [00:00, ?it/s]"
      ]
     },
     "metadata": {},
     "output_type": "display_data"
    },
    {
     "data": {
      "application/vnd.jupyter.widget-view+json": {
       "model_id": "f186d80c72cb46a7a108e303e4e94724",
       "version_major": 2,
       "version_minor": 0
      },
      "text/plain": [
       "class: 0it [00:00, ?it/s]"
      ]
     },
     "metadata": {},
     "output_type": "display_data"
    },
    {
     "data": {
      "application/vnd.jupyter.widget-view+json": {
       "model_id": "d71ef75784974835bb02bde8afb75827",
       "version_major": 2,
       "version_minor": 0
      },
      "text/plain": [
       "class: 0it [00:00, ?it/s]"
      ]
     },
     "metadata": {},
     "output_type": "display_data"
    },
    {
     "data": {
      "application/vnd.jupyter.widget-view+json": {
       "model_id": "787947246f084a379fa261934d2a49e4",
       "version_major": 2,
       "version_minor": 0
      },
      "text/plain": [
       "class: 0it [00:00, ?it/s]"
      ]
     },
     "metadata": {},
     "output_type": "display_data"
    },
    {
     "data": {
      "application/vnd.jupyter.widget-view+json": {
       "model_id": "f0c1de0a48ae4541aec2c41af63e7992",
       "version_major": 2,
       "version_minor": 0
      },
      "text/plain": [
       "class: 0it [00:00, ?it/s]"
      ]
     },
     "metadata": {},
     "output_type": "display_data"
    },
    {
     "data": {
      "application/vnd.jupyter.widget-view+json": {
       "model_id": "d1a6f449ee7c442c86afde497dc4dfa7",
       "version_major": 2,
       "version_minor": 0
      },
      "text/plain": [
       "class: 0it [00:00, ?it/s]"
      ]
     },
     "metadata": {},
     "output_type": "display_data"
    },
    {
     "data": {
      "application/vnd.jupyter.widget-view+json": {
       "model_id": "e1d40018f4c04ebcba65cb14b849f9c4",
       "version_major": 2,
       "version_minor": 0
      },
      "text/plain": [
       "class: 0it [00:00, ?it/s]"
      ]
     },
     "metadata": {},
     "output_type": "display_data"
    },
    {
     "data": {
      "application/vnd.jupyter.widget-view+json": {
       "model_id": "923f7f26faee47c08becc33b376fe1a9",
       "version_major": 2,
       "version_minor": 0
      },
      "text/plain": [
       "class: 0it [00:00, ?it/s]"
      ]
     },
     "metadata": {},
     "output_type": "display_data"
    },
    {
     "data": {
      "application/vnd.jupyter.widget-view+json": {
       "model_id": "bb6bbdf1e669489fafa70d7a358a2fe6",
       "version_major": 2,
       "version_minor": 0
      },
      "text/plain": [
       "class: 0it [00:00, ?it/s]"
      ]
     },
     "metadata": {},
     "output_type": "display_data"
    },
    {
     "data": {
      "application/vnd.jupyter.widget-view+json": {
       "model_id": "616adba14cef4daa855d2a86c8cc001b",
       "version_major": 2,
       "version_minor": 0
      },
      "text/plain": [
       "class: 0it [00:00, ?it/s]"
      ]
     },
     "metadata": {},
     "output_type": "display_data"
    },
    {
     "data": {
      "application/vnd.jupyter.widget-view+json": {
       "model_id": "cab2191277d94179bdd21114bcfaeb5a",
       "version_major": 2,
       "version_minor": 0
      },
      "text/plain": [
       "class: 0it [00:00, ?it/s]"
      ]
     },
     "metadata": {},
     "output_type": "display_data"
    },
    {
     "data": {
      "application/vnd.jupyter.widget-view+json": {
       "model_id": "a29e561b0f2342a4802fe3ea10c72a2e",
       "version_major": 2,
       "version_minor": 0
      },
      "text/plain": [
       "fractions: 0it [00:00, ?it/s]"
      ]
     },
     "metadata": {},
     "output_type": "display_data"
    },
    {
     "data": {
      "application/vnd.jupyter.widget-view+json": {
       "model_id": "df7ae24ccb374b26883c9beb963c63ae",
       "version_major": 2,
       "version_minor": 0
      },
      "text/plain": [
       "class: 0it [00:00, ?it/s]"
      ]
     },
     "metadata": {},
     "output_type": "display_data"
    },
    {
     "data": {
      "application/vnd.jupyter.widget-view+json": {
       "model_id": "24911b7431cd4cbab016eb29bcaa2331",
       "version_major": 2,
       "version_minor": 0
      },
      "text/plain": [
       "class: 0it [00:00, ?it/s]"
      ]
     },
     "metadata": {},
     "output_type": "display_data"
    },
    {
     "data": {
      "application/vnd.jupyter.widget-view+json": {
       "model_id": "d29137701fe24057ae1821960415d42e",
       "version_major": 2,
       "version_minor": 0
      },
      "text/plain": [
       "class: 0it [00:00, ?it/s]"
      ]
     },
     "metadata": {},
     "output_type": "display_data"
    },
    {
     "data": {
      "application/vnd.jupyter.widget-view+json": {
       "model_id": "2cd8db012e4049efa8e0cc0191410604",
       "version_major": 2,
       "version_minor": 0
      },
      "text/plain": [
       "class: 0it [00:00, ?it/s]"
      ]
     },
     "metadata": {},
     "output_type": "display_data"
    },
    {
     "data": {
      "application/vnd.jupyter.widget-view+json": {
       "model_id": "15baad30e88d45609c37229e54b79d2e",
       "version_major": 2,
       "version_minor": 0
      },
      "text/plain": [
       "class: 0it [00:00, ?it/s]"
      ]
     },
     "metadata": {},
     "output_type": "display_data"
    },
    {
     "data": {
      "application/vnd.jupyter.widget-view+json": {
       "model_id": "224c9e68cc984567af204549d5e534e2",
       "version_major": 2,
       "version_minor": 0
      },
      "text/plain": [
       "class: 0it [00:00, ?it/s]"
      ]
     },
     "metadata": {},
     "output_type": "display_data"
    },
    {
     "data": {
      "application/vnd.jupyter.widget-view+json": {
       "model_id": "7bd3f1f45767482fa624112e5415c226",
       "version_major": 2,
       "version_minor": 0
      },
      "text/plain": [
       "class: 0it [00:00, ?it/s]"
      ]
     },
     "metadata": {},
     "output_type": "display_data"
    },
    {
     "data": {
      "application/vnd.jupyter.widget-view+json": {
       "model_id": "53c0d8d43b214d6c833aee3f4528e968",
       "version_major": 2,
       "version_minor": 0
      },
      "text/plain": [
       "class: 0it [00:00, ?it/s]"
      ]
     },
     "metadata": {},
     "output_type": "display_data"
    },
    {
     "data": {
      "application/vnd.jupyter.widget-view+json": {
       "model_id": "c1469c4009dd4dfaacf7b869dd75d5fc",
       "version_major": 2,
       "version_minor": 0
      },
      "text/plain": [
       "class: 0it [00:00, ?it/s]"
      ]
     },
     "metadata": {},
     "output_type": "display_data"
    },
    {
     "data": {
      "application/vnd.jupyter.widget-view+json": {
       "model_id": "c2f33a75df124ccba2fce0ff1c526650",
       "version_major": 2,
       "version_minor": 0
      },
      "text/plain": [
       "class: 0it [00:00, ?it/s]"
      ]
     },
     "metadata": {},
     "output_type": "display_data"
    },
    {
     "data": {
      "application/vnd.jupyter.widget-view+json": {
       "model_id": "bd38e58b2a5d444f80961175a125819b",
       "version_major": 2,
       "version_minor": 0
      },
      "text/plain": [
       "class: 0it [00:00, ?it/s]"
      ]
     },
     "metadata": {},
     "output_type": "display_data"
    },
    {
     "data": {
      "application/vnd.jupyter.widget-view+json": {
       "model_id": "cecc6caee5df4130ac79fa3df36a1b2f",
       "version_major": 2,
       "version_minor": 0
      },
      "text/plain": [
       "class: 0it [00:00, ?it/s]"
      ]
     },
     "metadata": {},
     "output_type": "display_data"
    },
    {
     "data": {
      "application/vnd.jupyter.widget-view+json": {
       "model_id": "e66ccb45794d433b80006f41bc8be6cb",
       "version_major": 2,
       "version_minor": 0
      },
      "text/plain": [
       "class: 0it [00:00, ?it/s]"
      ]
     },
     "metadata": {},
     "output_type": "display_data"
    },
    {
     "data": {
      "application/vnd.jupyter.widget-view+json": {
       "model_id": "060646817cd64fd083bcf5ae0dded784",
       "version_major": 2,
       "version_minor": 0
      },
      "text/plain": [
       "class: 0it [00:00, ?it/s]"
      ]
     },
     "metadata": {},
     "output_type": "display_data"
    },
    {
     "data": {
      "application/vnd.jupyter.widget-view+json": {
       "model_id": "9fd58226779a4c3d93b14591ffab9148",
       "version_major": 2,
       "version_minor": 0
      },
      "text/plain": [
       "class: 0it [00:00, ?it/s]"
      ]
     },
     "metadata": {},
     "output_type": "display_data"
    },
    {
     "data": {
      "application/vnd.jupyter.widget-view+json": {
       "model_id": "5ae33f23dcef409ca2c2be6c981be8b3",
       "version_major": 2,
       "version_minor": 0
      },
      "text/plain": [
       "class: 0it [00:00, ?it/s]"
      ]
     },
     "metadata": {},
     "output_type": "display_data"
    },
    {
     "data": {
      "application/vnd.jupyter.widget-view+json": {
       "model_id": "7ab921546bc641bcbb2687afb5d0b8f1",
       "version_major": 2,
       "version_minor": 0
      },
      "text/plain": [
       "class: 0it [00:00, ?it/s]"
      ]
     },
     "metadata": {},
     "output_type": "display_data"
    },
    {
     "data": {
      "application/vnd.jupyter.widget-view+json": {
       "model_id": "1e94a87195444e2eba4c6769e1d7ab28",
       "version_major": 2,
       "version_minor": 0
      },
      "text/plain": [
       "class: 0it [00:00, ?it/s]"
      ]
     },
     "metadata": {},
     "output_type": "display_data"
    },
    {
     "data": {
      "application/vnd.jupyter.widget-view+json": {
       "model_id": "4c235cc3d197458a9f83d653234629b1",
       "version_major": 2,
       "version_minor": 0
      },
      "text/plain": [
       "class: 0it [00:00, ?it/s]"
      ]
     },
     "metadata": {},
     "output_type": "display_data"
    },
    {
     "data": {
      "application/vnd.jupyter.widget-view+json": {
       "model_id": "98172ab1a1d847d3a42a818300827c85",
       "version_major": 2,
       "version_minor": 0
      },
      "text/plain": [
       "class: 0it [00:00, ?it/s]"
      ]
     },
     "metadata": {},
     "output_type": "display_data"
    },
    {
     "data": {
      "application/vnd.jupyter.widget-view+json": {
       "model_id": "992028a2eef44a8f84c849e9d3c2d913",
       "version_major": 2,
       "version_minor": 0
      },
      "text/plain": [
       "class: 0it [00:00, ?it/s]"
      ]
     },
     "metadata": {},
     "output_type": "display_data"
    },
    {
     "data": {
      "application/vnd.jupyter.widget-view+json": {
       "model_id": "5f90dae01860427493bfc83214c471de",
       "version_major": 2,
       "version_minor": 0
      },
      "text/plain": [
       "class: 0it [00:00, ?it/s]"
      ]
     },
     "metadata": {},
     "output_type": "display_data"
    },
    {
     "data": {
      "application/vnd.jupyter.widget-view+json": {
       "model_id": "58b727e070124fad849da972e7893f94",
       "version_major": 2,
       "version_minor": 0
      },
      "text/plain": [
       "class: 0it [00:00, ?it/s]"
      ]
     },
     "metadata": {},
     "output_type": "display_data"
    },
    {
     "data": {
      "application/vnd.jupyter.widget-view+json": {
       "model_id": "e55b1393bcdf451abd1dc68fec88caee",
       "version_major": 2,
       "version_minor": 0
      },
      "text/plain": [
       "class: 0it [00:00, ?it/s]"
      ]
     },
     "metadata": {},
     "output_type": "display_data"
    },
    {
     "data": {
      "application/vnd.jupyter.widget-view+json": {
       "model_id": "548fb22609fe447db523fba893b9ddc5",
       "version_major": 2,
       "version_minor": 0
      },
      "text/plain": [
       "class: 0it [00:00, ?it/s]"
      ]
     },
     "metadata": {},
     "output_type": "display_data"
    },
    {
     "data": {
      "application/vnd.jupyter.widget-view+json": {
       "model_id": "591ee685f96a4300b0f40b5501220546",
       "version_major": 2,
       "version_minor": 0
      },
      "text/plain": [
       "class: 0it [00:00, ?it/s]"
      ]
     },
     "metadata": {},
     "output_type": "display_data"
    },
    {
     "data": {
      "application/vnd.jupyter.widget-view+json": {
       "model_id": "c664c22d07de47c1a27285ca9f29eaff",
       "version_major": 2,
       "version_minor": 0
      },
      "text/plain": [
       "class: 0it [00:00, ?it/s]"
      ]
     },
     "metadata": {},
     "output_type": "display_data"
    },
    {
     "data": {
      "application/vnd.jupyter.widget-view+json": {
       "model_id": "94c761852c614ca88594d165d983020e",
       "version_major": 2,
       "version_minor": 0
      },
      "text/plain": [
       "class: 0it [00:00, ?it/s]"
      ]
     },
     "metadata": {},
     "output_type": "display_data"
    },
    {
     "data": {
      "application/vnd.jupyter.widget-view+json": {
       "model_id": "5181041aae2d4aada7e38cd80b07b56b",
       "version_major": 2,
       "version_minor": 0
      },
      "text/plain": [
       "class: 0it [00:00, ?it/s]"
      ]
     },
     "metadata": {},
     "output_type": "display_data"
    },
    {
     "data": {
      "application/vnd.jupyter.widget-view+json": {
       "model_id": "641e1c565d314191b8f708dc123161f2",
       "version_major": 2,
       "version_minor": 0
      },
      "text/plain": [
       "class: 0it [00:00, ?it/s]"
      ]
     },
     "metadata": {},
     "output_type": "display_data"
    },
    {
     "data": {
      "application/vnd.jupyter.widget-view+json": {
       "model_id": "3bb1b66300444ba5862eb9b5271e5721",
       "version_major": 2,
       "version_minor": 0
      },
      "text/plain": [
       "class: 0it [00:00, ?it/s]"
      ]
     },
     "metadata": {},
     "output_type": "display_data"
    },
    {
     "data": {
      "application/vnd.jupyter.widget-view+json": {
       "model_id": "2a445fc2649b40d48295eb7c18160e7d",
       "version_major": 2,
       "version_minor": 0
      },
      "text/plain": [
       "class: 0it [00:00, ?it/s]"
      ]
     },
     "metadata": {},
     "output_type": "display_data"
    },
    {
     "data": {
      "application/vnd.jupyter.widget-view+json": {
       "model_id": "8010ea15d0dd4139981f6ad659191a61",
       "version_major": 2,
       "version_minor": 0
      },
      "text/plain": [
       "fractions: 0it [00:00, ?it/s]"
      ]
     },
     "metadata": {},
     "output_type": "display_data"
    },
    {
     "data": {
      "application/vnd.jupyter.widget-view+json": {
       "model_id": "b712bd2d8120428ea6e120e90bacb360",
       "version_major": 2,
       "version_minor": 0
      },
      "text/plain": [
       "class: 0it [00:00, ?it/s]"
      ]
     },
     "metadata": {},
     "output_type": "display_data"
    },
    {
     "data": {
      "application/vnd.jupyter.widget-view+json": {
       "model_id": "29ad7ecb7a0e4109a355cf5fd599058d",
       "version_major": 2,
       "version_minor": 0
      },
      "text/plain": [
       "class: 0it [00:00, ?it/s]"
      ]
     },
     "metadata": {},
     "output_type": "display_data"
    },
    {
     "data": {
      "application/vnd.jupyter.widget-view+json": {
       "model_id": "747f9380cda245679285435ae4e0d98b",
       "version_major": 2,
       "version_minor": 0
      },
      "text/plain": [
       "class: 0it [00:00, ?it/s]"
      ]
     },
     "metadata": {},
     "output_type": "display_data"
    },
    {
     "data": {
      "application/vnd.jupyter.widget-view+json": {
       "model_id": "672ebaa1a66d4c67b2c47a592d6015be",
       "version_major": 2,
       "version_minor": 0
      },
      "text/plain": [
       "class: 0it [00:00, ?it/s]"
      ]
     },
     "metadata": {},
     "output_type": "display_data"
    },
    {
     "data": {
      "application/vnd.jupyter.widget-view+json": {
       "model_id": "7b1a249cf4454a529cf78829cc0cfbda",
       "version_major": 2,
       "version_minor": 0
      },
      "text/plain": [
       "class: 0it [00:00, ?it/s]"
      ]
     },
     "metadata": {},
     "output_type": "display_data"
    },
    {
     "data": {
      "application/vnd.jupyter.widget-view+json": {
       "model_id": "acb9326bc2d04a49b10b31ce6c225280",
       "version_major": 2,
       "version_minor": 0
      },
      "text/plain": [
       "class: 0it [00:00, ?it/s]"
      ]
     },
     "metadata": {},
     "output_type": "display_data"
    },
    {
     "data": {
      "application/vnd.jupyter.widget-view+json": {
       "model_id": "a951e0f807614235825076ca522c8d73",
       "version_major": 2,
       "version_minor": 0
      },
      "text/plain": [
       "class: 0it [00:00, ?it/s]"
      ]
     },
     "metadata": {},
     "output_type": "display_data"
    },
    {
     "data": {
      "application/vnd.jupyter.widget-view+json": {
       "model_id": "a0a3a37f9a7341fc959d1bfb9d526192",
       "version_major": 2,
       "version_minor": 0
      },
      "text/plain": [
       "class: 0it [00:00, ?it/s]"
      ]
     },
     "metadata": {},
     "output_type": "display_data"
    },
    {
     "data": {
      "application/vnd.jupyter.widget-view+json": {
       "model_id": "0576894f086c425c87ccf4c4c76f167e",
       "version_major": 2,
       "version_minor": 0
      },
      "text/plain": [
       "class: 0it [00:00, ?it/s]"
      ]
     },
     "metadata": {},
     "output_type": "display_data"
    },
    {
     "data": {
      "application/vnd.jupyter.widget-view+json": {
       "model_id": "032ce558ca8e4dbb9cc1b91ae7f11efd",
       "version_major": 2,
       "version_minor": 0
      },
      "text/plain": [
       "class: 0it [00:00, ?it/s]"
      ]
     },
     "metadata": {},
     "output_type": "display_data"
    },
    {
     "data": {
      "application/vnd.jupyter.widget-view+json": {
       "model_id": "dd9f8fac1b964f40ac99de5fcc5e5d51",
       "version_major": 2,
       "version_minor": 0
      },
      "text/plain": [
       "class: 0it [00:00, ?it/s]"
      ]
     },
     "metadata": {},
     "output_type": "display_data"
    },
    {
     "data": {
      "application/vnd.jupyter.widget-view+json": {
       "model_id": "dffead1b874d48b9becbf354721095e9",
       "version_major": 2,
       "version_minor": 0
      },
      "text/plain": [
       "class: 0it [00:00, ?it/s]"
      ]
     },
     "metadata": {},
     "output_type": "display_data"
    },
    {
     "data": {
      "application/vnd.jupyter.widget-view+json": {
       "model_id": "59393ad75b07436ea0158257fdcdf3ed",
       "version_major": 2,
       "version_minor": 0
      },
      "text/plain": [
       "class: 0it [00:00, ?it/s]"
      ]
     },
     "metadata": {},
     "output_type": "display_data"
    },
    {
     "data": {
      "application/vnd.jupyter.widget-view+json": {
       "model_id": "653ca7956d4b4de48ca5bd7da440fc4b",
       "version_major": 2,
       "version_minor": 0
      },
      "text/plain": [
       "class: 0it [00:00, ?it/s]"
      ]
     },
     "metadata": {},
     "output_type": "display_data"
    },
    {
     "data": {
      "application/vnd.jupyter.widget-view+json": {
       "model_id": "8cc0c0ca77c64f67bd7e7009767be5f0",
       "version_major": 2,
       "version_minor": 0
      },
      "text/plain": [
       "class: 0it [00:00, ?it/s]"
      ]
     },
     "metadata": {},
     "output_type": "display_data"
    },
    {
     "data": {
      "application/vnd.jupyter.widget-view+json": {
       "model_id": "0347d5713a754deeb41c8bbfa30d5613",
       "version_major": 2,
       "version_minor": 0
      },
      "text/plain": [
       "class: 0it [00:00, ?it/s]"
      ]
     },
     "metadata": {},
     "output_type": "display_data"
    },
    {
     "data": {
      "application/vnd.jupyter.widget-view+json": {
       "model_id": "5512994ee4cc4e22a546fa6b67de39d1",
       "version_major": 2,
       "version_minor": 0
      },
      "text/plain": [
       "class: 0it [00:00, ?it/s]"
      ]
     },
     "metadata": {},
     "output_type": "display_data"
    },
    {
     "data": {
      "application/vnd.jupyter.widget-view+json": {
       "model_id": "f2e3670345c24d378dd748c3cbe85d1a",
       "version_major": 2,
       "version_minor": 0
      },
      "text/plain": [
       "class: 0it [00:00, ?it/s]"
      ]
     },
     "metadata": {},
     "output_type": "display_data"
    },
    {
     "data": {
      "application/vnd.jupyter.widget-view+json": {
       "model_id": "6c60a194384a433eb2756f02e8057e77",
       "version_major": 2,
       "version_minor": 0
      },
      "text/plain": [
       "class: 0it [00:00, ?it/s]"
      ]
     },
     "metadata": {},
     "output_type": "display_data"
    },
    {
     "data": {
      "application/vnd.jupyter.widget-view+json": {
       "model_id": "6b115f762eec4cb0b4648c2be93fc1f3",
       "version_major": 2,
       "version_minor": 0
      },
      "text/plain": [
       "class: 0it [00:00, ?it/s]"
      ]
     },
     "metadata": {},
     "output_type": "display_data"
    },
    {
     "data": {
      "application/vnd.jupyter.widget-view+json": {
       "model_id": "a5afb653bf2a47ecb9ec7ede591fda1c",
       "version_major": 2,
       "version_minor": 0
      },
      "text/plain": [
       "class: 0it [00:00, ?it/s]"
      ]
     },
     "metadata": {},
     "output_type": "display_data"
    },
    {
     "data": {
      "application/vnd.jupyter.widget-view+json": {
       "model_id": "e2a0acc858ce477db3b9692e7b798fac",
       "version_major": 2,
       "version_minor": 0
      },
      "text/plain": [
       "class: 0it [00:00, ?it/s]"
      ]
     },
     "metadata": {},
     "output_type": "display_data"
    },
    {
     "data": {
      "application/vnd.jupyter.widget-view+json": {
       "model_id": "9b2601ea3f8144f5be84c54991e9a6b3",
       "version_major": 2,
       "version_minor": 0
      },
      "text/plain": [
       "class: 0it [00:00, ?it/s]"
      ]
     },
     "metadata": {},
     "output_type": "display_data"
    },
    {
     "data": {
      "application/vnd.jupyter.widget-view+json": {
       "model_id": "d5945a14fcbc47f9be6e1d042b0d464f",
       "version_major": 2,
       "version_minor": 0
      },
      "text/plain": [
       "class: 0it [00:00, ?it/s]"
      ]
     },
     "metadata": {},
     "output_type": "display_data"
    },
    {
     "data": {
      "application/vnd.jupyter.widget-view+json": {
       "model_id": "e8b55fbce5ce4518b3aa8cfc4afddab2",
       "version_major": 2,
       "version_minor": 0
      },
      "text/plain": [
       "class: 0it [00:00, ?it/s]"
      ]
     },
     "metadata": {},
     "output_type": "display_data"
    },
    {
     "data": {
      "application/vnd.jupyter.widget-view+json": {
       "model_id": "0ce39a64f4354eefaa1b27a0ac5bcef1",
       "version_major": 2,
       "version_minor": 0
      },
      "text/plain": [
       "class: 0it [00:00, ?it/s]"
      ]
     },
     "metadata": {},
     "output_type": "display_data"
    },
    {
     "data": {
      "application/vnd.jupyter.widget-view+json": {
       "model_id": "a26398322f49475d9f6be9f23424b3d2",
       "version_major": 2,
       "version_minor": 0
      },
      "text/plain": [
       "class: 0it [00:00, ?it/s]"
      ]
     },
     "metadata": {},
     "output_type": "display_data"
    },
    {
     "data": {
      "application/vnd.jupyter.widget-view+json": {
       "model_id": "6b95b94a92194a07949795fd90b5309e",
       "version_major": 2,
       "version_minor": 0
      },
      "text/plain": [
       "class: 0it [00:00, ?it/s]"
      ]
     },
     "metadata": {},
     "output_type": "display_data"
    },
    {
     "data": {
      "application/vnd.jupyter.widget-view+json": {
       "model_id": "37ea5138acce4e6ba0d2674ba9202743",
       "version_major": 2,
       "version_minor": 0
      },
      "text/plain": [
       "class: 0it [00:00, ?it/s]"
      ]
     },
     "metadata": {},
     "output_type": "display_data"
    },
    {
     "data": {
      "application/vnd.jupyter.widget-view+json": {
       "model_id": "e7c659b7758d4d6291beacfe1a10e28e",
       "version_major": 2,
       "version_minor": 0
      },
      "text/plain": [
       "class: 0it [00:00, ?it/s]"
      ]
     },
     "metadata": {},
     "output_type": "display_data"
    },
    {
     "data": {
      "application/vnd.jupyter.widget-view+json": {
       "model_id": "d9ce36c6eafb4ae18cdafe9f09bebc29",
       "version_major": 2,
       "version_minor": 0
      },
      "text/plain": [
       "class: 0it [00:00, ?it/s]"
      ]
     },
     "metadata": {},
     "output_type": "display_data"
    },
    {
     "data": {
      "application/vnd.jupyter.widget-view+json": {
       "model_id": "209a1f09d0c640c5a6fe6b8638d3c554",
       "version_major": 2,
       "version_minor": 0
      },
      "text/plain": [
       "class: 0it [00:00, ?it/s]"
      ]
     },
     "metadata": {},
     "output_type": "display_data"
    },
    {
     "data": {
      "application/vnd.jupyter.widget-view+json": {
       "model_id": "d926cb0af24d4790b6fd1f7d4af4d176",
       "version_major": 2,
       "version_minor": 0
      },
      "text/plain": [
       "fractions: 0it [00:00, ?it/s]"
      ]
     },
     "metadata": {},
     "output_type": "display_data"
    },
    {
     "data": {
      "application/vnd.jupyter.widget-view+json": {
       "model_id": "bb72aef514c14ac8aed64d178703d795",
       "version_major": 2,
       "version_minor": 0
      },
      "text/plain": [
       "class: 0it [00:00, ?it/s]"
      ]
     },
     "metadata": {},
     "output_type": "display_data"
    },
    {
     "data": {
      "application/vnd.jupyter.widget-view+json": {
       "model_id": "96269cf33f7f4d6dabf8d76427e27792",
       "version_major": 2,
       "version_minor": 0
      },
      "text/plain": [
       "class: 0it [00:00, ?it/s]"
      ]
     },
     "metadata": {},
     "output_type": "display_data"
    },
    {
     "data": {
      "application/vnd.jupyter.widget-view+json": {
       "model_id": "ccb21ae15bd940889d9125d45bdcbbfa",
       "version_major": 2,
       "version_minor": 0
      },
      "text/plain": [
       "class: 0it [00:00, ?it/s]"
      ]
     },
     "metadata": {},
     "output_type": "display_data"
    },
    {
     "data": {
      "application/vnd.jupyter.widget-view+json": {
       "model_id": "71372825855449fba38f98ad844aa80a",
       "version_major": 2,
       "version_minor": 0
      },
      "text/plain": [
       "class: 0it [00:00, ?it/s]"
      ]
     },
     "metadata": {},
     "output_type": "display_data"
    },
    {
     "data": {
      "application/vnd.jupyter.widget-view+json": {
       "model_id": "ca8aab4d734d479d90daa28710d95efb",
       "version_major": 2,
       "version_minor": 0
      },
      "text/plain": [
       "class: 0it [00:00, ?it/s]"
      ]
     },
     "metadata": {},
     "output_type": "display_data"
    },
    {
     "data": {
      "application/vnd.jupyter.widget-view+json": {
       "model_id": "dd95d058acdf4e628afbe257916dc1ef",
       "version_major": 2,
       "version_minor": 0
      },
      "text/plain": [
       "class: 0it [00:00, ?it/s]"
      ]
     },
     "metadata": {},
     "output_type": "display_data"
    },
    {
     "data": {
      "application/vnd.jupyter.widget-view+json": {
       "model_id": "7a6daf9b08d2463fb505be7a8530ffd9",
       "version_major": 2,
       "version_minor": 0
      },
      "text/plain": [
       "class: 0it [00:00, ?it/s]"
      ]
     },
     "metadata": {},
     "output_type": "display_data"
    },
    {
     "data": {
      "application/vnd.jupyter.widget-view+json": {
       "model_id": "812ef24aa7b04f1bb21de2bc26a8e789",
       "version_major": 2,
       "version_minor": 0
      },
      "text/plain": [
       "class: 0it [00:00, ?it/s]"
      ]
     },
     "metadata": {},
     "output_type": "display_data"
    },
    {
     "data": {
      "application/vnd.jupyter.widget-view+json": {
       "model_id": "3e9755eb7d524a4bad1f8daf4754b092",
       "version_major": 2,
       "version_minor": 0
      },
      "text/plain": [
       "class: 0it [00:00, ?it/s]"
      ]
     },
     "metadata": {},
     "output_type": "display_data"
    },
    {
     "data": {
      "application/vnd.jupyter.widget-view+json": {
       "model_id": "bd17d8b2713e41dba43ca3251bca3d10",
       "version_major": 2,
       "version_minor": 0
      },
      "text/plain": [
       "class: 0it [00:00, ?it/s]"
      ]
     },
     "metadata": {},
     "output_type": "display_data"
    },
    {
     "data": {
      "application/vnd.jupyter.widget-view+json": {
       "model_id": "f19806d3b80b47139afd61116dee1f87",
       "version_major": 2,
       "version_minor": 0
      },
      "text/plain": [
       "class: 0it [00:00, ?it/s]"
      ]
     },
     "metadata": {},
     "output_type": "display_data"
    },
    {
     "data": {
      "application/vnd.jupyter.widget-view+json": {
       "model_id": "86f31765fd244146b6c9617799345a72",
       "version_major": 2,
       "version_minor": 0
      },
      "text/plain": [
       "class: 0it [00:00, ?it/s]"
      ]
     },
     "metadata": {},
     "output_type": "display_data"
    },
    {
     "data": {
      "application/vnd.jupyter.widget-view+json": {
       "model_id": "3c4a3c715a5c42a887c758df3ee848de",
       "version_major": 2,
       "version_minor": 0
      },
      "text/plain": [
       "class: 0it [00:00, ?it/s]"
      ]
     },
     "metadata": {},
     "output_type": "display_data"
    },
    {
     "data": {
      "application/vnd.jupyter.widget-view+json": {
       "model_id": "75749c22fc46470bb1b6e2ea8da115c1",
       "version_major": 2,
       "version_minor": 0
      },
      "text/plain": [
       "class: 0it [00:00, ?it/s]"
      ]
     },
     "metadata": {},
     "output_type": "display_data"
    },
    {
     "data": {
      "application/vnd.jupyter.widget-view+json": {
       "model_id": "0ad04b7966474b13a1a1d1ee35ed3511",
       "version_major": 2,
       "version_minor": 0
      },
      "text/plain": [
       "class: 0it [00:00, ?it/s]"
      ]
     },
     "metadata": {},
     "output_type": "display_data"
    },
    {
     "data": {
      "application/vnd.jupyter.widget-view+json": {
       "model_id": "554613a1ccb240f6a11e8cd2d0db5e62",
       "version_major": 2,
       "version_minor": 0
      },
      "text/plain": [
       "class: 0it [00:00, ?it/s]"
      ]
     },
     "metadata": {},
     "output_type": "display_data"
    },
    {
     "data": {
      "application/vnd.jupyter.widget-view+json": {
       "model_id": "aec09c1a8f9b4a23aa3573660445e2a6",
       "version_major": 2,
       "version_minor": 0
      },
      "text/plain": [
       "class: 0it [00:00, ?it/s]"
      ]
     },
     "metadata": {},
     "output_type": "display_data"
    },
    {
     "data": {
      "application/vnd.jupyter.widget-view+json": {
       "model_id": "76fa1c7dd30c4104894fea1563c6b2d6",
       "version_major": 2,
       "version_minor": 0
      },
      "text/plain": [
       "class: 0it [00:00, ?it/s]"
      ]
     },
     "metadata": {},
     "output_type": "display_data"
    },
    {
     "data": {
      "application/vnd.jupyter.widget-view+json": {
       "model_id": "8458777cb4244c2795d9fa66d9267031",
       "version_major": 2,
       "version_minor": 0
      },
      "text/plain": [
       "class: 0it [00:00, ?it/s]"
      ]
     },
     "metadata": {},
     "output_type": "display_data"
    },
    {
     "data": {
      "application/vnd.jupyter.widget-view+json": {
       "model_id": "09aebbf8bf2d4d32af48a09e4519e109",
       "version_major": 2,
       "version_minor": 0
      },
      "text/plain": [
       "class: 0it [00:00, ?it/s]"
      ]
     },
     "metadata": {},
     "output_type": "display_data"
    },
    {
     "data": {
      "application/vnd.jupyter.widget-view+json": {
       "model_id": "2f122c974d7d49b3b7e69b6d512bf52b",
       "version_major": 2,
       "version_minor": 0
      },
      "text/plain": [
       "class: 0it [00:00, ?it/s]"
      ]
     },
     "metadata": {},
     "output_type": "display_data"
    },
    {
     "data": {
      "application/vnd.jupyter.widget-view+json": {
       "model_id": "af8a16f3682544e7aaecefa3c29dbfc2",
       "version_major": 2,
       "version_minor": 0
      },
      "text/plain": [
       "class: 0it [00:00, ?it/s]"
      ]
     },
     "metadata": {},
     "output_type": "display_data"
    },
    {
     "data": {
      "application/vnd.jupyter.widget-view+json": {
       "model_id": "39c1c0f50bed411782931b954334f44c",
       "version_major": 2,
       "version_minor": 0
      },
      "text/plain": [
       "class: 0it [00:00, ?it/s]"
      ]
     },
     "metadata": {},
     "output_type": "display_data"
    },
    {
     "data": {
      "application/vnd.jupyter.widget-view+json": {
       "model_id": "c5f654040c0d47608a9f3a137e8b98a3",
       "version_major": 2,
       "version_minor": 0
      },
      "text/plain": [
       "class: 0it [00:00, ?it/s]"
      ]
     },
     "metadata": {},
     "output_type": "display_data"
    },
    {
     "data": {
      "application/vnd.jupyter.widget-view+json": {
       "model_id": "2292a847b47e48d58ee386c4c106a8fc",
       "version_major": 2,
       "version_minor": 0
      },
      "text/plain": [
       "class: 0it [00:00, ?it/s]"
      ]
     },
     "metadata": {},
     "output_type": "display_data"
    },
    {
     "data": {
      "application/vnd.jupyter.widget-view+json": {
       "model_id": "5c18bc138fa74a9bbd1cc48ec1e16feb",
       "version_major": 2,
       "version_minor": 0
      },
      "text/plain": [
       "class: 0it [00:00, ?it/s]"
      ]
     },
     "metadata": {},
     "output_type": "display_data"
    },
    {
     "data": {
      "application/vnd.jupyter.widget-view+json": {
       "model_id": "2490800b8cdf443aadafd6f1e96c7f43",
       "version_major": 2,
       "version_minor": 0
      },
      "text/plain": [
       "class: 0it [00:00, ?it/s]"
      ]
     },
     "metadata": {},
     "output_type": "display_data"
    },
    {
     "data": {
      "application/vnd.jupyter.widget-view+json": {
       "model_id": "0bacec52aff2492f90db0d03b63d05dd",
       "version_major": 2,
       "version_minor": 0
      },
      "text/plain": [
       "class: 0it [00:00, ?it/s]"
      ]
     },
     "metadata": {},
     "output_type": "display_data"
    },
    {
     "data": {
      "application/vnd.jupyter.widget-view+json": {
       "model_id": "41109823e6684d72a06769a63e55a0ae",
       "version_major": 2,
       "version_minor": 0
      },
      "text/plain": [
       "class: 0it [00:00, ?it/s]"
      ]
     },
     "metadata": {},
     "output_type": "display_data"
    },
    {
     "data": {
      "application/vnd.jupyter.widget-view+json": {
       "model_id": "da27397bbd594bfa8ce82211bca63178",
       "version_major": 2,
       "version_minor": 0
      },
      "text/plain": [
       "class: 0it [00:00, ?it/s]"
      ]
     },
     "metadata": {},
     "output_type": "display_data"
    },
    {
     "data": {
      "application/vnd.jupyter.widget-view+json": {
       "model_id": "0b3a24a2b69641b7ad0cfe3520a599cc",
       "version_major": 2,
       "version_minor": 0
      },
      "text/plain": [
       "class: 0it [00:00, ?it/s]"
      ]
     },
     "metadata": {},
     "output_type": "display_data"
    },
    {
     "data": {
      "application/vnd.jupyter.widget-view+json": {
       "model_id": "9881594c7cba41ca8212f658948f0c21",
       "version_major": 2,
       "version_minor": 0
      },
      "text/plain": [
       "class: 0it [00:00, ?it/s]"
      ]
     },
     "metadata": {},
     "output_type": "display_data"
    }
   ],
   "source": [
    "# load the decision boundary maps (i.e., the weight maps of the SVM; we can consider those to be the \"explanation\" of the SVM)\n",
    "n_folds = 7\n",
    "df_svm = []\n",
    "real = np.repeat(np.arange(19), 20)\n",
    "\n",
    "for f in range(n_folds):\n",
    "    \n",
    "    svm_files = load_img(f\"../00_svm/svm_maps/nsubs-120/k-fold_ss-0mm_fold{f:02d}_ovr_120subs_2280dims_seed2020.nii.gz\")\n",
    "    pca_file = f\"../00_svm/pca_models/nsubs-120/k-fold_ss-0mm_fold{f:02d}_2280samples_seed{2020+f}.pkl\"\n",
    "    with open(pca_file, 'rb') as pickle_file:\n",
    "        pca = pk.load(pickle_file)\n",
    "\n",
    "    svm_file = f\"../00_svm/svm_models/nsubs-120/k-fold_ss-0mm_fold{f:02d}_ovr_120subs_2280dims_seed2020.pkl\"\n",
    "    with open(svm_file, 'rb') as pickle_file:\n",
    "        svm = pk.load(pickle_file)\n",
    "\n",
    "    accs = np.zeros(len(percentages))   \n",
    "\n",
    "    for i, frac in tqdm(enumerate(percentages), leave=False, desc=\"fractions\"):\n",
    "        occluded = []\n",
    "        for c, label in tqdm(enumerate(class_labels), leave=False, desc=\"class\"):\n",
    "            # load the data\n",
    "            occu, _ = occlude_images(images[c], nilearn.image.index_img(svm_files , c), mask, fraction=frac, get_fdata=False)\n",
    "            occluded.append(occu)\n",
    "        occluded = nilearn.image.concat_imgs(occluded)\n",
    "        occluded = apply_mask(occluded, mni_template)\n",
    "        # transform the data\n",
    "        occluded = pca.transform(occluded)\n",
    "        _, accs[i] = predict(svm, occluded, real)\n",
    "\n",
    "    df_svm.append(pd.DataFrame(accs.tolist(), columns=[\"accuracy\"]))\n",
    "    df_svm[f][\"algorithm\"] = \"svm\"\n",
    "    df_svm[f][\"prct_occluded\"] = percentages\n",
    "    df_svm[f][\"fold\"] = fold\n",
    "\n",
    "df_stacked = pd.concat(df_svm)\n",
    "df_stacked.to_csv(\"stats/svm_occlusion_curves.csv\", index=False)"
   ]
  },
  {
   "cell_type": "code",
   "execution_count": 54,
   "id": "e54a89cc-ec79-4552-b968-403bac7bf5ae",
   "metadata": {},
   "outputs": [],
   "source": [
    "# load the t-scores for each subject\n",
    "test_img_files = []\n",
    "[test_img_files.extend(glob(f\"../t-maps/test/{class_labels[i]}/*.nii.gz\")) for i in range(len(class_labels))]\n",
    "images = load_img(test_img_files)"
   ]
  },
  {
   "cell_type": "code",
   "execution_count": 45,
   "id": "b936b2ea-90e7-4f45-8ee4-8adb8e7a1cce",
   "metadata": {
    "scrolled": true,
    "tags": []
   },
   "outputs": [
    {
     "name": "stdout",
     "output_type": "stream",
     "text": [
      "Loading from config file models/hcp-train-real/seed-2020_fold-00/config.yaml\n"
     ]
    },
    {
     "data": {
      "application/vnd.jupyter.widget-view+json": {
       "model_id": "",
       "version_major": 2,
       "version_minor": 0
      },
      "text/plain": [
       "fractions: 0it [00:00, ?it/s]"
      ]
     },
     "metadata": {},
     "output_type": "display_data"
    },
    {
     "data": {
      "application/vnd.jupyter.widget-view+json": {
       "model_id": "",
       "version_major": 2,
       "version_minor": 0
      },
      "text/plain": [
       "fractions: 0it [00:00, ?it/s]"
      ]
     },
     "metadata": {},
     "output_type": "display_data"
    },
    {
     "name": "stdout",
     "output_type": "stream",
     "text": [
      "Loading from config file models/hcp-train-real/seed-2020_fold-01/config.yaml\n"
     ]
    },
    {
     "ename": "TypeError",
     "evalue": "Cannot concatenate empty objects",
     "output_type": "error",
     "traceback": [
      "\u001b[0;31m---------------------------------------------------------------------------\u001b[0m",
      "\u001b[0;31mStopIteration\u001b[0m                             Traceback (most recent call last)",
      "File \u001b[0;32m~/anaconda3/envs/thesis-env/lib/python3.8/site-packages/nilearn/_utils/niimg_conversions.py:450\u001b[0m, in \u001b[0;36mconcat_niimgs\u001b[0;34m(niimgs, dtype, ensure_ndim, memory, memory_level, auto_resample, verbose)\u001b[0m\n\u001b[1;32m    449\u001b[0m \u001b[38;5;28;01mtry\u001b[39;00m:\n\u001b[0;32m--> 450\u001b[0m     first_niimg \u001b[38;5;241m=\u001b[39m check_niimg(\u001b[38;5;28;43mnext\u001b[39;49m\u001b[43m(\u001b[49m\u001b[43mliterator\u001b[49m\u001b[43m)\u001b[49m, ensure_ndim\u001b[38;5;241m=\u001b[39mndim)\n\u001b[1;32m    451\u001b[0m \u001b[38;5;28;01mexcept\u001b[39;00m \u001b[38;5;167;01mStopIteration\u001b[39;00m:\n",
      "\u001b[0;31mStopIteration\u001b[0m: ",
      "\nDuring handling of the above exception, another exception occurred:\n",
      "\u001b[0;31mTypeError\u001b[0m                                 Traceback (most recent call last)",
      "Input \u001b[0;32mIn [45]\u001b[0m, in \u001b[0;36m<cell line: 8>\u001b[0;34m()\u001b[0m\n\u001b[1;32m     17\u001b[0m \u001b[38;5;28;01mfor\u001b[39;00m i, algo \u001b[38;5;129;01min\u001b[39;00m \u001b[38;5;28menumerate\u001b[39m(xai_algo):\n\u001b[1;32m     18\u001b[0m \n\u001b[1;32m     19\u001b[0m     \u001b[38;5;66;03m#folds = sorted(glob(os.path.join(algo, \"real\", \"*fold*\")))\u001b[39;00m\n\u001b[1;32m     20\u001b[0m \n\u001b[1;32m     21\u001b[0m     \u001b[38;5;66;03m#for f, fold in enumerate(folds):\u001b[39;00m\n\u001b[1;32m     22\u001b[0m     relevance_files \u001b[38;5;241m=\u001b[39m glob(os\u001b[38;5;241m.\u001b[39mpath\u001b[38;5;241m.\u001b[39mjoin(algo, \u001b[38;5;124m\"\u001b[39m\u001b[38;5;124mreal\u001b[39m\u001b[38;5;124m\"\u001b[39m, \u001b[38;5;124mf\u001b[39m\u001b[38;5;124m\"\u001b[39m\u001b[38;5;124m*fold-\u001b[39m\u001b[38;5;132;01m{\u001b[39;00mfold\u001b[38;5;132;01m:\u001b[39;00m\u001b[38;5;124m02d\u001b[39m\u001b[38;5;132;01m}\u001b[39;00m\u001b[38;5;124m\"\u001b[39m, \u001b[38;5;124m\"\u001b[39m\u001b[38;5;124m*.nii.gz\u001b[39m\u001b[38;5;124m\"\u001b[39m))\n\u001b[0;32m---> 23\u001b[0m     relevance_maps \u001b[38;5;241m=\u001b[39m \u001b[43mload_img\u001b[49m\u001b[43m(\u001b[49m\u001b[43mrelevance_files\u001b[49m\u001b[43m)\u001b[49m\n\u001b[1;32m     25\u001b[0m     accs \u001b[38;5;241m=\u001b[39m np\u001b[38;5;241m.\u001b[39mzeros(\u001b[38;5;28mlen\u001b[39m(percentages))\n\u001b[1;32m     27\u001b[0m     \u001b[38;5;28;01mfor\u001b[39;00m i, frac \u001b[38;5;129;01min\u001b[39;00m tqdm(\u001b[38;5;28menumerate\u001b[39m(percentages), leave\u001b[38;5;241m=\u001b[39m\u001b[38;5;28;01mFalse\u001b[39;00m, desc\u001b[38;5;241m=\u001b[39m\u001b[38;5;124m\"\u001b[39m\u001b[38;5;124mfractions\u001b[39m\u001b[38;5;124m\"\u001b[39m):\n",
      "File \u001b[0;32m~/anaconda3/envs/thesis-env/lib/python3.8/site-packages/nilearn/image/image.py:1112\u001b[0m, in \u001b[0;36mload_img\u001b[0;34m(img, wildcards, dtype)\u001b[0m\n\u001b[1;32m   1076\u001b[0m \u001b[38;5;28;01mdef\u001b[39;00m \u001b[38;5;21mload_img\u001b[39m(img, wildcards\u001b[38;5;241m=\u001b[39m\u001b[38;5;28;01mTrue\u001b[39;00m, dtype\u001b[38;5;241m=\u001b[39m\u001b[38;5;28;01mNone\u001b[39;00m):\n\u001b[1;32m   1077\u001b[0m     \u001b[38;5;124;03m\"\"\"Load a Niimg-like object from filenames or list of filenames.\u001b[39;00m\n\u001b[1;32m   1078\u001b[0m \n\u001b[1;32m   1079\u001b[0m \u001b[38;5;124;03m    .. versionadded:: 0.2.5\u001b[39;00m\n\u001b[0;32m   (...)\u001b[0m\n\u001b[1;32m   1110\u001b[0m \n\u001b[1;32m   1111\u001b[0m \u001b[38;5;124;03m    \"\"\"\u001b[39;00m\n\u001b[0;32m-> 1112\u001b[0m     \u001b[38;5;28;01mreturn\u001b[39;00m \u001b[43mcheck_niimg\u001b[49m\u001b[43m(\u001b[49m\u001b[43mimg\u001b[49m\u001b[43m,\u001b[49m\u001b[43m \u001b[49m\u001b[43mwildcards\u001b[49m\u001b[38;5;241;43m=\u001b[39;49m\u001b[43mwildcards\u001b[49m\u001b[43m,\u001b[49m\u001b[43m \u001b[49m\u001b[43mdtype\u001b[49m\u001b[38;5;241;43m=\u001b[39;49m\u001b[43mdtype\u001b[49m\u001b[43m)\u001b[49m\n",
      "File \u001b[0;32m~/anaconda3/envs/thesis-env/lib/python3.8/site-packages/nilearn/_utils/niimg_conversions.py:280\u001b[0m, in \u001b[0;36mcheck_niimg\u001b[0;34m(niimg, ensure_ndim, atleast_4d, dtype, return_iterator, wildcards)\u001b[0m\n\u001b[1;32m    277\u001b[0m     \u001b[38;5;28;01mif\u001b[39;00m return_iterator:\n\u001b[1;32m    278\u001b[0m         \u001b[38;5;28;01mreturn\u001b[39;00m _iter_check_niimg(niimg, ensure_ndim\u001b[38;5;241m=\u001b[39mensure_ndim,\n\u001b[1;32m    279\u001b[0m                                  dtype\u001b[38;5;241m=\u001b[39mdtype)\n\u001b[0;32m--> 280\u001b[0m     \u001b[38;5;28;01mreturn\u001b[39;00m \u001b[43mconcat_niimgs\u001b[49m\u001b[43m(\u001b[49m\u001b[43mniimg\u001b[49m\u001b[43m,\u001b[49m\u001b[43m \u001b[49m\u001b[43mensure_ndim\u001b[49m\u001b[38;5;241;43m=\u001b[39;49m\u001b[43mensure_ndim\u001b[49m\u001b[43m,\u001b[49m\u001b[43m \u001b[49m\u001b[43mdtype\u001b[49m\u001b[38;5;241;43m=\u001b[39;49m\u001b[43mdtype\u001b[49m\u001b[43m)\u001b[49m\n\u001b[1;32m    282\u001b[0m \u001b[38;5;66;03m# Otherwise, it should be a filename or a SpatialImage, we load it\u001b[39;00m\n\u001b[1;32m    283\u001b[0m niimg \u001b[38;5;241m=\u001b[39m load_niimg(niimg, dtype\u001b[38;5;241m=\u001b[39mdtype)\n",
      "File \u001b[0;32m~/anaconda3/envs/thesis-env/lib/python3.8/site-packages/nilearn/_utils/niimg_conversions.py:452\u001b[0m, in \u001b[0;36mconcat_niimgs\u001b[0;34m(niimgs, dtype, ensure_ndim, memory, memory_level, auto_resample, verbose)\u001b[0m\n\u001b[1;32m    450\u001b[0m     first_niimg \u001b[38;5;241m=\u001b[39m check_niimg(\u001b[38;5;28mnext\u001b[39m(literator), ensure_ndim\u001b[38;5;241m=\u001b[39mndim)\n\u001b[1;32m    451\u001b[0m \u001b[38;5;28;01mexcept\u001b[39;00m \u001b[38;5;167;01mStopIteration\u001b[39;00m:\n\u001b[0;32m--> 452\u001b[0m     \u001b[38;5;28;01mraise\u001b[39;00m \u001b[38;5;167;01mTypeError\u001b[39;00m(\u001b[38;5;124m'\u001b[39m\u001b[38;5;124mCannot concatenate empty objects\u001b[39m\u001b[38;5;124m'\u001b[39m)\n\u001b[1;32m    453\u001b[0m \u001b[38;5;28;01mexcept\u001b[39;00m DimensionError \u001b[38;5;28;01mas\u001b[39;00m exc:\n\u001b[1;32m    454\u001b[0m     \u001b[38;5;66;03m# Keep track of the additional dimension in the error\u001b[39;00m\n\u001b[1;32m    455\u001b[0m     exc\u001b[38;5;241m.\u001b[39mincrement_stack_counter()\n",
      "\u001b[0;31mTypeError\u001b[0m: Cannot concatenate empty objects"
     ]
    }
   ],
   "source": [
    "xai_algo = [\"lrp\", \"guidedbackprop\"]\n",
    "df_occlu = []\n",
    "\n",
    "real = np.repeat(np.arange(len(class_labels)), 20)\n",
    "\n",
    "n_folds = 7\n",
    "\n",
    "if not os.path.isfile(\"stats/occlusion_curves.csv\"):\n",
    "\n",
    "    \n",
    "    for fold in range(n_folds):\n",
    "        # load the trained network\n",
    "        model = BrainStateClassifier3d(f\"models/hcp-train-real/seed-2020_fold-{fold:02d}\")\n",
    "        model.eval()\n",
    "        model.to(torch.device(\"cpu\"));\n",
    "\n",
    "        for i, algo in enumerate(xai_algo):\n",
    "\n",
    "            #folds = sorted(glob(os.path.join(algo, \"real\", \"*fold*\")))\n",
    "\n",
    "            #for f, fold in enumerate(folds):\n",
    "            relevance_files = glob(os.path.join(algo, \"real\", f\"*fold-{fold:02d}\", \"*.nii.gz\"))\n",
    "            relevance_maps = load_img(relevance_files)\n",
    "\n",
    "            accs = np.zeros(len(percentages))\n",
    "\n",
    "            for i, frac in tqdm(enumerate(percentages), leave=False, desc=\"fractions\"):\n",
    "                occluded, _ = occlude_images(images, relevance_maps, mask, fraction=frac, get_fdata=True)\n",
    "                occluded = np.moveaxis(occluded, -1, 0)\n",
    "                occluded = torch.tensor(occluded).unsqueeze(1)\n",
    "                pred = np.argmax(model(occluded.float()).detach().cpu().numpy(), axis=1)\n",
    "                accs[i] = compute_accuracy(real, pred)\n",
    "\n",
    "            df_inter = pd.DataFrame(accs.tolist(), columns=[\"accuracy\"])\n",
    "            df_inter[\"algorithm\"] = algo\n",
    "            df_inter[\"prct_occluded\"] = percentages\n",
    "            df_inter[\"fold\"] = fold\n",
    "\n",
    "            df_occlu.append(df_inter)\n",
    "\n",
    "    df_occlusion = pd.concat(df_occlu)\n",
    "    df_occlusion.to_csv(\"stats/occlusion_curves.csv\", index=False)\n",
    "else:\n",
    "    df_occlusion = pd.read_csv(\"stats/occlusion_curves.csv\")"
   ]
  },
  {
   "cell_type": "code",
   "execution_count": 44,
   "id": "bdfeabb9-90f7-4967-b6fa-12972305641b",
   "metadata": {},
   "outputs": [
    {
     "data": {
      "text/plain": [
       "[]"
      ]
     },
     "execution_count": 44,
     "metadata": {},
     "output_type": "execute_result"
    }
   ],
   "source": [
    "df_occlu"
   ]
  },
  {
   "cell_type": "code",
   "execution_count": null,
   "id": "afbd314e-a58a-4bc6-be0e-d472f4090663",
   "metadata": {},
   "outputs": [],
   "source": [
    "df_occlusion = pd.concat([df_stacked, df_occlusion])"
   ]
  },
  {
   "cell_type": "code",
   "execution_count": null,
   "id": "a4d62991-47d5-47b2-a6c2-2eafa2043cd3",
   "metadata": {},
   "outputs": [],
   "source": [
    "fig, ax = plt.subplots(figsize=(20, 10))\n",
    "sns.scatterplot(ax=ax, data=df_occlusion, x=\"prct_occluded\", y=\"accuracy\", hue=\"algorithm\", alpha=.4, legend=False, zorder=0)\n",
    "sns.lineplot(ax=ax, data=df_occlusion, x=\"prct_occluded\", y=\"accuracy\", hue=\"algorithm\", style=\"algorithm\", \n",
    "             errorbar=(\"ci\", 95), n_boot=1000, linewidth=2, markers=True, markersize=10)\n",
    "ax.axhline(1/19, color=\"black\", linestyle=\"--\", zorder=0)\n",
    "ax.legend(frameon=False, loc=\"center right\", fontsize=18, title=\"attribution method\")\n",
    "ax.spines[[\"top\", \"right\"]].set_visible(False)\n",
    "\n",
    "plt.savefig(\"figures/occlusion_curves.pdf\", facecolor=fig.get_facecolor(), transparent=True)"
   ]
  },
  {
   "cell_type": "code",
   "execution_count": 35,
   "id": "0b562a64-d92e-4d5b-9d0a-3b8eb98265de",
   "metadata": {},
   "outputs": [
    {
     "data": {
      "text/plain": [
       "288"
      ]
     },
     "execution_count": 35,
     "metadata": {},
     "output_type": "execute_result"
    }
   ],
   "source": []
  },
  {
   "cell_type": "markdown",
   "id": "432a2345-1cf1-4712-970e-c5877fb8ac66",
   "metadata": {},
   "source": [
    "# Identify the best fold"
   ]
  },
  {
   "cell_type": "code",
   "execution_count": null,
   "id": "94c8e74a-0601-4456-829c-44c3f668f213",
   "metadata": {},
   "outputs": [],
   "source": [
    "from utils.wandb_funcs import get_wandb_csv"
   ]
  },
  {
   "cell_type": "code",
   "execution_count": null,
   "id": "936f4317-ee39-47b1-bfa4-1856fcbb70bd",
   "metadata": {},
   "outputs": [],
   "source": [
    "keys_of_interest = ['group', 'job_type', 'run_name', 'test_accuracy', 'train_acc', 'valid_acc', \n",
    "                    'valid_loss', 'best_valid_epoch', 'best_valid_accuracy', 'test_loss', 'train_loss']\n",
    "wandb_df = get_wandb_csv(\"philis893\", \"thesis\", \"first-steps-motor\", keys_of_interest, overwrite=True)"
   ]
  },
  {
   "cell_type": "code",
   "execution_count": null,
   "id": "7b9a6630-4f32-47ec-a520-2540f801539a",
   "metadata": {},
   "outputs": [],
   "source": [
    "real_runs = wandb_df[wandb_df.job_type == \"CV-motor\"]\n",
    "# sort according to best_valid_accuracy (desc), test_accuracy (desc), and test_loss (asc). Take the first entry => best fold\n",
    "real_runs_sorted = real_runs.sort_values([\"best_valid_accuracy\", \"test_accuracy\", \"test_loss\"], ascending=[False, False, True])\n",
    "real_runs_sorted.head(1)"
   ]
  },
  {
   "cell_type": "code",
   "execution_count": null,
   "id": "8db1374d-0ada-4364-9366-ce0afd81d51a",
   "metadata": {},
   "outputs": [],
   "source": [
    "best_fold = 9;"
   ]
  },
  {
   "cell_type": "markdown",
   "id": "36ee22ba-c527-44ce-8fb5-79243bc52d6a",
   "metadata": {},
   "source": [
    "# Compute and investigate mutual information between different combination of attribution- and (group) t-maps"
   ]
  },
  {
   "cell_type": "markdown",
   "id": "536a9a0c-2967-4a20-923b-c9e707a75fca",
   "metadata": {},
   "source": [
    "Mutual information can help us understand how similar the attribution maps of the LRP or GBP algorithm are to the original data format, i.e., t-statistics maps of single subjects or of the group. \n",
    "\n",
    "We can further perform some sanity checks this way:\n",
    "* Comparing attribution maps obtained by networks trained with real input-label mappings to those with shuffled mappings can tell us something about the sensitivity to network parameters\n",
    "* Comparing attribution maps to t-maps of single subjects or to the group t-maps allows us to judge how well the attribution maps reflect univariate statistics (may not be so fair because CNNs are multivariate!)\n",
    "* We can see whether LRP or GBP has higher better mutual information to the original input data."
   ]
  },
  {
   "cell_type": "code",
   "execution_count": null,
   "id": "44047831-645e-4b17-a173-f2711845c159",
   "metadata": {},
   "outputs": [],
   "source": [
    "from sklearn.feature_selection import mutual_info_regression\n",
    "from nilearn.masking import apply_mask\n",
    "from nilearn.image import load_img"
   ]
  },
  {
   "cell_type": "code",
   "execution_count": null,
   "id": "0064941a-03d7-45c2-bbdd-291ae60f5440",
   "metadata": {},
   "outputs": [],
   "source": [
    "mask = \"stat-maps/motor_mask.nii.gz\"\n",
    "#mask = mni_template\n",
    "contrasts = [\"subattr-vs-grpattr\", \"subt-vs-grpt\", \"subattr-vs-grporig\", \"grpattr-vs-grporig\"]\n",
    "for i, contrast in enumerate(contrasts):\n",
    "    test = compute_mi(TASK_LABEL, class_labels, mask, \"mi_motor-mask\", n_folds=10, attr_methods=[\"lrp\", \"guidedbackprop\"], contrast=contrast)"
   ]
  },
  {
   "cell_type": "code",
   "execution_count": null,
   "id": "5f77fbd3-a335-420d-8258-ed6bac697b2d",
   "metadata": {},
   "outputs": [],
   "source": [
    "# do it for the trained model vs rnd model\n",
    "contrast = \"model-trained-vs-rnd\"\n",
    "methods = [\"lrp\", \"guidedbackprop\"]\n",
    "seed = 2020\n",
    "\n",
    "mis_list = []\n",
    "mask = mni_template\n",
    "for m, method in enumerate(methods):\n",
    "    \n",
    "    \n",
    "    for c, lbl in enumerate(class_labels):\n",
    "        X = apply_mask(f\"{method}/model-random/motor_fold-00/{lbl}.nii.gz\", mask)\n",
    "        y = apply_mask(f\"{method}/real/motor_fold-09/{lbl}.nii.gz\", mask)\n",
    "        \n",
    "        mi = np.zeros(len(X))\n",
    "        \n",
    "        for i in range(len(X)):\n",
    "            mi[i] = mutual_info_regression(X=X[i, :].reshape(-1, 1), y=y[i, :],\n",
    "                                           discrete_features=False, random_state=seed)\n",
    "        mis_list.append(\n",
    "            pd.DataFrame({\"mi\": mi.tolist(), \"class\": lbl, \"fold\": fold,\n",
    "                          \"attr_method\": method, \"contrast\": contrast}))\n",
    "\n",
    "mis = pd.concat(mis_list)\n",
    "mis.to_csv(f\"stats/mi_whole-brain_{contrast}.csv\", index=False)"
   ]
  },
  {
   "cell_type": "markdown",
   "id": "6a49a7ba-7bdc-4410-b827-74fa89a1b151",
   "metadata": {},
   "source": [
    "## Plot the mutual information scores for the sanity checks (i.e., model trained vs model rnd; real labels vs shuffled labels)"
   ]
  },
  {
   "cell_type": "code",
   "execution_count": null,
   "id": "751802a2-3a56-499d-9435-1c1d7367ef4f",
   "metadata": {},
   "outputs": [],
   "source": [
    "fig, axes = plt.subplots(1, 2, figsize=(20, 10), sharex=True, sharey=True)\n",
    "\n",
    "mis = pd.read_csv(\"stats/mi_whole-brain_attr-real-vs-shuffled.csv\")\n",
    "sns.boxenplot(ax=axes[0], data=mis, x=\"class\", y=\"mi\", hue=\"attr_method\")\n",
    "axes[0].set_title(\"data randomization test\");\n",
    "\n",
    "mis = pd.read_csv(\"stats/mi_whole-brain_model-trained-vs-rnd.csv\")\n",
    "sns.boxenplot(ax=axes[1], data=mis, x=\"class\", y=\"mi\", hue=\"attr_method\")\n",
    "axes[1].set_title(\"model randomization test\");\n",
    "\n",
    "for i, ax in enumerate(axes.flatten()):\n",
    "    if i == 1:\n",
    "        ax.legend(frameon=False, title=\"attribution method\")\n",
    "    else:\n",
    "        ax.legend([],[], frameon=False)\n",
    "    ax.spines[[\"top\", \"right\"]].set_visible(False)"
   ]
  },
  {
   "cell_type": "markdown",
   "id": "29d2d45e-bb8c-4f54-b9fb-e942233d7b70",
   "metadata": {},
   "source": [
    "## Plot the mutual information scores for different comparisons"
   ]
  },
  {
   "cell_type": "code",
   "execution_count": null,
   "id": "add2ca94-7c4c-4073-953e-efd55333dd58",
   "metadata": {},
   "outputs": [],
   "source": [
    "SMALL_SIZE = 18\n",
    "MEDIUM_SIZE = 22\n",
    "BIGGER_SIZE = 26\n",
    "\n",
    "plt.rc('font', size=SMALL_SIZE)          # controls default text sizes\n",
    "plt.rc('axes', titlesize=MEDIUM_SIZE)    # fontsize of the axes title\n",
    "plt.rc('axes', labelsize=MEDIUM_SIZE)    # fontsize of the x and y labels\n",
    "plt.rc('xtick', labelsize=SMALL_SIZE)    # fontsize of the tick labels\n",
    "plt.rc('ytick', labelsize=SMALL_SIZE)    # fontsize of the tick labels\n",
    "plt.rc('legend', fontsize=SMALL_SIZE)    # legend fontsize\n",
    "plt.rc('figure', titlesize=BIGGER_SIZE)  # fontsize of the figure title"
   ]
  },
  {
   "cell_type": "code",
   "execution_count": null,
   "id": "321c7583-8b7c-42ca-94c9-5c47805b7e28",
   "metadata": {},
   "outputs": [],
   "source": [
    "f\"stats/mi_{m}_{contrast}.csv\""
   ]
  },
  {
   "cell_type": "code",
   "execution_count": null,
   "id": "bda1e54b-c873-4998-9ca6-0264963c8d51",
   "metadata": {},
   "outputs": [],
   "source": [
    "axes.flatten()"
   ]
  },
  {
   "cell_type": "code",
   "execution_count": null,
   "id": "1ae8dcdf-106f-4954-8299-4f3ae89f87e6",
   "metadata": {},
   "outputs": [],
   "source": [
    "fig, axes = plt.subplots(2, 3, figsize=(20, 12), sharey=True, gridspec_kw={'width_ratios': [1, 1.3, .8]})\n",
    "\n",
    "masks = [\"whole-brain\", \"motor-mask\"]\n",
    "\n",
    "for i, m in enumerate(masks):\n",
    "    # grpAttr vs grpOrig\n",
    "    contrast = \"grpattr-vs-grporig\"\n",
    "    df = pd.read_csv(f\"stats/mi_{m}_{contrast}.csv\")\n",
    "    df = df[df.fold==best_fold]\n",
    "    sns.barplot(ax=axes[i, 0], data=df, x=\"class\", y=\"mi\", hue=\"attr_method\")\n",
    "    axes[i, 0].set_ylabel(\"$MI_{(GrpAttrMethod, GrpOrig)}$\")\n",
    "\n",
    "    # sub vs grp\n",
    "    contrasts = [\"subattr-vs-grpattr\"]\n",
    "    dfs = []\n",
    "    for c, contrast in enumerate(contrasts):\n",
    "        this_df = pd.read_csv(f\"stats/mi_{m}_{contrast}.csv\")\n",
    "        # filter for best fold\n",
    "        best_fold_df = this_df[this_df.fold == best_fold].copy()\n",
    "        dfs.append(best_fold_df)\n",
    "        dfs[c][\"contrast\"] = contrast\n",
    "\n",
    "    dfs.append(pd.read_csv(f\"stats/mi_{m}_subt-vs-grpt.csv\"))\n",
    "    dfs[-1][\"contrast\"] = \"subattr-vs-subt\"\n",
    "\n",
    "    df = pd.concat(dfs)\n",
    "\n",
    "    sns.boxenplot(ax=axes[i, 1], data=df, x=\"class\", hue=\"attr_method\", y=\"mi\", k_depth=\"trustworthy\")\n",
    "    axes[i, 1].set_ylabel(\"$MI_{(SubMethod, GrpMethod)}$\")\n",
    "\n",
    "    sns.boxenplot(ax=axes[i, 2], data=df, x=\"attr_method\", y=\"mi\", k_depth=\"trustworthy\")\n",
    "    axes[i, 2].set_ylabel(\"$MI_{(SubMethod, GrpMethod)}$\")\n",
    "\n",
    "for i, ax in enumerate(axes.flatten()):\n",
    "    if i == 1:\n",
    "        ax.legend(frameon=False, title=\"attribution method\")\n",
    "    else:\n",
    "        ax.legend([],[], frameon=False)\n",
    "    ax.spines[[\"top\", \"right\"]].set_visible(False)\n",
    "\n",
    "fig.tight_layout()"
   ]
  },
  {
   "cell_type": "code",
   "execution_count": null,
   "id": "db28d2e4-4e37-4d14-a097-b4bb2a4de265",
   "metadata": {},
   "outputs": [],
   "source": []
  }
 ],
 "metadata": {
  "kernelspec": {
   "display_name": "Python 3",
   "language": "python",
   "name": "python3"
  },
  "language_info": {
   "codemirror_mode": {
    "name": "ipython",
    "version": 3
   },
   "file_extension": ".py",
   "mimetype": "text/x-python",
   "name": "python",
   "nbconvert_exporter": "python",
   "pygments_lexer": "ipython3",
   "version": "3.8.10"
  }
 },
 "nbformat": 4,
 "nbformat_minor": 5
}
