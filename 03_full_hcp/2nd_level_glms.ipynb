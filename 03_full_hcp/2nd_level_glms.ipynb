{
 "cells": [
  {
   "cell_type": "markdown",
   "id": "199f3688-c4a4-4652-865c-740ab265e6aa",
   "metadata": {
    "tags": []
   },
   "source": [
    "# Train and evaluate a 3D Convolutional Neural Network (3dCNN) to classify the entire HCP task catalogue"
   ]
  },
  {
   "cell_type": "markdown",
   "id": "f512daf9-457e-4fb1-8f7d-b02a17edddca",
   "metadata": {},
   "source": [
    "<p style='text-align: justify;'>In this notebook we create and train a 3D-Convolutional Neural Network which learns to classify different patterns of whole-brain fMRI statistical parameters (t-scores). In this first approach our goal is to train a classifier that can reliably distinguish between such whole-brain patterns for five limb movements (i.e., left/right hand, left/right foot, and tongue).\n",
    "\n",
    "</p>"
   ]
  },
  {
   "cell_type": "code",
   "execution_count": 1,
   "id": "7ed4397e-7b43-4598-9e27-a6f09fdc2d44",
   "metadata": {},
   "outputs": [],
   "source": [
    "import os\n",
    "import sys\n",
    "module_path = os.path.abspath(os.path.join('..'))\n",
    "if module_path not in sys.path:\n",
    "    sys.path.append(module_path)"
   ]
  },
  {
   "cell_type": "code",
   "execution_count": 2,
   "id": "5d87eac6-0be1-4c62-b097-753fc82f131a",
   "metadata": {},
   "outputs": [
    {
     "name": "stderr",
     "output_type": "stream",
     "text": [
      "<frozen importlib._bootstrap>:219: RuntimeWarning: scipy._lib.messagestream.MessageStream size changed, may indicate binary incompatibility. Expected 56 from C header, got 64 from PyObject\n"
     ]
    }
   ],
   "source": [
    "import os, wandb, torch, time\n",
    "import pandas as pd\n",
    "import numpy as np\n",
    "from glob import glob\n",
    "from torch.utils.data import DataLoader\n",
    "from torchinfo import summary\n",
    "import seaborn as sns\n",
    "import matplotlib.pyplot as plt\n",
    "\n",
    "from delphi import mni_template\n",
    "from delphi.networks.ConvNets import BrainStateClassifier3d\n",
    "from delphi.utils.datasets import NiftiDataset\n",
    "from delphi.utils.tools import ToTensor, compute_accuracy, convert_wandb_config, read_config, z_transform_volume\n",
    "from delphi.utils.plots import confusion_matrix\n",
    "\n",
    "from sklearn.model_selection import StratifiedShuffleSplit\n",
    "\n",
    "# you can find all these files in ../utils\n",
    "from utils.tools import attribute_with_method, concat_stat_files, compute_mi\n",
    "from utils.wandb_funcs import reset_wandb_env, wandb_plots\n",
    "from utils.random import set_random_seed\n",
    "\n",
    "from tqdm.notebook import tqdm\n",
    "\n",
    "DEVICE = torch.device(\"cuda:0\" if torch.cuda.is_available() else \"cpu\")"
   ]
  },
  {
   "cell_type": "markdown",
   "id": "f85b2335-28be-41c8-addf-9b9788f39cb2",
   "metadata": {},
   "source": [
    "<p style='text-align: justify;'>To make sure that we obtain (almost) the same results for each execution we set the random seed of multiple different librabries (i.e., torch, random, numpy)</p>"
   ]
  },
  {
   "cell_type": "code",
   "execution_count": 3,
   "id": "fe5ca42e-df0c-46ef-a1cf-771b1fa3d88c",
   "metadata": {},
   "outputs": [],
   "source": [
    "g = set_random_seed(2020) # the project started in the year 2020, hence the seed"
   ]
  },
  {
   "cell_type": "markdown",
   "id": "d8df7fee-a2ef-47fc-a91f-b28d6670b434",
   "metadata": {},
   "source": [
    "## Initializations"
   ]
  },
  {
   "cell_type": "markdown",
   "id": "b73ca8fb-a9c1-424a-beeb-c91ddfd1b0be",
   "metadata": {},
   "source": [
    "In this section, we define and initialize our required variables. We first need to define which classes we want to predict, i.e., the conditions of the motor mapper. We then define a PyTorch dataset; in this case `NiftiDataset` is a custom written Dataset-Class (see https://github.com/PhilippS893/delphi). As is common practice in machine learning projects, we split our data into a training and validation dataset (ratio=80 to 20, respectively).\n",
    "\n",
    "Note: In case it is necessary to create a null-model, i.e., a neural network that is trained on data where the labels are randomized, one can set the parameter `shuffe_labels=False` to `True`. This is usually done to have a baseline for the null hypothesis that \"everything is random\"."
   ]
  },
  {
   "cell_type": "code",
   "execution_count": 4,
   "id": "acec5605-27f4-452f-88d1-07a0f54d69b8",
   "metadata": {},
   "outputs": [],
   "source": [
    "class_labels = [\"footleft\", \"footright\", \"handleft\", \"handright\", \"tongue\", \n",
    "                \"loss\", \"reward\", \n",
    "                \"mental\", \"random\", \n",
    "                \"body\", \"face\", \"place\", \"tool\", \n",
    "                \"match\", \"relation\", \n",
    "                \"emotion\", \"neut\", \n",
    "                \"story\", \"math\"]\n",
    "data_test = NiftiDataset(\"../t-maps/test\", class_labels, 0, device=DEVICE, transform=ToTensor())"
   ]
  },
  {
   "cell_type": "markdown",
   "id": "432a2345-1cf1-4712-970e-c5877fb8ac66",
   "metadata": {
    "tags": []
   },
   "source": [
    "# Identify the best fold"
   ]
  },
  {
   "cell_type": "code",
   "execution_count": 5,
   "id": "94c8e74a-0601-4456-829c-44c3f668f213",
   "metadata": {},
   "outputs": [],
   "source": [
    "from utils.wandb_funcs import get_wandb_csv"
   ]
  },
  {
   "cell_type": "code",
   "execution_count": 6,
   "id": "936f4317-ee39-47b1-bfa4-1856fcbb70bd",
   "metadata": {},
   "outputs": [
    {
     "name": "stdout",
     "output_type": "stream",
     "text": [
      "{'entity': 'philis893', 'project': 'thesis', 'filters': {'group_name': {'$regex': 'full-hcp.*'}, 'jobType': 'CV-7folds-real'}, 'order': '-created_at', '_sweeps': {}, 'client': <wandb.apis.public.RetryingClient object at 0x7f231c3a9dc0>, 'variables': {'project': 'thesis', 'entity': 'philis893', 'order': '-created_at', 'filters': '{\"group_name\": {\"$regex\": \"full-hcp.*\"}, \"jobType\": \"CV-7folds-real\"}'}, 'per_page': 50, 'objects': [], 'index': -1, 'last_response': None}\n"
     ]
    },
    {
     "data": {
      "text/html": [
       "<div>\n",
       "<style scoped>\n",
       "    .dataframe tbody tr th:only-of-type {\n",
       "        vertical-align: middle;\n",
       "    }\n",
       "\n",
       "    .dataframe tbody tr th {\n",
       "        vertical-align: top;\n",
       "    }\n",
       "\n",
       "    .dataframe thead th {\n",
       "        text-align: right;\n",
       "    }\n",
       "</style>\n",
       "<table border=\"1\" class=\"dataframe\">\n",
       "  <thead>\n",
       "    <tr style=\"text-align: right;\">\n",
       "      <th></th>\n",
       "      <th>group</th>\n",
       "      <th>job_type</th>\n",
       "      <th>run_name</th>\n",
       "      <th>test_accuracy</th>\n",
       "      <th>train_acc</th>\n",
       "      <th>valid_acc</th>\n",
       "      <th>valid_loss</th>\n",
       "      <th>best_valid_epoch</th>\n",
       "      <th>best_valid_accuracy</th>\n",
       "      <th>test_loss</th>\n",
       "      <th>train_loss</th>\n",
       "    </tr>\n",
       "  </thead>\n",
       "  <tbody>\n",
       "    <tr>\n",
       "      <th>5</th>\n",
       "      <td>full-hcp</td>\n",
       "      <td>CV-7folds-real</td>\n",
       "      <td>seed-2020_fold-01</td>\n",
       "      <td>0.876316</td>\n",
       "      <td>0.924561</td>\n",
       "      <td>0.860526</td>\n",
       "      <td>0.334964</td>\n",
       "      <td>50</td>\n",
       "      <td>0.902632</td>\n",
       "      <td>0.354409</td>\n",
       "      <td>0.181635</td>\n",
       "    </tr>\n",
       "  </tbody>\n",
       "</table>\n",
       "</div>"
      ],
      "text/plain": [
       "      group        job_type           run_name  test_accuracy  train_acc  \\\n",
       "5  full-hcp  CV-7folds-real  seed-2020_fold-01       0.876316   0.924561   \n",
       "\n",
       "   valid_acc  valid_loss  best_valid_epoch  best_valid_accuracy  test_loss  \\\n",
       "5   0.860526    0.334964                50             0.902632   0.354409   \n",
       "\n",
       "   train_loss  \n",
       "5    0.181635  "
      ]
     },
     "execution_count": 6,
     "metadata": {},
     "output_type": "execute_result"
    }
   ],
   "source": [
    "keys_of_interest = ['group', 'job_type', 'run_name', 'test_accuracy', 'train_acc', 'valid_acc', \n",
    "                    'valid_loss', 'best_valid_epoch', 'best_valid_accuracy', 'test_loss', 'train_loss']\n",
    "wandb_df = get_wandb_csv(\"philis893\", \"thesis\", \"full-hcp\", keys_of_interest, job_name=\"CV-7folds-real\", overwrite=True)\n",
    "\n",
    "real_runs = wandb_df[wandb_df.job_type == \"CV-7folds-real\"]\n",
    "# sort according to best_valid_accuracy (desc), test_accuracy (desc), and test_loss (asc). Take the first entry => best fold\n",
    "real_runs_sorted = real_runs.sort_values([\"best_valid_accuracy\", \"test_accuracy\", \"test_loss\"], ascending=[False, False, True])\n",
    "real_runs_sorted.head(1)"
   ]
  },
  {
   "cell_type": "code",
   "execution_count": 7,
   "id": "8db1374d-0ada-4364-9366-ce0afd81d51a",
   "metadata": {},
   "outputs": [],
   "source": [
    "BEST_FOLD = 1;"
   ]
  },
  {
   "cell_type": "markdown",
   "id": "038645d5-cc5d-4acb-9f9f-504de6e123f8",
   "metadata": {},
   "source": [
    "# SecondLevel GLM analyses"
   ]
  },
  {
   "cell_type": "markdown",
   "id": "67d8075d-c6fb-424f-bb54-9ece453aa3a3",
   "metadata": {},
   "source": [
    "We need some way to compare the attribution maps from LRP and GBP to the original t-maps. To do this, we first compute a group level analysis across the subjects in the left-out test dataset.\n",
    "That is, we compute a group level \n",
    "* t-map, \n",
    "* LRP-map, and \n",
    "* GBP-map.\n",
    "\n",
    "In a later stage we can then use, for example, mutual information to quantify the similarity in a whithin subject and subject-vs-grpmap fashion. \n",
    "With such comparisons we can check whether mutual information of LRP/GBP maps with their respective group map is larger than, e.g., the mutual information between single subjects' t-maps (i.e., the original input data) with their respective group map.\n",
    "\n",
    "We therefore will perform the following comparisons:\n",
    "\n",
    "* subattr vs grpattr (grp attr is a map computed by leaving the subject out of the GLM whos map we want to compare to the grp, e.g., leave-out subject-01 in computing the grp map but use its attribution map to compute mutual information)\n",
    "* subt vs grpt (same as above)\n",
    "* subattr vs subt\n",
    "* grpattr vs grpt"
   ]
  },
  {
   "cell_type": "code",
   "execution_count": 8,
   "id": "a9a2d620-0cc0-42f6-9fef-02248702da9f",
   "metadata": {},
   "outputs": [
    {
     "name": "stderr",
     "output_type": "stream",
     "text": [
      "/home/philippseidel/anaconda3/envs/thesis-env/lib/python3.8/site-packages/nilearn/glm/__init__.py:55: FutureWarning: The nilearn.glm module is experimental. It may change in any future release of Nilearn.\n",
      "  warn('The nilearn.glm module is experimental. '\n"
     ]
    }
   ],
   "source": [
    "import matplotlib.pyplot as plt\n",
    "import nilearn\n",
    "from nilearn.image import load_img\n",
    "from nilearn.glm.second_level import SecondLevelModel\n",
    "import nibabel as nib\n",
    "\n",
    "def save_stat_maps(data, prefix, save_loc='stat-maps', maps_of_interest=[\"z_score\"]):\n",
    "    \n",
    "    if not os.path.exists(save_loc):\n",
    "        os.makedirs(save_loc)\n",
    "    \n",
    "    for i, key in enumerate(maps_of_interest):\n",
    "        path2save = os.path.join(save_loc, f\"{prefix}_{key}.nii.gz\")\n",
    "        nib.save(data[key], path2save)"
   ]
  },
  {
   "cell_type": "code",
   "execution_count": 9,
   "id": "d3a0e240-af56-47c3-90bd-a8b75a2713f2",
   "metadata": {},
   "outputs": [],
   "source": [
    "# load the real images\n",
    "test_img_files = []\n",
    "[test_img_files.extend(sorted(glob(f\"../copes/test/{class_labels[i]}/*.nii.gz\"))) for i in range(len(class_labels))]\n",
    "images = load_img(test_img_files)\n",
    "n_subs = 20\n",
    "# assign the correct labels to each file\n",
    "real = np.repeat(np.arange(len(class_labels)), n_subs)\n",
    "\n",
    "# a whole brain mask\n",
    "mask = load_img(mni_template)"
   ]
  },
  {
   "cell_type": "markdown",
   "id": "ca2a12b7-77e8-4ab0-821a-87c1bb9fbc1c",
   "metadata": {},
   "source": [
    "In this group level analysis we are interested in computing the average t-map for each condition: footleft, footright, handleft, handright, and tongue. \n",
    "Just due to curiousity we will also compute an average t-map across all conditions.\n",
    "\n",
    "The code cell below produces and plots the design matrix for our GLM analysis.\n",
    "\n",
    "The data and matrix are setup in a way that the all files of the same condition are grouped together, hence we can see 20 '1's for each condition (first 5 columns). The \"average\" contrast simply contains \"1\"s for all input volumes.\n",
    "As this is a paired design we need to assign the subjects to their respective volumes. You can see this by the sub-XX columns."
   ]
  },
  {
   "cell_type": "code",
   "execution_count": 10,
   "id": "f869feb8-e91f-4211-8a7b-6f66082e6fa7",
   "metadata": {},
   "outputs": [
    {
     "name": "stderr",
     "output_type": "stream",
     "text": [
      "/home/philippseidel/anaconda3/envs/thesis-env/lib/python3.8/site-packages/nilearn/datasets/__init__.py:87: FutureWarning: Fetchers from the nilearn.datasets module will be updated in version 0.9 to return python strings instead of bytes and Pandas dataframes instead of Numpy arrays.\n",
      "  warn(\"Fetchers from the nilearn.datasets module will be \"\n"
     ]
    },
    {
     "data": {
      "image/png": "[encoded data removed]",
      "text/plain": [
       "<Figure size 576x720 with 1 Axes>"
      ]
     },
     "metadata": {
      "needs_background": "light"
     },
     "output_type": "display_data"
    }
   ],
   "source": [
    "# set up the 2nd-level contrast matrix\n",
    "from nilearn.plotting import plot_design_matrix, plot_contrast_matrix\n",
    "n = len(test_img_files)\n",
    "design_matrix = {}\n",
    "\n",
    "for label in range(len(class_labels)):\n",
    "    regressor = np.repeat(np.eye(len(class_labels))[label], n_subs)\n",
    "    design_matrix[f'{class_labels[label]}'] = regressor\n",
    "\n",
    "for sub in range(n_subs):\n",
    "    regressor = np.tile(np.eye(n_subs)[sub], len(class_labels))\n",
    "    design_matrix[f'sub-{sub:02d}'] = regressor\n",
    "\n",
    "df_design_matrix = pd.DataFrame(design_matrix)\n",
    "fig, ax = plt.subplots(figsize=(8, 10))\n",
    "plot_design_matrix(df_design_matrix, rescale=False, ax=ax);\n",
    "ax.set_xticklabels(df_design_matrix.columns, fontsize=15, rotation=90, ha=\"center\");\n",
    "ax.set_ylabel(\"sample\", fontsize=15);\n",
    "ax.xaxis.set_label_position('top') \n",
    "ax.set_title(\"2nd-level contrasts\", fontsize=20);\n",
    "\n",
    "#plt.savefig('figures/2nd-level-matrix-nilearn.pdf', facecolor=fig.get_facecolor(), transparent=True)"
   ]
  },
  {
   "cell_type": "code",
   "execution_count": 11,
   "id": "2f8890f3-4510-43bb-a212-a0b8c9824ce4",
   "metadata": {},
   "outputs": [],
   "source": [
    "# create the glm\n",
    "glm = SecondLevelModel(smoothing_fwhm=3, mask_img=mask)"
   ]
  },
  {
   "cell_type": "code",
   "execution_count": 12,
   "id": "aa69c971-2440-4572-b80b-38da9efe6d1f",
   "metadata": {},
   "outputs": [
    {
     "data": {
      "application/vnd.jupyter.widget-view+json": {
       "model_id": "ad79eeaad45447aba5e20e2c0cccda90",
       "version_major": 2,
       "version_minor": 0
      },
      "text/plain": [
       "contrast: 0it [00:00, ?it/s]"
      ]
     },
     "metadata": {},
     "output_type": "display_data"
    },
    {
     "name": "stderr",
     "output_type": "stream",
     "text": [
      "/home/philippseidel/anaconda3/envs/thesis-env/lib/python3.8/site-packages/nilearn/_utils/glm.py:335: RuntimeWarning: divide by zero encountered in true_divide\n",
      "  return np.where(X <= 0, 0, 1. / X)\n"
     ]
    }
   ],
   "source": [
    "# perform the GLM once on the original beta maps\n",
    "glm.fit([nilearn.image.index_img(images, i) for i in range(n)], design_matrix=df_design_matrix)\n",
    "\n",
    "contrasts = class_labels\n",
    "\n",
    "for c, contrast in tqdm(enumerate(contrasts), desc=\"contrast\"):\n",
    "    maps_orig = glm.compute_contrast(contrast, output_type=\"all\")\n",
    "    save_stat_maps(maps_orig, f\"{contrast}\", save_loc=\"stat-maps/orig/SS3\")"
   ]
  },
  {
   "cell_type": "code",
   "execution_count": 13,
   "id": "3f0fad1a-7624-443d-8885-0b5206e15da0",
   "metadata": {
    "scrolled": true,
    "tags": []
   },
   "outputs": [
    {
     "name": "stdout",
     "output_type": "stream",
     "text": [
      "lrp real 1\n",
      "guidedbackprop real 1\n"
     ]
    }
   ],
   "source": [
    "# perform the GLM on the relevance maps for each individual fold\n",
    "# load the relevance images\n",
    "contrasts = class_labels\n",
    "attr_types = [\"lrp\", \"guidedbackprop\"] #\"lrp\" \"guidedbackprop\"\n",
    "label_orders = [\"real\"]#, \"shuffled\"] #, \"real\", \"shuffled\"\n",
    "\n",
    "overwrite = True\n",
    "\n",
    "fold = BEST_FOLD\n",
    "\n",
    "for a, attr_type in enumerate(attr_types):\n",
    "\n",
    "    for l, label_order in enumerate(label_orders):\n",
    "        print(attr_type, label_order, fold)\n",
    "\n",
    "        save_loc = os.path.join(\"stat-maps\", attr_type, label_order, f\"fold-{fold:02d}\", \"SS3\")\n",
    "\n",
    "        if not os.path.isdir(save_loc) or overwrite:\n",
    "\n",
    "            relevance_files = glob(os.path.join(attr_type, label_order, f\"fold-{fold:02d}/*.nii.gz\"))\n",
    "            relevance_maps = load_img(relevance_files)\n",
    "\n",
    "            # set up the GLM for the current fold\n",
    "            glm.fit([nilearn.image.index_img(relevance_maps , i) for i in range(n)], design_matrix=df_design_matrix)\n",
    "\n",
    "            for c, contrast in enumerate(contrasts):\n",
    "                maps_attr = glm.compute_contrast(contrast, output_type=\"all\")\n",
    "                save_stat_maps(maps_attr, f\"{contrast}\", save_loc=save_loc)\n"
   ]
  },
  {
   "cell_type": "markdown",
   "id": "59c870f8-f3d3-4c08-9513-b96c434321d3",
   "metadata": {},
   "source": [
    "## Leave-one-subject-out grp maps"
   ]
  },
  {
   "cell_type": "markdown",
   "id": "149a3857-fef6-47bc-a47a-1763e0e05c9c",
   "metadata": {},
   "source": [
    "Now that we have the group LRP, GBP, and t-maps, we can turn to the leave-one-subject-out tests. We need these group statistics as well to be unbiased in computing the sub(attr/t) vs group(attr/t) mutual information. "
   ]
  },
  {
   "cell_type": "code",
   "execution_count": 14,
   "id": "69b451f5-5e1c-44da-9722-299dbeee7f2b",
   "metadata": {},
   "outputs": [
    {
     "data": {
      "application/vnd.jupyter.widget-view+json": {
       "model_id": "76d745b22f8b4201936b4cc624dc4f10",
       "version_major": 2,
       "version_minor": 0
      },
      "text/plain": [
       "sub:   0%|          | 0/20 [00:00<?, ?it/s]"
      ]
     },
     "metadata": {},
     "output_type": "display_data"
    },
    {
     "name": "stderr",
     "output_type": "stream",
     "text": [
      "/home/philippseidel/anaconda3/envs/thesis-env/lib/python3.8/site-packages/nilearn/_utils/glm.py:335: RuntimeWarning: divide by zero encountered in true_divide\n",
      "  return np.where(X <= 0, 0, 1. / X)\n",
      "/home/philippseidel/anaconda3/envs/thesis-env/lib/python3.8/site-packages/nilearn/_utils/glm.py:335: RuntimeWarning: divide by zero encountered in true_divide\n",
      "  return np.where(X <= 0, 0, 1. / X)\n",
      "/home/philippseidel/anaconda3/envs/thesis-env/lib/python3.8/site-packages/nilearn/_utils/glm.py:335: RuntimeWarning: divide by zero encountered in true_divide\n",
      "  return np.where(X <= 0, 0, 1. / X)\n",
      "/home/philippseidel/anaconda3/envs/thesis-env/lib/python3.8/site-packages/nilearn/_utils/glm.py:335: RuntimeWarning: divide by zero encountered in true_divide\n",
      "  return np.where(X <= 0, 0, 1. / X)\n",
      "/home/philippseidel/anaconda3/envs/thesis-env/lib/python3.8/site-packages/nilearn/_utils/glm.py:335: RuntimeWarning: divide by zero encountered in true_divide\n",
      "  return np.where(X <= 0, 0, 1. / X)\n",
      "/home/philippseidel/anaconda3/envs/thesis-env/lib/python3.8/site-packages/nilearn/_utils/glm.py:335: RuntimeWarning: divide by zero encountered in true_divide\n",
      "  return np.where(X <= 0, 0, 1. / X)\n",
      "/home/philippseidel/anaconda3/envs/thesis-env/lib/python3.8/site-packages/nilearn/_utils/glm.py:335: RuntimeWarning: divide by zero encountered in true_divide\n",
      "  return np.where(X <= 0, 0, 1. / X)\n",
      "/home/philippseidel/anaconda3/envs/thesis-env/lib/python3.8/site-packages/nilearn/_utils/glm.py:335: RuntimeWarning: divide by zero encountered in true_divide\n",
      "  return np.where(X <= 0, 0, 1. / X)\n",
      "/home/philippseidel/anaconda3/envs/thesis-env/lib/python3.8/site-packages/nilearn/_utils/glm.py:335: RuntimeWarning: divide by zero encountered in true_divide\n",
      "  return np.where(X <= 0, 0, 1. / X)\n",
      "/home/philippseidel/anaconda3/envs/thesis-env/lib/python3.8/site-packages/nilearn/_utils/glm.py:335: RuntimeWarning: divide by zero encountered in true_divide\n",
      "  return np.where(X <= 0, 0, 1. / X)\n",
      "/home/philippseidel/anaconda3/envs/thesis-env/lib/python3.8/site-packages/nilearn/_utils/glm.py:335: RuntimeWarning: divide by zero encountered in true_divide\n",
      "  return np.where(X <= 0, 0, 1. / X)\n",
      "/home/philippseidel/anaconda3/envs/thesis-env/lib/python3.8/site-packages/nilearn/_utils/glm.py:335: RuntimeWarning: divide by zero encountered in true_divide\n",
      "  return np.where(X <= 0, 0, 1. / X)\n",
      "/home/philippseidel/anaconda3/envs/thesis-env/lib/python3.8/site-packages/nilearn/_utils/glm.py:335: RuntimeWarning: divide by zero encountered in true_divide\n",
      "  return np.where(X <= 0, 0, 1. / X)\n",
      "/home/philippseidel/anaconda3/envs/thesis-env/lib/python3.8/site-packages/nilearn/_utils/glm.py:335: RuntimeWarning: divide by zero encountered in true_divide\n",
      "  return np.where(X <= 0, 0, 1. / X)\n",
      "/home/philippseidel/anaconda3/envs/thesis-env/lib/python3.8/site-packages/nilearn/_utils/glm.py:335: RuntimeWarning: divide by zero encountered in true_divide\n",
      "  return np.where(X <= 0, 0, 1. / X)\n",
      "/home/philippseidel/anaconda3/envs/thesis-env/lib/python3.8/site-packages/nilearn/_utils/glm.py:335: RuntimeWarning: divide by zero encountered in true_divide\n",
      "  return np.where(X <= 0, 0, 1. / X)\n",
      "/home/philippseidel/anaconda3/envs/thesis-env/lib/python3.8/site-packages/nilearn/_utils/glm.py:335: RuntimeWarning: divide by zero encountered in true_divide\n",
      "  return np.where(X <= 0, 0, 1. / X)\n",
      "/home/philippseidel/anaconda3/envs/thesis-env/lib/python3.8/site-packages/nilearn/_utils/glm.py:335: RuntimeWarning: divide by zero encountered in true_divide\n",
      "  return np.where(X <= 0, 0, 1. / X)\n",
      "/home/philippseidel/anaconda3/envs/thesis-env/lib/python3.8/site-packages/nilearn/_utils/glm.py:335: RuntimeWarning: divide by zero encountered in true_divide\n",
      "  return np.where(X <= 0, 0, 1. / X)\n",
      "/home/philippseidel/anaconda3/envs/thesis-env/lib/python3.8/site-packages/nilearn/_utils/glm.py:335: RuntimeWarning: divide by zero encountered in true_divide\n",
      "  return np.where(X <= 0, 0, 1. / X)\n"
     ]
    }
   ],
   "source": [
    "# compute a GLM for the test data set by leaving 1-subject out. We will need this for the mutual information analysis later\n",
    "contrasts = class_labels\n",
    "\n",
    "sub_list = np.tile(np.arange(n_subs), len(class_labels))\n",
    "\n",
    "for s in tqdm(range(n_subs), desc=\"sub\"):\n",
    "    \n",
    "    # copy the original design matrix\n",
    "    this_dm = df_design_matrix.copy()\n",
    "    \n",
    "    # now drop the respective subject\n",
    "    this_dm = this_dm.drop(labels=np.squeeze(np.where(sub_list == s)), axis=\"index\")\n",
    "    this_dm = this_dm.drop(columns=[f\"sub-{s:02d}\"])\n",
    "    #plot_design_matrix(this_dm)\n",
    "    \n",
    "    idcs = np.arange(n)\n",
    "    idcs = np.delete(idcs, np.where(sub_list == s))\n",
    "    \n",
    "    # perform the GLM on the all subs except s\n",
    "    glm.fit([nilearn.image.index_img(images, i) for i in idcs], design_matrix=this_dm)\n",
    "\n",
    "    for c, contrast in enumerate(contrasts):\n",
    "        maps_orig = glm.compute_contrast(contrast, output_type=\"all\")\n",
    "        save_stat_maps(maps_orig, f\"{contrast}_wo-sub{s:02d}\", save_loc=\"stat-maps/orig/SS3/left-out\", maps_of_interest=[\"z_score\"])"
   ]
  },
  {
   "cell_type": "code",
   "execution_count": 15,
   "id": "83478a37-b850-4550-8ea4-7b77eb0c9113",
   "metadata": {},
   "outputs": [
    {
     "name": "stdout",
     "output_type": "stream",
     "text": [
      "lrp real\n"
     ]
    },
    {
     "data": {
      "application/vnd.jupyter.widget-view+json": {
       "model_id": "",
       "version_major": 2,
       "version_minor": 0
      },
      "text/plain": [
       "subs:   0%|          | 0/20 [00:00<?, ?it/s]"
      ]
     },
     "metadata": {},
     "output_type": "display_data"
    },
    {
     "name": "stdout",
     "output_type": "stream",
     "text": [
      "guidedbackprop real\n"
     ]
    },
    {
     "data": {
      "application/vnd.jupyter.widget-view+json": {
       "model_id": "",
       "version_major": 2,
       "version_minor": 0
      },
      "text/plain": [
       "subs:   0%|          | 0/20 [00:00<?, ?it/s]"
      ]
     },
     "metadata": {},
     "output_type": "display_data"
    }
   ],
   "source": [
    "# COMPUTE THE GLM FOR EACH FOLD BUT LEAVE OUT ONE SUBJECT AT A TIME\n",
    "# perform the GLM on the relevance maps for each individual fold\n",
    "# load the relevance images\n",
    "contrasts = class_labels\n",
    "attr_types = [\"lrp\", \"guidedbackprop\"] #\"lrp\" \"guidedbackprop\"\n",
    "label_orders = [\"real\"] #, \"shuffled\"] #, \"real\", \"shuffled\"\n",
    "\n",
    "overwrite = True\n",
    "\n",
    "fold = BEST_FOLD\n",
    "\n",
    "sub_list = np.tile(np.arange(n_subs), len(class_labels))\n",
    "\n",
    "for a, attr_type in enumerate(attr_types):\n",
    "    \n",
    "    for l, label_order in enumerate(label_orders):\n",
    "        print(attr_type, label_order)\n",
    "\n",
    "        save_loc = os.path.join(\"stat-maps\", attr_type, label_order, f\"fold-{fold:02d}\", \"SS3\", \"left-out\")\n",
    "\n",
    "        if not os.path.isdir(save_loc) or overwrite:\n",
    "\n",
    "            # load the files for a given fold\n",
    "            relevance_files = glob(os.path.join(attr_type, label_order, f\"fold-{fold:02d}/*.nii.gz\"))\n",
    "            relevance_maps = load_img(relevance_files)\n",
    "\n",
    "            for s in tqdm(range(n_subs), leave=False, desc=\"subs\"):\n",
    "\n",
    "                # copy the original design matrix\n",
    "                this_dm = df_design_matrix.copy()\n",
    "\n",
    "                # now drop subject s from the design matrix\n",
    "                this_dm = this_dm.drop(labels=np.squeeze(np.where(sub_list == s)), axis=\"index\")\n",
    "                this_dm = this_dm.drop(columns=[f\"sub-{s:02d}\"])\n",
    "\n",
    "                # remove the subject s' indices from the data list\n",
    "                idcs = np.arange(n)\n",
    "                idcs = np.delete(idcs, np.where(sub_list == s))\n",
    "\n",
    "                # perform the GLM on the all subs except s\n",
    "                glm.fit([nilearn.image.index_img(relevance_maps, i) for i in idcs], design_matrix=this_dm)\n",
    "\n",
    "                for c, contrast in enumerate(contrasts):\n",
    "                    maps_orig = glm.compute_contrast(contrast, output_type=\"all\")\n",
    "                    save_stat_maps(maps_orig, f\"{contrast}_wo-sub{s:02d}\", save_loc=save_loc, maps_of_interest=[\"z_score\"])"
   ]
  },
  {
   "cell_type": "code",
   "execution_count": null,
   "id": "dd31c8d5-16e5-4ae6-9a3c-a3c88551fdb2",
   "metadata": {},
   "outputs": [],
   "source": []
  }
 ],
 "metadata": {
  "kernelspec": {
   "display_name": "Python 3",
   "language": "python",
   "name": "python3"
  },
  "language_info": {
   "codemirror_mode": {
    "name": "ipython",
    "version": 3
   },
   "file_extension": ".py",
   "mimetype": "text/x-python",
   "name": "python",
   "nbconvert_exporter": "python",
   "pygments_lexer": "ipython3",
   "version": "3.8.10"
  }
 },
 "nbformat": 4,
 "nbformat_minor": 5
}
